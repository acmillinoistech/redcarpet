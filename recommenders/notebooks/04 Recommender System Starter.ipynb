{
 "cells": [
  {
   "cell_type": "markdown",
   "metadata": {},
   "source": [
    "# Recommender System Starter"
   ]
  },
  {
   "cell_type": "code",
   "execution_count": 1,
   "metadata": {},
   "outputs": [],
   "source": [
    "import pandas as pd\n",
    "import numpy as np\n",
    "%matplotlib inline\n",
    "import matplotlib.pyplot as plt\n",
    "import seaborn as sns\n",
    "import pickle\n",
    "import warnings\n",
    "warnings.simplefilter(action=\"ignore\", category=FutureWarning)"
   ]
  },
  {
   "cell_type": "code",
   "execution_count": 2,
   "metadata": {},
   "outputs": [],
   "source": [
    "# Load module from another directory\n",
    "import shutil\n",
    "shutil.copyfile(src=\"../scripts/redcarpet.py\", dst=\"../notebooks/redcarpet.py\")\n",
    "from redcarpet import mat_to_sets"
   ]
  },
  {
   "cell_type": "markdown",
   "metadata": {},
   "source": [
    "## Load Data"
   ]
  },
  {
   "cell_type": "code",
   "execution_count": 3,
   "metadata": {},
   "outputs": [
    {
     "name": "stdout",
     "output_type": "stream",
     "text": [
      "Talent: 5392\n",
      "Categories: 103\n"
     ]
    },
    {
     "data": {
      "text/html": [
       "<div>\n",
       "<style scoped>\n",
       "    .dataframe tbody tr th:only-of-type {\n",
       "        vertical-align: middle;\n",
       "    }\n",
       "\n",
       "    .dataframe tbody tr th {\n",
       "        vertical-align: top;\n",
       "    }\n",
       "\n",
       "    .dataframe thead th {\n",
       "        text-align: right;\n",
       "    }\n",
       "</style>\n",
       "<table border=\"1\" class=\"dataframe\">\n",
       "  <thead>\n",
       "    <tr style=\"text-align: right;\">\n",
       "      <th></th>\n",
       "      <th>id</th>\n",
       "      <th>name</th>\n",
       "      <th>price</th>\n",
       "      <th>reactions</th>\n",
       "      <th>stars</th>\n",
       "      <th>joined</th>\n",
       "      <th>categories</th>\n",
       "      <th>in_13_reasons_why</th>\n",
       "      <th>in_90_day_fiance</th>\n",
       "      <th>in_actors</th>\n",
       "      <th>...</th>\n",
       "      <th>in_ufc</th>\n",
       "      <th>in_vanderpump_rules</th>\n",
       "      <th>in_venture_capitalists</th>\n",
       "      <th>in_viners</th>\n",
       "      <th>in_vlog_squad</th>\n",
       "      <th>in_voice_actors</th>\n",
       "      <th>in_winter_sports</th>\n",
       "      <th>in_writers</th>\n",
       "      <th>in_younow</th>\n",
       "      <th>in_youtubers</th>\n",
       "    </tr>\n",
       "  </thead>\n",
       "  <tbody>\n",
       "    <tr>\n",
       "      <th>0</th>\n",
       "      <td>perezhilton</td>\n",
       "      <td>Perez Hilton</td>\n",
       "      <td>27.0</td>\n",
       "      <td>924</td>\n",
       "      <td>5.0</td>\n",
       "      <td>April 2018</td>\n",
       "      <td>[Reality TV, Commentators, Featured]</td>\n",
       "      <td>0.0</td>\n",
       "      <td>0.0</td>\n",
       "      <td>0.0</td>\n",
       "      <td>...</td>\n",
       "      <td>0.0</td>\n",
       "      <td>0.0</td>\n",
       "      <td>0.0</td>\n",
       "      <td>0.0</td>\n",
       "      <td>0.0</td>\n",
       "      <td>0.0</td>\n",
       "      <td>0.0</td>\n",
       "      <td>0.0</td>\n",
       "      <td>0.0</td>\n",
       "      <td>0.0</td>\n",
       "    </tr>\n",
       "    <tr>\n",
       "      <th>1</th>\n",
       "      <td>andydick</td>\n",
       "      <td>Andy Dick</td>\n",
       "      <td>99.0</td>\n",
       "      <td>340</td>\n",
       "      <td>4.9</td>\n",
       "      <td>October 2018</td>\n",
       "      <td>[Reality TV, Comedians, Featured, Actors]</td>\n",
       "      <td>0.0</td>\n",
       "      <td>0.0</td>\n",
       "      <td>1.0</td>\n",
       "      <td>...</td>\n",
       "      <td>0.0</td>\n",
       "      <td>0.0</td>\n",
       "      <td>0.0</td>\n",
       "      <td>0.0</td>\n",
       "      <td>0.0</td>\n",
       "      <td>0.0</td>\n",
       "      <td>0.0</td>\n",
       "      <td>0.0</td>\n",
       "      <td>0.0</td>\n",
       "      <td>0.0</td>\n",
       "    </tr>\n",
       "    <tr>\n",
       "      <th>2</th>\n",
       "      <td>tjlavin</td>\n",
       "      <td>TJ Lavin</td>\n",
       "      <td>80.0</td>\n",
       "      <td>291</td>\n",
       "      <td>5.0</td>\n",
       "      <td>February 2018</td>\n",
       "      <td>[Reality TV, Riders, Featured, Extreme Sports,...</td>\n",
       "      <td>0.0</td>\n",
       "      <td>0.0</td>\n",
       "      <td>0.0</td>\n",
       "      <td>...</td>\n",
       "      <td>0.0</td>\n",
       "      <td>0.0</td>\n",
       "      <td>0.0</td>\n",
       "      <td>0.0</td>\n",
       "      <td>0.0</td>\n",
       "      <td>0.0</td>\n",
       "      <td>0.0</td>\n",
       "      <td>0.0</td>\n",
       "      <td>0.0</td>\n",
       "      <td>0.0</td>\n",
       "    </tr>\n",
       "    <tr>\n",
       "      <th>3</th>\n",
       "      <td>carsonkressley</td>\n",
       "      <td>Carson Kressley</td>\n",
       "      <td>59.0</td>\n",
       "      <td>290</td>\n",
       "      <td>5.0</td>\n",
       "      <td>October 2018</td>\n",
       "      <td>[Reality TV, Bravo, Stylists, Featured, Actors...</td>\n",
       "      <td>0.0</td>\n",
       "      <td>0.0</td>\n",
       "      <td>1.0</td>\n",
       "      <td>...</td>\n",
       "      <td>0.0</td>\n",
       "      <td>0.0</td>\n",
       "      <td>0.0</td>\n",
       "      <td>0.0</td>\n",
       "      <td>0.0</td>\n",
       "      <td>0.0</td>\n",
       "      <td>0.0</td>\n",
       "      <td>0.0</td>\n",
       "      <td>0.0</td>\n",
       "      <td>0.0</td>\n",
       "    </tr>\n",
       "    <tr>\n",
       "      <th>4</th>\n",
       "      <td>riffraff</td>\n",
       "      <td>RiFF RAFF</td>\n",
       "      <td>75.0</td>\n",
       "      <td>402</td>\n",
       "      <td>4.7</td>\n",
       "      <td>December 2017</td>\n",
       "      <td>[Rappers, Featured, Musicians]</td>\n",
       "      <td>0.0</td>\n",
       "      <td>0.0</td>\n",
       "      <td>0.0</td>\n",
       "      <td>...</td>\n",
       "      <td>0.0</td>\n",
       "      <td>0.0</td>\n",
       "      <td>0.0</td>\n",
       "      <td>0.0</td>\n",
       "      <td>0.0</td>\n",
       "      <td>0.0</td>\n",
       "      <td>0.0</td>\n",
       "      <td>0.0</td>\n",
       "      <td>0.0</td>\n",
       "      <td>0.0</td>\n",
       "    </tr>\n",
       "  </tbody>\n",
       "</table>\n",
       "<p>5 rows × 110 columns</p>\n",
       "</div>"
      ],
      "text/plain": [
       "               id             name  price  reactions  stars         joined  \\\n",
       "0     perezhilton     Perez Hilton   27.0        924    5.0     April 2018   \n",
       "1        andydick        Andy Dick   99.0        340    4.9   October 2018   \n",
       "2         tjlavin         TJ Lavin   80.0        291    5.0  February 2018   \n",
       "3  carsonkressley  Carson Kressley   59.0        290    5.0   October 2018   \n",
       "4        riffraff        RiFF RAFF   75.0        402    4.7  December 2017   \n",
       "\n",
       "                                          categories  in_13_reasons_why  \\\n",
       "0               [Reality TV, Commentators, Featured]                0.0   \n",
       "1          [Reality TV, Comedians, Featured, Actors]                0.0   \n",
       "2  [Reality TV, Riders, Featured, Extreme Sports,...                0.0   \n",
       "3  [Reality TV, Bravo, Stylists, Featured, Actors...                0.0   \n",
       "4                     [Rappers, Featured, Musicians]                0.0   \n",
       "\n",
       "   in_90_day_fiance  in_actors  ...  in_ufc  in_vanderpump_rules  \\\n",
       "0               0.0        0.0  ...     0.0                  0.0   \n",
       "1               0.0        1.0  ...     0.0                  0.0   \n",
       "2               0.0        0.0  ...     0.0                  0.0   \n",
       "3               0.0        1.0  ...     0.0                  0.0   \n",
       "4               0.0        0.0  ...     0.0                  0.0   \n",
       "\n",
       "   in_venture_capitalists  in_viners  in_vlog_squad  in_voice_actors  \\\n",
       "0                     0.0        0.0            0.0              0.0   \n",
       "1                     0.0        0.0            0.0              0.0   \n",
       "2                     0.0        0.0            0.0              0.0   \n",
       "3                     0.0        0.0            0.0              0.0   \n",
       "4                     0.0        0.0            0.0              0.0   \n",
       "\n",
       "   in_winter_sports  in_writers  in_younow  in_youtubers  \n",
       "0               0.0         0.0        0.0           0.0  \n",
       "1               0.0         0.0        0.0           0.0  \n",
       "2               0.0         0.0        0.0           0.0  \n",
       "3               0.0         0.0        0.0           0.0  \n",
       "4               0.0         0.0        0.0           0.0  \n",
       "\n",
       "[5 rows x 110 columns]"
      ]
     },
     "execution_count": 3,
     "metadata": {},
     "output_type": "execute_result"
    }
   ],
   "source": [
    "item_file = \"../input/talent.pkl\"\n",
    "item_records, COLUMN_LABELS, READABLE_LABELS, ATTRIBUTES = pickle.load(open(item_file, \"rb\"))\n",
    "item_df = pd.DataFrame(item_records)[ATTRIBUTES + COLUMN_LABELS].fillna(value=0)\n",
    "ITEM_NAMES = item_df[\"name\"].values\n",
    "ITEM_IDS = item_df[\"id\"].values\n",
    "s_items = mat_to_sets(item_df[COLUMN_LABELS].values)\n",
    "assert len(item_df) == len(s_items), \"Item matrix is not the same length as item category set list.\"\n",
    "print(\"Talent:\", len(item_df))\n",
    "print(\"Categories:\", len(COLUMN_LABELS))\n",
    "item_df.head()"
   ]
  },
  {
   "cell_type": "code",
   "execution_count": 4,
   "metadata": {},
   "outputs": [],
   "source": [
    "def cameo_name(i):\n",
    "    \"\"\"\n",
    "    Show the name and URL of Cameo talent based on its index `i`.\n",
    "    \"\"\"\n",
    "    return \"{} (cameo.com/{})\".format(ITEM_NAMES[i], ITEM_IDS[i])"
   ]
  },
  {
   "cell_type": "code",
   "execution_count": 5,
   "metadata": {},
   "outputs": [
    {
     "name": "stdout",
     "output_type": "stream",
     "text": [
      "Train Users 3000\n",
      "Test Users 1000\n",
      "Minimum Test Items per User: 23\n",
      "Minimum Input Items per User: 7\n",
      "Minimum Hidden Items per User: 16\n"
     ]
    },
    {
     "data": {
      "text/html": [
       "<div>\n",
       "<style scoped>\n",
       "    .dataframe tbody tr th:only-of-type {\n",
       "        vertical-align: middle;\n",
       "    }\n",
       "\n",
       "    .dataframe tbody tr th {\n",
       "        vertical-align: top;\n",
       "    }\n",
       "\n",
       "    .dataframe thead th {\n",
       "        text-align: right;\n",
       "    }\n",
       "</style>\n",
       "<table border=\"1\" class=\"dataframe\">\n",
       "  <thead>\n",
       "    <tr style=\"text-align: right;\">\n",
       "      <th></th>\n",
       "      <th>Perez Hilton</th>\n",
       "      <th>Andy Dick</th>\n",
       "      <th>TJ Lavin</th>\n",
       "      <th>Carson Kressley</th>\n",
       "      <th>RiFF RAFF</th>\n",
       "      <th>Chumlee</th>\n",
       "      <th>Gilbert Gottfried</th>\n",
       "      <th>Ice T</th>\n",
       "      <th>Ben Higgins</th>\n",
       "      <th>Evan Breen</th>\n",
       "      <th>...</th>\n",
       "      <th>Chris Jai Alex</th>\n",
       "      <th>Peter Dickson</th>\n",
       "      <th>Laura Perlongo</th>\n",
       "      <th>Anna del Gaizo</th>\n",
       "      <th>Zach Harper</th>\n",
       "      <th>John Oberg</th>\n",
       "      <th>Zac Pullam</th>\n",
       "      <th>Kansas Bowling</th>\n",
       "      <th>Matt Cirulnick</th>\n",
       "      <th>Caleb Senzel</th>\n",
       "    </tr>\n",
       "  </thead>\n",
       "  <tbody>\n",
       "    <tr>\n",
       "      <th>0</th>\n",
       "      <td>0</td>\n",
       "      <td>1</td>\n",
       "      <td>1</td>\n",
       "      <td>0</td>\n",
       "      <td>0</td>\n",
       "      <td>0</td>\n",
       "      <td>0</td>\n",
       "      <td>0</td>\n",
       "      <td>0</td>\n",
       "      <td>1</td>\n",
       "      <td>...</td>\n",
       "      <td>0</td>\n",
       "      <td>0</td>\n",
       "      <td>0</td>\n",
       "      <td>0</td>\n",
       "      <td>0</td>\n",
       "      <td>0</td>\n",
       "      <td>0</td>\n",
       "      <td>0</td>\n",
       "      <td>0</td>\n",
       "      <td>0</td>\n",
       "    </tr>\n",
       "    <tr>\n",
       "      <th>1</th>\n",
       "      <td>1</td>\n",
       "      <td>1</td>\n",
       "      <td>0</td>\n",
       "      <td>0</td>\n",
       "      <td>0</td>\n",
       "      <td>0</td>\n",
       "      <td>0</td>\n",
       "      <td>0</td>\n",
       "      <td>1</td>\n",
       "      <td>1</td>\n",
       "      <td>...</td>\n",
       "      <td>0</td>\n",
       "      <td>0</td>\n",
       "      <td>0</td>\n",
       "      <td>0</td>\n",
       "      <td>0</td>\n",
       "      <td>0</td>\n",
       "      <td>0</td>\n",
       "      <td>0</td>\n",
       "      <td>0</td>\n",
       "      <td>0</td>\n",
       "    </tr>\n",
       "    <tr>\n",
       "      <th>2</th>\n",
       "      <td>1</td>\n",
       "      <td>0</td>\n",
       "      <td>1</td>\n",
       "      <td>1</td>\n",
       "      <td>1</td>\n",
       "      <td>1</td>\n",
       "      <td>0</td>\n",
       "      <td>0</td>\n",
       "      <td>0</td>\n",
       "      <td>1</td>\n",
       "      <td>...</td>\n",
       "      <td>0</td>\n",
       "      <td>0</td>\n",
       "      <td>0</td>\n",
       "      <td>0</td>\n",
       "      <td>0</td>\n",
       "      <td>0</td>\n",
       "      <td>0</td>\n",
       "      <td>0</td>\n",
       "      <td>0</td>\n",
       "      <td>0</td>\n",
       "    </tr>\n",
       "    <tr>\n",
       "      <th>3</th>\n",
       "      <td>0</td>\n",
       "      <td>1</td>\n",
       "      <td>0</td>\n",
       "      <td>0</td>\n",
       "      <td>0</td>\n",
       "      <td>0</td>\n",
       "      <td>0</td>\n",
       "      <td>0</td>\n",
       "      <td>0</td>\n",
       "      <td>1</td>\n",
       "      <td>...</td>\n",
       "      <td>0</td>\n",
       "      <td>0</td>\n",
       "      <td>0</td>\n",
       "      <td>0</td>\n",
       "      <td>0</td>\n",
       "      <td>0</td>\n",
       "      <td>0</td>\n",
       "      <td>0</td>\n",
       "      <td>0</td>\n",
       "      <td>0</td>\n",
       "    </tr>\n",
       "    <tr>\n",
       "      <th>4</th>\n",
       "      <td>0</td>\n",
       "      <td>0</td>\n",
       "      <td>1</td>\n",
       "      <td>0</td>\n",
       "      <td>0</td>\n",
       "      <td>0</td>\n",
       "      <td>0</td>\n",
       "      <td>1</td>\n",
       "      <td>0</td>\n",
       "      <td>1</td>\n",
       "      <td>...</td>\n",
       "      <td>0</td>\n",
       "      <td>0</td>\n",
       "      <td>0</td>\n",
       "      <td>0</td>\n",
       "      <td>0</td>\n",
       "      <td>0</td>\n",
       "      <td>0</td>\n",
       "      <td>0</td>\n",
       "      <td>0</td>\n",
       "      <td>0</td>\n",
       "    </tr>\n",
       "  </tbody>\n",
       "</table>\n",
       "<p>5 rows × 5392 columns</p>\n",
       "</div>"
      ],
      "text/plain": [
       "   Perez Hilton  Andy Dick  TJ Lavin  Carson Kressley  RiFF RAFF  Chumlee  \\\n",
       "0             0          1         1                0          0        0   \n",
       "1             1          1         0                0          0        0   \n",
       "2             1          0         1                1          1        1   \n",
       "3             0          1         0                0          0        0   \n",
       "4             0          0         1                0          0        0   \n",
       "\n",
       "   Gilbert Gottfried  Ice T  Ben Higgins  Evan Breen  ...  Chris Jai Alex  \\\n",
       "0                  0      0            0           1  ...               0   \n",
       "1                  0      0            1           1  ...               0   \n",
       "2                  0      0            0           1  ...               0   \n",
       "3                  0      0            0           1  ...               0   \n",
       "4                  0      1            0           1  ...               0   \n",
       "\n",
       "   Peter Dickson  Laura Perlongo  Anna del Gaizo  Zach Harper  John Oberg  \\\n",
       "0              0               0               0            0           0   \n",
       "1              0               0               0            0           0   \n",
       "2              0               0               0            0           0   \n",
       "3              0               0               0            0           0   \n",
       "4              0               0               0            0           0   \n",
       "\n",
       "   Zac Pullam  Kansas Bowling  Matt Cirulnick  Caleb Senzel  \n",
       "0           0               0               0             0  \n",
       "1           0               0               0             0  \n",
       "2           0               0               0             0  \n",
       "3           0               0               0             0  \n",
       "4           0               0               0             0  \n",
       "\n",
       "[5 rows x 5392 columns]"
      ]
     },
     "execution_count": 5,
     "metadata": {},
     "output_type": "execute_result"
    }
   ],
   "source": [
    "csr_train, csr_test, csr_input, csr_hidden = pickle.load(open(\"../input/train_test_mat.pkl\", \"rb\"))\n",
    "m_split = [np.array(csr.todense()) for csr in [csr_train, csr_test, csr_input, csr_hidden]]\n",
    "m_train, m_test, m_input, m_hidden = m_split\n",
    "s_train, s_test, s_input, s_hidden = pickle.load(open(\"../input/train_test_set.pkl\", \"rb\"))\n",
    "assert len(m_train) == len(s_train), \"Train matrix is not the same length as train sets.\"\n",
    "assert len(m_test) == len(s_test), \"Test matrix is not the same length as test sets.\"\n",
    "assert len(m_input) == len(s_input), \"Input matrix is not the same length as input sets.\"\n",
    "assert len(m_hidden) == len(s_hidden), \"Hidden matrix is not the same length as hidden sets.\"\n",
    "print(\"Train Users\", len(m_train))\n",
    "print(\"Test Users\", len(m_test))\n",
    "print(\"Minimum Test Items per User:\", min(m_test.sum(axis=1)))\n",
    "print(\"Minimum Input Items per User:\", min(m_input.sum(axis=1)))\n",
    "print(\"Minimum Hidden Items per User:\", min(m_hidden.sum(axis=1)))\n",
    "like_df = pd.DataFrame(m_train, columns=ITEM_NAMES)\n",
    "like_df.head()"
   ]
  },
  {
   "cell_type": "markdown",
   "metadata": {},
   "source": [
    "## Evaluation Metrics"
   ]
  },
  {
   "cell_type": "code",
   "execution_count": 6,
   "metadata": {},
   "outputs": [],
   "source": [
    "from redcarpet import mapk_score, uhr_score"
   ]
  },
  {
   "cell_type": "code",
   "execution_count": 7,
   "metadata": {},
   "outputs": [
    {
     "name": "stdout",
     "output_type": "stream",
     "text": [
      "Help on function mapk_score in module redcarpet:\n",
      "\n",
      "mapk_score(s_hidden, recs_pred, k=10)\n",
      "    Computes the mean average precision at k (MAP@K) of recommendations.\n",
      "    MAP@K = mean AP@K score over all users\n",
      "    AP@K = (1 / min(m, k)) * sum from 1 to k of (precision at i * relevance of ith item)\n",
      "    Where m is the number of items in a user's hidden set\n",
      "    Where k is the number of items recommended to each user\n",
      "    params:\n",
      "        s_hidden: list of sets of hidden items for each user\n",
      "        recs_pred: list of lists of recommended items, with each list\n",
      "        k: number of recommendations to use in top set\n",
      "    returns:\n",
      "        float, range [0, 1]\n",
      "\n"
     ]
    }
   ],
   "source": [
    "help(mapk_score)"
   ]
  },
  {
   "cell_type": "code",
   "execution_count": 8,
   "metadata": {},
   "outputs": [
    {
     "name": "stdout",
     "output_type": "stream",
     "text": [
      "Help on function uhr_score in module redcarpet:\n",
      "\n",
      "uhr_score(s_hidden, recs_pred, k=10)\n",
      "    Computes the user hit tate (UHR) score of recommendations.\n",
      "    UHR = the fraction of users whose top list included at\n",
      "    least one item also in their hidden set.\n",
      "    params:\n",
      "        s_hidden: list of sets of hidden items for each user\n",
      "        recs_pred: list of lists of recommended items, with each list\n",
      "        k: number of recommendations to use in top set\n",
      "    returns:\n",
      "        float, range [0, 1]\n",
      "\n"
     ]
    }
   ],
   "source": [
    "help(uhr_score)"
   ]
  },
  {
   "cell_type": "markdown",
   "metadata": {},
   "source": [
    "## Similarity Measures"
   ]
  },
  {
   "cell_type": "code",
   "execution_count": 9,
   "metadata": {},
   "outputs": [],
   "source": [
    "from redcarpet import jaccard_sim, cosine_sim"
   ]
  },
  {
   "cell_type": "code",
   "execution_count": 10,
   "metadata": {},
   "outputs": [
    {
     "name": "stdout",
     "output_type": "stream",
     "text": [
      "Help on function jaccard_sim in module redcarpet:\n",
      "\n",
      "jaccard_sim(u, v)\n",
      "    Computes the Jaccard similarity between sets u and v.\n",
      "    sim = intersection(u, v) / union(u, v)\n",
      "    params:\n",
      "        u, v: sets to compare\n",
      "    returns:\n",
      "        float between 0 and 1, where 1 represents perfect\n",
      "            similarity and 0 represents no similarity\n",
      "\n"
     ]
    }
   ],
   "source": [
    "help(jaccard_sim)"
   ]
  },
  {
   "cell_type": "code",
   "execution_count": 11,
   "metadata": {},
   "outputs": [
    {
     "name": "stdout",
     "output_type": "stream",
     "text": [
      "Help on function cosine_sim in module redcarpet:\n",
      "\n",
      "cosine_sim(u, v)\n",
      "    Computes the Cosine similarity between sets u and v.\n",
      "    sim = intersection(u, v) / sqrt(|u| * |v|)\n",
      "    Where |s| is the number of items in set s\n",
      "    params:\n",
      "        u, v: sets to compare\n",
      "    returns:\n",
      "        float between 0 and 1, where 1 represents perfect\n",
      "            similarity and 0 represents no similarity\n",
      "\n"
     ]
    }
   ],
   "source": [
    "help(cosine_sim)"
   ]
  },
  {
   "cell_type": "markdown",
   "metadata": {},
   "source": [
    "## Recommendation Algorithms"
   ]
  },
  {
   "cell_type": "code",
   "execution_count": 12,
   "metadata": {},
   "outputs": [],
   "source": [
    "from redcarpet import collaborative_filter, content_filter, weighted_hybrid"
   ]
  },
  {
   "cell_type": "code",
   "execution_count": 13,
   "metadata": {},
   "outputs": [
    {
     "name": "stdout",
     "output_type": "stream",
     "text": [
      "Help on function collaborative_filter in module redcarpet:\n",
      "\n",
      "collaborative_filter(s_train, s_input, j=3, sim_fn=None, threshold=0.01, k=10)\n",
      "    Collaborative filtering recommender system.\n",
      "    params:\n",
      "        s_train: list of sets of liked item indices for train data\n",
      "        s_input: list of sets of liked item indices for input data\n",
      "        j: number of similar users to base recommendations on\n",
      "        sim_fn(u, v): function that returns a float value representing\n",
      "            the similarity between sets u and v\n",
      "        threshold: minimum similarity required to consider a similar user\n",
      "        k: number of items to recommend for each user\n",
      "    returns:\n",
      "        recs_pred: list of lists of tuples of recommendations where\n",
      "            each tuple has (item index, relevance score) with the list\n",
      "            of tuples sorted in order of decreasing relevance\n",
      "\n"
     ]
    }
   ],
   "source": [
    "help(collaborative_filter)"
   ]
  },
  {
   "cell_type": "code",
   "execution_count": 14,
   "metadata": {},
   "outputs": [
    {
     "name": "stdout",
     "output_type": "stream",
     "text": [
      "Help on function content_filter in module redcarpet:\n",
      "\n",
      "content_filter(items_train, s_input, sim_fn=None, threshold=0.01, k=10)\n",
      "    Content-based filtering recommender system.\n",
      "    params:\n",
      "        items_train: list of sets of non-zero attribute indices for items\n",
      "        s_input: list of sets of liked item indices for input data\n",
      "        sim_fn(u, v): function that returns a float value representing\n",
      "            the similarity between sets u and v\n",
      "        threshold: minimum similarity required to consider a similar item\n",
      "        k: number of items to recommend for each user\n",
      "    returns:\n",
      "        recs_pred: list of lists of tuples of recommendations where\n",
      "            each tuple has (item index, relevance score) with the list\n",
      "            of tuples sorted in order of decreasing relevance\n",
      "\n"
     ]
    }
   ],
   "source": [
    "help(content_filter)"
   ]
  },
  {
   "cell_type": "code",
   "execution_count": 15,
   "metadata": {},
   "outputs": [
    {
     "name": "stdout",
     "output_type": "stream",
     "text": [
      "Help on function weighted_hybrid in module redcarpet:\n",
      "\n",
      "weighted_hybrid(components, use_ranks=False, k=10)\n",
      "    Hybrid recommender system using weights.\n",
      "    params:\n",
      "        components: list of tuples where each tuple has (recs list, weight)\n",
      "            where recs_list is a list of tuples where each tuple has\n",
      "            (item index, relevance score) and weight is the factor used to\n",
      "            scale the relevance scores for this component\n",
      "        use_ranks: boolean (default: False), if True, apply weights to the\n",
      "            inverse rank of each item instead of its score, for example:\n",
      "            the first recommended item will earn 1 * weight, the second will\n",
      "            earn 1/2 * weight, the third will earn 1/3 * weight and so on\n",
      "        k: number of items to recommend for each user\n",
      "    returns:\n",
      "        recs_pred: list of lists of tuples of recommendations where\n",
      "            each tuple has (item index, relevance score) with the list\n",
      "            of tuples sorted in order of decreasing relevance\n",
      "\n"
     ]
    }
   ],
   "source": [
    "help(weighted_hybrid)"
   ]
  },
  {
   "cell_type": "markdown",
   "metadata": {},
   "source": [
    "## Model Selection"
   ]
  },
  {
   "cell_type": "code",
   "execution_count": 16,
   "metadata": {},
   "outputs": [],
   "source": [
    "from redcarpet import get_recs\n",
    "from redcarpet import show_user_recs, show_item_recs, show_user_detail\n",
    "from redcarpet import show_apk_dist, show_hit_dist, show_score_dist"
   ]
  },
  {
   "cell_type": "code",
   "execution_count": 17,
   "metadata": {},
   "outputs": [
    {
     "name": "stdout",
     "output_type": "stream",
     "text": [
      "Help on function get_recs in module redcarpet:\n",
      "\n",
      "get_recs(user_recs, k=None)\n",
      "    Extracts recommended item indices, leaving out their scores.\n",
      "    params:\n",
      "        user_recs: list of lists of tuples of recommendations where\n",
      "            each tuple has (item index, relevance score) with the\n",
      "            list of tuples sorted in order of decreasing relevance\n",
      "        k: maximumum number of recommendations to include for each\n",
      "            user, if None, include all recommendations\n",
      "    returns:\n",
      "        list of lists of recommendations where each\n",
      "            list has the column indices of recommended items\n",
      "            sorted in order they appeared in user_recs\n",
      "\n"
     ]
    }
   ],
   "source": [
    "help(get_recs)"
   ]
  },
  {
   "cell_type": "code",
   "execution_count": 18,
   "metadata": {},
   "outputs": [],
   "source": [
    "k_top = 10"
   ]
  },
  {
   "cell_type": "code",
   "execution_count": 19,
   "metadata": {},
   "outputs": [
    {
     "name": "stdout",
     "output_type": "stream",
     "text": [
      "Model: Collaborative Filtering with Jacccard Similarity (j=10)\n",
      "MAP = 0.349\n",
      "UHR = 0.985\n"
     ]
    }
   ],
   "source": [
    "print(\"Model: Collaborative Filtering with Jacccard Similarity (j=10)\")\n",
    "collab_jac10 = collaborative_filter(s_train, s_input, sim_fn=jaccard_sim, j=10, k=k_top)\n",
    "print(\"MAP = {0:.3f}\".format(mapk_score(s_hidden, get_recs(collab_jac10), k=k_top)))\n",
    "print(\"UHR = {0:.3f}\".format(uhr_score(s_hidden, get_recs(collab_jac10), k=k_top)))"
   ]
  },
  {
   "cell_type": "markdown",
   "metadata": {},
   "source": [
    "Use `show_item_recs()` to get a Pandas dataframe of every item that was recommended."
   ]
  },
  {
   "cell_type": "code",
   "execution_count": 20,
   "metadata": {},
   "outputs": [
    {
     "data": {
      "text/html": [
       "<div>\n",
       "<style scoped>\n",
       "    .dataframe tbody tr th:only-of-type {\n",
       "        vertical-align: middle;\n",
       "    }\n",
       "\n",
       "    .dataframe tbody tr th {\n",
       "        vertical-align: top;\n",
       "    }\n",
       "\n",
       "    .dataframe thead th {\n",
       "        text-align: right;\n",
       "    }\n",
       "</style>\n",
       "<table border=\"1\" class=\"dataframe\">\n",
       "  <thead>\n",
       "    <tr style=\"text-align: right;\">\n",
       "      <th></th>\n",
       "      <th>Item</th>\n",
       "      <th>Recommended</th>\n",
       "      <th>Hits</th>\n",
       "      <th>Hit Rate</th>\n",
       "      <th>Avg Score</th>\n",
       "    </tr>\n",
       "  </thead>\n",
       "  <tbody>\n",
       "    <tr>\n",
       "      <th>11</th>\n",
       "      <td>9</td>\n",
       "      <td>665</td>\n",
       "      <td>429</td>\n",
       "      <td>0.645113</td>\n",
       "      <td>0.661955</td>\n",
       "    </tr>\n",
       "    <tr>\n",
       "      <th>20</th>\n",
       "      <td>0</td>\n",
       "      <td>516</td>\n",
       "      <td>259</td>\n",
       "      <td>0.501938</td>\n",
       "      <td>0.522093</td>\n",
       "    </tr>\n",
       "    <tr>\n",
       "      <th>12</th>\n",
       "      <td>11</td>\n",
       "      <td>520</td>\n",
       "      <td>218</td>\n",
       "      <td>0.419231</td>\n",
       "      <td>0.538846</td>\n",
       "    </tr>\n",
       "    <tr>\n",
       "      <th>10</th>\n",
       "      <td>149</td>\n",
       "      <td>425</td>\n",
       "      <td>151</td>\n",
       "      <td>0.355294</td>\n",
       "      <td>0.475059</td>\n",
       "    </tr>\n",
       "    <tr>\n",
       "      <th>13</th>\n",
       "      <td>12</td>\n",
       "      <td>406</td>\n",
       "      <td>133</td>\n",
       "      <td>0.327586</td>\n",
       "      <td>0.471429</td>\n",
       "    </tr>\n",
       "  </tbody>\n",
       "</table>\n",
       "</div>"
      ],
      "text/plain": [
       "    Item  Recommended  Hits  Hit Rate  Avg Score\n",
       "11     9          665   429  0.645113   0.661955\n",
       "20     0          516   259  0.501938   0.522093\n",
       "12    11          520   218  0.419231   0.538846\n",
       "10   149          425   151  0.355294   0.475059\n",
       "13    12          406   133  0.327586   0.471429"
      ]
     },
     "execution_count": 20,
     "metadata": {},
     "output_type": "execute_result"
    }
   ],
   "source": [
    "idf = show_item_recs(s_hidden, collab_jac10, k=k_top)\n",
    "idf.sort_values(by=[\"Hits\", \"Hit Rate\"], ascending=[False, False]).head()"
   ]
  },
  {
   "cell_type": "markdown",
   "metadata": {},
   "source": [
    "Use `show_user_recs` to get a Pandas dataframe of the recommendations for every user."
   ]
  },
  {
   "cell_type": "code",
   "execution_count": 21,
   "metadata": {},
   "outputs": [
    {
     "data": {
      "text/html": [
       "<div>\n",
       "<style scoped>\n",
       "    .dataframe tbody tr th:only-of-type {\n",
       "        vertical-align: middle;\n",
       "    }\n",
       "\n",
       "    .dataframe tbody tr th {\n",
       "        vertical-align: top;\n",
       "    }\n",
       "\n",
       "    .dataframe thead th {\n",
       "        text-align: right;\n",
       "    }\n",
       "</style>\n",
       "<table border=\"1\" class=\"dataframe\">\n",
       "  <thead>\n",
       "    <tr style=\"text-align: right;\">\n",
       "      <th></th>\n",
       "      <th>User</th>\n",
       "      <th>APK</th>\n",
       "      <th>Hits</th>\n",
       "    </tr>\n",
       "  </thead>\n",
       "  <tbody>\n",
       "    <tr>\n",
       "      <th>21</th>\n",
       "      <td>21</td>\n",
       "      <td>1.0</td>\n",
       "      <td>10</td>\n",
       "    </tr>\n",
       "    <tr>\n",
       "      <th>42</th>\n",
       "      <td>42</td>\n",
       "      <td>1.0</td>\n",
       "      <td>10</td>\n",
       "    </tr>\n",
       "    <tr>\n",
       "      <th>62</th>\n",
       "      <td>62</td>\n",
       "      <td>1.0</td>\n",
       "      <td>10</td>\n",
       "    </tr>\n",
       "    <tr>\n",
       "      <th>72</th>\n",
       "      <td>72</td>\n",
       "      <td>1.0</td>\n",
       "      <td>10</td>\n",
       "    </tr>\n",
       "    <tr>\n",
       "      <th>108</th>\n",
       "      <td>108</td>\n",
       "      <td>1.0</td>\n",
       "      <td>10</td>\n",
       "    </tr>\n",
       "  </tbody>\n",
       "</table>\n",
       "</div>"
      ],
      "text/plain": [
       "     User  APK  Hits\n",
       "21     21  1.0    10\n",
       "42     42  1.0    10\n",
       "62     62  1.0    10\n",
       "72     72  1.0    10\n",
       "108   108  1.0    10"
      ]
     },
     "execution_count": 21,
     "metadata": {},
     "output_type": "execute_result"
    }
   ],
   "source": [
    "udf = show_user_recs(s_hidden, collab_jac10, k=k_top)\n",
    "udf.sort_values(by=[\"APK\", \"Hits\"], ascending=[False, False]).head()"
   ]
  },
  {
   "cell_type": "markdown",
   "metadata": {},
   "source": [
    "Use `show_user_detail` to look at the recommendations for a user in more detail."
   ]
  },
  {
   "cell_type": "code",
   "execution_count": 22,
   "metadata": {},
   "outputs": [
    {
     "name": "stdout",
     "output_type": "stream",
     "text": [
      "User: 0\n",
      "Given:       [2289, 2513, 2517, 2551, 2569, 2592, 4809]\n",
      "Recommended: [2259, 2526, 2574, 2593, 4805, 4807, 4808, 4810, 4813, 4815]\n",
      "Actual:      [0, 1, 3, 5, 7, 8, 9, 13, 42, 49, 58, 63, 66, 105, 147, 149, 150, 189, 192, 227, 312, 392, 1383, 1618, 1664, 2511, 2521, 2522, 2526, 2528, 2530, 2533, 2534, 2535, 2537, 2543, 2546, 2550, 2554, 2558, 2573, 2581, 2584, 2586, 2587, 2588, 2589, 2593, 2762, 2866, 4805, 4806, 4807, 4808, 4810, 4811, 4812, 4814, 4815, 4816, 5337, 5346, 5350, 5372]\n",
      "\n",
      "Recommendation Hits = 7\n",
      "Average Precision   = 0.531\n",
      "\n",
      "All Recommendation Scores:\n",
      "01. [Y] (1.000) Jackie Mark Goldschneider (cameo.com/jackie_goldschneider)\n",
      "02. [Y] (1.000) D'Andra Simmons (cameo.com/dandrasimmons)\n",
      "03. [ ] (1.000) Lauri Peterson (cameo.com/lauri_peterson)\n",
      "04. [Y] (1.000) Candiace Dillard Bassett (cameo.com/realcandiacedbassett)\n",
      "05. [ ] (1.000) Kristen Taekman (cameo.com/kristentaekman)\n",
      "06. [ ] (0.900) Gina Kirschenheiter (cameo.com/ginakirschenheiter)\n",
      "07. [Y] (0.900) Katie Rost (cameo.com/mskatierost)\n",
      "08. [Y] (0.900) Jeana Keough (cameo.com/jeana.keough)\n",
      "09. [Y] (0.900) Jackie Gillies (cameo.com/jackiegilliestv)\n",
      "10. [Y] (0.900) LeeAnne Locken (cameo.com/leeannelocken)\n"
     ]
    }
   ],
   "source": [
    "show_user_detail(s_input, s_hidden, collab_jac10, uid=0, name_fn=cameo_name)"
   ]
  },
  {
   "cell_type": "code",
   "execution_count": 23,
   "metadata": {},
   "outputs": [
    {
     "name": "stdout",
     "output_type": "stream",
     "text": [
      "Model: Collaborative Filtering with Cosine Similarity (j=10)\n",
      "MAP = 0.388\n",
      "UHR = 0.981\n"
     ]
    }
   ],
   "source": [
    "print(\"Model: Collaborative Filtering with Cosine Similarity (j=10)\")\n",
    "collab_cos10 = collaborative_filter(s_train, s_input, sim_fn=cosine_sim, j=10, k=k_top)\n",
    "print(\"MAP = {0:.3f}\".format(mapk_score(s_hidden, get_recs(collab_cos10), k=k_top)))\n",
    "print(\"UHR = {0:.3f}\".format(uhr_score(s_hidden, get_recs(collab_cos10), k=k_top)))"
   ]
  },
  {
   "cell_type": "markdown",
   "metadata": {},
   "source": [
    "Compare multiple models by plotting the distributions of the AP@K scores, hit counts, and item scores."
   ]
  },
  {
   "cell_type": "code",
   "execution_count": 24,
   "metadata": {},
   "outputs": [],
   "source": [
    "results = [\n",
    "    (collab_jac10, \"Jaccard (j=10)\"),\n",
    "    (collab_cos10, \"Cosine (j=10)\")\n",
    "]"
   ]
  },
  {
   "cell_type": "code",
   "execution_count": 25,
   "metadata": {},
   "outputs": [
    {
     "data": {
      "image/png": "[encoded data removed]",
      "text/plain": [
       "<matplotlib.figure.Figure at 0x12b8cc470>"
      ]
     },
     "metadata": {
      "needs_background": "light"
     },
     "output_type": "display_data"
    }
   ],
   "source": [
    "show_apk_dist(s_hidden, results, k=k_top)"
   ]
  },
  {
   "cell_type": "code",
   "execution_count": 26,
   "metadata": {},
   "outputs": [
    {
     "data": {
      "image/png": "[encoded data removed]",
      "text/plain": [
       "<matplotlib.figure.Figure at 0x12bca0588>"
      ]
     },
     "metadata": {
      "needs_background": "light"
     },
     "output_type": "display_data"
    }
   ],
   "source": [
    "show_hit_dist(s_hidden, results, k=k_top)"
   ]
  },
  {
   "cell_type": "code",
   "execution_count": 27,
   "metadata": {},
   "outputs": [
    {
     "data": {
      "image/png": "[encoded data removed]",
      "text/plain": [
       "<matplotlib.figure.Figure at 0x111062a58>"
      ]
     },
     "metadata": {
      "needs_background": "light"
     },
     "output_type": "display_data"
    }
   ],
   "source": [
    "show_score_dist(results, k=10, bins=np.arange(0.0, 1.1, 0.1))"
   ]
  },
  {
   "cell_type": "code",
   "execution_count": 28,
   "metadata": {},
   "outputs": [
    {
     "name": "stdout",
     "output_type": "stream",
     "text": [
      "Model: Hybrid Collaborative Filtering\n",
      "Similarity: Hybrid (0.2 * Jaccard + 0.8 * Cosine)\n",
      "MAP = 0.389\n",
      "UHR = 0.981\n"
     ]
    }
   ],
   "source": [
    "print(\"Model: Hybrid Collaborative Filtering\")\n",
    "print(\"Similarity: Hybrid (0.2 * Jaccard + 0.8 * Cosine)\")\n",
    "collab_hybrid = weighted_hybrid([\n",
    "    (collab_jac10, 0.2),\n",
    "    (collab_cos10, 0.8)\n",
    "])\n",
    "print(\"MAP = {0:.3f}\".format(mapk_score(s_hidden, get_recs(collab_hybrid), k=k_top)))\n",
    "print(\"UHR = {0:.3f}\".format(uhr_score(s_hidden, get_recs(collab_hybrid), k=k_top)))"
   ]
  },
  {
   "cell_type": "markdown",
   "metadata": {},
   "source": [
    "## Submit to Kaggle"
   ]
  },
  {
   "cell_type": "code",
   "execution_count": 29,
   "metadata": {},
   "outputs": [],
   "source": [
    "from redcarpet import write_kaggle_recs, download_kaggle_recs"
   ]
  },
  {
   "cell_type": "code",
   "execution_count": 30,
   "metadata": {},
   "outputs": [
    {
     "name": "stdout",
     "output_type": "stream",
     "text": [
      "Hold Out Set: N = 1000\n",
      "All Input:    N = 2000\n"
     ]
    }
   ],
   "source": [
    "# Load hold out set\n",
    "s_hold_input = pickle.load(open(\"../input/hold_set.pkl\", \"rb\"))\n",
    "print(\"Hold Out Set: N = {}\".format(len(s_hold_input)))\n",
    "s_all_input = s_input + s_hold_input\n",
    "print(\"All Input:    N = {}\".format(len(s_all_input)))"
   ]
  },
  {
   "cell_type": "code",
   "execution_count": 31,
   "metadata": {},
   "outputs": [
    {
     "name": "stdout",
     "output_type": "stream",
     "text": [
      "Final Model\n",
      "Strategy: Collaborative\n",
      "Similarity: Cosine (j=10)\n"
     ]
    }
   ],
   "source": [
    "print(\"Final Model\")\n",
    "print(\"Strategy: Collaborative\")\n",
    "print(\"Similarity: Cosine (j=10)\")\n",
    "# Be sure to use the entire s_input\n",
    "final_scores = collaborative_filter(s_train, s_all_input, sim_fn=cosine_sim, j=10)\n",
    "final_recs = get_recs(final_scores)"
   ]
  },
  {
   "cell_type": "code",
   "execution_count": 33,
   "metadata": {},
   "outputs": [
    {
     "name": "stdout",
     "output_type": "stream",
     "text": [
      "Wrote predictions for 2000 users to ../output/kaggle_submission_hybrid_collab.csv.\n"
     ]
    },
    {
     "data": {
      "text/html": [
       "<a download=\"../output/kaggle_submission_hybrid_collab.csv\"\n",
       "                href=\"data:text/csv;base64,SWQsUHJlZGljdGVkCjAsNDgwNyA0ODA4IDQ4MTMgNDgxNSAyMjU5IDI1NzQgMjU5MyA0ODA1IDQ4MTAgMjUyNgoxLDkgMTQ5IDEyIDUxIDU0IDcgMzUgMTEgNTMgMTkyCjIsOSAwIDE3OSAxNCAxNzggMTQ5IDExIDE5MSAxMzg1IDMKMywwIDkgMTQ5IDE4MjEgMjQ4MyAyNDg0IDI0ODggMjQ5MiAyNDkzIDI1MDIKNCw0NjQyIDQ2NDggMzU1NiA0NjQ1IDI0ODQgNDY1NyA0NjU4IDQ2NjUgMzAyMCA0NjUwCjUsNTM2NiA1MzY0IDUzNjEgNTM3MSAxMiA1MzQzIDUzNjIgMjc1OCA1MzM4IDkKNiwyODA4IDUzNTIgNTM1MyA1MzY4IDUzNTEgNTM1NCA1MzU5IDUzNzAgNCA1CjcsMTIgNCAxMSA5IDAgNTQgMjUxNCAxNzggNTIgMjU3Ngo4LDMxODIgMzE4MyAzMTYxIDMxNzAgMzE3NCAzMTg0IDMxODYgMzE5NSAzMTQ0IDMxNDUKOSw5IDExIDAgNjYgNTQgMjYgMSAzIDQgNQoxMCwxMSAwIDkgMTQ5IDcgMzMwOCAxNDE1IDEgNDQgNTIKMTEsMCA5IDExIDMzIDEgMjk1NyAyOTY3IDE0OSAxNDM1IDE5MgoxMiw0ODA1IDQ4MTAgNDgxMSA0ODE0IDQ4MTUgNDgxNiAyNTkxIDQ4MDYgNDgwOCA0ODA5CjEzLDI1ODQgNDgwNSA0ODA4IDQ4MDkgNDgxMiA0ODE0IDI1MTUgMjU2OSAyNTkyIDI1OTEKMTQsMjQ4NCAyNDg3IDI0OTkgMjUwNiA1NCAyNDk2IDI1MDMgMjUwNSAyNDgyIDE1NTkKMTUsNDIzMCA0MjM1IDUwMjIgNTAyNCA0Mjc5IDQ0MTMgNDI1NCA0MzQzIDQ0NzYgNTAyMwoxNiw5IDMxNzIgMzE1NSAzMTU3IDMxNzcgMzE4MiAzMTk0IDMxODUgMzE0NyAzMTk2CjE3LDExIDE0OSAyNTIwIDkgMCAyNTc2IDI1NTcgMjU3OCAyNTE0IDI1MTkKMTgsMzE0OCAzMTYzIDMxNzUgMzE0NSAzMTQ2IDMxNjQgMzE3MCAzMTc2IDMxODkgMzE3MwoxOSw5IDExIDAgMjU4NiA0ODA2IDU0IDI1NzMgMjU3NCAyNTgxIDI1ODQKMjAsMTIgNTIgMTQ5IDkgMTEgNCAyNiAzIDIxIDU0CjIxLDI1OTYgMjU5NyAyNTk4IDI1OTkgNTU5IDU2NSA1NzcgNjEzIDYyMyA2NDIKMjIsNTIwNSA1MzQxIDUzNzAgNTMzOSA1MzQyIDUzNjkgNTI4MiA1MzQ5IDUzNTEgMTM4NgoyMywwIDUzNjggMjk1MCA1MzQ0IDUzNTUgNTM2MyA1MzY2IDExIDM0ODAgNTM0MwoyNCw5IDAgMTQ5IDE3OSA1MiA1NCAxMSA3IDYgMQoyNSw5NTkgMTEyMiA2MjkgMTk4IDE0OSAxOTQgOSAxMSA1NCAxMgoyNiw1MzYwIDE0OSA1MzQwIDkgNTMzOCAxMiA1MzY0IDUzNjcgNTM1NiA1MzU4CjI3LDkgMjc1OCA1MzM2IDUzNDYgNTM0OSA1MzU1IDI5MjIgNTMzOSA1MzQwIDUzNDgKMjgsMTEzNyAxMTM4IDExNTEgMTE1MyAxMTU2IDExNTggMTE1OSAxMTY4IDExNzMgMTE3NQoyOSwzMTU3IDMxNTQgMzE1NiAzMTYxIDMxNjcgMzE3MCAzMTgwIDMxODQgMzE0OSAzMTU1CjMwLDkgMjk1MyAyOTc1IDI5ODUgMjk4NiAxNzkgMjk2MCAyOTk0IDEgMjk3MAozMSw0ODA1IDQ4MTMgMjUzNSAyNTU0IDI1NjkgNDgxMiA0ODA2IDQ4MDcgNDgwOCA0ODA5CjMyLDkgMCAxMSAxMzg2IDUgMTIgOCAxNzkgMTg0IDIKMzMsMzQ4NyAzNDk5IDM0NzcgMzQ4NCAzNDk1IDM0OTggMjY5MyAzNDgwIDM0ODYgMzQ5MwozNCwxMiAwIDE3OCA5IDQgMyAxMSA1NCAxNSA1MzM4CjM1LDkgNTM1NiAwIDE3OCA1MiA1NCA1MzQ0IDUzNjQgMTQ5IDIyCjM2LDExIDUyIDkgNTQgMTk0IDEyIDE5NiAwIDU2IDYxCjM3LDExMzUgMTEzNiAxMTM4IDExNDAgMTE0NSAxMTQ5IDExNTMgMTE1NCAxMTU5IDExNjgKMzgsOSAxMSAzMyA1NCA1MzUyIDUzNzAgMTc4IDgyIDE0OSA2CjM5LDI0ODQgMTc1MyAyNDg2IDI0OTkgMjUwOSAyNDgyIDI0ODcgMjQ4OSAyNDkwIDI0OTIKNDAsMCAxMDMwIDkgMTY3OCA2NTggODAxIDMxNDIgMzE0MyA3MTIgNzYwCjQxLDUzNjUgNTM1MSA1MzQzIDE0OSA1MjI3IDUzNTggNTM2NyA1MzY2IDI3NTggNTQKNDIsMzE1NiAzMTk0IDMxNjkgMzE4NSAzMTg4IDMxNjQgMzE3MCAzMTQ1IDMxNDcgMzE1MQo0Myw5IDI1NzMgMjU4NCA0ODA2IDQ4MDcgNDgwOCA0ODEwIDQ4MTEgMjUzNCAyNTUwCjQ0LDkgMSAxMSAxNDkgMTIgODIgMCA1IDcgMjM5CjQ1LDkgMCAxMiAxNzggNjYgMTEgMTc5IDE2IDE0OSA0NAo0NiwxMiA5IDUyIDIgMTYgNTQgMTQ5IDEzODUgNTM1NiAwCjQ3LDkgMTEgMTQ5IDEyIDU0IDEgNSAxOTQgNCAyNwo0OCw5IDAgMTc4IDExIDU0IDEyIDEgMTUwMyA0ODc4IDQ4NzkKNDksMjk4NiAyOTcxIDExIDI5NTYgMjk4NyAyOTk1IDAgMjk1NyAyOTY5IDI5OTQKNTAsOSAxODEgMTk2IDE5IDE3OCAwIDEgMTc5IDI2IDE0OQo1MSw0OTAyIDQ5MTkgNDgxNyA0ODE4IDQ4MjAgNDk0NSA0ODIzIDQ4MzEgNDgzNCA0ODQ4CjUyLDkgMCA1NCAyOSA1NiA2NiA0OSAxODMgNSAxMQo1MywxMDMwIDE2NzggODAxIDMxNDIgMzE0MyA3MTYgNjIyIDc2MCA1MjUgNTI3CjU0LDAgOSAxMSA1MiAxIDEyIDUzMzYgNTM0OCAyMiAxNzkKNTUsOTU5IDYyOSA1NTUgMTk4IDExIDE0OSAxNTQgOSA1NCAyNzUKNTYsMjU5NiAyNTk3IDI1OTggNTU5IDU2NSA1NzcgNTgwIDU4MyA1OTAgNjIzCjU3LDAgNTQgMjUzNCAyNTgxIDI1MjQgMjI4OSAyOSAyIDI2IDgKNTgsMjUyMyAzMTk0IDMxNDkgMzE1NiAzMTc1IDMxNDcgMzE1NCAzMTU1IDMxNTggMzE2Mwo1OSw5IDI2IDE3OCAyMSA0MDIgODY1IDEyIDg2IDgyIDExCjYwLDkgMTQ5IDEzODMgMTc4IDE5NCAxNCAzMyAxOTIgMSAxMgo2MSwxNjc4IDgwMSA3MTIgMzE0MiAzMTQzIDYwNiA2MTEgMTAxMiA3NTcgNTI3CjYyLDkgNDgwNyA0ODA4IDQ4MTAgNDgxNSA0ODE2IDI1ODQgNDgxMSA0ODEyIDQ4MTQKNjMsOSAwIDExIDEyIDUyIDcgMTQ5IDU0IDI2IDE3OQo2NCwyNjIyIDI2NDMgMjYwMiAyNjA0IDI2MTAgMjYxNSAyNjE2IDI2MjAgMjYyMyAyNjI0CjY1LDM0OTggMzQ5OSAzNTEyIDMyNzUgMzQ3OCAzNTAwIDM0ODIgMzQ4NCAzNDg1IDM0ODcKNjYsOSAxMiAwIDExIDY2IDcgMTQ5IDU0IDE1IDI2CjY3LDkgMCAxNzkgNSAzMjI3IDE3MjcgMTg5NyAxOTI5IDMyMzQgMTEKNjgsNTM0MSAwIDkgMTQ5IDI4NDQgNTM2OSA1MzM2IDUzNDAgNTM2MSA0MzkwCjY5LDkgMCAxNzkgMjkgMTEgMTQ5IDI2IDIgNTQgMTk0CjcwLDUzNTQgNTIyNyA1MzY0IDkgNTM0NSA1MzM2IDUzNjIgNTM3MCAwIDU0CjcxLDkgMCAyNTgxIDI1NjkgMjU3MyAyNTg0IDI1OTIgNDgwNyA0ODA4IDQ4MDkKNzIsMjU4NyA0ODA1IDQ4MDcgNDgxNSAyNTg0IDQ4MDggNDgxMCA0ODEzIDI1MTUgMjUyMgo3Myw0ODA2IDQ4MTAgMjUxNSA0ODE2IDI1MjYgMjU1MSAyNTczIDI1NzkgMjU4NyA0ODA3Cjc0LDMxNDcgMzE3OCAzMTUzIDMxNTggMjUyMyAzMTc0IDMxNzYgMzE3OSAzMTgxIDMxOTEKNzUsMCA5IDI5NzQgMjk4OSAyMjM5IDE2NDAgMjk2NiAyOTUzIDI5NTggMjk2Nwo3NiwwIDkgMTIgMTEgMTQ5IDYgNTQgODIgNCAxNzkKNzcsNTE3IDI1OTYgMjU5NyAyNTk4IDI1OTkgNTY1IDU4MCA1ODMgNTkwIDYyMgo3OCwyMDc3IDIwODIgMTk2NyAxOTczIDUyMDEgNTIwMiA1MjAzIDUyMDUgNTIwNiA1MjA5Cjc5LDI5NTcgMjk3NiAyOTk0IDI5NTIgMjk3NSAyNzUwIDAgMjk1MSAxNjAyIDI5ODQKODAsNTMzOSA1MzQxIDUzNDYgNTM1MyA1MjgyIDUzNTYgNTM0OCAxOTIgNTMzNiA1MzM3CjgxLDkgMzMgMTIgMTM4NCAxIDEzODMgMCAxMSA3IDE4OQo4MiwxNDkgMTEgNTQgMCAxNzggMTM4MyAxOTQgMTM4NSAxNSAxNDcKODMsMCA5IDE0OSAxMiA1IDExIDggMTQgNjEgNTQKODQsMjU3OSAyNTkyIDQ4MTIgNDgxMyA0ODE1IDI1ODcgMjU4OCA0ODA1IDQ4MDYgNDgwNwo4NSwyNTczIDQ4MDYgMjU1MiAyNTc0IDI1OTEgNDgwNyA0ODA4IDQ4MDkgNDgxMyA0ODE1Cjg2LDkgMTEgMTIgMTQ5IDEzODQgMTM5NSAxNSAxNDcgNiA1NAo4Nyw5IDU0IDMzIDAgMTc5IDE4OSAxOTQgMTA1IDExIDQ5Cjg4LDE0OSA1NCAzIDYxIDExIDMzIDM4IDUyIDEzODUgMQo4OSw5IDM3IDE5MiAxNzggMTg4IDE5NiAyOSA1NiA2OSAxMzg2CjkwLDExIDEyIDE0OSA1MiA1NCAzIDI2IDE4NCAyMDcgNDkKOTEsMCAzIDEyIDUgMTc5IDU0IDE5MiAxOSAxNDcgMTYKOTIsMjk1NiA0NjQ0IDQ2NDggNDY1MCA0NjUyIDQ2NjIgMzkxOSAxMSA0NjQyIDQ2NDMKOTMsMCA1MzY2IDkgMTEgNTM0MCA1MzQ5IDUzNjEgNTM2NSAyNjk2IDUzNjkKOTQsOSAwIDExIDEyIDIxODYgMjYgNTM1NyA1MzYyIDUzNjQgMwo5NSw5IDAgMjcyOCAxMSAxNDkgNTM0NiA1NCAyNiAyNjk4IDI2MDQKOTYsMTk3MyA1MjAxIDUyMDMgNTIwNCA1MjA2IDUyMDkgNTIxMCA1MjEyIDUyMTcgNTIxOAo5NywxMSAxMiAxIDUgOCA0OSA3MCAyIDE1IDE5Cjk4LDMxOTIgMzE0OCAzMTYzIDMxNjkgMzE3MCAzMTc5IDMxODkgMzE5NCAzMTg1IDMxNDQKOTksMTEgMTc5MiAyOTU2IDQ2NDQgNDY0OSA0NjUyIDQ2NTMgNDY1OCA0NjU5IDQ2NjEKMTAwLDkgMjk2NiAyOTY3IDI3NTAgMjk4NCAyOTUzIDI5NzQgMjk4OCAyMDAzIDI5NTIKMTAxLDE0OSAxMiA1NCA5IDE4NCAyNiAxMSAzNyAxOTQgMAoxMDIsOSAxNzkgNDkgNDIzMCAxMSA1MDIyIDQ0MTMgNDMwNCA0MzQzIDQ0NzYKMTAzLDQ4NjggNDg3MSA0ODgxIDQ5MzYgNDk2NiA0OTcyIDUyMjkgNDg1NiA0OTg5IDUwMDkKMTA0LDQ4MTUgMjUyNiA0ODA3IDQ4MDggNDgxMCA0ODE2IDIyNTkgMjUxNSAyNTIyIDI1NzkKMTA1LDI0ODYgMjQ4OSAyNDk1IDI1MDAgMjUwNSAyNTA2IDkgMjQ4MSAyNDg0IDI0ODcKMTA2LDQ4MDggNDgxMSA0ODEyIDQ4MTUgMjU3OSA0ODA1IDQ4MTAgNDgxNCAyMjU5IDI1MTUKMTA3LDkgNTIgMTEgMTQ5IDEyIDAgMjYgNCAyNjYgMTcKMTA4LDI1OTYgMjU5NyAyNTk4IDI1OTkgNTU5IDU2NSA1NzQgNTkwIDYxMyA2NTQKMTA5LDMgNTIgMCA0IDE0OSA2NiA5IDExIDYxIDQ5CjExMCwxMDMwIDMxNDMgMTY3OCA3MTIgODAxIDUyNSA2NTggNzE2IDc1NyA3NjAKMTExLDkgMSAxMiAxNzkgMTQ5IDE3OCAyOSAxOTIgMTM4NiAxMTkKMTEyLDI5NzYgMjk2NCAyOTUxIDI5NjkgOSAxMSAyOTkzIDI5NTYgMjk1NyAyOTYzCjExMyw5IDAgMTIgMTQ5IDYxIDE3OSA1MiAxMSAxNSAxOTQKMTE0LDkgMzMgMjYgMTc5IDUgMTEgMTIgMzIgNTIgNTQKMTE1LDUwMjEgNDIxOCA0Mjc5IDQzODAgNTAyMiA0MzI1IDQzNDMgNDIzNiA0MzE4IDQyMzUKMTE2LDEyIDkgMiAxMSAxNzggMTk2IDI5IDE0OSAyMyAxOTQKMTE3LDAgNSA5IDEyIDUzNzEgMTEgNTM3MCA1MzQ5IDUzNjEgNTM1OAoxMTgsMTEgOSA0IDEyIDUyIDIgMTQ5IDMgMTg5IDQ2CjExOSwxMTM0IDExMzYgMTEzOCAxMTUxIDExNTMgMTE1NCAxMTU5IDExNjggMTE3MyAxMTc1CjEyMCwwIDkgMTc4IDM3IDU0IDYgMjkgNDkgMTYwNCAxOTkwCjEyMSw5IDAgNSA1NCAxMSAxNzggMTQ5IDE5MiA2NiAyNgoxMjIsMTEgOSAxNDkgMTIgMTc5IDE5NCAyNiAzMyAwIDE2CjEyMyw0NjQ0IDQ2NDUgNDY1NCA0NjU2IDQ2NTcgNDY2MyA0NjY0IDI5NTYgMTY4MCAyNzA5CjEyNCwyNTk2IDI1OTcgMjU5OCAyNTk5IDU1OSA1OTAgNjEzIDY0MiA2NTUgNjYxCjEyNSw5IDEyIDExIDAgMTQ5IDE1MjEgMjIgMjQgMTM4NyAzNDY3CjEyNiw1MDIyIDQyNTYgNDI2NSA0Mjc5IDQ0MTMgNDIzNiA1MDIzIDQyNjEgNDI4MiA0NDQ2CjEyNyw5IDE0OSAyNiAxOTQgMjkgMTc4IDAgNCAxNSAyMwoxMjgsOSA1IDUzNDQgNTM1NCAxMSA1MjI3IDE2IDUzNTEgNTM1MiA1MzY4CjEyOSwxNTM3IDIwNTkgMjExMyAyMTE4IDIxMjAgMjE0MCAxNjI5IDE3MDEgMjIzNyAyMjM4CjEzMCwwIDExIDE0OSA4IDEyIDkgMzMgMTc4IDUyIDU0CjEzMSw4IDAgMTIgMTk0IDEgMTEgMTM4NiA1MjI3IDEzOTUgNQoxMzIsMTAzMCAxNjc4IDgwMSAzMTQyIDMxNDMgNjExIDUyNSA3MTYgNzU3IDc2MAoxMzMsNTAwOSA0ODU2IDQ5MzYgNDA1NCA0OTU1IDQ4MzYgNDk2NiA0OTY4IDQ4NzEgNDg5MAoxMzQsOSAxMSAyOTY0IDI1OTUgMjk5NiAyNzUwIDE0OSAyOTY3IDI5NzQgMjk4NgoxMzUsMzE1NyAzMTgyIDMxODMgMzE0NSAzMTU5IDMxNjMgMzE3MCAzMTcxIDMxNzQgMzE4MQoxMzYsOSAxNDkgMjkyMiA1MzY5IDAgNTQgNTIwNSA1MzQxIDUzNTIgNTM1NAoxMzcsOSAxMSAwIDE0OSAxODQgMSAyIDQgMjYgMzMKMTM4LDkgNTM1MCA1MzUzIDUzNjggMTEgNTM2NyA1MzQwIDUzNDQgMTc4IDUyMDUKMTM5LDMzMzUgNDY0MyA0NjQ1IDQ2NTAgNDY1NyAyOTU2IDQ2NDIgNDY0NiA0NjQ3IDQ2NTUKMTQwLDQ4OTkgNDkwOSA0OTE5IDQ4MTcgNDgxOCA0OTQ1IDQ4MjAgNDgzNCA0ODQ3IDQ4NzgKMTQxLDkgMTEgMSAxMzg3IDMzIDE3OCAxNzkgNzkgMjYgMjkKMTQyLDMxNDkgMzE1NyAzMTYyIDMxNjUgMzE3MiAzMTg0IDMxODYgMzE4NyAzMTg4IDMxOTMKMTQzLDkgMCAxMSA1NCA3IDE0OSAyNiA2MyA2NiAzMQoxNDQsOSAwIDEyIDE3OCAxOTIgNSAxIDE1IDUwIDE3OQoxNDUsMTUzNyAyMDgxIDE2MDEgMjExOCAyMTIwIDE2MjYgMjE0MCAyMTYyIDE3MDEgMjIzNwoxNDYsOSAyMjg5IDE0OSA1MjgyIDUzNDEgNTM0MyA1MzU1IDI1MTcgMjUzNSAyNTQzCjE0NywwIDExIDkgMTQ5IDEyIDExMzMgNDkgMiAzIDUyCjE0OCw5IDE0NyAxMiAzIDE0OSA2NiAyMiAxMjQgMjEgODYKMTQ5LDkgMTEgNTQgMCAxMiA1MiAxIDE3OCAxNDM1IDEzODMKMTUwLDkgMTc5IDExIDU0IDAgNTM0MiA1MzQ2IDUzNjQgNCA3CjE1MSwyMDc3IDUxNjkgNTIwMSA1MjAyIDUyMDMgNTIwNCA1MjA2IDUyMTAgNTIxMyA1MjE3CjE1Miw1NDEgNTU1IDk1OSAxMTIyIDE0OSAxOTQgMyAxNTQgMTk4IDI3NQoxNTMsMCAxMiA5IDExIDE0NjIgMTQ2NCAxNTM2IDE1OTkgMTYxMSAxNjI4CjE1NCwyNTk2IDI1OTcgMjU5OCAyNTk5IDU2MSA1OTAgNjEzIDYyMiA2MjMgNjU0CjE1NSwyNTk2IDI1OTcgMjU5OCAyNTk5IDU1OSA1NjUgNTc0IDU5MCA2NDIgNjU1CjE1Niw5IDE3OCAxMCAxNzkgNSAxMSAxNDcgMjMgNTQgMjU0NAoxNTcsMCAxNDkgOSAxMiAzIDI5IDEzOTUgMTEgMjYgMTk1CjE1OCwxMDMwIDgwMSAzMTQyIDMxNDMgMTAxMiA3MTIgNjA2IDQ5OSA5IDAKMTU5LDExIDQyNDIgMjY4MCA1MzU2IDI3OTkgNTM1MyA1MjI3IDUzNTkgNTM2MSA1MzQ2CjE2MCwyNTc4IDI1MTkgMjUyMCAyNTI5IDQ4NTQgMjU1MyAyNTI1IDExIDU0IDI1MzgKMTYxLDMxNDcgMzE3NiAzMTgwIDMxNDUgMzE0OCAzMTYyIDMxNjUgMzE2OCAzMTcyIDMxNzMKMTYyLDkgMCAyMTgxIDE0OSAyMjE5IDIxOTggMTIgMjE5MyAyMjA5IDIxNzgKMTYzLDExIDAgMTIgOSA3IDI2IDE0OSAxNzggMTk0IDE0NwoxNjQsNTQ3IDI1OTYgMjU5NyAyNTk4IDU1OSA1NzQgNTgwIDU4MyA1OTAgNjEzCjE2NSwxMSAwIDkgMTIgMTQ5IDMzIDI2IDUyIDMgMjYwCjE2NiwxMDMwIDE2NzggODAxIDMxNDIgMzE0MyA1MjUgNDE4IDYxMSA3NjAgNzEyCjE2NywxMSAzNDcwIDUzNTAgNTM2NSA1MzUzIDEyIDUzNDEgNTM1MSAzMyAyNzI4CjE2OCwwIDkgMTEgMTQ5IDQyNyAxODMgMjMgNjYgMjU4NCA1MgoxNjksOSA0MzkwIDUzNjQgMTQ5IDUzNDYgMCAzNDcwIDUzNTEgNTM1OCA1MzYwCjE3MCw5IDUzMzkgMTQ5IDU0IDUzNDMgNTM0NCA1MzQ4IDUzNTQgNTM2NCA1MzcxCjE3MSwwIDExIDE3OCAxIDEyIDE5NCA1IDE4OSAxOSAxODEKMTcyLDkgNTQgMTIgMTEgMTc4IDE0OSAwIDIgMyA4CjE3Myw5IDEyIDU0IDAgMTEgMjkgMTk0IDIyIDUyIDY2CjE3NCw5IDExIDEyIDE0OSA1MiAyIDI5IDE2MCAxNzkgNDgwNgoxNzUsNDgxNCA0ODE1IDQ4MDYgNDgwOSA0ODExIDQ4MTMgNDgxNiAyNTczIDI1NzQgMjU4OQoxNzYsMCA5IDExIDEyIDEgMTQ5IDMzIDEzODMgOCAxODgKMTc3LDIwNzggMTk1MSAxNTgwIDE5NjUgMTkxOSAxNjEyIDIwMDMgMjEzNiAyMDE3IDUyMTkKMTc4LDI5NzQgMjk1NSAyOTY4IDI5ODYgMjIyMSAyOTkxIDU0IDE0NzIgMjk2MyAxNzgKMTc5LDkgMTIgMTEgMTk2IDAgNTQgMTM4OCA4IDE0OSAxMzg0CjE4MCw5IDExIDE3OCAwIDI5IDUgMTYgNjYgMTQ5IDEzODUKMTgxLDkgNDMxOCA0MzI2IDExIDQyNDEgNDMwNCA0MjU5IDEgNDIzNiAxNDkKMTgyLDEyIDE5MiA5IDExIDE4MCAwIDMzIDE0NyA3OSA4MgoxODMsMjU5NiAyNTk3IDI1OTggMjU5OSA1NTkgNTY1IDU5MCA2MTMgNjIzIDY0MgoxODQsMTUzNyAxNTk2IDIxMTAgMjExMSAyMTE4IDIxMjAgMTYyNiAyMTQwIDE2MjkgMjE2MgoxODUsMTEgMjY2IDkgNTQ3IDI1OTYgMjU5NyAyNTk4IDI1OTkgNTU5IDU2NQoxODYsMTQ5IDkgMCAyMSAzMyA2NiA4MiAxNDcgMTkgMjMKMTg3LDI1OTYgMjU5NyAyNTk4IDI1OTkgNTU5IDU2NSA1OTAgNjU0IDY2MSA2NjQKMTg4LDQyNzkgNDM3NSA0MjY1IDQzMDQgNDIzNSA1MDIyIDUwMjMgNDQxMyA0Mjg4IDQzMDEKMTg5LDEzODkgMTUzNyAyMDgxIDIxMTAgMTYwMSAxNjI2IDIxNDAgMjE1MyAyMTY5IDE2NjQKMTkwLDkgMCAxNDkgNCA1IDE4MCAxMiAyNiAxIDExCjE5MSw5IDAgMTQ5IDU0IDI2IDU2IDE5NiAyIDUyMCAzNDA3CjE5MiwxMTM0IDExMzggMTE0MSAxMTQ0IDExNDcgMTE1MSAxMTUzIDExNTQgMTE1NSAxMTU5CjE5Myw0MjM2IDQyMzUgNDI1NCA0Mjc1IDQyODIgNDMyMyA0NDY1IDQzNDMgNDIxOCA1MDIxCjE5NCw0ODEwIDI1ODggNDgwNiA0ODA3IDQ4MDggNDgxMSA0ODEyIDQ4MTUgNDgxNiAyNTIyCjE5NSw0ODk5IDQ5MDIgNDkwOSA0OTE5IDQ4MTcgNDgyNyA0ODM0IDQ4NDcgNDg2MCA0ODc5CjE5NiwxNjc4IDY1OCA4MDEgMzE0MiAzMTQzIDcxMiAxMDEyIDEwMzAgNzE2IDYxMQoxOTcsOSAxNDkgMzE0NCAzMTQ4IDMxNjMgMzE3MyAzMTc2IDMxNzggMzE4MiAzMTg0CjE5OCw0NDEzIDQyMTcgNDIzMCA0MjM1IDUwMjEgNDI3OSA0MjgzIDUwMjIgNDI1NCA0MjU5CjE5OSw1MzU0IDUzMzcgNTM0MyA5IDE0OSA1MzQyIDUzNTYgNTM2MCA1MzY2IDExCjIwMCwxMSA5IDAgMTc5IDE5NiAxNSAxNyA2NiA3IDMxCjIwMSwyNTgxIDQ4MDYgNDgwNyA0ODA4IDQ4MTMgNDgxNiA0ODA1IDQ4MTAgNDgxNSAyMjU5CjIwMiw5IDEyIDUzNjQgNTM3MCA1MzY2IDE5NCAwIDUzNDMgNTM0NCA1MzU3CjIwMywzMTU2IDMxNjIgMzE2OSAzMTk1IDMxNTkgMzE2NCAzMTgyIDMxOTEgMzE5MyA5CjIwNCwxNDkgOSA1NCA0IDI2IDI5IDM3IDUyIDg2IDEyCjIwNSw0MzEwIDQyNTkgNDQxMyA0Mjc5IDUwMjIgNTAyNCA0MzE4IDQzNDMgNDIzNiA0MjY1CjIwNiwxMSA5IDUyIDE3OSAxMzgzIDE1IDE3OCAwIDE0OSAyNgoyMDcsMTQ5IDE3OCAxNzkgNiA5IDI2IDQ4MTUgMTM4NSAwIDExCjIwOCwxNDkgNTM3MCA5IDI5IDUzMzggNTM1MyAwIDI5NTAgMTggMzMKMjA5LDkgMTEgNTIgMTIgMTQ5IDQ4OTEgNDEzMyA0MTM1IDE3OCA0MTM3CjIxMCwxMSA5IDEgMTQzNSAyOTk0IDE3OCAwIDI5NTYgMjk3NiAyNTk1CjIxMSw2NiAyNTY5IDI1ODkgNDgwNiA0ODA3IDQ4MDggNDgxMCA0ODEyIDQ4MTQgMjUzMAoyMTIsMTEgMSAxMCAxNSAxNzggNTQgMTQ5IDIxIDM3IDkKMjEzLDkgNCA1MiAxMiAxNzggMTc5IDY2IDU0IDUzMzggMjY3NwoyMTQsOSAwIDExIDE0OSAxOTQgMTIgNTIgNTQgMTM4MyAxODEKMjE1LDkgNTQgMCA2NiAxNDkgMTYgMzMgMTIgMjYgNAoyMTYsMjU5NiAyNTk3IDI1OTggMjU5OSA1ODAgNTkwIDYxMyA2MjMgNjQ3IDY1NAoyMTcsMTEgMjk3OSAyOTUyIDI5NTYgMjk3MSAyOTc0IDI5NjcgMjk5NCAyOTU3IDI5NzIKMjE4LDE0OSA5IDExIDU0IDEgNSA1MiAxNzggMTUgMTQ3CjIxOSw5IDQyNzUgNDQ3NiA1MDIyIDQ0MTAgNDMxOCA0MjE5IDAgNDIzNSA0MjQ4CjIyMCw5IDAgNDY0OCA0NjUwIDQ2NTMgNDY1NiA0NjU3IDQ2NjEgNDY2NSAzNTU2CjIyMSwwIDE0OSA5IDE3OSA2NiA0IDUgMjg0NCA1MjgyIDQ5CjIyMiwwIDkgNCAxMSA1NCAxNDkgMyAxOTIgMSA1NDEKMjIzLDU0NyAyNTk2IDI1OTggMjU5OSA1NjEgNTY1IDU3NCA1OTAgNjEzIDYyMgoyMjQsOSA1NCAxMSAwIDE1IDE3OSAxIDIgNTYgMTM4NwoyMjUsOSAxMiA1MzcwIDMgMTQ5IDUzMzkgMTEgMCA0MzkwIDUzNDEKMjI2LDAgMTEgMiAxMiAxNzggNTQgNzAgMTQ5IDUyIDQ5MjIKMjI3LDMyMTcgMjA3NyA1MjAxIDUyMDIgNTIwMyA1MjA2IDUyMDkgNTIxMCA1MjEyIDUyMTMKMjI4LDkgMTQ5IDUyMDUgNTMzNyA1MzQ0IDUzNjIgMTEgNTMzOSA1MzQxIDUzNDIKMjI5LDkgMTEgMjk2NSAyOTc3IDI5ODUgMjk5MCAyOTk0IDI5NTcgMjk4NiAyMTk2CjIzMCwxMiA5IDE0OSAxMSA1NCAxNzggMCAxOSA4IDE5NAoyMzEsOSA1MzUzIDUyMjcgNTMzOSA1MzUyIDUzNzEgNTMzNiAxMSA1MzU4IDUzNjEKMjMyLDkgMTEgMjYgMTQ5IDU0IDAgMTQ3IDI5IDMzIDEyCjIzMyw0ODA4IDQ4MTAgNDgxMiA0ODA1IDQ4MTYgMjUzNCAyNTUyIDI1NTQgMjU2OSA0ODA2CjIzNCwzMTQ1IDMxNDYgMzE0OSAzMTU4IDMxNjggMzE2OSAzMTc0IDMxNzkgMzE4NCAzMTkwCjIzNSwzMTQyIDcxMiAzMTQzIDcxNiA2MjIgNzYwIDEwMTIgNTI1IDE2NzggNTI3CjIzNiw1NCAwIDMgMTIgNDg5MSAxNzggNDE0OSA0MTY1IDQxODggMTEKMjM3LDkgNTIyNyA1MzM2IDUzNDMgMCAxMSA0MzkwIDUzMzggMjY4MiA1MzQwCjIzOCw1NCAxMSA1MzQzIDUzNjAgNTM2MiAyNjk5IDI4NzcgNTMzNSA1MzcxIDkKMjM5LDkgNTQgMCAxNzggMSAxMiAyNiAxNiAxNDcgMTkyCjI0MCw0ODA3IDQ4MTEgNDgxNiAyNTEzIDI1MjEgOSA0ODA2IDQ4MDggNDgwOSA0ODEwCjI0MSwzMTY5IDMxNzMgMzE0OSAzMTY0IDMxNzEgMzE3MiAzMTc0IDMxNzggMzE4MCAzMTQ0CjI0Miw5IDUyIDU0IDAgMTQ5IDEyIDEgMiAxMSAxNjAKMjQzLDQ4MDUgNDgwNyA0ODEwIDQ4MTEgNDgxMiA0ODE1IDQ4MTYgMjU4NCAyNTg5IDI1OTMKMjQ0LDUxNyAyNTk2IDI1OTcgMjU5OCAyNTk5IDU3NCA1ODAgNjIzIDY2MSA2NjQKMjQ1LDkgMTEgMTUgNTQgMCAxMiAxNyA0OSA2NiAxCjI0NiwzMTg0IDMxODUgMzE0NiAzMTUyIDMxNzQgMzE3NyAzMTgwIDMxODEgMzE4MyAzMTkxCjI0Nyw5IDMgMTIgMTQ5IDMzIDE5IDQ5IDEzODMgMSAzNQoyNDgsNTQgMTEgMCAzIDkgMTIgMTQ5IDI2IDEzOTUgMjEKMjQ5LDMxODggMzE1NyAzMTcyIDMxODAgMzE5MyAzMTk0IDMxNzEgMzE0NSAzMTQ2IDMxNTYKMjUwLDMxNjUgMzE4MiAzMTQ2IDMxNDcgMzE2OSAzMTkwIDMxOTUgMzE1NSAzMTU2IDMxNjMKMjUxLDkgMTQ5IDExIDIgMCA0IDUyIDEyIDgyIDI1MzQKMjUyLDQ2NDMgNDY0NCA0NjQ1IDQ2NTcgMzMzNSAzNTE0IDQ2NDcgNDY0OSA0NjU0IDQ2NTUKMjUzLDk1OSAxOTggMTEyMiA2MjkgMTEgMTQ5IDMgOSA1NDEgMzMKMjU0LDQyMzYgNTAyMiA0NDEzIDQzMDggNDIxOSA0NDc2IDQyMzUgNDI3OSA1MDIxIDQyNzUKMjU1LDkgMzIzNyAzMjQ5IDMyNTEgMTEgMCAzMjM2IDMyMzkgMzI0MiAzMjQ3CjI1NiwyNTE5IDI1MjkgMjUzMiA0ODU0IDI1NTUgMjUyNSAyNTM4IDI1NzYgMjU1NyA5CjI1Nyw5IDExIDU0IDE5NCAzIDAgMTIgMTc5IDIgMzMKMjU4LDkgMCA1NCAxMiAxNDkgMTQ3IDEgMTEgMjYgMjkKMjU5LDQ4MDUgNDgwNiA0ODA4IDI1ODggNDgwOSA0ODExIDQ4MTIgNDgxNSA0ODE2IDI1MTcKMjYwLDMxNDUgMzE0OCAzMTU2IDMxNTcgMzE1OCAzMTYzIDMxNjUgMzE4NCAzMTg4IDMxNTUKMjYxLDAgMTQ5IDI1MzggMTEgNTIgMjUxNCAyNTE2IDI1MTkgMjUyMCAyNTI5CjI2Miw0ODA2IDQ4MDcgNDgxMCA0ODEyIDQ4MTUgMjU3OSAyNTg0IDI1ODcgNDgwOCAyNTM3CjI2Myw0NjUwIDQ2NTQgNDY2MCA0NjU1IDQ2NTggNDY2NCAxMSA0NjQzIDQ2NDkgNDY2MgoyNjQsMTQ5IDUzNzAgMiA1Mzc4IDUzNzkgNTM4MCA1MzgxIDUzODIgNTM4MyAzNDcwCjI2NSwwIDkgMTUgMjYgNTYgNCAxMiAzMyA1NCAxOTQKMjY2LDkgMTIgMSAxNzggMTM4MyAxODAgMjEyMyAzMjE1IDMyMTcgMTQ5CjI2Nyw0ODA1IDQ4MDggNDgxMCA0ODE2IDI1NjkgMjU4MSAyNTg4IDI1ODkgMjU5MyAyMjEyCjI2OCw1NCA5IDEyIDExIDE3OCA1IDcgMTUgMTkyIDc1NwoyNjksOSAzMTkyIDMxOTUgMTQ5IDEzODQgMyAzMTQ1IDMxNTYgMzE2NCAzMTY3CjI3MCw5IDAgNTMzOCA1MzQzIDUzNTggNTM3MCA1MzY2IDExIDUyMDUgNTM0MAoyNzEsOSA1NCA0IDUyIDAgMTg2IDUgMTYgMTQ5IDMzCjI3MiwwIDkgNTQgMTEgNCAyNiAzNyAxODggMTIgMQoyNzMsMTEgOSAyNiAyNTI2IDEyIDUyIDI1OTEgMTc5IDAgMTc4CjI3NCw1NTUgOTU5IDU0MSA5IDE1NCAxOTQgMjc1IDU0IDAgMjYKMjc1LDAgOSAyNTc5IDQ4MDUgNDgwNyA0ODE0IDI1MjQgMjU0MiAxNzkgMjU1OAoyNzYsNTM2OSA1MzQ5IDAgNTM1NSA1MzQwIDIxIDUzMzYgNTM0MyA1MzQ4IDUzNTEKMjc3LDMzMzUgNDY0MSA0NjQ4IDQ2NTIgNDY1NyA0NjY1IDE1MDAgNDY2MiA0NjQzIDQ2NDcKMjc4LDE2NzggMzE0MiAzMTQzIDYxMSAxMDEyIDc2MCA0MDYgODAxIDcxMiA2MjIKMjc5LDkgMTEgNCAxMiAwIDE4MyAxMzgzIDI2IDU0IDE0NwoyODAsMjU5NiAyNTk3IDI1OTggMjU5OSA1NjUgNTc3IDU4MCA1ODMgNTkwIDYyMgoyODEsMCA1MzYxIDUzNjYgNTIwNSA1MzY1IDkgMjgwOCA1MzU2IDIgNAoyODIsOSAwIDExIDQgOCAxNzggNTQgMTkyIDIxNCA0OQoyODMsMCA5IDExIDE0OSA0IDU0IDUzNDIgNTM1MiA1MjI3IDUzNjEKMjg0LDkgMTIgMTc4IDExIDE0OSAwIDEgMzMgMjAwIDEzODMKMjg1LDkgNTM1MyA1MzUyIDUzNTQgNTMzNiAwIDUzNjIgMTIgNTMzOSA1MzQwCjI4Niw5IDAgNDkyMiAyNTQ4IDU0IDE0OSAxNzggMTQ3IDI5IDE3OQoyODcsNDY0NCA0NjYyIDMzMDggNDY1MiA0NjUwIDQ2NTEgNDY1NyA0NjU4IDQ2NjAgNDY2NQoyODgsMCAxMiAxNzggNjYgNTQgMTM4NCAxMSAxNDkgMzMgNjkyCjI4OSw5IDExIDE0OSAxOTQgMzMgMTY3MyA1IDEzODYgMTUgMjMKMjkwLDAgMTEgMTQ5IDU0IDEzODQgOSAxMiA3MDQgMTk0IDIzCjI5MSw5IDAgMjE4MSAyMTk0IDIyMDUgMjIxMyAyMTkzIDU0IDIyMjUgMjE5OQoyOTIsOSAwIDExIDUyIDE0OSA1NCAzNDgwIDI3MTQgMjkgNQoyOTMsMTEgNCAxNDkgMTIgOSA2NiA1MiAxIDE0NyA2MwoyOTQsOSAxNDkgNTIwNSA1MzYwIDUzMzggNTM2MiA1MzY0IDUzNTAgNTM2MSAxMQoyOTUsMzE4MyAzMTQ5IDMxNTggMzE2NiAzMTczIDMxNzQgMzE3OSAzMTgyIDMxOTYgMzE5MwoyOTYsMTEgMTIgMCAxNzkgMyA5IDQgMTcgMTggMTkKMjk3LDU0IDAgNTE3IDI1OTYgMjU5NyAyNTk4IDI1OTkgNTY1IDU3NCA1NzcKMjk4LDQ4NjggNTAwOSAzODY4IDQ5MzYgNDA1NCA0OTY1IDUyMjkgMzMxNiA0ODcxIDUwMDYKMjk5LDkgNDQxMyA0MjQ4IDQyMTggNDI1NiA0Mjc5IDQzMTggNTAyMSA1MDIyIDUwMjMKMzAwLDkgMyAxIDE0OSAzNSAxMjkgOCAzNyAxNzkgMTYKMzAxLDI1OTYgMjU5NyAyNTk4IDU2NSA1NzQgNjIzIDY0NyA2NTQgNjYxIDY3NQozMDIsMTIgMCA1NCA0IDE0OSAxOTQgNSAxMSAxNjAgNjEKMzAzLDMxNDIgMzE0MyA3MTYgMTAxMiA1MjcgNzEyIDUyNSA2NTggNDI3IDYxMQozMDQsMCA1IDU0IDQgMjk4MCAxNzggNyA5IDE0OSAxODI2CjMwNSw0OTM2IDUwMDYgNDg5MCAyMjM4IDQ4MzYgNDk2MyA0ODQxIDQ5NjYgNTIyOSAzMzE1CjMwNiw5IDAgNTQgMTEgMTQ3IDIxIDE3OSAxMiA2MyA3NgozMDcsMTIgNTQgMTA1IDAgNCAxOTQgMTc4IDE0OSAyNiAzMwozMDgsOSA1MzQxIDUzNjQgNTIwNSAyODkxIDUzMzYgNTM2OSA1MzcwIDAgNTM1MgozMDksOSAwIDEyIDExIDU0IDI5IDE0OSAxMzg1IDUgNDQKMzEwLDExIDkgMzMgMTIgMTQ5IDI2IDI5IDE5NiAyMSAxNzkKMzExLDkgMTEgMTQ5IDQgMjYgNTQgMTIgMTM4MyAzMyA0OQozMTIsMCAxMiAxNDkgOSAxOTIgMTk1IDgxIDEzODQgNCAxOTQKMzEzLDkgMCAxMiA1MzY5IDUzNDcgNTM3MSAxNDcgMTc5IDQyMjYgMTEKMzE0LDUzNDEgMTIgOSAxMSA1MzY0IDUzNzAgNTM0NyA1MzUzIDUzNjIgNTQKMzE1LDQyODMgNDMxOCA1MDIyIDUwMjMgNDI1NiA0MjU0IDQyMTggOSA0MjQxIDQyNTEKMzE2LDkgMTEgMCAxNDkgMjk2NiA0ODkxIDQxMzcgNTQgNDE2NSAxNzgKMzE3LDAgOSA1NCAxNDkgMTEgMTM4NSAyOTY2IDQ4OTEgNDEzMSA0MTg4CjMxOCwxMSAxNDkgMCAyNTc4IDI1MTkgMjUyMCAyNTI5IDI1MzIgMjUzOCA0ODU0CjMxOSwwIDkgMTEgMyA1MiA2MDEgNCA1IDggMTIKMzIwLDkgMTEgMTIgMCAxNDkgMzcgMTc4IDU0IDggNgozMjEsNDg3OSA0OTAyIDQ5MDkgNDkxOSA0ODE3IDQ5NDUgNDgyMCA0ODM0IDQ4NDcgNDg0OAozMjIsOSA0MTg4IDQxNTAgNTQgNDEzNyA1MjMwIDI5NjYgNDEzMSA0MTMzIDQxNDIKMzIzLDkgMjU4NiAyNTg3IDQ4MDUgNDgwOCA0ODEwIDQ4MTYgMjUxNSAyNTIyIDI1NTQKMzI0LDkgMCAxMSAxNDkgNTM0MCA1MjI3IDUzNjAgNTM1NyA1MzY3IDUzNTAKMzI1LDQ4MDUgNDgwNiA0ODA4IDQ4MTMgNDgxNSAyNTIxIDI1NzkgMjU4OSA0ODEwIDQ4MTIKMzI2LDkgMTIgMCAxMSAxNzggNzAgMTQ5IDI2IDQgNDkKMzI3LDkgNTI4MiA1MzQzIDUzMzUgNTM3MCA0MzkwIDUzMzYgNTMzOSA1MjI3IDUzNjEKMzI4LDExIDMgOSAzMyAxNzkgMTIgMTQ5IDI3IDU0IDQKMzI5LDkgMTEgMzQ3NyAzNDgwIDAgMTIgMzMgMSAzNDgyIDI2CjMzMCw5IDAgNTQgMjYgMTEgMTQ5IDQgMjkgNzAgMzMKMzMxLDAgMTIgNCA5IDEzODQgMTEgNDkgMjYgMTgwIDY2CjMzMiw0ODA2IDQ4MTIgNDgxMyAyMjU5IDQ4MTYgNDgwOCA0ODExIDQ4MTUgMjUyNiAyNTI4CjMzMywxNTM3IDIwNTkgMjExMCAyMTExIDIxMTggMjEyMCAxNjI5IDIxNDAgMjE2MiAyMTY5CjMzNCwzMTQ1IDMxODYgMzE0NyAzMTU2IDMxNTggMzE2MiAzMTcxIDMxODkgMzE5MyAzMTk0CjMzNSw0MTUwIDI5NjYgNDE0MyA1NCA5IDQ4OTEgNDEzNyA0MTMxIDQxNTggNTIzMAozMzYsOSAwIDE0OSA1NCA0IDExIDUyIDE4NCAxODMgMTcKMzM3LDE0OSA5IDUzNDMgNTM1MSA1MzUyIDUzNjAgNDI0MiA1MzQyIDUyMjcgNTM1NwozMzgsOSAxMSAwIDE3OCAzMTY5IDMxOTEgNCAxOTYgNiA3CjMzOSwxMSAxNzggMCAxNDkgNTQgMjA3IDYgMjggMTk2IDEKMzQwLDExIDM0NzAgMjg0NCA1MjgyIDUzMzkgNTM1NyAyNjA0IDUzNDUgNTM2MCA1MzYxCjM0MSwyNTk3IDI1OTggMjU5OSA1NTkgNTkwIDYxMyA2NTQgNjU1IDY2MSA2OTEKMzQyLDkgNDgxNCA0ODA3IDQ4MTIgNDgxNiAyNTczIDI1ODQgNDgxNSA0ODA2IDQ4MDgKMzQzLDkgMTIgNTMzOSA1MzYxIDUzNzEgMCAxNDkgNTM0MiA1MzUzIDUzNTQKMzQ0LDAgMTQ5IDQgMTUgMTM4MyAxMSAxMiAyIDE3OSAxODcKMzQ1LDUzNzAgOSA1MjA1IDUzNjcgMzQ4MCA1MzU2IDUzNTggNTM2MiA1NCAwCjM0Niw1MzYxIDkgNTM0OSA1MzY1IDExIDQ4NjYgNTAwOSA0ODkwIDQ5MTcgNDkyNAozNDcsNDg3OCA0ODc5IDQ4OTkgNDkwMiA0OTA5IDQ5MTkgNDgxNyA0ODIwIDQ4MzEgNDk1OQozNDgsNDY0MiA0NjQ2IDQ2NDcgNDY1NCA0NjYwIDQ2NjEgNDY2MyAzMzI2IDMzMzUgNDY0MQozNDksMCAyOTUwIDUzNTggNTM2NSAyODQ0IDUzNjIgNDIyNiAyNzkwIDUzNDkgNTM1MQozNTAsMCAxMSAxNzggNTQgMTk0IDkgMjY2IDMyMCAxMyAyMQozNTEsOSA1NCAwIDMgMTYgMTEgMTIgNDg5OSA0IDE0OQozNTIsMzE2MiAzMTkzIDMxNTcgMzE3MCAzMTc3IDMxODAgMzE4MSAzMTQ4IDMxNDUgMzE0NwozNTMsNDY0MyA0NjQ4IDQ2NTAgNDY0MSA0NjQ1IDQ2NDcgNDY0OSA0NjUyIDQ2NTQgNDY1OQozNTQsMzE1MiAzMTY0IDMxOTEgMzE1NyAzMTU5IDMxNzMgMzE3NSAzMTgwIDMxODUgMzE4NgozNTUsNDY0NSA0NjUwIDQ2NTQgMzU1NiA0NjU3IDQ2NjIgNDY2MyA0NjY0IDQ2NDggNDY1MgozNTYsOSAxMiAxNDkgMCAzIDIxIDY2IDEzOTUgNSA3CjM1Nyw5IDEyIDAgMjYgMTQ5IDEgNTQgNTIgMTk2IDIyMTIKMzU4LDkgMTEgMjYgMTAzMCAxNjc4IDUyNyA4MDEgMzE0MiAzMTQzIDcxMgozNTksNDY1MSA0NjYxIDQ2NDEgNDY0OCA0NjQ5IDQ2NTAgNDY1MiA0NjU0IDQ2NTUgNDY1OAozNjAsOSA0IDExIDE0OSAwIDU0IDEyIDQ5IDE5NCAxNzkKMzYxLDQ2NDIgNDY0MyA0NjQ1IDQ2NDggMzUxNCA0NjQ3IDQ2NTAgNDY1NCA0NjU5IDQ2NjEKMzYyLDE1MzcgMjA1OSAyMDgxIDIxMjAgMjE0MCAxNjI5IDE3MDEgMjIzNyAyMjQxIDIyNDYKMzYzLDExIDAgOSAxMiAxOTQgMTcgMzUgMjYgNTQgMTQyNAozNjQsMzE5NCAzMTU0IDMxNjIgMzE2NCAzMTg0IDMxNDggMzE1NiAzMTY1IDMxODcgMzE2OQozNjUsMSAzIDE3OCA1IDUyMzAgNTQgNDE1MCAxOTQgOSAzMwozNjYsMTIgNTQgMTEgMTQ5IDY5IDI5IDEzODcgMTk0IDAgNQozNjcsMjU3OSAyNTg2IDQ4MDYgNDgwOCA0ODEzIDI1MjggMjU2OSAyNTczIDQ4MDUgNDgxMAozNjgsOSAxODggNTQgMTc4IDUyIDc2IDE0OSAxOTIgMCAxMgozNjksNTE3IDI1OTYgMjU5NyAyNTk4IDI1OTkgNTY1IDU4MCA1OTAgNjEzIDYyMgozNzAsMTEgNTM0MCAxNDkgMCA1MzQ0IDUzMzcgNTM1NCA1MzQzIDUzNTUgMwozNzEsNTAyMSA0NDY1IDQyODIgNDI0MSA0MjUxIDQyODggNDMxMCA0NDc2IDQyMzUgNDIzNgozNzIsMCAyOTUzIDI5NjUgMjk4NCAyOTcxIDI5NzMgOSAyOTc0IDE3MDIgMjk4OAozNzMsMCAxMiA1MiA5IDE0OSAxOTQgNTQgMTkyIDI2IDEzODYKMzc0LDUxNyAyNTk2IDI1OTcgMjU5OCAyNTk5IDU1OSA1NjUgNTkwIDYxMyA2MjIKMzc1LDE0OSA1MiA5IDE3OSAzMyA2NiAxIDMgOCAwCjM3Niw5IDE3OSA1IDExIDU0IDY3IDEzODQgMjk1NyAyOTYwIDI5NzQKMzc3LDI5NzEgMjk4MyAxNjY3IDExIDI5NjAgMjk1MyAyOTY1IDI5NzQgMjc1MCAxNDcyCjM3OCw1NTUgNjI5IDk1OSA1NDEgMCAyNzUgMTEgMTk4IDQgOQozNzksMTEgMjkgOSA1NCAxOTQgMSAyNiA0OSA1MiAxNzkKMzgwLDkgMCAxNDkgMjYgMTc5IDIgNiAxNzggNCA1CjM4MSwxMSA1MzQ5IDUgNTM1OSA1MzYwIDUzNDMgMTc4IDI2ODIgNTM1NCA1MzYzCjM4MiwwIDExIDkgNCAxNDkgMTM4MyAxIDE1IDU0IDY5CjM4Myw5IDExIDU0IDE3OCA3MCAwIDIgMTIgNTIgMTUKMzg0LDQ2NDYgNDY0OSA0NjY1IDQ2NDEgNDY0MiA0NjQ1IDQ2NDcgNDY1MCA0NjU3IDQ2NjEKMzg1LDE1MjEgMTc5MyAzNDY3IDE4MDkgMjA2NyAyMDc0IDE1NjkgMTU3MyAxODI5IDE0NDcKMzg2LDQ4NzggNDg5OSA0OTA5IDQ4MjAgNDk0NSA0ODM0IDQ4NDcgNDg2MCA0OTAyIDQ4MjcKMzg3LDExIDAgMTQ5IDI2IDE3OCA1NCA0IDEyIDE5NCAxNwozODgsMTc5MiA0NjQ4IDQ2NDkgNDY1MCA0NjU3IDI3MDkgNDY1NCA0NjYyIDM5MTkgNDY2NAozODksMTEgMCAyMDQ4IDIwNDMgMTU4MCAyMTE2IDE2MTIgMjEzMiAyMTM2IDUyMTkKMzkwLDExIDkgMjk1MiAyOTg2IDI5NzIgMjk3NSAyOSAyNzUwIDI5ODIgMjk1MwozOTEsNTM1MSA1MzYxIDkgNTMzNiA1MzQxIDAgMTQ5IDI4NzcgNTIyNyA1MzY1CjM5MiwwIDEyIDkgMTk0IDE3OCAxNDkgMTEgMTc5IDMgMjYKMzkzLDMxOTMgMzE3MyAzMTk2IDMxNDUgMzE0NyAzMTYwIDMxNjIgMzE3NiAzMTg1IDMxOTIKMzk0LDEwMzAgMzE0MiAzMTQzIDEwMTIgNzU3IDE2NzggNzE2IDYwNiA2MjIgNTI1CjM5NSw0ODA1IDQ4MDggNDgxMyA0ODE1IDI1NTggMjU3OSAyNTkzIDQ4MDkgNDgxMCA0ODE0CjM5Niw5IDE0OSAyOTcxIDI5ODMgMjk3OSAyOTU3IDE2NjcgMjk5MyAyOTY4IDI5NzQKMzk3LDkgMTEgMjk1OSAyOTYwIDI5NzIgMjk3MyAyOTkxIDIxODMgMTQ5IDI5NzQKMzk4LDkgMzE0OSAzMTcxIDMxODIgMzE4MyAzMTg3IDMxODkgMzE1NiAzMTY4IDMxNzAKMzk5LDkgMjk2MCAyOTg5IDI5ODUgMjk4NiAyMjIxIDI5OTYgMjk1OCAyOTg4IDI5OTMKNDAwLDMxNDcgOSAzMTQ1IDMxNDggMzE1MiAzMTU5IDMxNjEgMzE4MiAzMTg0IDMxODUKNDAxLDQ4OTkgNDgxNyA0ODE4IDQ4MjAgNDk0NSA0OTU5IDQ4NDcgNDg2MCA0ODc4IDQ4NzkKNDAyLDkgMTc4IDAgNiAxMiAxMSAxNSAxOTYgNCAxNzkKNDAzLDExIDAgOSAyNiAxMiAxNDcgMTkyIDE0IDQ5IDEzODMKNDA0LDE1MzcgMjA1OSAyMTEzIDIxMjAgMTYyNiAyMTQwIDE2MjkgMjE1NyAxNjY0IDE3MDEKNDA1LDkgMTEgMTc5IDEwNSAxNDkgMTk0IDY3IDUyIDEzOTUgMTc4CjQwNiw5IDEyIDE5MiAxNzkgMTEgMTYgMTQ5IDI5IDM1IDIxMgo0MDcsOSAxMSAzMyA4NiA1NCA4IDY2IDAgMTQ5IDEyCjQwOCwwIDU0IDI5IDE0OSA5IDUyIDE2IDE5MiAxOTYgODYKNDA5LDkgNTAyMiA0NDEzIDQzMTggNDI0OCA1MDIzIDQyNzkgNDI4OCA0MzEwIDQyNTQKNDEwLDI1NzMgNDgwNyAyNTIxIDI1NzkgNDgwNSA0ODEwIDQ4MTEgNDgxNSAyNTc0IDI1NjkKNDExLDI5IDcgNTQgMTIgMTEgMTkyIDgyIDAgMTM4OSA1CjQxMiwyNTc4IDI1MjAgNDg1NCAyNTUzIDI1NTUgMjUxOSAyNTU3IDI1NzYgOSAyNTE2CjQxMyw5IDE0OSAxMiA4IDU0IDAgMTg4IDIzOSAxNzggMTk0CjQxNCw0ODU2IDUwMDYgMzM1MSA0ODk1IDQ4MTkgNDk2MyA0OTY2IDQ5NzIgNTIyOSA0OTg5CjQxNSw5IDQxNSAxNzggMzk1IDExIDI1NyA3MDkgMjY4IDI1OTYgMjU5Nwo0MTYsNDg3OCA0ODc5IDQ5MDIgNDgxNyA0ODIwIDQ4MjcgNDgzMSA0OTU5IDQ4MzQgNDg0Nwo0MTcsNTQgMTEgOSAxNDkgMiAyMiA1MiA1MzY0IDEyIDU2CjQxOCw5IDExIDUgMTIgMTcgMyAxODMgMjMgMTM5NSAxOTgKNDE5LDIwNzggMTk1MSAxOTY1IDE5MTkgMTYxMiAyMDAzIDIxMzYgMjAxNyA1MjE5IDIxNDkKNDIwLDAgNTM2MSA1MzYyIDUzNTQgOSA1MzM4IDUzNjUgNTM2OSAxMSAxNDkKNDIxLDAgOSAxNDkgNTQgMTEgNTM1MCAxMzgzIDEyOSAzIDI2OTIKNDIyLDQ2NDQgNDY0OCA0NjUzIDQ2NTQgNDY1NyAzMzM1IDM5MTkgNDY0MyA0NjQ2IDQ2NDcKNDIzLDQ4MTYgMjUzMCAyNTc5IDI1ODYgMjU5MSA0ODA3IDQ4MTEgNDgwOCA0ODEwIDI1MTEKNDI0LDE3OCAxMSAxMiAyMSAyNzI4IDYzIDUyIDE4OSAyMjEgMTk2CjQyNSw1MjcgODAxIDMxNDIgMzE0MyA3MTIgNzE2IDEwMTIgNTI1IDQ5OSA3NjAKNDI2LDUzNTYgMCA5IDUzMzggNTM0MiA0IDUzNDYgNTM0NyA1MzUwIDUzNjUKNDI3LDQ5NjggNDg3MSA1MDE5IDQ5MjQgNDkzMyA0OTY2IDQ5NjUgNDk4OSA0ODY2IDQ4ODEKNDI4LDExIDI1MjAgMjUzOCAwIDkgMjU3NiA1NCAyNTE5IDI1MjkgNDg1NAo0MjksMjQ5NiAyNTAwIDI1MDYgMTU0NCAyNDgxIDI0ODcgMjQ5OCAyNTAxIDE3NTMgMjQ3OQo0MzAsMCA1MzQwIDUzNjcgMTQ5IDUzMzcgNTM0OCA1MzU0IDUzNTcgNTM1OCA1MzY2CjQzMSwyNjA0IDkgNTIgNTM1MiA1MzU1IDUzNjYgMCA1MzYwIDExIDM0NzAKNDMyLDQ4OTkgNDkwMiA0ODE3IDQ5NDUgNDgyMCA0OTU5IDQ4MzQgNDg0NyA0ODQ4IDQ4NjAKNDMzLDAgOSA1NCAxNDkgMjYgMTc4IDE5NCAyIDY3MSAxNjQzCjQzNCw5IDU0IDE0OSAxMSAyNiAxNzggOCAxODMgMTk2IDAKNDM1LDE0OSAxNzggMTk0IDUzNDYgOSAyNiA1MzQ3IDUzNTkgNTM2NyA1MzcxCjQzNiw5IDExIDAgMTQ3IDMgMTYgMTcgMTg0MCA3NiAxMgo0MzcsOSA1MjI3IDUzNTkgNTM3MCA1MzQzIDUzNTQgNDM5MCA1MzQwIDUzNTAgNTM2Ngo0MzgsMjA1NyAyMDYyIDE5NDcgMTU2NiA1MDI1IDE5NTggMTgzNyAyMTA0IDE5OTkgMTc0Ngo0MzksNTE3IDI1OTYgMjU5NyAyNTk5IDU2NSA1OTAgNjEzIDYyMyA2NTQgNjU1CjQ0MCwzMTQ1IDMxNTQgMzE2MSAzMTg1IDkgMzE0OSAzMTU5IDMxNzUgMzE4MyAzMTg5CjQ0MSwwIDUzMzYgNTM0MSAxMzg2IDUzNjAgNTM2MiA1MzY3IDUzNDAgNTM1MCAxMQo0NDIsMTEgOSAwIDI5NTQgMjk4MSAyIDI5NTcgMjk2MiAxNDkgMTQzNQo0NDMsNTAwOSAzMzE1IDQ4NzEgNDg5MCA0OTYyIDQ4MzYgNTIyOSA0OTg5IDQ4NjYgMjU2NAo0NDQsMTEgNCAwIDI5NTMgMjk3NiAyOTc5IDI5ODIgMjk5NSAyOTUxIDI5NjIKNDQ1LDAgMTEgMzMgMzE5OSA5IDE1NDUgMTIgMTc4IDMxOTggMwo0NDYsOSA1MzM5IDI5MjIgNTM2MiAwIDIgMTQ5IDUzNTIgNTM2NSA1MzY2CjQ0NywzNDg3IDM0ODMgMzQ4NiAzNDg4IDM0OTMgMjY5MyAzNDc3IDM0ODAgMzQ5NCAzNDk4CjQ0OCwwIDkgMTEgMTIgMTgyNiA0IDcgMTQ5IDI5NTQgMTcKNDQ5LDkgMTQ5IDEyIDQ2MjQgNDYyMiAyODkwIDQ2MjcgNDYyOSA0NjMwIDM2MzAKNDUwLDMxOTQgMzE0OSAzMTY3IDMxNjkgMzE4MCAzMTgxIDMxODUgMzE4NiAzMTg3IDMxOTEKNDUxLDAgOSA1MzY2IDUzMzYgNTM0NiA1MzUwIDUzNTkgMzAyMiAxMSA1MzM3CjQ1Miw5IDExIDE5MiAxOCAyNiAyOSAxNDkgMTI5IDE5IDYzCjQ1Myw5IDAgMTc4IDU0IDEyIDE3OSAxMSA2IDEgNjYKNDU0LDI5NjUgMjk3MCAyOTgwIDI5ODMgMjk1OCAyOTk0IDkgMjk3NCAyOTg0IDU0CjQ1NSw5IDAgMjg5MSA1MzM3IDI4NDQgNTM1NiAyNjA0IDUzNDcgNTM2NyA1MzcxCjQ1Niw1MzYxIDUzNTMgNTM1NCA1MzM2IDUzNjMgMyAxNDkgMjc1NyAyODkxIDUzMzkKNDU3LDkgMjY5MiAxMSAxMiA1NCA1MzY4IDUzNjkgNCAxNDkgMTM5NQo0NTgsMCAyMTkzIDI5NjEgMjk3OCAyOTg5IDI5NzUgMjk1MyAyOTU3IDI5NzYgMjk4Nwo0NTksMzE1MCAzMTYzIDMxNzAgMzE0NSAzMTQ3IDMxNzIgMzE3MyAzMTc1IDMxODAgMzE4MQo0NjAsMCA5IDExIDMzIDEgMTIgNTQgMTM4NyAxMzgzIDE0CjQ2MSw5IDE0OSA0IDExIDU0IDE3OCA1MiAwIDEyIDI2CjQ2MiwyNTk2IDI1OTcgMjU5OCAyNTk5IDU1OSA1NjUgNTgwIDU4MyA1OTAgNjIzCjQ2MywyOTkzIDkgMjk2NSAyOTg3IDI5NTcgMjk3MCAyOTc0IDI5NzYgMjk4MCAyNzUwCjQ2NCw0MjU2IDUwMjMgNDI3OSA0MzEwIDQzMjMgNDMyNSA0MjE4IDQyMzUgNDM3NSA0MjQ4CjQ2NSw1NDcgMjU5NiAyNTk3IDI1OTggMjU5OSA1ODAgNTkwIDYxMyA2MjMgNjU0CjQ2NiwxMiA5IDExIDE0OSAxODQgNjYgNTQgMjIgMjYgMTQ3CjQ2Nyw0ODEwIDQ4MTMgMjUzNyAyNTc5IDQ4MDcgNDgwOCA0ODEyIDI1MzQgMjU3NCAyNTkyCjQ2OCw0ODA3IDQ4MDggNDgxMCAyNTkzIDQ4MTIgNDgxMyAyNTMwIDI1MzUgMjUzOSAyMjg5CjQ2OSwzMTc4IDMxOTUgMzE0OCAzMTU1IDMxNjMgMzE3NyAzMTQ0IDMxNTggMzE3MCAzMTc2CjQ3MCw5IDE0OSAxMiA2NiAxMSAzMSAzMyAxNzggMTM4NiA1NAo0NzEsOSAxNDkgNTIgNCA1IDExIDEyIDE5MiA1NCA1Ngo0NzIsMzE2NSAzMTczIDMxOTIgMzE0OSAzMTcxIDMxODcgMzE5NCAzMTU3IDMxODkgMzE0Ngo0NzMsOSAxMSAxMiAwIDUgMTc4IDEgMzMgNTQgMzcKNDc0LDE3OCA1MjgyIDUzNjAgNTM2NSA1MzQwIDI3NDYgNTMzNiA1MzQ2IDUzNjcgOQo0NzUsNTQgOSAxNDkgMCAxMSA0NjM2IDEyIDE5IDE5NiAyOQo0NzYsOSAxNDkgMCA1NCAxMSAxOTIgMjg4NCAxNTAzIDMgMgo0NzcsMTEgOSAxNzggNTQgMTc5IDUyIDEyIDIyIDI5IDE0OQo0NzgsODAxIDMxNDIgMzE0MyA2MDYgNjIyIDEwMTIgNzYwIDEwMzAgNjU4IDcxMgo0NzksMjk2NiAyOTc3IDI5ODYgMTQ5IDAgMjk4NCAyOTg1IDI5ODkgMjM1MiAxNzgKNDgwLDQ4MDggOSAxMiAyNTg0IDI1MTUgNDgwNyA0ODEwIDQ4MTUgNDgxNiAyNTEzCjQ4MSwyNTMwIDkgMjU4OCA0ODA1IDQ4MDcgNDgwOCAyNTUwIDI1NzkgNDgxMCA0ODEyCjQ4MiwxMSA5IDEgMTQ5IDE3OCAxNzkgMTIgMjkgNCA1NAo0ODMsOSAxNzggNTQgMjYgNDE3IDcwMSA4NjUgOCAxNjAgMTg1CjQ4NCwwIDExIDYgMTQ5IDEzODMgMjI1OSAxMiAyMiAxODQgNjEKNDg1LDIwNzggMTk1MSAxNTgwIDE5NjUgMTYxMiAyMDAzIDIxMzYgMjAxNyA1MjE5IDIxNDkKNDg2LDUzNzYgNTM3NyA1Mzc5IDUzODAgNTM4MyA0MjYwIDUzNzQgMzQ4NSA1MDYzIDUzODIKNDg3LDEyIDkgMTc4IDExIDE0OSAzMyAxIDMgMTk2IDcKNDg4LDkgMjk1OCAyOTYwIDE0OSAyOTc1IDI5ODIgMjk5MCA1NCA3IDI1OTUKNDg5LDQ2NDYgNDY0NyA0NjU1IDQ2NDEgNDY0NSA0NjUwIDQ2NTQgNDY1NiA0NjU3IDQ2NjAKNDkwLDUzNDMgNTI4MiA1MzQyIDUzNDggNTM2MiAyNjc3IDUzNjcgNTM1NSAxNzkgNTMzNwo0OTEsMjU3MyAyNTkzIDQ4MTMgMjU3OSAyNTg3IDQ4MDYgNDgwNyA0ODA5IDQ4MTAgMjUxMQo0OTIsOSA1MzM4IDUgNTI4MiA1MzYwIDU0IDUzNTAgMCA1MzQzIDE3OAo0OTMsMjU3MyAyNTc0IDI1ODcgNDgxMSA0ODE1IDQ4MDUgNDgwNyA0ODA4IDQ4MTAgMjUyNAo0OTQsMTEzNiAxMTM4IDExNDMgMTE0OSAxMTUyIDExNTMgMTE1OCAxMTU5IDExNjQgMTE2OQo0OTUsMzE0OCAzMTY5IDMxNzcgMzE0OSAzMTU3IDMxNjEgMzE3MSAzMTczIDMxODggMzE5MQo0OTYsMzE3MSAzMTc3IDMxOTQgMzE5NSAzMTQ4IDMxNDkgMzE1NyAzMTY4IDMxNzQgMzE4Mgo0OTcsMzE0OCAzMTcxIDMxNzIgMzE3NSAzMTg1IDMxOTQgMzE0NSAzMTQ5IDMxNTUgMzE1Nwo0OTgsMSAwIDExIDEyIDcgMTQ3IDE3OSAxODEgMjc1MCAxOTQKNDk5LDI5ODAgOSAyOTc0IDI5OTIgMjk2NSAyOTg2IDI5OTQgNCAyOTUyIDI5NjgKNTAwLDkgMCAxNzkgMyA2MSA0IDcgMTQ5IDE1IDEKNTAxLDQ4MDYgNDgwOCA0ODE1IDI1NjkgMjU3OSA0ODA1IDQ4MTAgNDgxMyAyNTM3IDI1NzMKNTAyLDQ4MDcgNDgxMCAyNTU0IDI1NzQgMjU3OSA0ODA1IDQ4MDYgNDgwOCA0ODExIDQ4MTYKNTAzLDkgMzAyMiA1MzU2IDExIDUyMDUgMzQ3MCA1MzM5IDEyIDE0OSA0MzkwCjUwNCw1MjgyIDUzNTEgNTM2NCAxNzggNTM0NCA1MzU3IDkgMzMgNTMzOCA1MzQzCjUwNSw5IDExIDYzIDE4NSAxNDkgMzMgMzcgMTgzIDEzODMgMgo1MDYsMjc1MCAxMSAyOTgxIDI5ODcgMjk5NSAyOTYwIDI5NzkgMjk3MyAyOTc4IDAKNTA3LDAgMTEgOSAxIDE5MCAxMiAxNjAgNTIgMiAxNzgKNTA4LDMxNDggMzE1NiAzMTY0IDMxNzMgMzE4MCAzMTgxIDMxODIgMzE4NSAzMTk1IDMxNDUKNTA5LDkgMTEgMTIgNTIyNyA1MzYwIDQyMjYgNTM1OSAxNDkgNTI4MiAxNzkKNTEwLDMxNTAgMzE1OSAzMTQ0IDMxNjUgMzE3MCAzMTczIDMxNTEgMzE1NiAzMTYzIDMxNjcKNTExLDkgMSAxMiA0OSA1NCAxNzkgMCA1IDExIDI2CjUxMiw0NDEzIDUwMjEgNDI1OSA0MzIzIDkgNDIzMCA0MjUxIDQyNjUgNDI3NSA0MjgyCjUxMywwIDU0IDkgMTQ5IDI2IDQgMTM4NiAxIDMgMzUKNTE0LDIwNTkgMjA4MSAxNjAxIDIxMTggMjEyMCAxNjI5IDIxNjIgMTY5NSAxNzAxIDIyMzgKNTE1LDI1NzQgNDgwOCA0ODE1IDI1NjkgMjU4OCAyNTkzIDQ4MDUgNDgxMSA0ODEyIDQ4MTMKNTE2LDI1ODcgMjU5MSA0ODA1IDQ4MDcgNDgxMCA0ODEzIDQ4MTQgNDgxNSAyNTIyIDI1NDYKNTE3LDUzNDkgNTM2MCA1MzQwIDUzNTIgNTM1OSA1MzQzIDkgMSA1IDExCjUxOCw0ODA4IDQ4MTAgNDgxNSAyNTczIDI1OTMgNDgwNSA0ODA3IDI1MTUgNDgxNiAyNTM1CjUxOSwxMTM2IDExMzggMTE1MSAxMTUzIDExNTQgMTE1OCAxMTU5IDExNjYgMTE2OCAxMTc1CjUyMCw5IDE3OCA1MjgyIDUzNjcgNTM0NyA1MzYyIDUzNzEgNTM0NCAxMSAxNDkKNTIxLDI1ODQgNDgwNiA0ODA3IDQ4MDkgNDgxMCA0ODE1IDI1OTEgNDgwNSA0ODA4IDQ4MTEKNTIyLDExIDI5NjAgMjk4MSA1IDI5NjMgMjk2NyAyOTY4IDI5NzUgMjk4MCAyOTg3CjUyMywyMDc3IDUyMDIgNTIwMyA1MjA0IDUyMDcgNTIwOCA1MjEwIDUyMTMgNTIxNCA1MjE3CjUyNCwxMiAxNzkgMTc4IDEwNSAwIDE5NCA5IDE4OCA2OSAxCjUyNSwxMiAxIDkgMTQ5IDAgNCAxNyAxNjAgMTEgMTkyCjUyNiwwIDU0IDExIDEyIDE0OSAyMDcgMTc4IDE4NSAxIDUKNTI3LDExIDkgMCAyMjAyIDIyMTggNSAyMTg4IDIxOTQgMjE4NCAyMTgwCjUyOCw5IDExIDU0IDAgMSAxMiAxNDcgMTQ5IDE0IDE5Mgo1MjksMCAyIDE0OSAxNzggMTIgMzMgMTgwIDU0IDE3OSA0OQo1MzAsMjk4NSAwIDI5NTUgMjk1NyAyOTYwIDI5OTAgMjE5NiAyOTY1IDI5NjggMjk4Ngo1MzEsOSAxMSAxNzkgMTM4MyA2MSAxNTAzIDEzODUgMyA0IDEyOQo1MzIsMTQ5IDkgMTIgNDkgMCAxIDMzIDIyIDIgNTQKNTMzLDAgMTEgNTQgNTM0MCA1MzQzIDUzNTEgNTM2MCA1MzY5IDkgMTUKNTM0LDUyMjkgNDg1NiA0ODgxIDQ4OTAgNDkzNiA0OTU1IDQ5NjggNTAwOSA0ODM2IDQ4OTUKNTM1LDI5NzQgMjk4OCAyOTkyIDI5ODYgMTQ5IDI5NjggMjk5MCAwIDI5NTEgMjk1NAo1MzYsMCA5IDExIDEyIDQ2MjQgNDYyNSA0NjMyIDQ2MzYgMjc0OSAxMDUKNTM3LDE0OSAxMSAxMiA5IDE5NCAwIDMzIDE3OSA3IDQKNTM4LDQ4MDcgNDgxMSA0ODEyIDQ4MTMgNDgxNCAyNTE1IDI1NzkgNDgwNSA0ODA2IDQ4MTAKNTM5LDkgNCAxNzkgMCAzIDM1IDE4MCAxMSAyOSAxOTIKNTQwLDUzNjUgMjY4MCA1MzUwIDUzNjYgNTM1NiA1MzQ3IDUzNTggNTM2MyAxNDkgNTMzOAo1NDEsOSA1MzYwIDUzNTEgNTM1MyA1MzY2IDUzMzkgNTMzNyA1MzQwIDUzNDYgNTM1NQo1NDIsMTEgNCAyNiA1MiA1NCA5IDQ5MjIgMjU0OCAzMyAxNDcKNTQzLDkgNTQgMCAxMiAxNDcgNTIgNjkgMTEgMzMgNAo1NDQsOSAwIDEzOTUgMTIgNDIzMyAxNzggMTEgMjcgNDkgMTQ5CjU0NSwyNTc4IDI1MTQgMjUyOSAyNTMyIDQ4NTQgMjU1NSAyNTc2IDI1MzggMjU1NyA5CjU0NiwxMSAxMiAyNDgzIDI0ODkgMjQ5NCAyNTA5IDE1NDQgOSAxNTU5IDUyCjU0NywwIDExIDIyMDIgMjYgMjE5MyAyMjIyIDIxODQgMjIyNCAxMzkwIDIxCjU0OCw5IDExIDUyODIgNTM1MSA1MzQzIDUzNjIgNTM2MyA1MzUzIDUzNzEgMjg3Nwo1NDksOSA1NCAxOTQgMTIgMTQ5IDMzIDExIDggMTc4IDI1NTEKNTUwLDAgMjYgMTIgNTIgMTEgMTgwIDE5NCAyMSA3IDU0CjU1MSwxNzggOSAxMiA1NCAwIDExIDUgMjYgMjkgMjgwNAo1NTIsOSAwIDUyIDU0IDUgNCAxMSAxODEgMjUgMjcyOAo1NTMsOSAwIDE0OSA1MiAxOTQgNzkgMTEgMTYgMyA2CjU1NCw5IDExIDUzMzkgNTM3MCA1MzM4IDUyMjcgNTQgNTM0MyA1MzU2IDUyODIKNTU1LDE0OSAxMiA5IDE3OSAwIDIyIDUyIDU0IDE4OSAyNTcKNTU2LDI1NzMgNDgwNyA0ODA5IDkgMjU3NCAyNTc5IDI1OTEgNDgwOCAyNTI0IDI1MzAKNTU3LDEyIDE0OSA5IDEzODMgMTEgNTQgNTM3MSA1MzY0IDQgMTc5CjU1OCw5IDExIDAgMjI0IDE3OCAyIDE0OSAxOTQgNzMgMjEKNTU5LDkgMTc4IDAgMTIgMjYgNTQgNCAxMCAxNCAxMwo1NjAsMjU5NiAyNTk3IDI1OTggMjU5OSA1ODAgNjIzIDY0MiA2NTQgNjY0IDY3NQo1NjEsMCA1MzY2IDUyMDUgNTM0MiAxMiA1MzQ2IDUzNjQgNTM0MCA1MzQxIDUzNTMKNTYyLDAgOSAxNDkgMyA0IDExIDI2IDMzIDU0IDE4NAo1NjMsOSAxMSAyNiA1NCAxIDUgMTYgMTc4IDEzODMgMTc5CjU2NCw5IDE3OSAxMSAxNDkgMSA0IDEyIDI1OTEgNTQgNDgxMwo1NjUsMTEgMTc4IDAgMTQ5IDE5MiA0IDQ2IDUyIDY3IDEzOTUKNTY2LDExIDI5NTUgMjk4MyAyMjIxIDI5NTYgMjk2OCAyOTkxIDI3NTAgMjk1NyAyMTk2CjU2NywxMSAwIDE0OSA5IDMgMjkgMTM4MyAxNzggMTc5IDEyCjU2OCwzMTgwIDMxODYgMzE0NyAzMTUyIDMxNTQgMzE2MiAzMTczIDMxNzcgMzE4MiAzMTk2CjU2OSw0OTg5IDQ4NjYgNTAwOSA0ODkwIDQ5MjMgNDk1NSA0OTY2IDQ4NjggOSA1MDA2CjU3MCw1MzU5IDEyIDUzNjIgOSA0MjI2IDE3OCA1MzM5IDUzNTAgNTM1NiA1MzY5CjU3MSw1NCAxNDkgMyA5IDUyIDE5NCAxNzggMTk2IDAgMjEwCjU3Miw5IDEyIDI2IDIzIDQgMyA1MiAyNCAwIDYKNTczLDUzNjUgNTM2OCA1MzU1IDUzNTcgNSAyOTUwIDI2OTggNTIgMjg2OSA1MzQ2CjU3NCw5IDAgNCAxNDkgMTc4IDE5NCAyNiAzODE4IDM4MTkgMzgyMAo1NzUsMTEgMTIgMTc4IDUgMTQgNTIgMTQ3IDE0OSAyNiAyOQo1NzYsNTQgOSAxMiA2IDExIDEwMiAyNCAwIDE0OSA0ODc5CjU3NywxNDkgMzE0NCAzMTQ2IDMxNTAgMzE2MSAzMTcyIDMxODEgMzE4OCAzMTkzIDMxOTIKNTc4LDQ4MDcgNDgwOSA0ODExIDQ4MTMgNDgxNSAyNTU4IDI1MzAgMjU3OSA0ODA2IDI1MjYKNTc5LDkgMTQ5IDE3OCA0IDExIDgyIDEyIDU0IDI2IDE0NQo1ODAsOSAxNDkgNTMzNiA1MzQ2IDUzNTMgMjY3NyA1MzUxIDUzNTggMSAxMQo1ODEsMTM4MyAwIDkgMTEgMTQ5IDcgNSAxNzggMTkwIDg2CjU4Miw1NCA5IDExIDEyIDc5IDYgMSAyMjg5IDE3OSA4MQo1ODMsOSAxMSAxIDE5IDE3OCAyMyAyNiAzMyAxNzkgMTIKNTg0LDkgMTIgMjYgNTQgMTEgNCAxNDkgMTcgNiAyCjU4NSw5IDE0OSAwIDIgOCAxMiAxOTQgMTEgMjYgNTIKNTg2LDAgOSAxMiAxNDkgNTIgMTk0IDE4MyA4NiAxIDE3OQo1ODcsNTM0NiA5IDExIDUzMzcgNTM1OCA1MzYwIDUzNjkgMjc5OSA1MzU1IDU0CjU4OCw5IDMyMzYgMzI0NCAzMjM5IDMyNDIgMzI0NSAzMjQ5IDMyNTMgMjc2OSAwCjU4OSw1NCA0MTY1IDExIDI5IDQxNDIgMTc4IDQxNDkgNDE3OCAwIDU3CjU5MCw5IDAgMTQ5IDI1ODggMjUxMyAyNTMzIDI1NjkgMTEgNDgxNiA5Mgo1OTEsMjU5NiAyNTk3IDI1OTggMjU5OSA1NTkgNTY1IDU3NCA1OTAgNjU0IDY1NQo1OTIsMzE0NiAzMTY5IDMxOTMgMzE0OSAzMTY4IDMxNzMgMzE3NCAzMTc3IDMxODEgMzE4Mgo1OTMsMjA1OSAyMTEwIDE2MjYgMjE0MCAxNjI5IDIxNTMgMjE1NyAxNjU2IDIxNjkgMTY2NAo1OTQsNTI4MiA1MzYyIDUzNDcgNTM1OSA1MzY2IDkgMjYgMTc4IDU0IDUzMzkKNTk1LDI1OTEgNDgxNSAyNTMwIDI1OTMgNDgwNSA0ODA2IDQ4MDcgNDgxMCA0ODExIDQ4MTMKNTk2LDEyIDExIDI5IDAgMTQ5IDUwMjIgNDI3NSA0MzE4IDQyMTcgMTkKNTk3LDI2MDggMjYxOCAyNjI3IDI2MzIgMjYwMSAyNjA0IDI2MTMgMjYxNSAyNjE2IDI2MTkKNTk4LDAgOSAxMSAxMiAxOTIgNiAyMjQ5IDE2MjEgNSAzMwo1OTksNDY0NyA0NjU2IDQ2NjAgNDY1NSA0NjQxIDQ2NTAgNDY1NyA0NjYxIDMzMDggNDY2NQo2MDAsMTUzNyAyMDgxIDE2MDEgMjEyMCAxNjI2IDIxNDAgMTY2NCAxNzAxIDIyMzcgMjIzOAo2MDEsOSA1NCAyMSA1MiAxNDkgNiAxMSA0IDM3IDEyCjYwMiwxMiAwIDExIDIyIDUyIDcgMTQ3IDE3OCAxOSAxODQKNjAzLDEyIDExIDAgMTQ5IDE2MCAzNyA0OSAxNzkgMTk0IDEyOQo2MDQsMzE1NyAzMTg1IDMxNDYgMzE0NyAzMTY3IDMxNzEgMzE4NCAzMTkyIDMxOTQgMzE5Ngo2MDUsOSA1MzM2IDUzNjYgMjkgMjg5MSA1MzQ3IDE0OSAxIDExIDEyCjYwNiw5IDY2IDAgMTEgMTc4IDQgNTM2OCAxMCAxNDYgMTQ5CjYwNyw5IDI3NTggNTM0MCA1MzUzIDE0OSAxNzggNTQgMTk0IDUzMzcgNTM0Nwo2MDgsMCA0IDkgMTYgMTc5IDE0OSA1NCAyNiAxNDcgMTc4CjYwOSw5IDQgMTEgMTIgNjMgMjkgMTQ5IDM3IDE5MiAxMzk1CjYxMCw5IDE5NCA1MzY1IDUzNDcgNTQgMTEgNTIwNSA1MzM4IDUzNDAgNTM0NAo2MTEsMTAzMCAzMTQzIDEwMTIgODAxIDQ5OSA3NTcgNDA2IDM0NCA2MTEgNzYwCjYxMiwzMTQ4IDMxNzggMzE1MCAzMTYyIDMxNzMgMzE4MyAzMTkwIDkgMzE0NyAzMTUyCjYxMywxMiA5IDQgMTEgMTM4NiAyIDEzOTUgNjEgMTQ3IDUyCjYxNCwwIDkgNTQgMTEgMjc5MCAxMiAxOTYgMTc4IDE5NCA3CjYxNSw5IDExIDAgNTQgMSA1IDEyIDMzIDQgMTc5CjYxNiw0ODA3IDQ4MDggNDgxNSA0ODEyIDQ4MTMgNDgxNCAyNTQzIDI1NzQgMjU4OCA0ODA1CjYxNywyNTg2IDQ4MTAgNDgxNiA0ODE1IDI1NTEgNTQgMjU3MyAyNTgxIDI1ODkgMjU1NAo2MTgsNDg2NiA1MjI5IDQ4OTAgNDkzMyA0OTczIDQ5NzQgNDg1NiA0OTg5IDUwMTkgNDkyMwo2MTksOSA0IDEyIDU0IDE3OCA2IDI2IDU4IDExIDEzOTUKNjIwLDExIDUyMjcgNTM2MiA1MzY3IDE0OSA1NCA1MzU0IDUzNjAgOSA1MzUwCjYyMSwwIDUzNzAgOSA1MzU3IDUzNjUgNTM0MCA1NCAxMSAyNzE0IDI3NTgKNjIyLDI1OTYgMjU5NyAyNTk4IDI1OTkgNTU5IDU2NSA1NzQgNjIzIDY0MiA2NTQKNjIzLDkgMTEgMCAyNiA1NCAxOCAxIDE0OSAxMiA0OQo2MjQsMjA3NyAxOTczIDUyMDEgNTIxMCA1MjExIDUyMTMgNTIxNyA1MjE4IDMyMTcgMjA4Mgo2MjUsOSAxMSAyNiA1NCAxMzg0IDAgMTIgMTQgNjYgMgo2MjYsOSAxMiAwIDE0OSAxNzggMTEgMiAyNiA1NCAxNDcKNjI3LDkgMTEgMTQ5IDAgMzMgNjIgMTAzIDIxIDQxNjEgODIKNjI4LDQgMTQ5IDkgNSA1MzM1IDExIDEyIDUzNDAgNTM0MyAzNDgwCjYyOSwxNDkgNTM3MSA5IDUzNzAgNTM2NSA1MzUyIDEyIDUzNDMgNTM0NSA1MzU0CjYzMCw5IDExIDU0IDAgMTQ3IDYxIDE0OSAxNzkgMiAxNzgKNjMxLDExMzQgMTEzOCAxMTQwIDExNDEgMTE0NyAxMTUzIDExNTkgMTE2NCAxMTY1IDExNjgKNjMyLDkgMTc5IDEyIDExIDE0OSA1NCAxNSAwIDE3IDMzCjYzMywxMSAwIDE0OSA0IDkgMTIgMTMgNjYgNTM0MCA1MzQzCjYzNCw5IDAgNTM2MCA1IDExIDE3OCAzNDcwIDUyIDMgMTIKNjM1LDAgMTEgOSAxNzggMjYgMTIgMTc5IDEgMTA1IDI5CjYzNiw0ODA1IDQ4MDcgNDgxMyAyNTE3IDI1MzkgNDgwNiA0ODEwIDQ4MTYgMjUzMyAyNTUyCjYzNyw0Mzc1IDUwMjMgNDI3OSA0NDY1IDQ0NDYgNDI0MSA0MjY1IDQ0MTAgNDIxOSA0MjU2CjYzOCw0NjQxIDQ2NDUgNDY0OCA0NjUzIDMzMjYgMTk5MCAzMDIwIDE1NjcgNDY0MyA0NjUxCjYzOSwzMTk0IDMxNDcgMzE1NyAzMTY1IDMxNjcgMzE2OSAzMTc4IDMxNDkgMzE0NCAzMTQ1CjY0MCw5IDExIDAgMTQ5IDEyIDggMTc4IDEzODUgMSA3MAo2NDEsNTM2MCAxMSAxMiA1MzM3IDUyMjcgNTM2NCA1MzcxIDUzMzkgNTM0NyA5CjY0MiwyNjAyIDI2MDUgMjYxMyAyNjI1IDI2MDQgMjYwNyAyNjEyIDI2MTkgMjYyMiAyNjI2CjY0MywwIDUzNjYgMTQ5IDUzNjMgNTM0MiA1MzUwIDUzNDAgNTM0NCA5IDUKNjQ0LDMxNDUgMzE0OCAzMTU0IDMxNjkgMzE3NSAzMTg1IDI1NjAgMzE0OSAzMTUwIDMxNTIKNjQ1LDAgOSAxMSA2NiAxNzkgMTkyIDE5NCAxMiA1MiAyOQo2NDYsMjU3NCAyNTc5IDI1ODkgMjU1MSA0ODA2IDQ4MDkgNDgxMyA0ODE1IDI1NDYgMjU1NAo2NDcsOSA1MzcxIDUzNzAgMzQ3MCA1MzU1IDUzNjEgMTEgNTM0NCA1MzUyIDUzNTgKNjQ4LDEzOTggMTY3NiAyMDc4IDE5NTEgMjA0MyAxNTgwIDE5NjUgMjExNiAxNjEyIDIwMDIKNjQ5LDUyMjcgNTM1NiA1MzU0IDkgNDI0MiA1MzY3IDEyIDUzNTcgNTM2MSA1MzcwCjY1MCwyNTc5IDI1OTMgNDgwOCA0ODEyIDQ4MTUgMjUxNyAyNTMwIDI1NDIgNDgwOSA0ODEwCjY1MSw0NjQ4IDQ2NTIgNDY1NCA0NjQxIDQ2NDMgNDY0NCA0NjQ1IDQ2NTUgNDY1NiA0NjU5CjY1Miw5IDEzODQgMCA1IDcgMTEgMTQ5IDUyIDIzMSAxOTQKNjUzLDkgMCAxMSA1MzQwIDQyMjYgMzQ4MCA1NiA1MzM3IDUzNDMgNTM0OAo2NTQsMCAxMiA5IDU0IDE5NCAyIDYzIDE5MiA3MCA1NDEKNjU1LDEyIDAgNTggMTA1IDE0MDkgMTUgNTIgNTQgMTM4NSAxMAo2NTYsMjkgOSA1NCAxNzggMCA1IDExIDEyIDM3IDEKNjU3LDAgNTM2MSA5IDUzNjcgMTIgMjYwNCA0MjI2IDI2OTIgNTM0NyA1MzY0CjY1OCw5IDE0OSAwIDU0IDY2IDI2IDEyIDEgMTM4MyAxNDcKNjU5LDEwMzAgMTY3OCA4MDEgMzE0MiAzMTQzIDc2MCA0MjcgNTI3IDMzNiA2MTEKNjYwLDkgMTEgMjk3NyAwIDE0MDggMjk1NyAyOTY5IDI5ODYgMjk3NCAyOTg0CjY2MSw0NjUwIDQ2NTUgNDY1NiA0NjQxIDQ2NDQgNDY0NSA0NjUyIDQ2NTcgNDY1OSA0NjYyCjY2Miw0NjQ3IDQ2NTAgNDY1MiA0NjU1IDQ2NjUgMjAzOCAxNzgzIDQ2NDIgNDY0OCA0NjU0CjY2MywyNiAxMSAxNDkgMTc4IDkgNTQgNTIgMTgyIDEyIDEyOQo2NjQsOSAxMSAzOTYgMTIgMTQ5IDQgMjEgMTc4IDUyIDE4NAo2NjUsOSAwIDQgNTQxIDEzODMgNyA4IDU0IDM4IDUKNjY2LDkgMTEgMCAyIDEyIDE0OSA1NCAxIDUgMTM4NAo2NjcsMCA5IDQgMTIgNTQgMjEgMjkgMTM4NCA2NzEgNjYKNjY4LDU0IDExIDkgMCAyOSAzMyAxMiAxNDkgMyAxNzgKNjY5LDAgOSAxMiA0OTIyIDYgMTc4IDI1MTIgMTQ5IDQ5IDU0CjY3MCwxNTM3IDIwNTkgMjExMCAyMTE4IDIxNDAgMTYyOSAyMTY5IDIyMzkgMjI0MCAyMjQxCjY3MSwwIDkgMTEgNTQgMTIgMSAxMzg1IDQgMTQ5IDI3CjY3Miw5IDExIDAgMTk0IDMzIDE1IDU0IDE2IDI2ODkgMTQ3CjY3Myw1MTcgMjU5NiAyNTk3IDI1OTkgNTU5IDU2NSA2MTMgNjIyIDYyMyA2NTQKNjc0LDkgNTAyMyA0MjU2IDQyNzkgNDMxOCA0MzQzIDExIDQyNDEgNTAyMiA0MjY1CjY3NSw0ODA3IDQ4MTUgMjU3OSAyNTg5IDQ4MDUgNDgwOCA0ODEwIDQ4MTMgMjUzNyAyNTU4CjY3Niw1MzYwIDExIDE3OCA1MzUwIDkgNTMzNyA1MzQ4IDE0OSA1MzY1IDUzNDMKNjc3LDUzNDIgNTM0NyA1MzQ1IDUzNTcgMTQ5IDE3OCA1MjA1IDUzNDQgNTM1NCAwCjY3OCw5IDY2IDMzIDEgMTIgMTQ5IDU0IDEzODQgMTc4IDAKNjc5LDE1MzcgMjA1OSAyMTIwIDIxNDAgMTYyOSAyMTY5IDE2NjQgMjIzNyAxNzI2IDIyMzgKNjgwLDQ4MDUgNDgwOSA0ODEwIDQ4MTIgMjU4NiAyNTkzIDQ4MDcgMjUxMSA0ODEzIDQ4MTQKNjgxLDExIDQgMTQ5IDEyIDIgMTc4IDUgMjYgMjcgMTQ1Mgo2ODIsMzE1OSAzMTQ0IDMxNDUgMzE0NiAzMTg1IDMxOTIgMzE0OCAzMTQ5IDMxNTQgMzE1NQo2ODMsOSAyNTI4IDUyIDI1NzQgMjU4OCA0ODA1IDQ4MDcgNDgwOSA0ODExIDQ4MTMKNjg0LDMzMzUgNDY0OCA0NjUwIDQ2NjAgMTUyOCAxNjgwIDQ2NDIgNDY1MiA0NjU0IDQ2NTUKNjg1LDkgNTM3MCAwIDUzMzggNTM2MiA1MzY5IDUzNTEgMTIgNTM0MCA1MzQyCjY4Niw1MzY2IDUzNTQgNTMzNyA1MzQ4IDUzNTEgNTM2MCA1MzY0IDUzMzUgNTM0MCA1MzU2CjY4NywxMSAzMyA1NCA2NiAwIDE3OSAxMyAxIDQ5IDEwNQo2ODgsOSAxMSAwIDEyIDE0OSA4IDE3OSA1MiAxIDI1OTEKNjg5LDkgMyAxMSA1MiA1NCA2NiA0OSAxNzggMTk2IDEKNjkwLDkgMTEgMTIgMTk0IDE3OCA1NCAyNiAxIDcgMjU4OQo2OTEsMTEgOSAwIDEyIDE3IDU0IDIgMTQ5IDMzIDI2CjY5Miw0OTU1IDQ5ODkgNTAwOSA0OTYyIDQ5NjYgNDk3MyA1MjI5IDQ4NTYgNDg3MSA0ODkwCjY5MywzMTU5IDMxOTEgMzE1MCAzMTYwIDMxNjcgMzE3MCAzMTkyIDMxNDYgMzE5NSAzMTQ5CjY5NCw1MzM3IDExIDUzNjAgNTM2OCAzNDgwIDI4NDQgMjc0NiAyNzkwIDUzNTEgMAo2OTUsOSAwIDIxIDEyIDE0OSAxODQgMTE2MSAyNyAyNjAxIDI2MDIKNjk2LDQyNTkgNDI0OCA0MzE4IDAgOSA0MjUxIDUwMjIgNDI2NSA0Mjc1IDQyODgKNjk3LDExIDAgNTQgMiAxNDkgNCA1MiAxODAgODIgMQo2OTgsOSAwIDI5NTQgMjk2NiAyOTY5IDI5ODggMjk3MSAyOTU3IDE0OSAyOTg1CjY5OSw5IDExIDI5ODkgMjk5NSAyOTY3IDE4ODIgMTQ5IDI5NTYgMjk2MCAyOTYyCjcwMCw5IDAgMTIgNTYgNjYgMTQ5IDIyIDQ5IDYgNTQKNzAxLDkgMjU3NCAyNTc5IDI1ODQgMjU4NyAyNTkxIDI1OTMgNDgwNSA0ODA2IDQ4MDcKNzAyLDQyNTQgNDI1MSA0NDEzIDQyODggNDMxMCA0MjQxIDQzNzUgNDI1NiA0MjU5IDUwMjQKNzAzLDUwMDkgNDk2MiA0ODk1IDQ5MjMgNDk1NSA0ODQxIDQ4NTYgNDg2OCA0ODgxIDQ4ODMKNzA0LDQyNzUgNDQxMyA0MzEwIDQyMzUgNTAyNCA0MjU5IDQyNzQgNDI4MiA0NDEwIDQzMjYKNzA1LDkgNCAxNDkgMTIgMTEgMTc5IDU0IDUyIDI2IDc5CjcwNiw5IDExIDU0IDE0OSAxNzggNCAxODEgNjIgMTMgNDg5MQo3MDcsOSAxNzggMCAxNDkgMiAyNyAxIDE5NCAxMzg1IDEzODcKNzA4LDMxNzIgMzE4NSAzMTYyIDMxNjggMzE3NyAzMTgzIDMxODkgMzE1NCAzMTYzIDMxNjYKNzA5LDAgMTQ5IDUgMTEgMzMgNTQgMTc4IDQgNjYgMjY2CjcxMCw0ODA1IDQ4MDYgNDgwNyAyNTczIDI1NzkgNDgwOCA0ODA5IDQ4MTAgMjUxMSAyNTI0CjcxMSw5IDExIDAgMTgwIDMzIDE5NCAxMiA1NCAyIDQ4MTUKNzEyLDExIDE3OSAxMiA5IDAgMTQ5IDE5NCAxODAgNTQgNjYKNzEzLDkgMCAxNDkgNTQgNCAyNiAxODkgMTEgMTg1IDE2CjcxNCw5IDExIDAgNSAxNDkgNCAxOTIgMSAxMjggNgo3MTUsNTQgNyA1MiAwIDExIDE5MiAzIDEyIDMyMTcgMTQ5CjcxNiw0ODA2IDQ4MTEgMjUzMCAyNTMzIDI1MzcgMjUzOSA5IDI1ODEgMjU4NyA0ODA4CjcxNywxMDMwIDE2NzggODAxIDMxNDIgMzE0MyA3MTIgMTAxMiA2NTggNjExIDYyMgo3MTgsMCAxNzkgOSAxNDkgMzMgMTQ2IDY2IDYgMjYgMTM4Mwo3MTksNTMzOCA1MzUxIDUzNTIgMTEgOSA1MzQzIDAgNCA1MzQ5IDUzNTAKNzIwLDkgMTIgMTQ5IDcgMTEgNTIgMTc4IDE4MSAxOTQgMAo3MjEsMzE3MCAzMTQ4IDMxNTIgMzE1MyAzMTU1IDMxNTcgMzE1OSAzMTYwIDMxNzYgMzE3Nwo3MjIsNTE3IDkgMTIgNTQ3IDI1OTYgMjU5NyAyNTk4IDI1OTkgNTY1IDU3NAo3MjMsOSAzIDExIDI5IDE3OCAxNDkgMjYgNCAxMiAzMQo3MjQsMzE4NiAzMTQ1IDMxNTAgMzE1MiAzMTU0IDMxNTggMzE3NSAzMTc5IDMxOTUgMzE2OAo3MjUsOSAxMSAyNiAzMjIxIDMyMDEgMzIxNyAzMjA3IDMgMTM4MyAzMjEwCjcyNiwwIDEgMTQ5IDU0IDI2IDgyIDEyIDE3OCAxNjU0IDkKNzI3LDkgNDg5MSA0MTg4IDQxMzEgNDEzNyA0MTUwIDQxMzUgNTQgNDEzMCAxMQo3MjgsMCAxMSAyIDE0OSAxNDUyIDE3OCAxMzgzIDU2IDY2IDQKNzI5LDExIDkgMTc5IDI2IDAgNyAxNDkgMTkyIDgyIDUKNzMwLDAgMTIgNTQgMjYgMTQ5IDYwMSAxMzg0IDE3OCAzMyAyCjczMSwxMiAzNDczIDQ4OTkgNDkxOSA0OTI5IDQ4MTcgNDgxOCA0ODIwIDQ4MjcgNDgzMQo3MzIsMTEgOSAyNTg3IDI1MjYgMCAyNTc5IDE3OSAyMjU5IDI1NDIgNDgxNAo3MzMsMTAzMCAxNjc4IDgwMSAzMTQyIDcxMiA2MTEgMTAxMiA1MjUgNjA2IDcxNgo3MzQsNDgxMCA0ODE1IDI1OTEgNDgwNSA0ODA3IDQ4MTEgNDgxMiA0ODEzIDQ4MTQgMjUxMwo3MzUsNDY0NCA0NjQ3IDQ2NDkgNDY1MiA0NjUwIDQ2NTEgNDY1NCA0NjU3IDQ2NTggNDY1OQo3MzYsNDgxNyA0ODIwIDQ4MjMgNDgzNCA0ODQ3IDQ4NzggNDg5OSA0OTAyIDQ5MDkgNDk0NQo3MzcsMTEgNyA1MiA5IDUgMyAzMyAxIDEyIDAKNzM4LDAgMTIgMTEgMTkyIDIyIDU1NSAxODIgNTQgMTM4MyAxMzg0CjczOSw0NjI1IDAgOSA0NjI3IDQ2MzIgMjI5MCAxMiAyNzIwIDQ2MTggNDYzMQo3NDAsOSAwIDU0IDEzODMgNTIgMjYgNDkgMTIgMTQ5IDUKNzQxLDUxNyAyNTk2IDI1OTcgMjU5OCAyNTk5IDU1OSA1NjUgNTc3IDU5MCA2NTQKNzQyLDExIDMzIDAgMTIgMTc4IDU0IDE3OSAxMCA2IDIzCjc0MywxNzkgOSAwIDE0OSAxMiAzMyAxOTQgMTM4MyAyIDU0Cjc0NCw5IDE0OSAxMSAzMyAzNyA1NiAxMiAxNzggMSAyOAo3NDUsOSAxMSAxOTQgMTIgNCAxOCAxNDcgMjYgMjkgMjA5Cjc0Niw1MzUyIDkgNTM3MCA1MzUxIDExIDQyNDIgNTI4MiA1MzU3IDUzNDkgNQo3NDcsMTQ5IDExIDkgNTIgNSAzIDE3OCA2MyA1MjgyIDU0Cjc0OCw1MTcgMjU5NiAyNTk3IDI1OTggMjU5OSA1NTkgNTY1IDU4MyA1OTAgNjEzCjc0OSw5IDE0OSAxMiAwIDQgNjMgNjkgOTIgMTggNTIKNzUwLDUzNjcgNTI4MiA1MjA1IDUzNjAgNTM2MSA1MzUzIDI3MTQgMjczMSA1MzQ5IDUzNjkKNzUxLDQ4MTAgNDgxMiA0ODE0IDI1ODEgMjU4NCAyNTkzIDQ4MDcgNDgxMSA0ODEzIDQ4MTUKNzUyLDAgOSAxNDkgMTIgMTkyIDI2IDU0IDExIDYxIDMzCjc1Myw5IDE0OSAxMSA1NCAzIDQ4MjcgNSA1MiAxODAgNTcKNzU0LDkgMTEgNTQgMCAxMiA0IDE0OSAxNzkgNjkgMQo3NTUsOSAxMSA1NDEgMTk0IDEyIDIxMSAxMzg0IDAgMTAyIDE0OQo3NTYsNTE3IDU0NyAyNTk2IDI1OTcgMjU5OCAyNTk5IDU4MCA2MjMgNjQ3IDY1NAo3NTcsMjk2MCA5IDExIDI5NjQgMjk4OSAyOTY1IDI5NjYgMjk3MyAyOTc1IDI5NTgKNzU4LDQ4MDkgNDgxMiA0ODEzIDI1NTQgMjU4MSA0ODA1IDQ4MDcgNDgxMCA0ODExIDI1MjYKNzU5LDAgOSAxMSA1IDIxODggMjE5NCAyMTk4IDEzODMgMTc4IDIxODQKNzYwLDExIDI5NzEgMjk3NiAyOTg3IDI5OTAgOSAyOTU3IDI5NzggMCAyOTkzCjc2MSwyOTcxIDI3NTAgMjk5MiAyOTYzIDI5ODEgMjk3MCAyOTU2IDI5NTcgMTQ5IDI5NjcKNzYyLDQ4MTAgMjUyNiAyNTg5IDI1OTIgNDgwNSA0ODA3IDQ4MDggNDgwOSA0ODE0IDQ4MTUKNzYzLDkgNTM2NiAwIDUzMzYgNTM1NCA1MzM3IDUzNjMgNTM0OCA1MzQyIDUzNTAKNzY0LDkgNTM2MiA1MzU4IDUzMzkgNTM0NCA1MzQ5IDUzNTQgNTMzNyAxNDkgNTMzNgo3NjUsNTAwOSAzMzUxIDQ5MzYgNDk4OSA1MDA2IDQ4ODMgMzg2OCA0OTI0IDQ4MTkgNDk0OAo3NjYsNTE3IDExIDU0NyAyNTk2IDI1OTcgMjU5OCAyNTk5IDU4MCA1ODMgNTkwCjc2Nyw5IDE3OSAxMiAyMTkxIDIxOTcgMjYgNTQgMTM4MyAxNzggNjYKNzY4LDkgMjUzNCAyNTc5IDQ4MDUgNDgwNiA0ODA3IDQ4MDggMjUxNyA0ODE2IDI1MjQKNzY5LDExIDEyIDE0OSAyOSAxNzggNTIgMjI0IDQ5IDM5IDE3OQo3NzAsMCA5IDE0OSAxMSAzIDU0IDYxIDEyIDE3IDI5Cjc3MSwxMDMwIDUyNSAxNjc4IDgwMSAzMTQyIDMxNDMgNjA2IDEwMTIgNzEyIDcxNgo3NzIsNDY0MyA0NjQ3IDQ2NTUgNDY2MSA0NjYzIDMzMDggMTY3MyA0NjQxIDQ2NDIgNDY0OAo3NzMsOSAxNzggMTIgMTQ5IDIgMCAxMSAxMzgzIDYgMzMKNzc0LDMxODggMzE1NyAzMTU5IDMxODMgMzE4NyAzMTkwIDMxNDQgMzE0NSAzMTU1IDMxNjgKNzc1LDUzMzggNTM0MyA1MzQ4IDUzNTQgMCAxMSA1MzUzIDUzNTcgNTM2NSAxNzgKNzc2LDUxNyAyNTk2IDI1OTcgMjU5OCAyNTk5IDU2MSA1NzQgNTc3IDYxMyA2MjMKNzc3LDkgMCA1MzQzIDUzNDggNTM1MiAyNzU3IDUgMTM5NSA1NCA1MzQ5Cjc3OCw5IDU0IDE3OSA1MiAxMSA1IDEyIDAgMTg0IDEzODYKNzc5LDEyIDE3OCA5IDQgMTEgMTg1IDQ5IDE4MiAxOTIgMTk0Cjc4MCwxMDMwIDMxNDIgMTAxMiA3NjAgMTY3OCA3MTIgODAxIDcxNiA2MDYgNjIyCjc4MSwzMTY1IDMxOTQgMzE0OSAzMTcyIDMxNzMgMzE4OCAzMTg5IDMxOTAgMzE5NSAzMTQ1Cjc4Miw5IDMyMTcgMCAzMjAwIDMyMDIgMzIwOCAzMjExIDE0OSAzMjIxIDMyMjQKNzgzLDEyIDkgMCAxNzggMTggNDkgMyAxMSA1ODMgMzg3Cjc4NCwxNTM3IDE1NjEgMjExMCAyMTExIDIxMTggMjEyMCAyMTYyIDIxNjkgMTY4NSAyMjM3Cjc4NSw5IDExIDEyIDAgMTQ5IDU0IDI2IDMgMTM4MyAxNzgKNzg2LDkgMTUgMyA1NCAxNDkgNyAxMiAxMDUgMzQ3MCA1MzQwCjc4Nyw0NjQxIDQ2NDYgNDY0NyA0NjQ5IDQ2NTAgNDY1MSA0NjUyIDQ2NjAgNDY2MiA0NjQyCjc4OCwwIDkgNTQgMTIgNCAzIDggMTgzIDMzIDI2Cjc4OSwyNTk2IDI1OTcgMjU5OCAyNTk5IDU1OSA1NzcgNTkwIDYxMyA2MjMgNjU0Cjc5MCw5IDAgNCAzMyAxMSAxNDkgMzcgMTk0IDEgNTQKNzkxLDkgMTEgMCAxMzgzIDMgNTQgMTIgNjYgMTQ5IDE0Cjc5MiwyNTk2IDI1OTcgMjU5OCAyNTk5IDU1OSA1ODAgNTkwIDYyMiA2MjMgNjU1Cjc5MywxNDkgMTkgMTc5IDEyIDMzIDgyIDE4NCAxNDcgNjEgMTAyCjc5NCw5IDAgNTQgMTEgNCAxNDkgMyAyMSAxODggNTIKNzk1LDQ4NzggNDg3OSA0OTAyIDQ5MDkgNDgxOCA0ODIwIDQ5NDUgNDgyNyA0OTU5IDQ4MzQKNzk2LDQ2NDIgNDY0OCA0NjUyIDQ2NTUgMjk1NiA0NjYwIDQ2NDEgNDY0NCA0NjQ1IDQ2NDYKNzk3LDQ2NDUgNDY0OCA0NjUwIDQ2NTQgNDY1NSA0NjU3IDQ2NDIgNDY0NiA0NjQ3IDQ2NjUKNzk4LDkgMCA1IDE5MiAxMSAxNzkgNjYgMTIgMjYgMjgKNzk5LDE2NzggODAxIDMxNDIgMzE0MyA2MTEgNjIyIDEwMTIgNTI3IDQxOCA3MTIKODAwLDkgNCAxMiAxNzkgNDkgNTQgMTEgMTYgMCA0MzAKODAxLDU0IDE3OCAxMSAyIDE3OSA0IDE5MiA4NiAxMzg0IDE5NQo4MDIsMTkwIDUxNyAyNTk2IDI1OTcgMjU5OCA1NTkgNTY1IDU3NyA1OTAgNjEzCjgwMywzNDg3IDI2OTMgMzQ4OCAzNTAwIDM0NzcgMzQ3OSAzNDgyIDM0ODQgMzQ4MyAzNDkwCjgwNCw5IDQgMCAxODAgMTEgNTQgMjIgMTQ5IDgyIDUKODA1LDExIDkgNTQgMCAxNDkgNCAxOTQgNSA2NiAxNDcKODA2LDkgMTQ5IDExIDE3OCAxNSAxMiAxMyAxNDcgMjIgMTc5CjgwNywxMSA5IDIyIDEyIDUyIDE4NCAyNjYgMjU4MSAyNiA0NQo4MDgsNTM2OCA5IDUzNDQgNTM1MyA1MzU3IDUzNDMgNTM1OSAwIDI5IDI4MDgKODA5LDQ2NDMgNDY0NCA0NjUwIDQ2NTIgNDY1NCA0NjU1IDM5MTkgMjk1NiA0NjQxIDQ2NDUKODEwLDkgMjU3OCAyNTE0IDI1MTkgMjUyMCAyNTMyIDQ4NTQgMjU1NSAyNTU3IDExCjgxMSwxMSA5IDAgMTIgNTM0MCA1MzQ1IDUzNDkgNTM2MiA1MiA1NAo4MTIsNDY0MiA0NjUyIDQ2NTcgNDY0MSA0NjQ2IDQ2NDggNDY2MCA0NjYyIDMzMDggMzMyNgo4MTMsMjA1OSAyMTIwIDIxNDAgMTYyOSAyMTYyIDIxNjkgMjIzNyAyMjM4IDIyNDAgMjI0NAo4MTQsNDkzNiA0OTg5IDQ4ODEgNTAwOSA0ODkwIDQ4MjEgNDk2NiA0OTczIDQ4NTYgMAo4MTUsOSA1MzQwIDUzNDMgNTM1MCA1MzU2IDUzNjYgNTM1NyAxMiAxNDkgNTM0OQo4MTYsOSAxMSAzMjQyIDMyNTEgMCAzMyAxNDkgMzIzOSAzMjQ5IDI2CjgxNywxOTI2IDIwNzggMjA0MyAxNTgwIDE5NjUgMTYxMiAyMDAzIDIxMzYgMjAxNyA1MjE5CjgxOCw5IDEwMzAgNTI1IDE2NzggMzE0MiA3MTIgMzE0MyA3MTYgNzYwIDM5Ngo4MTksMzE1NiAzMTgyIDMxOTYgMzE5MyAzMTk0IDMxNDggMzE2NSAzMTgxIDMxNDcgMzE1NQo4MjAsMjcwOSA0NjQ1IDQ2NDcgNDY0OCA0NjUzIDQ2NTQgMjQ4NCA0NjYzIDM1NTYgMzMzNQo4MjEsMTIgMTQ5IDkgNTMzNSA1MzU3IDUzNzAgMzAyMiA1MzU0IDUzNjMgNTM2NQo4MjIsMTQ5IDQgMTEgMTIgNTQgMSAxNzkgMzcgMTg5IDMKODIzLDE0MDggMTUzNiAxNDE4IDE2ODkgMTY4NiAxNDM2IDE5NTcgMTQ0OCAxNDYyIDE0NjQKODI0LDkgMTEgNTM0MyA1MzY1IDEyIDUzMzUgNTM2MCA1NCA1MzcxIDUzNjcKODI1LDMxOTUgOSAzMTQ5IDMxNTQgMzE1NSAzMTY0IDMxNzYgMzE4MyAzMTkyIDMxOTQKODI2LDMxODMgMTQ3IDMxNzMgNjYgMzE0NSAzMTU1IDMxNTggMzE2MCAzMTY3IDMxNzAKODI3LDQ2NDIgNDY0NCA0NjQ3IDMzMzUgNDY0MyA0NjQ1IDQ2NDggNDY1MyA0NjU1IDQ2NTYKODI4LDMyMDIgMTQ5IDMyMzMgMCAxMSAyMTA2IDMyMTYgMjkgMTcyNSA0Njg5CjgyOSwzMTU1IDMxODkgMzE1OCAzMTgzIDMxNDkgMzE1MCAzMTU2IDMxNTcgMzE2MCAzMTYxCjgzMCwyMDc4IDIwNDMgMTU4MCAxNjEyIDIxMzYgNTIxOSA1MjIwIDIxNDkgNTIyMSA1MjIyCjgzMSw5IDUgNyA1NCAxMjggMTEgMTIgMzMgMCAxOTIKODMyLDkgMCA0IDE3OCAxNzkgNTQgMTQ3IDY2IDEzODQgMQo4MzMsNTM0OSA1MjA1IDUzNTAgNTM2NyA1MzUyIDUzNTQgNDIyNiAxMiAxNDkgNTM0NQo4MzQsMTQ5IDE3OSA1NCAxMiA1MzYxIDQgNTEgNzAgMTc4IDI5CjgzNSw5IDAgMTEgMjYgNTQgNCAxOSAxNDkgMTI4IDM0NzAKODM2LDkgNTQgMCAxNDkgMTEgMTIgNTIgMTUwMyA1IDM3CjgzNyw1MzU0IDE0OSA1MzUzIDUzMzkgNTM0NCA1MzUxIDUzNjAgNTM2NiA1MzUyIDQyNDIKODM4LDQ4MDYgNDgwOSA0ODExIDI1MjEgMjU3MyAyNTg5IDQ4MDggNDgxMCA0ODEyIDQ4MTQKODM5LDMxNDYgMzE2NSAzMTcyIDMxNzcgMzE4OSAzMTkyIDMxNzggMzE1OCAzMTYyIDI1MjMKODQwLDkgMTEgMTQ5IDEgMCA2IDU0IDEyIDIzIDMKODQxLDAgMTQ5IDExIDEyIDU0IDE0NyAxNzggMjUzNCA0OTIyIDI1MTIKODQyLDE1MzcgMjA2MyAxNTYxIDE1OTYgMjExMCAxNjI2IDIxNDAgMTYyOSAyMTU3IDIxNjIKODQzLDAgMTEgNTQgOSAxOTIgMyA0IDI2IDI5IDMzCjg0NCw5IDAgMTQ5IDEzODYgMyAyNyAzMyAxOTYgMTIgMTM5NQo4NDUsMjk1OCA1NCA0IDI5NTIgMjk4NyAyOTU5IDE0OSA5IDI5NTMgMjk1NQo4NDYsNDIxOSA0MjM1IDQyNDggNDI3OSA1MDIyIDQyMzYgNDM3NSA0MjUxIDQyNzUgNTAyMwo4NDcsMTAzMCAxNjc4IDgwMSAzMTQzIDcxNiAxMDEyIDc2MCA3MTIgNjExIDQxOAo4NDgsMTQ5IDQxMzUgNDE4OCA5IDAgMjk2NiA0MTMzIDQxMzcgNDE1OCAxMQo4NDksOSAxMSA1MzQxIDI4NDQgNTM0OSA1MzYwIDUzNjIgMzAyMiA1MjA1IDUzMzUKODUwLDkgNTQgMTEgMTQ5IDEyIDI2IDUyIDE2IDEgMjI0Cjg1MSwxMTM3IDExMzggMTE0MSAxMTQ1IDExNTMgMTE1NCAxMTU1IDExNTkgMTE3MCAxMTcyCjg1MiwyOTY1IDI5NzQgMCAyOTU3IDI5ODAgMjk5MiA5IDI5ODQgMjk5NCAyOTc3Cjg1Myw5IDAgMTM4NCAxMSAxNyAxMiA1NTUgMyAyNiAxNDUKODU0LDI1NzMgMjU4NyA0ODE2IDI1NjkgNDgwNSA0ODA3IDQ4MDggNDgwOSA0ODEwIDQ4MTMKODU1LDE0OSAwIDkgMTEgMTIgNTQgMTQ3IDMzIDI5IDE3OAo4NTYsMjk1NSAxNDkgMjk5MSAyOTk0IDI5NTcgMjk2MCAyOTY5IDI5NzIgMjk4NyAyOTkwCjg1NywxMSA5IDI3MTcgMjg5MCA0NjM0IDQ2MzUgNTQgMCA0NjI0IDE0OQo4NTgsMCAxMiAxNDkgNCAxOTIgNTQgNSAyMyAyOCAzMjAKODU5LDAgOSAxNDkgNTIgMTc4IDExIDE4NCA1NCA2NiA1MzQwCjg2MCwxMDMwIDE2NzggMzE0MiAzMTQzIDEwMTIgNTI1IDQwNiA3NTcgMzIyIDkKODYxLDAgOSA1MzQzIDUzNTcgNDM5MCA1MzUzIDUzNTkgNTM2MyA1MzY2IDUzNTQKODYyLDI1OTYgMjU5NyAyNTk4IDI1OTkgNTY1IDU4MCA1OTAgNjIzIDY0MiA2NDcKODYzLDkgNCAwIDEyIDE0OSAyIDE3OSA1NCAxOTYgMwo4NjQsNDY0OCA0NjU0IDQ2NTYgNDY2MCAyNTQ5IDQ2NDIgNDY0NyA0NjUyIDQ2NTMgNDY1NQo4NjUsMzE2OSAzMTg0IDMxNDYgMzE1NiAzMTU3IDMxNjUgMzE4MCAzMTg3IDMxODggMzE2OAo4NjYsNTIzMCA0MTQyIDQxODggNDE3OCAxNzggNDE1MCA5IDQxNDMgNDE1OCA0MTY1Cjg2Nyw0MjE3IDQyODMgNDQxMyA0MjM2IDE0OSA0MjYxIDQzMTAgNDMyMyA5IDUwMjEKODY4LDkgMTIgMTQ5IDU0IDMgNjkgMTM4NSAxIDE0NyAyMQo4NjksMTQ5IDU0IDkgMTc5IDM0NTUgMzQ2MiAwIDIgMzQ1NyAzNDU5Cjg3MCwzMTYyIDMxNzcgMTIgMzE4NSAzMTkwIDMxOTUgMzE2MCAzMTY5IDMxNDQgMzE0NQo4NzEsMTIgNjEzIDcwOSA0OTMgNTQgNTE3IDI1OTYgMjU5NyAyNTk4IDI1OTkKODcyLDExIDkgMTQ5IDEyIDE3OSAxOTQgNSA1NTUgMTc4IDEzODUKODczLDAgOSAzIDU0IDE5NCAzMyAxMiAxNDkgMTMgMTc5Cjg3NCw0ODc5IDQ4OTkgNDkxOSA0ODE3IDQ5NDUgNDgyMCA0ODIzIDQ4MjcgNDk1OSA0ODM0Cjg3NSwwIDkgMTIgMTQ5IDU0IDUgMTc4IDMzIDY2IDgKODc2LDI2MDIgMjYwNCAyNjI1IDI2MjggMjYzNCAyNjM2IDI2NDMgMjYwMSAyNjE1IDI2MjcKODc3LDMxNDggMzE1NyAxMSAzMTQ3IDMxNjcgMzE3MCAzMTgwIDMxODIgMzE4NiAzMTkwCjg3OCwxMSAwIDI2IDE3OSAxNDkgMTk0IDkgMTIgMTc4IDUyCjg3OSw5IDExIDEyIDAgMTI4IDM0NzcgMzQ4MCAzNDg4IDM0ODcgMzQ5NAo4ODAsNTQgNjYgNDg5MSAxNDkgNTIgNTM2NCAyIDE1IDE3OCAzCjg4MSwxNTM3IDIwNTkgMTU5NiAyMTEwIDIxMTEgMjExOCAyMTIwIDIxNDAgMTYyOSAyMTYyCjg4Miw0NjQzIDQ2NTAgNDY1NyA0NjQyIDQ2NDQgNDY0NiA0NjQ3IDQ2NTUgNDY2MCA0NjY1Cjg4Myw0NjQ0IDQ2NTEgNDY1MiA0NjU1IDQ2NjUgMzczMCA0NjQxIDQ2NDYgNDY1MyA0NjU4Cjg4NCw5IDIgMTEgMSAxNDkgMCAzMyAxMzgzIDU1NSAxOTIKODg1LDMxNTMgMzE5NSAzMTU0IDMxNjIgMzE2NSAzMTcwIDMxNzIgMzE3OCAzMTgwIDMxODEKODg2LDUzNzYgNTM3OCA1Mzc3IDUzODAgOSA1MzgxIDUwNjMgNDY5OCA1Mzc0IDM0ODUKODg3LDU0IDAgOSAxNDkgMTIgNCA1MiAxOTQgMTM4MyAxCjg4OCw5IDUgMTEgMCAxOTQgMSAzIDEyIDIgMTg5Cjg4OSwyOTY0IDI5ODIgMTEgMjk1NiAyOTU3IDI5NjcgMjk3NiAyOTc5IDE2MDIgMjk3NAo4OTAsMzIyMSA5IDMyMDIgMzIwOSAzMjE0IDE2OTAgMzIyNyAzMjI5IDMyMzAgMzIwMQo4OTEsOSAzNDc4IDM0NzkgMzQ4NyAzNTAxIDM1MDIgMzI3NSAyIDM0NzcgMzQ4NAo4OTIsMTQ5IDUzNDAgNTM1MiA1MzQ0IDUzNzAgMTIgNTMzOSA5IDUyIDUzMzYKODkzLDMxNDQgMzE2MSAzMTgzIDMxNDUgMzE1MSAzMTU0IDMxNTcgMjUyMyAzMTY4IDMxODYKODk0LDE2NzggMzE0MiA3MTIgMzE0MyAxMDEyIDUyNyA3MTYgNjA2IDUyNSA0MDYKODk1LDkgMCAxMSAxNDcgMjIgMTQ5IDE5NiAyMSA4NyAxMzg0Cjg5Niw5IDEyIDUzNDkgNTM0MiA1MzQzIDE0OSA0MzkwIDUzNTIgNTM2NCA1MjgyCjg5Nyw5IDExIDMyNDkgMzI1MSAzMjM5IDMyNDUgMzI0MiAxNDkgMCAzMjQwCjg5OCwzMTg5IDMxNDkgMzE1NyAzMTczIDMxODUgMzE0NiA5IDMxNTkgMzE2MCAzMTYxCjg5OSwzMTc0IDMxNDQgMzE0NSAzMTQ4IDMxNTUgMzE2MiAzMTY2IDMxNzAgMzE4NiAzMTkxCjkwMCwxOTI2IDIwNzggMTk1MSAxOTUzIDE1ODAgMTk2NSAxOTE5IDE2MTIgMjAwMyAyMTM2CjkwMSwyNTk2IDI1OTcgMjU5OCAyNTk5IDU2NSA1OTAgNjEzIDYyMiA2MjMgNjQyCjkwMiwyNjEzIDI2MjMgMjYyNiAyNjM1IDI2MDIgMjYxNyAyNjIyIDI2NDEgMjY0MiAyNjQ0CjkwMywxMSAyOTY3IDI5OTQgMCAyOTU3IDI5ODUgMjk1NiA5IDIxOTYgMTQ5CjkwNCw1NCA5IDQgMTMgMTg5IDE5NCAxMiAxNzggNjMgMwo5MDUsMTEgOSAwIDI2IDIxOTEgMjIwMiAyMjI0IDUgMjE5MyAyOQo5MDYsNTI3IDE2NzggODAxIDMxNDIgMzE0MyA3MTIgNjExIDEwMTIgNDE4IDQ5OQo5MDcsOSA0MTg4IDUyMzAgMTEgNTQgNDg5MSA0MTM1IDEyIDE0OSAwCjkwOCw0NjQ0IDQ2NDggNDY2MyA0NjY1IDE3ODAgMzMyNiAzMzM1IDM1MTQgNDY0MSA0NjQyCjkwOSwxMDMwIDE2NzggMzE0MiAzMTQzIDUyNSAzMjIgNjIyIDc1NyA5IDcxNgo5MTAsNDgwNiA0ODA4IDQ4MTUgOSAyNTc0IDI1NzkgMjU5MiA0ODA3IDQ4MTAgNDgxMgo5MTEsMCA5IDE0OSA1MiAyNiAyOSA1NDEgNTQgMTk0IDE3OQo5MTIsMTEgMjk2MCAxNDkgNDEzMSA1MiA1MjMwIDkgMCAxMiAyOTY2CjkxMywzMTU1IDMxNDcgMzE1NiAzMTYyIDMxNjUgMzE4MiAzMTg1IDMxODYgMzE4OCAzMTkzCjkxNCw5IDU0IDAgMSA0IDE4OSAxNDkgNiA1IDEzODQKOTE1LDE1MzcgMjA1OSAyMDYzIDE1OTYgMjExMCAyMTIwIDIxNDAgMTYyOSAyMTY5IDE2OTUKOTE2LDUxNyAyNTk3IDI1OTkgNTU5IDU2NSA1OTAgNjEzIDYyMyA2NDIgNjU0CjkxNywyOTUxIDkgMjk3NCAyMjM5IDI5OTUgMjk2MyAyOTY1IDI3NTAgMjM1MiAyOTUyCjkxOCwxMSAxIDI2IDAgMTQ5IDI5IDUgOCAxNzkgNzEKOTE5LDIwNTkgMjA2MyAxNTk2IDIxMTAgMTYwMSAyMTIwIDE2MjYgMjE0MCAxNjI5IDIxNTMKOTIwLDkgNiAxMiAxMSAxNzggNTIgMTYgMTg3IDYxIDE2NTQKOTIxLDkgMTEgMCAxNDkgMTM4MyAxIDEyIDMzIDIzOSAyNgo5MjIsNiAxNzkgMTIgMCA5IDM0NzAgNTM2MCA1MzY0IDUzNjUgNTM3MAo5MjMsMTEgNDI0MiA1MzM5IDUzNTQgNTM2MCA5IDUzNDMgNTM1NiA1MzYxIDAKOTI0LDkgMCA1ODAgNjc1IDExIDUgMjU5NiAyNTk3IDI1OTggMjU5OQo5MjUsOSA1MzUyIDUzNTYgMjc4OCA1MzUwIDAgNTQgNTIwNSA1MzM3IDI3OTAKOTI2LDI0ODggMjQ5NiAyNTA2IDI1MDUgMTIgMjQ4MiAyNDg5IDI0OTUgMjQ4NCAyNDg2CjkyNywwIDUzNTMgNTIyNyA1MzQ2IDUzNTYgNTM2MSA1MzM2IDUzNTggNTM1OSA1MzYzCjkyOCwxMSAxMiA5IDU0IDE0OSAwIDE3OCAxMzgzIDE1IDE3OQo5MjksMCAyODQ0IDUzMzkgNTM1NyA1MzQzIDUzNDYgNDIyNiAxMSA1MjgyIDE3OAo5MzAsNTM1OSAxMiAyOTUwIDM0ODAgNTMzNiA1MzU3IDUzNjAgMCAyNzE0IDI5MTkKOTMxLDMxNjQgMzE3MyAzMTQ4IDMxNTcgMzE2MyAzMTY5IDMxODEgMzE0NCAzMTQ1IDMxNTIKOTMyLDkgMTEgMjk3OSAyOTkxIDI5OTMgMCA0IDI5NjAgMjk4OCAyOTU1CjkzMywxNTM3IDIwNTkgMTU5NiAyMTE4IDIxMjAgMjE0MCAyMTYyIDE3MDEgMTcxNSAxNzIwCjkzNCwyNTc0IDQ4MDUgNDgxMCA0ODExIDI1MTMgMjU5MyA0ODA2IDQ4MDcgNDgwOCA0ODEzCjkzNSwyNTk2IDI1OTcgMjU5OCA1NjUgNjIzIDY0MiA2NjEgNjkxIDcxMSA4MDIKOTM2LDExIDkgMjc1MCAyOTczIDMzIDI5NTIgMTIgMjk2OCAyOTk2IDU0CjkzNyw0NjQ1IDQ2NDggNDY1MCA0NjUyIDQ2NTQgMjk1NiA0NjQzIDQ2NDkgNDY1NyA0NjU4CjkzOCwzMTk0IDMxNTQgMzE0NCAzMTQ1IDMxNDggMzE1NiAzMTU3IDMxNzcgMzE4OCAzMTkyCjkzOSwwIDE3OCA5IDI5IDEyIDU2IDE5MiAxOTMgMzUgMTEKOTQwLDMxNDkgMzE3MiAzMTQ3IDMxNjAgMzE3NCAzMTgwIDMxNDQgMzE1MyAzMTU3IDMxNTgKOTQxLDAgNTQgMTEgMTQ5IDUgMjkgNTIgMzMgMTIgMjYKOTQyLDkgMTEgMTQ5IDI3NDYgMzAyMiA1MzQ0IDUzNDkgNTM2NSA0MjI2IDEzOTUKOTQzLDEyIDMgMTEgMTQ5IDU0IDE3OSA1IDE4OCAxNzggMjYKOTQ0LDI5NjkgOSAyOTUyIDIxOTMgMjk3MSAyOTcyIDI5OTQgMCAyOTUzIDI5NjMKOTQ1LDExIDE0OSAxOTggOSAzIDMzIDU0IDAgMTIgMTc4Cjk0Niw5IDExIDE0OSAxNzggMTIgOCAwIDE4OCAxNzkgNAo5NDcsOSAxMSA0NjI1IDQ2MzQgNTIgNDYxNyA0NjIzIDQ2MzUgNDEzNyAxOTk4Cjk0OCwyNTk2IDI1OTcgMjU5OCAyNTk5IDU1OSA1NjUgNTc3IDYxMyA2MjMgNjQyCjk0OSw5IDI1ODggMjU4NCA0ODA2IDQ4MTAgNDgxNCA0ODE1IDQ4MTYgMjU1MSAyNTczCjk1MCw0ODk5IDQ5MDkgNDkxOSA0ODIwIDQ4MzQgNDk1OSA0ODQ3IDQ4NjAgNDg3OCA0ODc5Cjk1MSwzNDgwIDUzNDkgNTM2NiAwIDUzNjcgNTM1MyA1MzYyIDE3OCAyNzE0IDQzOTAKOTUyLDkgMTEgMCAyOSA1NCA2NiAxOTQgMTM4NiA2IDE4OQo5NTMsMzE1MCAzMTg0IDMxOTAgMzE0OCAzMTQ5IDMxOTYgMzE3OCAzMTgxIDkgMzE1Mwo5NTQsOSAxMiA0NjI0IDAgNDYyNyA0NjM1IDE0OSAxMSAyMTc5IDQ2MjUKOTU1LDQ4MDUgNDgwNyA0ODEyIDI1NTggNDgwNiA0ODA4IDQ4MTAgNDgxMyA0ODE1IDI1MjgKOTU2LDkgNTQgMTEgMTIgMTYgMTQ3IDE0OSAwIDQ4NjggNDg3MQo5NTcsMjk4NSAyOTk2IDExIDI5NTMgMjk1OCAyOTc5IDI5OTAgMjc1MCAyOTgwIDI5NjUKOTU4LDExIDE0OSA5IDAgMTc4IDYxIDEzOTUgMTIgNSAxODgKOTU5LDkgMzMgMTk0IDIxIDE3OSAxMzgzIDAgMyAxNiAyOQo5NjAsMTEgMTIgOSAzMyAxNzkgMCA1NiAxMzg0IDU0IDE0OQo5NjEsMTQ5IDI2IDkgMTk2IDU0IDE3OCA2MDEgMTc5IDg2IDAKOTYyLDQyNzkgNDIxOSA0MjgyIDQyODggNDMzOCA0MjM1IDQzNzUgNDI1MSA1MDIxIDUwMjMKOTYzLDQ4MDYgNDgxMiA0ODE0IDQ4MTUgMjU3NCAyNTc5IDI1ODcgNDgwNyA0ODA4IDQ4MTAKOTY0LDUwMjMgNDI1OSA1MDIyIDQyNjUgNDIzNSA0MjUxIDQ0NzYgNDIzMCA0MjM2IDQyNDgKOTY1LDkgNDYxOSA0NjM0IDAgNDYyMCA0NjMyIDU0IDMzMDIgNDYyNCA0NjI4Cjk2Niw0ODk5IDQ5MDkgNDgxNyA0ODE4IDQ5NDUgNDgyMCA0ODM0IDQ4NjAgNDg3OCA0OTE5Cjk2NywzMjAxIDEyIDMyMTMgMzIxNyAzMjAyIDMyMDkgMTEgMTcyNyAxMzgzIDMxOTkKOTY4LDMxNjUgMzE3NCAzMTQ1IDMxNjQgMzE2OCAzMTY5IDMxNzMgMzE3NyAzMTgyIDMxODQKOTY5LDkgNDgzNCA0OTAyIDQ5MDkgNDg0NyA0IDEgMTEgNDg3OSA0ODk5Cjk3MCwxNDA4IDE1MzYgMTQxOCAxNjg5IDE0MzYgMTk1NyAxNDQ4IDE0NjEgMTQ2MiAxNDY2Cjk3MSwxNTM3IDIwNTkgMjA2MyAyMDgxIDIxMTggMjEyMCAyMTQwIDE2MjkgMjE2MiAyMTY5Cjk3Miw5IDUyIDAgMTQ5IDU0IDE5NCAxMSAxOTYgNCAxMgo5NzMsMTEgOSAxNiAzMyAxNzkgMiAxNDkgNTIgMjYgNjYKOTc0LDUxNyAyNTk2IDI1OTcgMjU5OCAyNTk5IDU1OSA1NjUgNTkwIDYyMiA2NjEKOTc1LDUxNyA1NDcgMjU5NiAyNTk3IDI1OTggMjU5OSA1NTkgNTY1IDU4MCA1ODMKOTc2LDExIDEyIDU0IDAgOSAxNDkgMjYgMTc4IDI5IDQKOTc3LDkgMTc5IDAgMTEgMTM4MyA1NCA2NzEgNTQxIDE4MyA2Ngo5NzgsOSAwIDMgMTEgMTQ5IDUyIDEzODMgNTQgMTc4IDIwMQo5NzksMTEzNiAxMTM3IDExMzggMTEzOSAxMTQzIDExNTEgMTE1MyAxMTU0IDExNTcgMTE1OQo5ODAsNDMyNiA0MjE5IDQzNzUgNDI1MSA1MDIyIDQyNzQgNDI3OSA0MzAxIDQzMTAgNDQ2NQo5ODEsOSAxNDkgNTE3IDI1OTYgMjU5NyAyNTk4IDI1OTkgNTU5IDU2NSA1NzQKOTgyLDkgMTEgMTQ5IDU0IDEzODMgMjYgNSAxMiAyMDMgMjM5Cjk4MywwIDExIDEyIDU0IDMzIDcgMTc5IDEgMTMgNTM0MAo5ODQsOSA1MzY5IDUyIDI4NzcgMjcwNCA1MzQwIDQyMjYgMjc2NyA1MzM1IDUzNDkKOTg1LDkgMTEzMCAwIDExMzIgMTEyOSAxMTI4IDEyIDE0OSAyNiAxMQo5ODYsMTEgMTc4IDQgMTQ5IDkgMCA1NCA2IDEzODQgNDM5MAo5ODcsMzE4OSAzMTQ4IDMxNjkgMzE3MCAzMTczIDMxNzcgMzE5MiAzMTk2IDMxNDkgMzE1NQo5ODgsMCA1MzQzIDUzNjAgNTM0MiAxMSAxNDkgNTMzNyA1MzM4IDUzNTYgNTM1Nwo5ODksMjU5MiA0ODA4IDQ4MTAgNDgxMyAyNTExIDI1MTUgOSAyNTY5IDEyIDIyMTIKOTkwLDkgMTQ5IDUyIDExIDAgMyAxNzggMSAzMzc1IDEzODMKOTkxLDQ4NzggNDkwMiA0ODE4IDQ5NDUgNDgyMCA0ODI3IDQ4MzQgNDg0OCA0ODYwIDQ5MDkKOTkyLDAgMTIgNTQgOCAxNDkgNiA2NiAxMzg2IDExIDE4MQo5OTMsNTQgMTIgMCAxNzggOSAxNDcgMTQ5IDQgMTEgMjU1MQo5OTQsMTIgOCA1NCAxNDkgMjA4IDEgNCAxNiA2NiAxOTQKOTk1LDQgMCAyMyAxMiAxMDUgNTIgMTc5IDcgMTM4MyAxMzg0Cjk5Niw0NjQyIDQ2NDQgNDY0OCA0NjUwIDQ2NTIgNDY1NCA0NjQxIDQ2NDUgNDY1MSA0NjUzCjk5NywzMTU4IDMxNDcgMzE1MCAzMTUyIDMxNTMgMzE3MiAzMTczIDMxNzYgMzE0NSAzMTYxCjk5OCw5IDUzNTEgMCAyIDExIDE0OSA1MzU0IDUzNTUgNTM2MSAxMgo5OTksOSAwIDE0OSAzNyAxMiAxODMgNjMgOCAzMyAxODQKMTAwMCw5IDExIDEyIDUyIDU0IDAgNiAxNDkgMTQ3IDEzODcKMTAwMSw1MDIxIDUwMjMgNDI3NSA0NDEzIDQzMDggNDQ0NiA0NDY1IDkgNDIzNSA0Mzc1CjEwMDIsOSAyNTk2IDI1OTcgMjU5OCAyNTk5IDU2MSA1NjUgNTc0IDU4MCA1OTAKMTAwMyw5IDI5IDEyIDAgMTEgNTQgODIgMyAxOTIgNQoxMDA0LDUyIDU0IDExIDE1IDEwNSAwIDEyIDI2IDE5MiAxMzg3CjEwMDUsMTc4IDAgNyAxMiAxNDkgODY5IDE4OSAxMzgzIDE5NCAxNTEKMTAwNiw5IDExIDAgMTQ5IDUyIDMzIDggNSAxNzkgNzUKMTAwNywyOTY4IDI5NTUgMjk1NyAyOTU5IDI5ODUgMjk4NyA5IDI5NjcgMjk3NiAyOTg2CjEwMDgsMTEgMTIgMTQ5IDEzOTUgODYgMTM4NCAxNzggNTQgNjMgMjIKMTAwOSw0Mjc5IDQyMzUgNDQxMyA0MjQxIDQyNDggNDI1NCA1MDI0IDQyODIgNDI4MyA0MzI2CjEwMTAsNTAxOSA0OTcyIDUwMDYgNDg4MSA0OTE3IDQ5NjMgNDk2NiA0OTc0IDQ4NTYgMzM1MQoxMDExLDkgMTEgMCAxIDE0NyAxNzggNTM3MiAzMyA0OSA0CjEwMTIsMTQ5IDExIDAgNTQgMTc4IDIgMyAxOTYgMTIgMjUyOQoxMDEzLDkgMTIgNyAxOTQgMSAyIDE0OSAxMSA1NiA1NAoxMDE0LDExIDAgNTQgMiA3IDI2IDYzIDIxIDE0OSAzMwoxMDE1LDEwMzAgNTI1IDgwMSAzMTQyIDMxNDMgNjExIDEwMTIgNzYwIDcxMiA2MDYKMTAxNiwxNDkgNTM1NiA1MzYxIDUzNjUgNTM2NiA1MzQzIDUzNjAgOSA1MzM4IDAKMTAxNyw5IDUgMzg2OCA0ODk1IDQ5NTUgNDk2NSA0OTY2IDQ5NzMgNTIyOSAzMzE2CjEwMTgsMTEgNTM1OSA1MzYwIDUyMjcgNTM2NCA1MzcxIDUzNDAgNTM2MiA1MzM1IDUzMzgKMTAxOSw0MjM1IDQyNjEgNDI3OSA0MzAxIDQzMTAgNDMyNSA0NDY1IDQ0MTMgNDI0OCA1MDIyCjEwMjAsMTEgMCAxNzggNTQgMTk2IDUzNDMgNTMzNyA1IDEyIDE0OQoxMDIxLDExIDkgNTQgMTQ5IDUgMTM4NCAxMiAxNiA4IDI3CjEwMjIsMTEgMTc4IDkgMCAxMiAxNzkgMTQ3IDUyIDU0IDE0NjQKMTAyMywxMiAxNDkgNTQgNCAxNzkgMCAyODQ0IDI3NjkgNTMzNiA1MzQ4CjEwMjQsMTAzMCA1MjUgMTY3OCA4MDEgMzE0MiA3MTYgMTAxMiA2NTggNzEyIDYwNgoxMDI1LDkgMTQ5IDAgNCA1NCAxIDI5IDY2IDEyIDIzCjEwMjYsOSAwIDIgNTI4MiA1MzUyIDExIDU0IDQ5IDE3OSAxMzg1CjEwMjcsMjU5NiAyNTk3IDI1OTggMjU5OSA1NTkgNTY1IDU3NyA1OTAgNjIzIDY0NwoxMDI4LDI0ODIgMjQ5NiAyNDk3IDI0OTggMjUwNiAyNDg2IDI1MDQgMjUwOSAwIDE1NTkKMTAyOSwwIDkgMTkyIDEyIDE0OSAxMDMwIDM5NiA1MjUgMTY3OCAyNgoxMDMwLDEwMzAgMTY3OCAzMTQyIDMxNDMgNjA2IDUyNSA3MTIgNzE2IDQ5OSA3NjAKMTAzMSw0OTU1IDQ4ODEgNDg5MCA0OTM2IDQ4MjEgNDk2MiA0OTY2IDQ4NDEgNDk3MyA1MjI5CjEwMzIsMCA1MzQzIDUzNDggNTM1OCA1MzYwIDUzNTMgNTM1NCAzMyA1MzQwIDUzNDkKMTAzMywzMTkzIDMxNDggMzE2NCAzMTcxIDMxNzIgMzE3NCAzMTgzIDMxODQgMzE4NyAzMTk1CjEwMzQsMzE0NSAzMTgyIDMxOTQgMzE1MSAzMTU2IDMxNjUgMzE3MiAzMTc0IDMxNzcgMzE4MQoxMDM1LDAgMTQ5IDkgNTQgMTc5IDE3ODAgNCAxODcgMTg5IDE1MDMKMTAzNiw1NCAwIDkgMTQgNDkgMTc4IDQgMTQ5IDE5NCAxMgoxMDM3LDExIDE3OCA1NCA4NiAxMzg3IDAgMSA1IDE4OCA2NgoxMDM4LDkgMTc5IDU0IDAgMTIgMzggMTYgMTQ5IDI2IDUKMTAzOSwyMDc3IDUyMDEgNTIwMiA1MjAzIDUyMDQgNTIwNiA1MjEwIDUyMTYgNTIxNyA1MjE4CjEwNDAsMCAxMSA5IDE4NCA1MzYwIDUzNjggMjYgNTM2MyAzNDcwIDUzMzcKMTA0MSwxNTM3IDIwNTkgMTU5NiAyMTE4IDIxMjAgMjE0MCAxNjI5IDIxNTcgMjE2MiAyMTY5CjEwNDIsMSAxMSA1NCAwIDE4OSAyIDEyIDE2IDI1ODAgMTM4NwoxMDQzLDMxNDUgMzE1OSAzMTczIDMxNDYgMzE1MCAzMTY0IDMxODkgMzE5MCAzMTU0IDMxODgKMTA0NCwyNjA3IDkgMjYwMSAyNjA4IDI2MTIgMjYyMiAyNjI1IDI2MzUgMjYxMyAyNjI5CjEwNDUsMTIgMCAxMSAxNiAxNDkgNTQgOSAxNzkgMTggMTkKMTA0Niw5IDExIDAgMTIgNTQgMTg5IDUgMjEgNCAxNDkKMTA0NywzMTU1IDMxNTYgMzE2OCAzMTkyIDMxNDQgMzE0NSAzMTUxIDMxNjYgMzE3MyAzMTg4CjEwNDgsMCAxMSA5IDQgMTIgMTQ5IDU0IDYzIDEzOTUgMTgwCjEwNDksMCAxNzYxIDkgMTEgMzIyMSAyMTA2IDMyMDIgMzIxNiAxNDkgMzIyNQoxMDUwLDI1ODcgNDgwNyA0ODEwIDQ4MTMgNDgxNiAyNTI0IDI1MjYgMjU2OSA0ODA2IDQ4MTEKMTA1MSwxMDMwIDE2NzggODAxIDMxNDIgMzE0MyA2MjIgOSA1MjUgNjA2IDEwMTIKMTA1MiwxNDkgMCA1NCAyNTk2IDI1OTcgMjU5OSA1NjEgNTY1IDU3NCA1ODAKMTA1Myw5IDAgNDQxMyA0Mjg4IDQzMTggMTEgNDIzNSA0MjQ4IDQyNzQgNDIxNwoxMDU0LDY2IDAgMTM5NSAxMiA4NiAxNCA1MiA3OCAxMSAxMzgzCjEwNTUsNDgxNyA0ODE4IDQ4MjcgNDgzNCA0ODQ3IDQ4NDggNDg2MCA0ODc4IDQ4OTkgNDkwMgoxMDU2LDMxNjcgMzE4NCAzMTg5IDMxNDggMzE1OCAzMTY0IDMxNjUgMzE3MyAzMTkwIDMxNDQKMTA1NywwIDExIDkgNTQgNCAxNiAxMiA1NiAxMzg2IDUKMTA1OCw0NjQxIDQ2NDIgNDY0MyA0NjUyIDQ2NjQgMzkxOSAzNTE0IDQ2NDUgNDY0NiA0NjQ5CjEwNTksOSA1NDEgNTU1IDk1OSA2MjkgNTQgMSAyNzUgMTk4IDMKMTA2MCwyNTk3IDI1OTkgNTgzIDU5MCA2MTMgNjIzIDY2NCA4MjggODUxIDg2OAoxMDYxLDE0OSA5IDEyIDU0IDU3OCA3MCAyIDUyIDExIDI2CjEwNjIsNTM1NiA1MzQ1IDUzNTIgNTM2NiA1MzY3IDUzNjkgMCA1NCA1MzM5IDUzNDcKMTA2MywxMTM1IDExMzggMTE0MSAxMTQ3IDExNDkgMTE1MyAxMTU0IDExNTkgMTE2NCAxMTY4CjEwNjQsOSAwIDExIDEyIDU0IDE5MiAzMyA2NiAxNDkgMTg0CjEwNjUsOSAwIDE0OSAyNiA1NCAzIDE3OSAzMyAxMDUgMTEKMTA2NiwxNDkgOSAxMSAxMiAyNiA0IDE1IDE5NCAxMzk1IDEKMTA2NywxNTM3IDE1OTYgMjExOCAyMTIwIDIxNDAgMTYyOSAyMTYyIDE3MDEgMjIzOSAyMjQyCjEwNjgsMzE2NiAzMTY3IDMxOTMgMzE5NiA0Mjc5IDQzNzUgNDM4MCAzMTQ1IDMxNTQgMzE1OAoxMDY5LDM0NzggMzQ4NyAzNDk5IDM1MTIgMzQ5OCAzNTA1IDM0ODQgMzQ3NyAzNDgxIDM0OTUKMTA3MCwxMSAxNDcgMTIgMTQ5IDkgMjkgMTc5IDAgMTggMTk0CjEwNzEsOSAxMiAxNDkgNjYgMTEgMCAyOSA1NCAxIDMzCjEwNzIsNTQgMzMgMCA0IDExIDEgMTc4IDcgOSA1MgoxMDczLDkgNTQgMTQ5IDE3OCA3IDExIDE5MiAwIDE5MCAxNzkKMTA3NCw5IDAgMjA2NyAyMDc0IDE1NjkgMTU3MyAyMDg1IDE1ODQgMjE1NiAxNjUyCjEwNzUsNDY0OSA0NjUyIDQ2NTUgNDY2NCA0NjQyIDQ2NDMgNDY0NCA0NjQ2IDQ2NDggNDY1MAoxMDc2LDkgNTM2NSAxIDUzNDggNTM2MiA1MzYzIDU0IDUzNTAgMCAxMQoxMDc3LDEyIDQgNiAxMSAyMiAxODcgMTkwIDEzODMgMTQ5IDU0CjEwNzgsMTEgOSAwIDM3IDUzNDYgMTQ5IDE0NyAxMzg0IDUzMzcgNTM1MAoxMDc5LDkgMzE0OCAzMTUwIDMxNTggMzE2OCAzMTczIDMxNzQgMzE3OSAzMTg3IDMxOTMKMTA4MCwxMDMwIDE2NzggODAxIDcxMiAzMTQyIDMxNDMgMTAxMiA2MjIgNDk5IDc1NwoxMDgxLDkgMTEgNTQgMiAxODUgNTIgMTk0IDQgOCAxNzkKMTA4Miw5IDE0OSAxMiAyMyAxNzkgMTEgMzMgMTc4IDU0IDAKMTA4MywzMTY5IDMxODUgMzE5MCAzMTQ3IDMxNDggMzE2NSAzMTgwIDMxODQgMzE0NCAzMTQ1CjEwODQsNTM1NCA1MzYwIDUzMzcgMCA5IDUzMzYgNTM0MSA1MzQ4IDUzNTMgNTM0NwoxMDg1LDUzMzYgMCAxNDkgNTM1MyA1MzYwIDUzNjUgNTM3MCAxMiA1MzY4IDkKMTA4Niw1MzUyIDUzNDggNTIyNyAyOTUwIDE0OSA1MzQ2IDUzNTcgNTM1OSA1MzcwIDkKMTA4Nyw5IDExIDI2OTkgNTM0MSA1MzU5IDUzNjMgNTM2NSA1MzY4IDE0OSA1MjI3CjEwODgsNTM2MiA1MzUxIDUyMjcgMTIgNTM2MCAxMSA1MzU3IDUzNzAgMjc5MCA1MzUyCjEwODksMTIgMCAxMSAxNDkgNTQgNCAyOSAxNjAgMzMgNjIKMTA5MCwxNjc4IDgwMSAzMTQzIDcxNiAxMDEyIDc1NyA3MTIgNjExIDEwMzAgMzk2CjEwOTEsOSAzMjE1IDMyMTcgMzIyOSAzMjE4IDMyMjUgMTY5MCAzMjMzIDMyMzUgMTM4NQoxMDkyLDE2NzggODAxIDMxNDIgMzE0MyA3MTIgNzU3IDEwMzAgMzIyIDYyMiA1MjUKMTA5Myw5IDEyIDMyMTMgMzIxNyAzMjE4IDMyMzIgMzIwOSAzMjAyIDMyMjcgMTM4MwoxMDk0LDkgMTEgMCAyOSA0OSA1MjI3IDQgMTQ5IDI2IDYwMQoxMDk1LDI5NTcgMjk3NSAwIDkgMjk3MiAyOTczIDIyMzkgNTQgMTQ5IDExCjEwOTYsNTM2OCA1MzQyIDUzNTEgNTM1MiA1MzU5IDEyIDI3MDQgNDI0MiAyNiA1MzQ2CjEwOTcsOSA0OTAyIDQ5MDkgNDkxOSA0ODE3IDQ4MTggNDk0NSA0ODIwIDQ4MjMgNDgyNwoxMDk4LDUzNjIgNTMzNSA1MzU0IDUzNDUgNTQgNTI4MiAyODUyIDUzMzcgNTM1NSA1MzY2CjEwOTksMTEgMTIgMCAxMzgzIDQgNTIgMTQgNSAzMSAyCjExMDAsMTEgMTQ5IDAgOSAxMiAxNzggMzMgODIgNSAxOTIKMTEwMSw5IDAgMTc5IDEyIDUgOCAxNiAxNDkgMTM4NCAxMQoxMTAyLDkgMCAxNDkgMTYxNiA0NTkxIDQgNTQgMjM5IDIxNjcgNQoxMTAzLDAgNTM3NiA1Mzc3IDUzODEgNTM4MiA1MDYzIDUzODMgNTM3NCA5IDUzODAKMTEwNCwwIDEgOSAxMSA0OSAzIDY3MSAxNDcgMTIgMTQ5CjExMDUsOSAxMSAwIDE0OSAxNzggMTIgMTg4IDQxNDMgNTQgNjMKMTEwNiw5IDUzNDMgNTM1MCA1MzU3IDUzNjYgNTM0OSA1IDEyIDI4NTIgNTMzOQoxMTA3LDEyIDkgMTEgMTQ5IDIzIDAgNTQgMTc5IDQgMTc4CjExMDgsMjU1NCA5IDI1NzMgMjU3OSAyNTg5IDI1OTIgNDgwOCA0ODEwIDQ4MTEgNDgxMgoxMTA5LDkgMTQ5IDAgMiAxNDcgMTIgMyAxMSA1NiAxNzkKMTExMCwzMTkzIDMxNDggMzE1NSAzMTYyIDMxNzIgMzE3NCAzMTk2IDMxNDUgMzE1MSAzMTY5CjExMTEsNDgwOSA0ODE2IDI1NzMgMjU3OSAyNTg0IDQ4MTAgNDgxMSA0ODEzIDQ4MTQgMjUxMwoxMTEyLDI1NjkgNDgwNiA0ODA3IDQ4MDggNDgxMCA0ODE0IDExIDI1NzkgMjU5MyA0ODA5CjExMTMsNTM0MyA5IDUzNTIgMCA1MzQwIDUzNDYgNTM0NyA1MzUxIDUzNjEgNTI4MgoxMTE0LDAgOSAxMSAyNTg0IDU0IDIyODkgNCAyNTgxIDI1ODYgMjU5MwoxMTE1LDI3NTAgMjk5MSAyOTk0IDI5ODUgMTc4IDI5OTMgMjk4OSA4IDI5NTEgMjk2NQoxMTE2LDAgOSA1NCAyNzY5IDUzNjggNTM1MyA1MzM4IDUzNjUgNTIwNSA1MzQzCjExMTcsMjk3MiAyOTU4IDIxOTYgMjk3NSAyOTgwIDI5ODIgMjc1MCAyOTU2IDI5NzggMTM4MwoxMTE4LDQ2NDcgNDY0OCA0NjUwIDQ2NTIgNDY2MCA0NjY1IDQ2NDEgNDY0NiA0NjU0IDQ2NjEKMTExOSwyOTc5IDI5ODAgMjk1MiAyOTY0IDI5NzMgMjk3NCAyOTc1IDE4MjYgMjk5MyAxOTAwCjExMjAsOSAxMSAwIDM0NzAgMTQ5IDE3OSA1NCAzMyAzNCA1MzQyCjExMjEsOSAxNzkgMTIgMjkgMCAzMyAxMSA1NCAxIDMKMTEyMiwwIDEyIDU0IDExIDM3IDQgMjIgNTIgMTg0IDE3OAoxMTIzLDkgMCAxMSAxMiAzIDEzODMgMTQ3IDM3IDIyIDM4CjExMjQsMjYgMTc5IDE0OSA1IDU0IDY2IDExIDE0MDAgNTYgNAoxMTI1LDkgMTIgNCAxNzkgMTEgMTQ5IDU0IDY2IDEzODYgNTM2NwoxMTI2LDE1MzYgMTQwOCAxNDE4IDE2ODYgMTY4OSAxNTMyIDE5NTcgMTQ0OCAxNDYxIDE0NjIKMTEyNywyOTkzIDkgMjk1NiAyOTYwIDI5ODAgMjE5MyAyMTk2IDI5NzMgMCAyOTc3CjExMjgsOSAyOTgyIDI5NjkgMjk3NCAxODgyIDE5MDAgMjk1OCAyOTYwIDI5NjggMTEKMTEyOSw5IDExIDMyMzAgMTQ5IDEyIDQ2ODkgNTIgMjYgMTY1NCAwCjExMzAsMjYwMiAyNjA4IDI2MTIgMjYxMyAyNjE5IDI2MjcgMjYzNCAyNjA0IDI2MDUgMjYwNwoxMTMxLDE1MzcgMjA1OSAyMTE4IDIxMjAgMjE0MCAyMTUzIDIxNjIgMTY2NCAxNjk1IDE3MDEKMTEzMiw1NCAwIDkgMTc4IDE0OSA2MSA4MiAxMzgzIDEyIDMzCjExMzMsMTEgOSAwIDEyIDUgMTUwMCA0IDE0IDE0OSA1MgoxMTM0LDUzNDcgOSAxNzggNTQgNTM0NiA1MzU2IDUzNTcgNTM0OSAxNDkgMjc1OAoxMTM1LDE3OCA5IDAgMTQ5IDU2IDM3IDU0IDg2IDI4IDE5NgoxMTM2LDE3OSA4MiAxNDkgMjkgMTYwIDczIDExIDE5IDMzIDE4OQoxMTM3LDkgNTM0MCA1MzQ2IDI5MjIgNTMzOCA1MjgyIDUyMjcgNTM2MCA1MzY3IDAKMTEzOCwyNTc5IDQ4MDcgNDgxMyA0ODE2IDI1MTUgMjU3MyAyNTc0IDI1ODggMjU5MiA0ODA1CjExMzksOSAxMiAwIDggMTc5IDU0IDEzODMgMyA0IDY2CjExNDAsNTI1IDE2NzggODAxIDMxNDIgMzE0MyA3MTYgMTAxMiAzMzYgNjA2IDc2MAoxMTQxLDExIDkgMTIgMTc5IDUyIDEgMTgwIDE5NCAxOTIgMAoxMTQyLDkgMTEgMTgwIDAgMTUgNTIgMTk2IDUgMTYgMTQ5CjExNDMsOSAxMSAwIDEyIDI2IDEzODUgNSAxODggMzMgMTkyCjExNDQsOSA1NCAxMSAwIDEyIDE1IDEzODQgNCAxMjggMjcKMTE0NSw0NjQyIDQ2NDMgNDY1MiA0NjUzIDQ2NTQgNDY1OCA0NjYwIDQ2NjQgOSA0NjQ3CjExNDYsNDgwNiA0ODA3IDQ4MTAgNDgxMSA0ODEyIDQ4MTYgMjIxMiA0ODA1IDQ4MDkgNDgxNAoxMTQ3LDI5NTYgNDY0MyA0NjQ4IDQ2NTAgNDY1NCA0NjU1IDQ2NjAgNDY0NCA0NjQ5IDQ2NTcKMTE0OCwxNDA4IDE1MzYgMTQxOCAxNjg5IDE2ODYgMTQzNiAxOTU3IDE0NDggMTQ2NCAxOTc3CjExNDksNDY0MiA0NjQzIDQ2NDcgNDY1NyA0NjQ0IDQ2NDUgNDY0NiA0NjUwIDQ2NTEgNDY1NAoxMTUwLDIwNjcgMTU2OSAxNTg0IDE3MTEgMTc1NyAxNzkzIDE4MjkgMTgzNSAxODM2IDE4MzgKMTE1MSwwIDkgMTIgMTEgMTQ5IDU0IDEzODYgNCAxMzk1IDEKMTE1Miw5IDAgMTk0IDM3IDEyIDE3OSA2MSAxNDkgMTc4IDExCjExNTMsNTQ3IDI1OTYgMjU5NyAyNTk4IDI1OTkgNTc3IDYyMyA2NDcgNjYxIDY3NQoxMTU0LDEyIDkgMCAxNzggNyA0NjE5IDQ2MjggNDYzMCA0NjMxIDQ2MzQKMTE1NSw5IDQ5IDUgMTQ5IDIzIDM3IDE0NyAyNTg0IDE3OCAyNTIyCjExNTYsNDgxMyA5IDI1ODcgMjIxMiA0ODA2IDQ4MDcgNDgwOCA0ODA5IDQ4MTIgNDgxNQoxMTU3LDkgMTEgMTQ5IDEgMjU4MCAyNTEyIDAgMTIgMTYwIDEzOTUKMTE1OCw0NjQ0IDQ2NDYgNDY0OCA0NjUwIDQ2NTIgNDY1MyA0NjU3IDQ2NjAgNDY2MiA0NjY1CjExNTksMCAxNDkgOSAxNiAxNDcgMTk0IDEzODMgMTc4IDUyIDEyCjExNjAsMjk1NyAyOTU5IDExIDI3NTAgMjk1NiAyOTc2IDI5OTEgMCAyOTcyIDI5OTUKMTE2MSwzMTQ2IDMxNDcgMzE0OCAzMTQ5IDMxNTAgMzE1NSAzMTYzIDMxNzMgMzE3NSAzMTk2CjExNjIsMCAxMSA1NCA2MyA0IDE0OSAxOTIgMTIgMTM4MyAzCjExNjMsOSAwIDExIDEzODYgMTc4IDE3OSA1NCAyIDMgMzMKMTE2NCwyNTc0IDI1NzkgMjU4NCA0ODA2IDQ4MDkgNDgxMSA0ODE1IDI1MjYgMjU1NCAyNTczCjExNjUsOSAxNzggMTIgNSAwIDUyIDIgNCAxNzkgNTQKMTE2Niw5IDAgMTIgMTEgMTQ5IDMzIDEzODQgMTkyIDYzIDE5NAoxMTY3LDI1NzQgNDgwNiA0ODEwIDQ4MTMgMjU0NyA0ODA3IDQ4MDkgNDgxNCAyNTI0IDQ4MTIKMTE2OCw5IDExIDAgMzE1MSAzMTUyIDMxNjUgMzE2NyAzMTcwIDMxODQgMzE4NQoxMTY5LDE0OSAwIDExIDQ4MDggNDgxNSA1IDI1NjkgMjU3MyAyNTc0IDI1NzkKMTE3MCw5IDEyIDUzNTAgMCA1MzU4IDUzNTkgNTM2OSA1MzUyIDUzNzAgMQoxMTcxLDMxNDUgMzE3NCAzMTk1IDMxNTcgMzE2MiAzMTY1IDMxNzAgMzE4MSAzMTg0IDkKMTE3Miw5IDUzNDMgMCAyODc3IDUzNDYgMjc5MCA1MzY2IDUzNjkgNTMzNiA1MzU5CjExNzMsMzAyMiA1MzY2IDkgNTM2MyA1MzQxIDI4MDQgMjg3NyA1MzUyIDAgMTQ5CjExNzQsNTM1MCA1MzYyIDkgMTIgNTM2MCA1MzY3IDUzNDMgNTM0OSA1IDM0NzAKMTE3NSwxMSA1NCAwIDUgMjkgNTIgMTIgMTI5IDQgNTgKMTE3Niw0IDExIDE0OSAwIDE5MiAzIDE0NyA4NjkgMTIgNjYKMTE3NywwIDUzNDUgNTM2NCA5IDEyIDUzNjAgNTM3MCA1MzQzIDggNTM1MAoxMTc4LDMxNTkgMzE2NCAzMTc0IDI1MjMgMzE2MyAzMTY1IDMxNzEgMjU2MCAzMTQ4IDMxNTAKMTE3OSw5IDExIDE0OSAxMiA0OTIyIDI1NDggMCAyNTcwIDE2MCAyNTgwCjExODAsNTIwNSA1MzYxIDExIDE0OSAyNzY5IDUzNDggNTM2MiA1MzYzIDUzNjQgMQoxMTgxLDAgOSAxNDkgMTEgMTUgMTc5IDUyIDE4OSAzIDIzCjExODIsOSA0IDExIDE0OSA1NCAxMiAyMyAxNzggMTUwMyA1MgoxMTgzLDQ2NDggNDY1NyA0NjYxIDQ2NjUgMzkxOSAzMzM1IDQ2NDEgNDY0MiA0NjQ2IDQ2NDcKMTE4NCwxMSA5IDE0OSAyOTc1IDI5ODIgMCAyMTgzIDI5NTMgMTIgMjk1OAoxMTg1LDkgMTEgMCAxNzggNCAxNyAxNDcgMjIgNjYgMTk2CjExODYsNDIzNSA0Mjc5IDQ0MTMgNDIxOSA1MDIxIDUwMjIgNTAyNCA0MjgyIDQzMDQgNDMyNgoxMTg3LDUxNyAyNTk2IDI1OTcgMjU5OCAyNTk5IDU1OSA1NjUgNTkwIDYxMyA2NTQKMTE4OCwxMSAxNDkgMzE5MyAzMTUxIDMxNzEgMzE4OSAzMTQ2IDMxNDkgMzE1NyAyNTIzCjExODksNDg3OSA0OTAyIDQ5MTkgNDgxNyA0ODE4IDQ4MjAgNDgyNyA0ODQ3IDQ4NDggNDg2MAoxMTkwLDAgOSA1MzY5IDE0OSA1MzQ5IDU0IDM0ODAgNTI4MiA1MzY2IDUzMzgKMTE5MSw5IDE0OSA1NCAxMiAwIDE1IDE5NCAyMSAxNiAxNDcKMTE5MiwyNjA0IDI2MDYgMjYzMSAyNjQzIDI2MDUgMjYyMCAyNjI0IDI2MjUgMjYzMiAyNjMzCjExOTMsMjU4OCA0ODA3IDI1NDYgMjU3OSAyNTkzIDQ4MDUgNDgwOCA0ODEwIDQ4MTUgMjUxNQoxMTk0LDUzNjIgNCA1MzYxIDUzMzkgMCAxIDkgNTMzNSA1MzUyIDUzNjcKMTE5NSwzMTQ3IDMxNTEgMzE1NSAzMTgwIDMxODIgMzE4NyAzMTg4IDExIDMxNTYgMzE1NwoxMTk2LDUwMjMgNDIzMCA0MjQ4IDQzMTAgNDIxNyA0MzM4IDQzNDMgNDIzNSA1MDIyIDQyNTkKMTE5Nyw0ODA4IDQ4MTAgMjUzMCAyNTczIDI1ODkgMjU5MiA0ODE1IDQ4MTYgMjUyMiAyNTU0CjExOTgsOSAxMiAxNDkgODIgMCAxIDggMyAyMyAxMzg1CjExOTksMCAxOTIwIDExIDIwNjIgMTk0NyAxNTY2IDUwMjUgMTk1OCAxNTgyIDE4MzcKMTIwMCwwIDExIDI5NTcgMjk2MCAyOTczIDI5NTEgMjk3OSAyOTkwIDI5OTQgMjc1MAoxMjAxLDkgMTEgMTYwIDE3OSAwIDQgMTQ5IDUyIDE4MCAzCjEyMDIsOSAwIDEyIDU0IDQgNTIgMTM4MyAxMSAxNzkgMTM4NAoxMjAzLDI2MTYgMjYyMiA5IDI2MDEgMjYwMiAyNjA0IDI2MDUgMjYwNiAyNjEzIDI2MTkKMTIwNCw5IDAgNTI1IDE2NzggODAxIDcxMiAzMTQyIDMxNDMgNzE2IDYxMQoxMjA1LDkgMTIgMTEgNDkgNiA1NCA0MjY1IDQyNzkgODY5IDEzODUKMTIwNiwxMTM2IDExMzggMTE0MSAxMTQ0IDExNTIgMTE1NCAxMTU5IDExNjQgMTE2NyAxMTY4CjEyMDcsOSA1MzY1IDUzNTEgMTEgNTM0MiA1MzQ2IDUzNDMgNTM0OCAzMyA0OQoxMjA4LDQ2NDIgNDY1MCA0NjQzIDQ2NDggNDY1NyA0NjYyIDMzMzUgMzkxOSA0NjQ5IDM1MTQKMTIwOSwxMSAwIDkgNTQgMTM4NSAzMyA1IDM0NzMgMjkgMTg4CjEyMTAsNDg4MSA0ODkwIDQ5NzQgNDg1NiA0OTg5IDAgNDg3MSAxMiA1MDA2IDQ5MTcKMTIxMSw5IDE0OSAxNzggMCAxMSA2IDU0IDEyIDE4NCA0NAoxMjEyLDkgMTEgMCA0IDE3OSAxNzggMjAgMjcgNTQgMTk1CjEyMTMsOSAxNDkgMTEgMCA0IDU0IDUgMTc5IDg2IDUyCjEyMTQsNDY0NyA0NjQ4IDQ2NTAgNDY1NyA0NjYwIDM1NTYgNDY0NSA0NjUyIDQ2NTQgNDY2MQoxMjE1LDAgOSAxMSAxMiA0IDE1IDU0IDEgMjYgMTc5CjEyMTYsOSAwIDExIDUgMTIgMTc4IDE5MiAyNzkxIDEzOTUgMTc5CjEyMTcsMTIgOSAxNDkgMTM4MyA0OSAxNTQgMjIwIDIzIDU0IDAKMTIxOCwxNDkgOSA2NiAxMzg0IDEyIDI2IDQyNTQgMTc5IDYwIDQKMTIxOSwyNTc5IDQ4MDcgNDgwOSA0ODEwIDQ4MTEgNDgxNCAyNTEzIDI1NzMgMjU3NCAyNTg3CjEyMjAsOSAxMiAxNDkgMCA1NCAxOTIgMzMgMTk2IDE0IDE0NwoxMjIxLDkgNTM3MCA1MzM4IDUzNDMgNDIyNiAxNzggNTM1MyA1MzM1IDUzNDkgNTM2MQoxMjIyLDAgMTIgNTQgOSAxNzkgMSAyIDExIDMzIDE5NAoxMjIzLDExIDE0OSAxMDUgMCAxIDEyIDEzOTcgMzIyNSAzMjI5IDMyMzUKMTIyNCw5IDMxNDUgMzE0OSAzMTU3IDMxNzMgMzE4MSAzMTkxIDMxODkgMzE5NCAzMTY2CjEyMjUsMTEzNiAxMTM4IDExNDAgMTE0OCAxMTQ5IDExNTMgMTE1MSAxMTU4IDExNTkgMTE2OAoxMjI2LDE1MzcgMTYwMSAyMTIwIDE2MjkgMjE0MCAyMTU3IDIyMzcgMTcyNiAyMjQ0IDIyNDYKMTIyNyw0NjQ4IDQ2NTIgNDY1NCA0NjYzIDQ2NjQgMzU1NiAzMzM1IDE5NDYgNDY0MSA0NjQ0CjEyMjgsOSAzMjE3IDMyMzMgMzIyOSAzMjE1IDMyMTggMzIxMiAwIDMyMTMgMzIxNAoxMjI5LDMxNzQgMzE3OSAzMTQ1IDMxNDYgMzE0OCAzMTU1IDMxNzYgMzE3NyAzMTg4IDMxNjEKMTIzMCwwIDU0IDE0OSAxMSAyNiAxNzkgMTkyIDIwNCAyOSAyCjEyMzEsMTQ5IDExIDEyIDU0IDAgMiAxOTIgNjYgMTM4NSA1MgoxMjMyLDExIDkgMTIgMTc5IDQ5IDU0IDAgOCAxNzggNQoxMjMzLDQ4MTUgMjU2OSAyNTczIDI1OTMgMjIxMiA0ODA3IDI1MTEgNDgxNiAyNTM0IDQ4MDYKMTIzNCw0ODA1IDQ4MTIgNDgxNiAyMjg5IDI1NzMgNDgwNiA0ODA3IDQ4MDkgNDgxMSA0ODE1CjEyMzUsMCA5IDE4NyAxIDEyIDExIDU0IDIxMyA1IDMzCjEyMzYsOSAxNDkgMTIgNTQgMTUgMTEgMCAyNiA4MiAzMwoxMjM3LDkgMTEgMTQ5IDEyIDAgMSA4IDg2IDEzODMgNgoxMjM4LDkgNTQgMCAxMCAxNzkgMTIgNyAyNzY5IDEgMjkKMTIzOSwzMTcyIDMxNDcgMzE1NiAzMTYwIDMxODUgMzE4OSAzMTkyIDMxNTkgMzE3NiAyNTYwCjEyNDAsOSAxMSAwIDMgNCAxNzggMTUgMjEgMjYgMTM4NgoxMjQxLDEyIDExIDkgMCAxNDkgMTc5IDE5MiAxOTQgMTg3IDEzODMKMTI0Miw5IDUgMSAwIDMgMTQ5IDUyIDE4OSAxMzg1IDEzCjEyNDMsMjk2NyAyOTgzIDI5NzQgMjk4NiAyOTg5IDI5OTEgMCAyOTU3IDI5NjIgMjE5NgoxMjQ0LDI1OTYgMjU5NyAyNTk4IDI1OTkgNTU5IDU2NSA1ODAgNTgzIDU5MCA2MTMKMTI0NSwyNTY5IDQ4MDggNDgxMSA0ODEyIDQ4MTMgNDgxNSAyNTIyIDkgMjU4OSA0ODA1CjEyNDYsMjU2OSAyNTc0IDI1ODEgMjU5MiA0ODEwIDQ4MTEgNDgxNSAyNTM3IDExIDI1ODkKMTI0Nyw5IDAgNDkgMTc5IDI1NDggMjU4MCA0OTIyIDE0IDQ5MTcgMTQ3CjEyNDgsOSAyOTY2IDI5NzkgMTY0MCAyOTc0IDAgMjk3NSAyOTc3IDIxODMgMTEKMTI0OSwxMDMwIDUyNyAxNjc4IDY1OCAzMTQyIDMxNDMgMTAxMiA3NjAgOSA1MjUKMTI1MCwxMSA0IDEyIDE3OSAxMzgzIDQ5IDIxNiAxNDA4IDE1MzYgMTMyCjEyNTEsMzIwOSA5IDMyMjkgMTEgMTQ5MyAzMTk5IDMyMDggMzIyNyAzMjEwIDMyMTMKMTI1Miw5IDExIDU0IDE3OCAxMiA1MiAxOTQgMCAzIDE5NgoxMjUzLDE1MzYgMTQxOCAxNjg2IDE2ODkgMTQzNiAxNTMyIDE5NTcgMTQ0OCAxNDYxIDE0NjQKMTI1NCw5IDE3OCAxMSAxNzkgNTIgMTIgMTUgNTQgMjIgMjkKMTI1NSw5IDI5NjggMCAyOTY3IDI5NzAgMjk4MiAyOTg3IDI5OTQgMjk3NCAyOTkwCjEyNTYsOSAxMSA1NCA2IDEyIDIgMjYgNDAgMTkgMzMKMTI1Nyw0ODcxIDQ4OTAgNDk2NiA0OTc0IDQ4NjggNTAwNiA1MDE5IDQ5MjMgNDgyMSA0OTYyCjEyNTgsMTEgMTQ3IDE3OCAzMTQ0IDMxNDUgMzE0NiAzMTUxIDMxNTkgMzE2OSAzMTgyCjEyNTksOSAxMiAxMSAyMSAxODggMCA0OSAxNzggNTIgMTg5CjEyNjAsOSAyNjAxIDI2MDIgMjYxMCAyNjEyIDI2MTUgMjYxOSAyNjIyIDI2MjUgMjYyNwoxMjYxLDQ4NzggNDg3OSA0ODk5IDQ5MDIgNDkxOSA0OTI5IDQ4MTcgNDgxOCA0ODIwIDQ4MjcKMTI2Miw1MzQzIDQyNDIgNTM2MiAwIDUzMzcgNTM1NCA5IDQzOTAgNTQgNTM0NAoxMjYzLDkgMTc5IDEyIDUgMTQ5IDU2IDExIDggNyAxNjAKMTI2NCw5IDU0IDIgMTEgMTQ5IDAgNSAyMyAxOTIgMTc5CjEyNjUsMjk5MiAyOTU3IDE0OSAyOTYzIDI5ODIgMjk2MCAyMTk2IDI5NjcgMTEgMjk1OAoxMjY2LDQ2NDIgNDY0NyA0NjYwIDI5NTYgMjA2OSA0NjQzIDQ2NDUgNDY1MCA0NjU1IDQ2NTYKMTI2NywxMSAwIDU0IDE5MiA0IDUgMTIgMTUgMzMgMzcKMTI2OCwyNTczIDQ4MDYgNDgwOCAyNTM3IDI1NzQgNDgwNyA0ODEwIDQ4MTEgMjUzMCAyNTU0CjEyNjksOSAwIDI5IDExIDIyIDEwIDEgNDQgMTQ5IDM5CjEyNzAsNTE3IDI1OTYgMjU5NyAyNTk4IDI1OTkgNTU5IDU2NSA1NzQgNTkwIDYxMwoxMjcxLDUxNyAyNTk3IDI1OTkgNTU5IDU2NSA1ODMgNTkwIDYxMyA2MjMgNjYxCjEyNzIsNTE3IDI1OTYgMjU5NyAyNTk4IDI1OTkgNTU5IDU4MCA1ODMgNjEzIDY2MQoxMjczLDI1ODQgNDgwNSA0ODEwIDQ4MTUgNDgxNiAyNTUwIDI1NzkgNDgwNyA0ODA4IDQ4MDkKMTI3NCw4MDEgMTg0IDMxNDIgMzE0MyA2MjIgMTAxMiA3NTcgMTAzMCA1MjcgNjU4CjEyNzUsMTEgMCA1MiAxOTIgOSAxNDkgMzcgMjYgMTc4IDE5NAoxMjc2LDMyMzUgMzIwMSAxMSA5IDMyMDggMzIwMiAzMjE0IDMyMTcgMzIzMiAzMTk5CjEyNzcsMTUzNyAyMDgxIDE1OTYgMjExMyAyMTE4IDIxMjAgMjE0MCAyMTYyIDE2OTUgMTcxNQoxMjc4LDkgMTQ5IDcgMTEgNTIgNTYgMSA4IDE0IDYxCjEyNzksOSA1IDExIDAgNTQgNDkgMjEgMTkyIDE3OSAxCjEyODAsNDI0OCA1MDIzIDUwMjQgNDI4MyA0MzE4IDUwMjIgNDI2NSA0Mjc5IDQzMDEgNDMyMwoxMjgxLDAgOSA1MzQ5IDUzNTUgNTM0MyA1MzQ1IDUzNTIgNTM1NCA0MzkwIDI4OTEKMTI4MiwwIDExIDMzIDU0IDMgMjkgNTIgNCAxNiAxNDkKMTI4Myw5IDAgMzMgMTQ5IDE3OSA4IDEyIDY2IDU0IDE5MgoxMjg0LDMxNjUgMzE0NSAzMTU3IDMxNzAgMzE4MCAzMTg0IDMxODYgMzE5MSAzMTQ4IDkKMTI4NSwxNTM2IDE2MzYgMTY0NSAxNjYwIDE2ODYgMTY4OSAyMjMzIDIyMzQgMjIzNSAxNzQ1CjEyODYsMTEzNiAxMTM4IDExNTEgMTE1MiAxMTUzIDExNTQgMTE1NiAxMTU5IDExNjAgMTE2NAoxMjg3LDMxNDQgMzE0NSAzMTg2IDMxNzIgMzE3NyAzMTkzIDMxOTUgMzE5NiAzMTUwIDMxNTMKMTI4OCwzMTkyIDkgMzE0NiAzMTQ3IDMxNDkgMzE1NCAzMTY4IDMxNzUgMzE4MSAzMTg1CjEyODksMTIgMTQ5IDU0MSA5NTkgMTEyMiA2MjkgOSAxMCAxMSAxNzkKMTI5MCw5IDE0OSAwIDUyMjcgMTM5NSA1MzQzIDUzNDQgNTM0NyA1MzQ4IDUzNTQKMTI5MSwxMSA5IDE5MiAzMyAxMzg0IDUgMjkgNDE4OCAxIDcwCjEyOTIsOSAwIDE3OCAxOTQgMTEgMTkyIDEgMzMgMTM4MyA1CjEyOTMsNTM2NyA1MzQwIDAgNTM0MyAxNDkgNTM1NiA5IDUzNTAgNTM2MCA1MzY4CjEyOTQsMzE0NSAzMTczIDEyIDMxNDcgMzE0OCAzMTUwIDMxNTcgMzE2OSAzMTgwIDMxODQKMTI5NSw0ODc4IDQ4OTkgNDkwMiA0OTA5IDQ5NDUgNDgyMCA0OTU5IDQ4NDggNDg2MCAzNDczCjEyOTYsMTIgMTQ5IDkgMyAxOTIgMTM4NSAxOTYgMTEgMTQ3IDU0CjEyOTcsNTAwNiA1MDA5IDQ4NjggMzg2OCA0OTI0IDQ4NDEgNDk3MiA0OTc0IDI1NjQgNDg5MAoxMjk4LDI1NzMgMjU5MSAyNTkzIDQ4MDUgNDgwNyA0ODA5IDQ4MTAgNDgxMSA0ODEzIDI1NzQKMTI5OSw5IDExIDU0IDAgNSAxNDkgMTM4MyAxMiAyMiAyNTgxCjEzMDAsNDg4MSA0ODE5IDQ4MzYgNDk2NiA0OTg5IDUwMTkgNDkyMyA0OTcyIDMzMTUgNDg1NgoxMzAxLDMxNDkgMzE4MyAzMTcxIDMxNzQgMzE0NCAzMTUxIDMxNTQgMzE1NyAzMTU4IDMxNjQKMTMwMiw1MzQzIDUzNTggOSA1MzQ5IDUyMjcgMjY5OCA1NCA1MzQxIDUzNTQgNTM2NgoxMzAzLDE0OSAxMSAzMjAyIDMyMzIgMzIzNSA1NCAyMDcgMTc1MyA0IDIKMTMwNCwwIDkgMTEgMTIgMTQ5IDE3OCA1NCAyOSAxNzkgNTIKMTMwNSw0ODk5IDQ5MDIgNDkwOSA0ODE3IDQ4MTggNDgyMCA0ODI3IDQ4MzEgNDgzNCA0ODQ3CjEzMDYsMzE1NyAzMTc0IDMxNDcgMzE1MyAzMTU4IDMxNTkgMzE5NCAzMTUwIDMxNDYgMzE0OAoxMzA3LDAgNDMyNiAxNDkgNDI1MSA1MDIyIDUwMjMgNDQxMCA0NDEzIDQzMzggNDQ3NgoxMzA4LDUwMjMgNDI1NiA0MzAxIDQyMzUgNTAyMiA0MjU0IDQyNzUgNDI3OSA0NDEzIDQzMTAKMTMwOSw0NjQxIDQ2NTIgNDY1NCAzOTE5IDQ2NjUgOSAzNzMwIDQ2NDQgNDY0NiA0NjQ3CjEzMTAsMjU5NiAyNTk3IDI1OTggMjU5OSA1NTkgNTkwIDYxMyA2MjMgNjYxIDY3NQoxMzExLDI1OTYgMjU5NyAyNTk5IDU3NCA2MTMgNjIzIDY1NCA2NTUgNjYxIDcwOQoxMzEyLDkgMzMgMTIgMiA0MjI2IDI2OTYgMjY5OSA1MzQ2IDUzNjQgNTM2NgoxMzEzLDUzNDMgMTEgOSA1MzcwIDEyIDUzMzcgNTM0OCA1MjI3IDUzNTYgMjgwNAoxMzE0LDU0IDAgMjU3OSAyNTg3IDQ4MDYgNDgwNyA0ODA4IDQ4MTAgNDgxMyA0ODE0CjEzMTUsOSAyNTc5IDQ4MDYgNDgwOCAyNTIyIDI1NTQgNDgwNyA0ODA5IDQ4MTAgNDgxMQoxMzE2LDI5NzQgMjk5MiA5IDI5NzkgMjk1MiAxNDM1IDI5ODcgMjk2NiAyOTUxIDExCjEzMTcsOSA1MzUyIDUzNjYgNDM5MCA1MzQ2IDUzNjEgMTc4IDUzNTcgMjcwNCA0MjQyCjEzMTgsMTEgOSA1NCAxMiAwIDE5NCAxNiAxNTQgMTc5IDUyCjEzMTksNTM1NiA1MzUzIDUyMjcgNTI4MiA1MzQwIDUzNjAgNTM2MiA1MzY4IDUzNTQgOQoxMzIwLDAgMjkgNTQgMTEgMTQ5IDkgMTk0IDUgMTQ3IDIyODkKMTMyMSwwIDUzNDAgNTM0MyA1MzM2IDUzNjYgMTQ5IDQzOTAgNTM0NCA1MzQ4IDUzNTEKMTMyMiwzMTQ4IDMxNDcgMzE1MCAzMTU4IDMxNjUgMzE3MyAzMTc0IDMxNzUgMzE4MSAzMTQ5CjEzMjMsNTI4MiA1MjA1IDkgMTQ5IDUzNDAgNTQgNTM1MCA1MzY0IDUzNTcgNTM2MgoxMzI0LDkgMjU4OCA0ODA1IDQ4MDcgNDgxMyA0ODE0IDI1MjggMjIxMiAyNTc0IDI1NzkKMTMyNSw5IDQ5MzYgNDk1NSA0OTYyIDQ5NjYgNDg1NiA1MDA5IDQ4NzEgNDg4MSA0ODgzCjEzMjYsOSAxMSA1NCAxNDkgMjYgNjYgNzMgNzggNDkgMjkKMTMyNywxMiA5IDU0IDE3OSAxOTIgOCAxOTYgMjYgMiA0CjEzMjgsMCA0NjQyIDQ2NDcgNDY1NSA0NjU5IDQ2NjAgNDY2NCAxMSA0NjQxIDQ2NDYKMTMyOSw5IDExIDQgMTQ5IDEyIDEgMTYgMTggMzMgNTQKMTMzMCw5IDE0OSAxMSA1NCA1IDMzIDEgMjEgNTIgMjMKMTMzMSwzMTQ3IDMxNTAgMzE1MyAzMTY3IDMxNzIgMzE3NyAzMTkzIDMxOTQgMzE3MSAzMTQ2CjEzMzIsNDY0NSA0NjQ3IDQ2NDggNDY0OSA0NjUzIDQ2NDEgNDY0MiA0NjUyIDQ2NTQgNDY1OQoxMzMzLDExIDUgOSAxNzggMCA1NCA2OSA0MSA1MiA3MAoxMzM0LDUzNjAgOSA1MzQzIDUzNDYgNTM0NyAxMSAxMiA0MzkwIDI3MjggNTM1OQoxMzM1LDkgNTIwNSA1MzM2IDUzMzcgNTM2NyA1MzY5IDUzNTYgMCAzNDgwIDI4NDQKMTMzNiwyNjAyIDI2MTIgMjY0MSAyNjAzIDI2MDUgMjYxNSAyNjE2IDI2MjAgMjYyMiAyNjI2CjEzMzcsOSAxMSAwIDEyIDE0OSAxOTQgMjYgMTkyIDIgMTYKMTMzOCwxMTM4IDExNTQgMTE1NiAxMTYzIDExNjUgMTE2OCAxMTY5IDExNzEgMTE3NSAxMTc2CjEzMzksOSA0ODc4IDQ4NzkgNDg5OSA0OTAyIDQ5MDkgNDgxOCA0ODIwIDQ4MjcgNDgzMQoxMzQwLDM4MjkgNTQgMTIgNDg5MSA0MTMwIDQxNDIgNTIzMCA5IDE0OSA0MTM1CjEzNDEsMTIgMyAxNzggOSAyNjYgMTggNjYgMTUgMTQ5IDE4MQoxMzQyLDQ2MTcgNDYxOSAxMiA0NjIwIDQ2MjYgNDYzMCA0NjI5IDQ2MzMgMzYzMCA5CjEzNDMsMTIgMCAxMSAyNiA1NCAxODkgMjkgMTUgNTIgMTM4NQoxMzQ0LDExMzggMTE0MSAxMTQ4IDExNTIgMTE1MyAxMTUxIDExNTkgMTE2NCAxMTY5IDExNzAKMTM0NSwyNjAyIDI2MDUgMjYxMiAyNjI3IDI2NDEgMjY0MyAyNjA0IDI2MTUgMjYxNiAyNjE5CjEzNDYsMCA5IDEyIDU0IDI2IDE3OSAxMSAxNDkgNTIgNTM3MQoxMzQ3LDM0ODcgMzQ5OSAzNDc3IDM0ODAgMzQ5OCAzNTAzIDI2OTMgMzQ4MyAzNDg4IDM0OTMKMTM0OCw1MTcgMjU5NiAyNTk3IDI1OTkgNTU5IDU2NSA1NzQgNjEzIDYyMiA2NTQKMTM0OSw0NjQ4IDQ2NjUgMzMzNSA0NjQyIDQ2NDQgNDY0NSA0NjQ2IDQ2NDkgNDY1MCA0NjUyCjEzNTAsMTAzMCAxNjc4IDQyNyAzMTQyIDMxNDMgNzE2IDYxMSAxMDEyIDUyNSA2NTgKMTM1MSwyNTk2IDI1OTcgMjU5OSA1NzQgNjU0IDcwOSA3OTIgODAyIDgyOCA4NTEKMTM1MiwxMSAxOTUgMjQ2IDQgOSAyIDE3OSAxMzgzIDUyNSAzNwoxMzUzLDUzNDMgNTM2MiA1MzY3IDkgMjYwNCA1MzQ4IDUzNjYgNTQgMTQ5IDUzNDYKMTM1NCw5IDE3OSA1NCAyNzU3IDI5IDE5NCAxMSAyODc3IDUyMjcgNTM1NgoxMzU1LDUzNjEgMjg5MSA1MzQyIDExIDUzNTQgMjY4MCA1MzM4IDUzNDAgNTM0MSA1MzY4CjEzNTYsMTEgOSA3NSAyOSA1NCAxMzg0IDEwNSAxMzk0IDEyIDIxCjEzNTcsNTM0MyA0MjQyIDUzNTEgNTM1NCAxMSA1MjA1IDUzNDggMSA5IDUzMzYKMTM1OCwyNTg3IDQ4MDYgNDgwOCA0ODEwIDQ4MTMgMjU5MyAxNzggNDgwNSA0ODA3IDQ4MTUKMTM1OSwwIDkgMTEgNCAxMiA0ODkwIDM4NjggNDg5NSA0OTM2IDQ4MTkKMTM2MCwwIDkgMjk3OSAyOTgwIDI5NTMgMTEgMTc4IDUgMjk2MiA0OQoxMzYxLDExIDAgOSA1IDEgMTIgMTQ5IDY5IDEzODcgMTc5CjEzNjIsOSAzIDAgMTc4IDU0IDEgMTEgMTQ5IDQgNTIKMTM2Myw1MDIyIDQyMzYgNDI2NSA0MjQ4IDQyNTkgNTAyMyA0Mjc0IDE3OSA0Mjc5IDQyODIKMTM2NCw0ODA1IDQ4MDYgNDgwNyA0ODA4IDQ4MTMgNDgxNCAyNTQ2IDkgMjU4OSA0ODEwCjEzNjUsOSAwIDExIDU0IDE0OSA1MjI3IDUzNjcgMzYgMTIgMTc5CjEzNjYsMTEgNTQgOSA4IDE3OCAxIDMgNDkgNSA5OAoxMzY3LDkgMTQ5IDExIDQgNTQgMTkyIDEzODYgMiAyNyA2CjEzNjgsMjk3MSAyOTgzIDI5NTMgMjk1OCAyOTU5IDE0OSAyOTY3IDAgMjk4NCAyOTY2CjEzNjksNDgxMSA0ODE2IDI1NTQgMjU2OSAyNTc5IDQ4MDYgNDgwOSA0ODEwIDQ4MTUgMjUzMwoxMzcwLDkgNTM1MyA1MzM5IDUzNTIgMCA1MzYyIDQyMjYgMTIgNTIgMjc1OAoxMzcxLDkgMjYwMCAyNjA0IDI2MDkgMjYxNiAyNjIyIDI2MzUgMjY0MSAyNjQzIDI2MDEKMTM3MiwzMTQ1IDMxNDYgMzE1MSAzMTYxIDMxNjIgMzE2NSAzMTcwIDMxNzYgMzE4NCAzMTg4CjEzNzMsMzE3MCAzMTcxIDMxNjEgMzE2MyAzMTcyIDMxOTUgMzE0NSAzMTU3IDMxNTggMzE2NQoxMzc0LDMxNDcgMzE1NyAzMTgyIDMxNDkgMzE2MyAzMTcwIDMxNzEgMzE3MiAzMTc4IDMxODEKMTM3NSwzMTgyIDMxODQgMzE5NiAzMTQ4IDMxNDkgMzE1OSAzMTc3IDMxODYgMzE5NSAzMTY5CjEzNzYsOSAxMSAxMiAwIDQgMTQgNDkgMTc5IDEwIDEyOQoxMzc3LDExMzggMTE0MSAxMTQ1IDExNDggMTE1MCAxMTUzIDExNTQgMTE1NiAxMTY3IDExNjgKMTM3OCwwIDE3OSAxNzggMTIgNTQgMTEgNCAxOTAgNSAxNDkKMTM3OSwwIDEyIDkgMTEgMTc4IDMgMiA1NCAxNSAxNwoxMzgwLDkgNCAxMSAxNDkgMTc4IDU0IDUgNTIgMTQ3IDI2CjEzODEsOSA1MjI3IDUzNTkgNTM2OSA1MzQ1IDI2MDQgNTMzNiA1MzM4IDUzNTEgNTM1OAoxMzgyLDUzNTMgMCAxNDkgNTM0NSA1MzU5IDUzNjMgNTM3MSA1MzQwIDUzNjUgNTM0NAoxMzgzLDkgMzIxNiAzMTA2IDMyMzUgMzIxMCAzMjI3IDAgMzIwOSAzMjMyIDU0CjEzODQsMjU4OSA0ODA2IDQ4MDcgNDgwOCA0ODE1IDQ4MTYgMjU3NCAyNTg0IDQ4MDUgNDgxMAoxMzg1LDUzNDkgNTM1MyA5IDUzNDUgNTM1MiA1MjA1IDUzNTcgNTM2MyA1MjgyIDMwMjIKMTM4NiwxMSAwIDUzNTYgNTM2MiA1MzQzIDUzNTAgNTM1MyA1MzU3IDUzNjAgNTM2NwoxMzg3LDUzNjQgMCAxMSA5IDI4NzcgNTM0OCAyNjgwIDUzNjUgNTMzNyA1MzU2CjEzODgsMjQ4NiAyNDg5IDI0OTYgMjUwMyAyNTA2IDEyIDI0ODAgMjQ4NCAyNDkyIDI1MDgKMTM4OSwwIDkgMTc5IDcgMTQ5IDc2NCA0IDEyIDI2IDk4MwoxMzkwLDkgMCAyNDkgNCAxNDkgMTc5IDExIDE3OCAxMzg0IDI2CjEzOTEsOSA1MzU0IDQzOTAgNTQgNTM0MSA1MzQ0IDUzNTUgNTM2NiA1MzcwIDUzNDUKMTM5MiwxMiA5IDAgMiAxOTIgMTEgMTc5IDE0OSAxMzg5IDcKMTM5Myw5IDEyIDU0IDE3OSAxMzg0IDE0OSAxIDI3NyAxNDU1IDE5MAoxMzk0LDI1OTYgMjU5NyAyNTk4IDI1OTkgNTU5IDU2NSA1NzcgNjQ3IDY1NCA2NTUKMTM5NSwyNjAyIDI2MTUgMjYzNSAyNjAxIDI2MDggMjYxMiAyNjEzIDI2MTYgMjYxOCAyNjIyCjEzOTYsMCAxNDkgMTc4IDEyIDUyIDE2MCAxOTQgNTQgMTEgNTYKMTM5NywzMTY3IDMxODQgMzE0NSAzMTQ4IDMxNjUgMzE4NSAzMTg4IDMxOTMgMzE5NiAzMTQ3CjEzOTgsMzE4NiAzMTQ2IDMxNTIgMzE2MiAzMTY1IDMxNzQgMzE4MiAzMTgzIDMxODQgMzE5MQoxMzk5LDExIDkgNTQgMCA0IDE0OSAxNzkgMjUyOSAyNTU1IDE1CjE0MDAsOSAxNDkgMSA1IDEyIDAgNTQgMTc5IDExIDI2CjE0MDEsMTEgNTQgMTQ5IDYgNyAyOCAxNSAzMyAxOTIgMTg0CjE0MDIsOSAyMyAwIDE4MCAyNiAxNDkgMSA1NiA2NiAxMzg0CjE0MDMsNTIgMTQ5IDQgMzMgMTc4IDE3OSA1NCA0OTE5IDE5NiAxMzkyCjE0MDQsNDI0OCA1MDI0IDQyNzkgNDMwOCA0MzEwIDQ0NjUgNDI1OSA0MjM1IDQzNzUgNDI1MQoxNDA1LDE1MzcgMjA1OSAyMTIwIDIxNDAgMTYyOSAyMTUzIDIyMzcgMjIzOCAyMjM5IDIyNDQKMTQwNiw5IDU0IDEyIDE0OSAxNzggMTgwIDEyOCAxOTQgNyA2MwoxNDA3LDkgMCA4IDUgMTQ5IDIyIDEyIDI3IDY2IDExCjE0MDgsMTIgOSAxMSA1MjI3IDE0OSAxNzggMCAxOCAyOSA1MgoxNDA5LDkgMjYgMTEgMTIgMSAxNzggMzcgMTM4MyA3MCAxMzg5CjE0MTAsOSA1NCA1MzUyIDUzNjIgNTM3MCAxMSAxNzggMTc5IDEgNTIwNQoxNDExLDI1OTIgNDgxMyA0ODE2IDI1MzAgMjU0MyAyNTY5IDQ4MDUgNDgwNyA0ODA4IDQ4MTQKMTQxMiw5IDExIDU0IDE0OSAxMiAwIDE3OSA0NjE5IDQ2MjEgNDYyNAoxNDEzLDE1MzcgMjA1OSAyMTEwIDIxMTEgMjEyMCAxNjI5IDIxNTMgMjE2MiAxNzAxIDIyMzkKMTQxNCwxNTM2IDE1OTkgMTYxMSAxNjM2IDE2NDUgMTY2MCAxNjg2IDE2ODkgMjIzMyAyMjM0CjE0MTUsMCAxMSA5IDEgNSAzMyAxNzggMTIgMTkwIDEzODMKMTQxNiwwIDExIDUzNTAgNTMzNiA1MzUzIDI3NTcgNTMzOCA1MzQ2IDUzNjIgMTQ5CjE0MTcsOSAwIDExIDEyIDE5MiAxMjggNyAxMzg1IDYgMjIKMTQxOCwxMSA1MjMwIDQxMzUgMTIgMTQ5IDQxNDkgNDE1OCAxNzggNTQgNDE1MAoxNDE5LDE1MzYgMTY4NiAxNDM2IDE1MzIgMTk1NyAxNDQ4IDE0NjEgMTQ2MiAxNDY0IDE0NjYKMTQyMCw5IDAgMTEgMjk3NCAyOTcxIDI5ODYgMTQ5IDI5ODggMjk1NCAyOTczCjE0MjEsMTEgMCA5IDMgMTQ3IDQgMTQ5IDE3OCA1NCA3MDkKMTQyMiwyOTg5IDI5OTQgMjk4MCAyOTkyIDkgMjk2NiAxMiAyOTUzIDIxOTMgMTQ5CjE0MjMsMTQ5IDkgMTYgMjkgMTIgMCAxMSA2IDE4MDAgNjcxCjE0MjQsOSAwIDExIDI3MDkgNDY0MSA0NjQyIDQ2NDYgNDY0NyA0NjUwIDI3MzIKMTQyNSwxNDkgMTEgNjYgMCA5IDI5IDEgNSAyMSAzMjQzCjE0MjYsNTQgMyA1IDExIDI1ODggMjU0MiAyNTQ3IDI1NjkgMjU3MyAyNTc5CjE0MjcsOSAwIDYzIDQgMTEgMjMxIDE3OCA3IDU0IDIzNwoxNDI4LDkgNSA1MzU4IDUzNjAgMTEgNTM0OSA1MzU1IDUzNjcgNTM2MiAxNDkKMTQyOSw4IDEgMCA2IDE0OSAxMSAxNiA0OSA2NiAxMgoxNDMwLDkgMCAxMSAxMiAxNDkgMSAxMzgzIDQgMTkwIDgKMTQzMSw5IDExIDE0OSAwIDE0NiAxNSA1IDE0IDEzODMgNAoxNDMyLDI1OTYgMjU5NyAyNTk4IDI1OTkgNTc0IDU3NyA1ODAgNTkwIDYyMiA2MjMKMTQzMywzMTQyIDcxNiAxMDEyIDUyNSAxOTIgMzMzIDYyMiA4MDEgMTAzMCA5CjE0MzQsNTE3IDI1OTYgMjU5NyAyNTk4IDI1OTkgNTU5IDU4MCA1OTAgNjEzIDYyMgoxNDM1LDUzNDMgMTEgNTM2MiA1MzQxIDAgNDI0MiA1MzM4IDUzNDkgOSAxMgoxNDM2LDkgMTEgMyAwIDEyIDE3OCAyNTEzIDE0OSAyOSA1NAoxNDM3LDI1ODkgNDgxNSAyNTI4IDI1ODcgNDgwNiA0ODA4IDQ4MTAgNDgxMiA0ODE2IDI1MjYKMTQzOCw5IDExIDQ4MDUgMTQ5IDE3OSAyNTE3IDI1NTggNyAxMiA1CjE0MzksOSA0NjQyIDQ2NDUgNDY1NSA0NjU2IDQ2NjIgNDY1NyA0NjYwIDQ2NjEgMzkxOQoxNDQwLDkgNTQgMTEgMTIgNTIgMTcgMjYgMTk0IDEzODkgMTM4NAoxNDQxLDExMzUgMTEzOCAxMTQ4IDExNTEgMTE1MyAxMTU0IDExNTUgMTE2NSAxMTY4IDExNjkKMTQ0Miw5IDExIDI5ODYgNTQgNCAxMiAyOTUzIDI5NjEgMjk2NCAyOTcxCjE0NDMsNTE3IDU0NyAyNTk2IDI1OTcgMjU5OCAyNTk5IDU1OSA1NjUgNTgwIDYxMwoxNDQ0LDkgMiAxMSAzIDU0IDYgNCAxNSAyNiAxNzkKMTQ0NSw1MzQ2IDUzNDUgOSA1MzM1IDUzMzcgNTM0NyA0MjI2IDE3OCA1MjI3IDUzNjAKMTQ0NiwxNTM3IDIxMTAgMjEyMCAxNjI2IDIxNDAgMTYyOSAyMTYyIDIxNjkgMTY2NCAxNzAxCjE0NDcsMzE0NSAzMTQ2IDMxNTcgMzE2MiAzMTcwIDMxNzMgMzE3NCAzMTg0IDMxODggMzE1MQoxNDQ4LDEyIDExMzAgMTEzMiA5IDExMjcgMTEzMyAxMSAxMTMxIDIgMwoxNDQ5LDI1OTYgMjU5NyAyNTk4IDI1OTkgNTU5IDU2NSA1ODAgNTkwIDYxMyA2MjIKMTQ1MCw5IDEyIDYgMTc5IDE4NCA0IDIxIDE0OSA1IDI2CjE0NTEsOSAxMSAxNDcgMTc5IDMgMTQ5IDE5MiAxNzggMTYwIDM3CjE0NTIsNDgwNSA0ODA3IDQ4MTMgMjU0MyAyNTc5IDQ4MDYgNDgxMCA0ODA4IDQ4MTUgNDgxNAoxNDUzLDkgNTYgMjYgMTA1IDAgMTIgMTQ5IDMzIDU4IDc5CjE0NTQsNDY0OCA0NjYzIDMzMjYgNDY0MyA0NjQ0IDQ2NDcgNDY1MCA0NjUyIDQ2NTUgNDY1NgoxNDU1LDUxNyAyNTk2IDI1OTcgMjU5OCAyNTk5IDU1OSA1NjEgNTY1IDU4MCA2MjMKMTQ1Niw1NDcgMjU5NiAyNTk3IDI1OTggMjU5OSA1NjUgNTc0IDY0NyA2NTQgNjU1CjE0NTcsOSA1NCAxMiAwIDExIDE0OSA1MiAzMyA2MyAxNzkKMTQ1OCw5IDI3MjggMTEgNTM1OCA1MzYxIDI4NzcgNTIwNSA1MzQxIDUzNDggNTM2MgoxNDU5LDUyMjcgNTM1NSAxNzkgNTM0MCA1MzUwIDUzNjIgMjY5NiA5IDUzNDMgNTM1NgoxNDYwLDI0ODQgOSAxMSAyNDgzIDI0ODYgMjQ4NyAyNDg5IDI0OTUgMjQ5OCAyNTAwCjE0NjEsMzE5NCAzMTQ2IDMxNDggMzE1NyAzMTYzIDMxNzUgMzE4MCAzMTk1IDMxNDQgMzE1MAoxNDYyLDAgMTEgNTIgNTQgMTIgMzMgMTM4NCA0IDg2IDEyNAoxNDYzLDExIDI2IDEzODMgMTc4IDI5IDAgNDY2NiAxNDkgODYgNzkKMTQ2NCw1NCA5IDE0OSAxMSAxMiAyOTg2IDAgNSAxODAgMTY2NwoxNDY1LDExIDE3NDYgOSAxOTIwIDIwNTcgMjA2MiAxOTQ3IDE1NjYgNTAyNSAxOTU4CjE0NjYsNTAyNCA0NDc2IDQzODAgNTAyMiA0Mjg4IDQzMDEgNDMxOCA0MjYxIDQ0MTMgNDIzNQoxNDY3LDkgMTEgNDg3OCA0ODk5IDQ5MDIgNDkwOSA0OTE5IDQ5MjkgNDgxNyA0ODE4CjE0NjgsMzE0OCAzMTQ5IDMxNTYgMzE4MCAzMTk0IDMxNDUgMzE1NyAzMTcyIDMxNzMgMzE3NgoxNDY5LDI1NzggMjUxNCAyNTIwIDI1MjkgMjUzOCA0ODU0IDI1NTMgMjU3NiAxMSAyNTI1CjE0NzAsMTQ5IDAgOSAxMSAxMiAyMiA4IDI5IDUyIDUKMTQ3MSw5IDAgNTQgMTgzIDUgMTEgMTM5NyAyMyAxMiAxNgoxNDcyLDkgMjUxNCAyNTE5IDI1MjAgMjUyOSAyNTMyIDQ4NTQgMjU1MyAyNTc2IDI1NTUKMTQ3MywxOTI2IDE2NzYgMjA3OCAxOTUxIDE5NjUgMTkxOSAxNjEyIDIwMDMgMjAxNyA1MjE5CjE0NzQsNSA5IDExIDEyIDAgNTQgMTc5IDE0OSAyOTIgNTIKMTQ3NSw0NjQyIDQ2NDYgNDY0OCA0NjU1IDQ2NjIgMzAyMCA0NjQxIDQ2NDcgNDY1MCA0NjUyCjE0NzYsOSA0MTg4IDQ4OTEgNDEzOCA0MTQzIDQxMzcgNDE0OSA0MTY5IDQxNzggNTIzMAoxNDc3LDQ4NjggNDkzNiA0OTcyIDMzNTEgNDk2MiA0ODM2IDQ4OTAgNDkyNCA0ODcxIDUwMDYKMTQ3OCwxMSAxMiA0IDkgNSAwIDI2IDU0IDEgMTk0CjE0NzksMjU3OCAyNTE0IDI1MTkgMjUyMCAyNTI5IDI1MzIgNDg1NCAyNTUzIDI1NTUgOQoxNDgwLDU0IDkgMTEgMTc4IDEyIDUgMTM5MCAzIDE3OSAxOTQKMTQ4MSw5IDExIDAgMjYgNjMgMTM4NSAxNzkgMTk0IDE5MiA4CjE0ODIsNDg3OCA0ODc5IDQ4OTkgNDkwMiA0OTA5IDQ4MTcgNDgyMCA0ODM0IDQ4NDcgNDg2MAoxNDgzLDkgMTEgMCAxNzkgNTQgMTc4IDUzNzIgMjMgMzMgMTM4MwoxNDg0LDUgOSAxMSAxNzkgMzMgNTQgMTg1IDY2IDAgMTIKMTQ4NSwwIDUzNTMgNTM0NiA1MzY2IDMwMjIgNTM2MiAyNjkyIDE0OSAyNzMxIDUzNTYKMTQ4NiwzMTY0IDMxNzkgMzE5MyA5IDMxNDUgMzE1MCAzMTYzIDMxNjkgMzE4MyAzMTg0CjE0ODcsMjUyMCAyNTc4IDI1MTQgMjUxOSAyNTI5IDQ4NTQgMjU1MyAwIDkgMjUyNQoxNDg4LDkgMTIgMCAzIDE0OSA1IDIgMzMgMjkgNTQKMTQ4OSwwIDExIDkgMTQ5IDE3OSAyNiAyNyAxNzggMSA1NAoxNDkwLDQ4MDUgNDgwNiA0ODA3IDQ4MDggNDgwOSA5IDI1NzQgMjIxMiAyNTkzIDQ4MTIKMTQ5MSw5IDEyIDMzIDE3OSAwIDE0OSAxOTYgNyAxMjQgMTYwCjE0OTIsOSAyNiA0IDExIDE0OSAxNDcgMTUgMTg3IDI1NzMgMjU4MQoxNDkzLDEyIDE0OSAyNTc0IDI1NzkgNDgwNSA0ODA3IDQ4MTMgNDgxNiAyNTE1IDI1MTcKMTQ5NCwyMDU5IDIwNjMgMjExMCAyMTExIDIxMTMgMjExOCAyMTIwIDIxNDAgMTYyOSAyMTY5CjE0OTUsMjU5NiAyNTk3IDI1OTggMjU5OSA1OTAgNjIzIDY0NyA2NTQgNjkxIDI2OAoxNDk2LDQ4MDUgNDgxMSAyNTg0IDIyMTIgNDgwNiA0ODA3IDQ4MDggNDgxNSAyNTQ2IDQ4MTMKMTQ5NywxMiAxMSAxNDkgMCAxNzkgMTM4NiAxMzk1IDEgMiAyMwoxNDk4LDkgNTM1MiA1MzYyIDUzNTAgNDIyNiA1MzM4IDUzNDEgNTM2NSA1MzU2IDUzNjcKMTQ5OSw5IDQ4NDcgNDg2MCA0ODc4IDQ4OTkgNDkwOSA0ODE3IDQ4MTggNDgyMCA0OTQ1CjE1MDAsNDg3OCA0ODc5IDQ4OTkgNDkwMiA0OTA5IDQ4MTcgNDgxOCA0OTQ1IDQ4MjcgNDk1OQoxNTAxLDI1NzMgMjU3NCA0ODEzIDI1ODcgNDgwNSA0ODA5IDQ4MTIgNDgxNiAyMjU5IDI1MzQKMTUwMiwyNTk3IDI1OTggMjU5OSA1NjUgNTgzIDU5MCA2MTMgNjIzIDY0MiA2NDcKMTUwMyw5IDI1NTQgNDgwNyAyNTI4IDQgMjU4MSAyNTg0IDI1ODYgMjU4OCAyMjEyCjE1MDQsNDI0MSA0MjM1IDQ0MTMgNDMxMCA0NDc2IDkgNDI0OCA1MDIyIDUwMjQgNDI3OQoxNTA1LDkgNTM2MiA1MzQ2IDE0OSA1NCA1MzM2IDUzNTQgNTM1NSA1MzYwIDUzNjcKMTUwNiw5IDI1OTUgMjk1MSAyMTkzIDI5NzkgMjk4MCAyOTcxIDI5NzYgMjk5MiAyOTYzCjE1MDcsMzE2NCAzMTc0IDMxODIgMzE0NiAzMTU2IDMxNjIgMzE2MyAzMTY1IDMxNjcgMzE2OAoxNTA4LDkgMTk0IDExIDE0OSA1NCA1IDMzIDUyIDE5MiAxODcKMTUwOSw1IDkgMCAxMSA0IDM1IDEyIDMzIDMgMTk0CjE1MTAsOSA1NCA1IDcwIDEgMTc4IDEzODQgMTk0IDgyIDUzNDAKMTUxMSw5IDQgNTQgMSAxMSA1MiAxNDkgMCAxNzkgMTQ3CjE1MTIsMCA5IDUzNDYgMTc4IDEyIDM0ODAgMjcyOCA1MzQzIDUzNTYgNTM1OQoxNTEzLDAgMTM5NSAxNCAxMzkxIDUyIDE5NCAxMSAzMyA1NCAxNzgKMTUxNCwxNTM3IDIwNTkgMjExMCAyMTE4IDIxMjAgMjE0MCAyMTY5IDIyMzkgMjI0MCAyMjQyCjE1MTUsMCA1MzYzIDQyMjYgNTM0NSAxMiA1MjA1IDUzNTAgNTM1OCA1MzYwIDUzNTMKMTUxNiwwIDUzNjUgNTM1MyAxMSA1MzQxIDUzNTEgNTM1MiA1MzQzIDkgNDM5MAoxNTE3LDUyNyAxNjc4IDMxNDIgMzE0MyA3MTIgMTAxMiAxMDMwIDgwMSA0MjcgNjA2CjE1MTgsODAxIDMxNDIgMzE0MyAxMDMwIDkgNjU4IDYxMSA2MjIgNzYwIDEwMTIKMTUxOSwxNDA4IDE1MzYgMTQxOCAxOTU3IDE0NjIgMTQ2NCAxNDY2IDE5NzcgMjIzMyAxNTk5CjE1MjAsOSAxNzkgNTQgMzE5MyAzMTQ1IDMxNTAgMzE1NCAzMTU5IDMxNzkgMzE4MAoxNTIxLDE0OSAwIDExIDkgNTQgMTIgMjYgMTc4IDE5NCAxMwoxNTIyLDQ5MzYgNDk1NSA0OTY4IDUwMDYgNTAwOSA0ODE5IDQ5NDggNDk2NiA0ODY2IDkKMTUyMyw1Mzc2IDUzNzcgNTM4MSA1MzgzIDUzODAgNTM4MiAzNDg1IDUwNjMgNDY5OCA0MjYwCjE1MjQsOSAxMiAwIDQgMTEgNDkgMTc4IDE3OSA1MiAzCjE1MjUsOSAwIDExIDU0IDEyIDMzIDI5IDE0OSAxNzkgNjYKMTUyNiw5IDEyIDI1OTMgMTEgMTQ3IDE3OCA0ODA4IDI5IDI1MTcgMjU1OAoxNTI3LDkgMTEgMTIgMTk0IDI5IDEzODMgMSA1NCAzMyA4NgoxNTI4LDUxNyAyNTk2IDI1OTcgMjU5OCAyNTk5IDU3NyA1ODAgNjIyIDYyMyA2NTQKMTUyOSwxMiA1NCAxNDkgOSAwIDI5IDE5NCAxNzkgMzcgNDkKMTUzMCw5IDAgNTQgMTQ5IDE5MiAyNiA2MSA2IDExIDIxCjE1MzEsMzMzNSA0NjQ3IDQ2NDggNDY1MCA0NjU3IDQ2NTkgNDY2MCA0NjYxIDQ2NjUgNDY0MgoxNTMyLDUzNDAgOSA1MzM4IDUzNTcgNTM2NyA1MzU5IDEyIDUzNDIgNTM0NCAxMQoxNTMzLDAgNTM1MCA1MzU3IDUzNjggNTM0MCA1MzU0IDEgMzAyMiA1MzQ1IDUzNTgKMTUzNCwwIDkgNDkgMyAyMyA3IDIxIDE3OSA4MiAyCjE1MzUsNDI1MSA1MDIyIDQyNzQgNDQxMyA0MzEwIDQzMTggOSA0MjQ4IDQyNTYgNDI1OQoxNTM2LDkgMCA1NCAyNiAxNzkgNSAxMiAxODMgNTIgMTQ5CjE1MzcsMzE5NSAzMTk0IDMxNDYgMzE1NCAzMTY1IDMxODEgMzE4MiAzMTgzIDMxODUgMzE4OAoxNTM4LDAgMTQ5IDUyIDUzMzkgNTM2NSA1MzY2IDU0IDUzNTcgNTM2MCA1MzY5CjE1MzksMTEgOSA1NCAxMiAxODQgMTQwNSAxNDkgMjU3NiAyNTc4IDE3OAoxNTQwLDUzNTkgMCAzIDkgNTM0NSA1MzUzIDUzNTQgMjU2OSA0ODA2IDQ4MDcKMTU0MSw5IDQgMTIgMzcgNSAxNzggMTEgNDkgMTg0IDI2NgoxNTQyLDMzMzUgNDY0OCA0NjU0IDQ2NDIgNDY0MyA0NjQ0IDI3MzIgNDY1MyA0NjU3IDQ2NTgKMTU0MywxMSAwIDUyIDE0NyAyMyA1NCA5IDU2NiAxODkgMTk0CjE1NDQsOSA1MzUwIDUzNzAgNTM3MSA1MzY1IDUzNjIgNDI0MiA1MzY5IDQyMjYgNTM1NAoxNTQ1LDkgMTEgMTQ5IDE3OCAxMiAyIDYgMjEgMjYgMAoxNTQ2LDI2MzUgMjY0MSAyNjAyIDI2MTMgMjYxNSAyNjE2IDI2MjUgMjYyOSAyNjMwIDI2MzgKMTU0NywyNTg3IDQ4MTAgMjU3MyAyNTc5IDI1ODQgNDgwNiA0ODA3IDQ4MDggNDgxMSA0ODEzCjE1NDgsMzQ4NiAzNDg3IDM0ODggMzQ5MCAzNDkxIDM0OTIgMzQ5NCAzNDk1IDM0OTkgMzUxMAoxNTQ5LDE0OSA1NCA5IDEyIDExIDUzNDUgNTM0OCAxNzkgMCA1NgoxNTUwLDQ2NDEgNDY0MiA0NjQ2IDQ2NDcgNDY1MCA0NjUyIDQ2NTUgNDY2NCAxNzc4IDM1MTQKMTU1MSwwIDkgMTM4MyAzIDE3OCAxMSAxNzkgNTQgMTkyIDQKMTU1Miw1NDcgMjU5NiAyNTk3IDI1OTggMjU5OSA1NzQgNTc3IDYxMyA2NDIgNjQ3CjE1NTMsMCA5IDExIDEyIDE3OCA1NCAxNSAxOTIgMyA1MgoxNTU0LDMxOTMgMzE0OCAzMTU1IDMxNTYgMzE1OSAzMTcwIDMxNzUgMzE4MiAzMTQ5IDMxNDYKMTU1NSwwIDExIDkgMTk0IDI5IDYxIDU0MSA1NTUgMTEyMiA2MjkKMTU1Niw1MzUyIDUzNDMgNTM1NyA1MjA1IDUzMzcgNTMzOSA1NCA1MzQyIDUzNTMgNTM2MgoxNTU3LDUzNjYgMjc1OCA1MzY5IDE0OSA1MzQ3IDUzNjMgNTM2NSA1MzM5IDAgNTQKMTU1OCw5IDExIDAgNTQgNCAxMzgzIDIxODAgMjE4NCAyMTk0IDIxOTkKMTU1OSwwIDkgMTEgMTIgNDYyOSA0NjMyIDE0NyA1MiAxMzgzIDQ2MjMKMTU2MCwwIDUyMjcgNDM5MCA1MzQ5IDUzNTEgNTM1NCA1MzYwIDExIDUzNjcgNTM0MwoxNTYxLDE3OCAwIDExIDI2IDEzODMgNTIgMTIgMTQgMSA0CjE1NjIsMTEgMTQ5IDkgMCAxMyAxODUgODIgMTQ3IDU0IDUKMTU2Myw0MjI2IDkgNTIwNSA1MzY1IDI2ODAgNCA1MzQzIDQzOTAgNTM0MSAyOTIyCjE1NjQsOSAxNzkgMCAxNDkgMTIgNTIgNTQgMTg1IDMzIDM3CjE1NjUsNTM1NyA1MzM3IDAgNTMzOSA1MzU0IDkgNTM1MiA1MzQyIDUzNjYgNAoxNTY2LDkgMTEgMTQ5IDAgNTQgMTkyIDggMjggMTYgMgoxNTY3LDEwMzAgNTI1IDgwMSAzMTQyIDMxNDMgMTAxMiA0MTggNzEyIDYyMiA3NTcKMTU2OCw0ODc4IDQ4NzkgNDg5OSA0OTA5IDQ5MTkgNDgxOCA0OTQ1IDQ4MzQgNDg0NyA0OTAyCjE1NjksMTEzNCAxMTM5IDExNDIgMTE0NSAxMTQ3IDExNTEgMTE1MyAxMTU0IDExNTggMTE1OQoxNTcwLDQ4OTkgNDg2MCA0ODc5IDQ5MDIgNDkyOSA0ODE3IDQ4MTggNDgyMCA0OTQ1IDQ5NTkKMTU3MSw5IDExIDU0IDIxIDE0OSAxNzggMCAxMiA0IDEzODMKMTU3Miw5IDExIDUzNDggNTM1NiA1MzY3IDUzMzkgNTM1MiA1MzUzIDUzNjEgNTM3MAoxNTczLDEyIDExIDkgMTk0IDE0OSAxNzggNCAzIDggMjQKMTU3NCw5IDEyIDUzNDMgNTM2MiA1MzcwIDI2IDE5MiA1MzM2IDUzNTIgMTc4CjE1NzUsMzE2MiAzMTQ3IDMxNDggMzE0OSAzMTUzIDMxNjUgMzE3NSAzMTc2IDMxODEgMzE4NAoxNTc2LDU0NyAyNTk2IDI1OTcgMjU5OCAyNTk5IDU1OSA1NzQgNTgwIDU4MyA2MjMKMTU3NywzMTU0IDMxNTggMzE3NyAzMTk2IDMxNDUgMzE1MiAzMTU1IDMxNjIgMzE3MSAzMTg2CjE1NzgsMTIgOSA1NCAxMSAzMyAxNDkgMjkyIDM0NzAgMTg0IDE4OQoxNTc5LDkgNTQgMCA3IDEyIDE0OSAxMSA0IDYzIDIwNQoxNTgwLDAgOCAxOTIgMTEgNSAyMjEzIDIyMjIgOTU4IDE3OCA1MgoxNTgxLDExIDkgMCA0IDE3OSA1NCA3IDggMTIgODY5CjE1ODIsMTEgNSAxMiAzMyA1MiAyNTkgOSAyMTIgOCAyMgoxNTgzLDMxODUgMzE5NCAzMTQ1IDMxNDkgMzE1NCAzMTU3IDMxNjMgMzE2NyAzMTY4IDMxNzAKMTU4NCwxOTQgOTU5IDExMjIgNjI5IDkgMCAxOTggMTIgNTQgMjYwCjE1ODUsNTM3NiA1Mzc5IDUzODMgMzQ4NSA1MDYzIDUzNzQgNTM3OCA1Mzc3IDQyNjAgNTM3NQoxNTg2LDE3OCA1MzQ4IDAgNTM0NCA1MzQ3IDUyODIgMjczMSA0OSA1NCA1MzM2CjE1ODcsOSA1MzU2IDQgMTQ5IDUzMzkgMjkyMiA1MzYyIDUzNzAgNTM1MSA1MzY2CjE1ODgsMjA1OSAyMDYzIDIwODEgMTU5NiAyMTEwIDIxNDAgMTYyOSAyMTY5IDE3MDEgMjIzNwoxNTg5LDkgMTEgMTIgNTIgNiAzMyA0IDE0OSAxOTIgOAoxNTkwLDkgNTM3MSA1MzYzIDUzNjkgNTMzOCA1MzYyIDUzNjUgNTIwNSA1MzcwIDE3OAoxNTkxLDU0IDAgMTEgNSAxMzg2IDE3OSAxMiA4MSAxODkgMQoxNTkyLDQ4MDUgNDgwNyA0ODA4IDI1MjYgMjU4NiA0ODEwIDQ4MTIgMjUxMSA0ODE1IDQ4MTYKMTU5MywxNDkgNDg5MSA1NCA0MTM4IDQxNDkgNDE1MCA0MTU4IDEyIDQxODggMTEKMTU5NCw1MzQ0IDE0OSA1MzM5IDUzNTEgNTM1MiA1MzcwIDUzNDcgOSAxMiA0MzkwCjE1OTUsNDYyOCAxMiA0NjMwIDExIDQ2MjAgNDYyNSA0NjI2IDQ2MzIgMjkgNAoxNTk2LDkgMTIgMTEgNTM2NiAwIDUgNzAgMTQ3IDUzNjEgNTM2MwoxNTk3LDkgMTIgMCAxMSA0IDE0OSAxNzggMjU5MSAyNTM0IDE0CjE1OTgsNDg3OSA0OTA5IDQ5MTkgNDgyMCA0ODI3IDQ4MzEgNDgzNCA0ODQ3IDQ4NDggNDg5OQoxNTk5LDkgMTEgMTQ5IDAgMyA0IDEgOCAyNiAxODkKMTYwMCw5IDExIDEyIDMxOTggMiAxNTQ1IDE1NDkgMTM4OCAzMyAxMzgzCjE2MDEsMTE0OCAxMTUzIDExNTYgMTE2NiAxMTY3IDExNjggMTE3MyAxMTc0IDExNzUgMTE3NgoxNjAyLDAgOSAxMzg2IDQgNDI0MSA0MjUxIDUwMjEgNTAyMyA0MzAxIDQyMTgKMTYwMyw1MzQwIDUzNDkgNTM1MiA1MzU5IDUzNjQgNTM3MSA5IDUzNTUgNTM3MCA1MjA1CjE2MDQsOSA1MzM5IDUzNTYgMCAyODQ0IDUyODIgNTM2OSA1MzQzIDMwMjIgNTM0MQoxNjA1LDkgMjkgMSA0IDEyIDMgNTQgMTQ5IDQzIDczCjE2MDYsNDgxMSA5IDI1NzQgNDgwNyA0ODA4IDI1MTUgMjU2OSAyNTc5IDI1ODcgMjU4OQoxNjA3LDI5NTEgMjk4NSAyOTg4IDQgMjk3MiAyOTk2IDU0IDE1MDEgMjc1MCAyOTUzCjE2MDgsMTUgNTQgMTk0IDAgMTEgMTIgMTQ5IDIyIDE3OCAxNzkKMTYwOSwyNTc0IDQ4MDYgNDgwNyAyNTI4IDI1NTQgNDgwNSA0ODA5IDQ4MTEgNDgxMiA0ODE1CjE2MTAsOSAwIDE3OSA1MzM1IDUzNDAgNTM0NCA1MzQ1IDUzNTMgNTM2NyA1MzM3CjE2MTEsNDE3OCA5IDExIDEyIDQxMzcgNTQgMCA0MTM4IDQxNDIgNDE0MwoxNjEyLDExIDkgMCAxMiA0IDE0OSAxNyAzNyA2MDEgNwoxNjEzLDkgNTM3MSAzMyAyODA4IDUzNjUgMTc4IDY2IDUzNDAgMTM4NSA1MzUyCjE2MTQsNDY0MyA0NjQ2IDQ2NDggNDY1MiAzNTU2IDQ2NjUgMjcwOSA0NjQ1IDQ2NDkgNDY1MAoxNjE1LDUxNyAyNTk2IDI1OTcgMjU5OCAyNTk5IDU3NCA1OTAgNjU0IDcwOSAyODIKMTYxNiw0ODk5IDQ5MDIgNDgyMCA0ODI3IDQ4MzQgNDg0OCA0ODYwIDM0NzMgNDkwOSA0OTI5CjE2MTcsMTEgMTIgMTc4IDkgMTQ5IDI2IDE2MCAxOTQgMSA0CjE2MTgsOSAxMiAxMDUgNzkgNTQgMTM4NSAwIDE3OSAxMzgzIDE0NwoxNjE5LDExIDE0OSAwIDggOSAyOTcyIDE1MDEgMTc5IDI5ODkgMTk2CjE2MjAsOSAyOTU3IDAgMjk2NyAyOTU1IDI5NjQgMjk2OCAyOTc3IDI5NTEgMTEKMTYyMSw5IDIxOTYgMjk3MCAyOTgwIDI5ODQgMjk4NiAyOTg3IDI5ODggMjE4MyAxMQoxNjIyLDkgMTEgMSAwIDUgNTQgMTUgMTQ5IDUyIDEyCjE2MjMsNDYxNyA0NjE5IDQ2MjAgNDYyNCAzNjMwIDMzMDIgMTIgNDYzMSA0NjMwIDkKMTYyNCw1MDIyIDQyNTkgNDIxOCA0MjQ4IDUwMjEgNDI1NiA1MDI0IDQzMjMgNDI0MSA0MjUxCjE2MjUsMTgwMyAxNTM3IDIxMTAgMjExMSAyMTE4IDIxNDAgMjE2MiAxNjU2IDIxNjkgMTY2NAoxNjI2LDQ4MDYgNDgxMSA0ODEzIDI1MjYgMjU1NCA0ODA5IDQ4MTIgNDgxNCAyMjg5IDI1MjgKMTYyNywxMiA0ODYwIDAgNDg3OCA0ODc5IDQ4OTkgNDkwMiA0OTA5IDE3OSA1NAoxNjI4LDQ2NDIgNDY0NCA0NjU2IDQ2NTggNDY1OSAxNzI4IDQ2NjUgMTY3MiA0NjQzIDQ2NDkKMTYyOSw1MDIyIDUwMjMgNDI2NSA0MzI2IDQyMzAgNDIzNSA0MjQ4IDQyNTYgNDI1OSA0MjgyCjE2MzAsNDg3OCA0ODk5IDQ5MDIgNDkxOSA0ODE3IDQ4MTggNDgyMCA0ODMxIDQ4MzQgNDg0OAoxNjMxLDExIDkgMTIgMTk0IDE0OSAzMyAxMzg3IDE3OCA1NCAyMwoxNjMyLDExIDkgMTc4IDIgMTYgMjkgNDY2NiAxMzgzIDEzODggMzE5OAoxNjMzLDkgMCAxMiA1NCAxNDkgMTEgMjEgNTIgMTkyIDcwCjE2MzQsNDkzNiA0OTg5IDUwMDkgNDgxOSA0ODQxIDQ5NzMgNDk2MiA0ODY4IDQ4NzEgOQoxNjM1LDI1NjkgMjU4NCA0ODEwIDQ4MTMgMjU3OSA0ODA1IDQ4MDcgNDgxMiA0ODE1IDI1MjYKMTYzNiwyNTg0IDQ4MDYgNDgwNyA0ODA4IDQ4MTAgNDgxNSAyNTczIDI1NzQgNDgxMSAyNTM3CjE2MzcsNiA5IDAgMTQ5IDEyIDE3OCAxMSA0OSA0IDI4CjE2MzgsOSAxMiAxMSAxNzggMSAyOTYxIDI5OTAgMjk5MiAyOTkzIDk1MwoxNjM5LDQxODggNDE1OCAxNDkgNDEzMSA0MTM1IDM4MjkgNDE0MiA0MTM4IDExIDQ4OTEKMTY0MCw5IDI5NzIgMjk3NSAyOTg4IDI5OTQgNSAyOTU0IDI5NjQgMjk2NyAyOTc2CjE2NDEsOSAxMSAxMiAyOSAxOTIgNCAyNTE0IDEwMiAwIDYKMTY0Miw1MzU0IDUzNTEgNTM2NSA1MzcwIDUzNDMgMCAyNzQ2IDUzNjAgNTM2NiA5CjE2NDMsNDgxMCA0ODEzIDQ4MTYgMjU3OSA0ODA1IDQ4MTIgNDgxNCAyNTM1IDI1NDMgMjU1MgoxNjQ0LDE0OSAwIDkgMTIgMTc5IDU0IDEgNiAxMSAxMzgzCjE2NDUsMzE0NiAzMTQ5IDMxNjQgMzE2NSAzMTcyIDMxODMgMzE4NSAzMTkwIDMxNzAgMzE1MgoxNjQ2LDkgMzI0NSAzMjQ5IDMyNTEgMzI0NCAzMjQ2IDAgMzIzOCAzMjQyIDU0CjE2NDcsMTAzMCAxNjc4IDgwMSAzMTQyIDEwMTIgNTI1IDcxNiA2MTEgNzYwIDUyNwoxNjQ4LDE1MzcgMjA1OSAyMTEwIDIxMjAgMjE0MCAyMTU3IDIxNjkgMTY2NCAxNzI2IDIyNDAKMTY0OSw5IDI5NTQgMSAyOTU1IDI5ODQgMjk4NSAyOTk1IDEzODMgMjk3MSAyOTc5CjE2NTAsMzE0NyAzMTU1IDMxNDUgMzE3MSAzMTczIDMxNzcgMzE3OSAzMTkzIDMxOTYgMzE2NwoxNjUxLDUzNDMgOSAwIDExIDU0IDUzNDEgNTM2MiA1MzUwIDE0OSAyODUyCjE2NTIsMCAzIDE0OSAyIDM3IDU0IDMzIDE0IDIyMiAyNTQwCjE2NTMsMTQ5IDI2IDExIDEyIDkgMCAxIDgyIDUyIDI5CjE2NTQsMTAzMCAxNjc4IDY1OCA4MDEgMzE0MiA3MTYgMTAxMiA1MjUgNDI3IDcxMgoxNjU1LDE1MzcgMjA1OSAxNTk2IDIxMTggMjEyMCAxNjI2IDIxNDAgMTYyOSAyMTYyIDE3MDEKMTY1NiwzMTQ2IDMxODkgOSAzMTQ4IDMxNTIgMzE1OSAzMTY1IDMxNzcgMzE2MSAwCjE2NTcsMTEzNiAxMTM3IDExMzggMTEzOSAxMTQ1IDExNTIgMTE1MyAxMTU0IDExNTYgMTE1OQoxNjU4LDExMzQgMTEzNSAxMTM4IDExNDAgMTE0NSAxMTUxIDExNTQgMTE1OSAxMTYwIDExNjUKMTY1OSw0ODEwIDI1NjkgMjU3NCA0ODA1IDQ4MDcgNDgxMiA0ODE0IDQ4MTUgMjI4OSAyNTQ3CjE2NjAsNDY0NyA0NjUwIDQ2NTIgNDY2MCA0NjYxIDQ2NjUgNDY0MSA0NjQyIDQ2NDQgNDY0NQoxNjYxLDUxNyA1NDcgMjU5NiAyNTk3IDI1OTggMjU5OSA1NTkgNTc0IDU3NyA1ODMKMTY2MiwzMTU5IDMxNzAgMzE3MyAzMTgzIDMxODYgMzE5NSAzMTc0IDI1NjAgMzE0NCAzMTQ4CjE2NjMsMCAxNDkgOSA1MzQ5IDUzNTQgNTM1NiA1MzM5IDUzNDIgNTM0NiA1MzUxCjE2NjQsMCA5IDUgNTQgMjYgMTM4MyA0IDEyIDExIDMxCjE2NjUsOSAxNDkgNjYgNSA0IDEwMiAyOTIgNjMgMzMgMTc0NQoxNjY2LDkgMTQ5IDAgMTEgMTc5IDI1ODEgMjU4NiAyNTg3IDUyIDQ4MDUKMTY2NywxMSAxNDkgOSAwIDI5IDE5MiAxMiA1NCAxIDE2CjE2NjgsMjY5MiA5IDE3OCAwIDQzOTAgNTMzNyA1MzM4IDUzNDMgNTM0NiA1MzUwCjE2NjksOSAyNiAxMSAxNzggMCA1NCAxOTIgMTA1IDUzNTQgNTM2NQoxNjcwLDQ4NzkgNDg5OSA0OTA5IDQ5MTkgNDgxOCA0ODIwIDQ4MjMgNDgyNyA0OTU5IDQ4MzQKMTY3MSwxMiAwIDExIDE2MCAxNzggMTc5IDU0IDEzOTUgNCAxNgoxNjcyLDkgNTE2OSAyMTMwIDUyMDEgNTIwMyA1MjA0IDUyMDYgNTIwNyA1MjA4IDUyMDkKMTY3Myw0OTczIDUwMDkgMzM1MSA0ODkwIDQ5MzYgNDgxOSA0ODM2IDQ4NTYgNDg2OCA0ODgxCjE2NzQsMCAxOTQgNCAzMyAxNzggMjQgMTQ5IDUzNDEgMTM4NSAxMDUKMTY3NSw5IDAgMTIgMTQ5IDU0IDExIDE2NzMgMjcgMTQgMzMKMTY3Niw5IDI5NTcgMjk2NyAyOTg4IDk1MyAyOTY1IDI5NzEgMjk3NCAzMyA1NAoxNjc3LDE1MzcgMjA1OSAyMDgxIDE1OTYgMjEyMCAxNjI2IDIxNDAgMTYyOSAxNjY0IDE3MDEKMTY3OCw5IDM3IDExIDcgMTkyIDE2MCA1NiAxOTQgMyAzMwoxNjc5LDU0NyAyNTk2IDI1OTcgMjU5OCAyNTk5IDU2NSA1NzQgNTgwIDU5MCA2MTMKMTY4MCwxNTM3IDIxMTggMjE0MCAyMTUzIDIxNjIgMjE2OSAxNjg1IDE2OTUgMTcwMSAyMjM3CjE2ODEsMCAxMSAxMDMwIDUyNSA2NTggODAxIDMxNDIgMzE0MyA3MTYgNjExCjE2ODIsMTQ5IDkgMTc4IDExIDAgMTIgNDkgMSA1MiA4CjE2ODMsMjU3NCA0ODA2IDQ4MDcgNDgxMCA0ODEzIDQ4MTUgMjU0MyAyNTc5IDI1ODcgMjU5MQoxNjg0LDkgNTQgMCAxMSAxNzkgMTQ5IDE3OCAxMiA1MiAyNgoxNjg1LDAgMTIgNCA4IDMyMCA1IDI4IDUyIDgyIDEzODYKMTY4NiwwIDE3OSAxMiAyNiA1MiA1MzcwIDMzIDQ5IDU0IDE0OQoxNjg3LDExIDkgMTIgMTc5IDQgMjIgNTQgMSAyIDgyCjE2ODgsOSA1NCAxNzkgMCA0IDI2IDYgNTIgMTc4IDIwNwoxNjg5LDUzMzYgNTM0MSAwIDUzMzkgNTM0MyA1MzQ2IDUzNTQgNTM2MyAyODc3IDUzNDkKMTY5MCw0NjUwIDQ2NjIgNDY2NSA0NjQxIDQ2NDcgNDY0OCA0NjUyIDQ2NTQgNDY1NSA0NjU2CjE2OTEsOSA1MzY2IDAgNTM2OCAyNiAxNzkgNTIgNTM0MCA1MzU5IDUzNjUKMTY5Miw5IDEyIDExIDE0OSAxMzk1IDUyIDU0IDE4OSA2MSAxOTIKMTY5Myw5IDExIDE0OSAxNzggNCAxODAgMTIgMTg5IDY2IDI5CjE2OTQsMCA5IDExIDEyIDE3OSAxNzggNCA1IDIzIDEzODMKMTY5NSw5IDUzMzkgMTEgMjg0NCA1MzM3IDUzNTMgMjY5NiA1MjgyIDQzOTAgMTc5CjE2OTYsMzMzNSA0NjU5IDQ2NDMgNDY0OCA0NjU0IDM1MTQgNDY2NSA0NjQxIDQ2NDUgNDY0NwoxNjk3LDQ4NzggNDkxOSA0ODE3IDQ4MTggNDk0NSA0ODIwIDQ4MjMgNDgzMSA0ODM0IDQ4NDgKMTY5OCwxMSA5IDAgMTQ5IDMzIDEzODMgNCA1MiAyMzkgNgoxNjk5LDExMzggMTE0OSAxMTUxIDExNTMgMTE1NCAxMTU5IDExNjQgMTE2NSAxMTcyIDExNzMKMTcwMCw0NjQyIDQ2NDYgNDY0NyA0NjQ4IDQ2NTUgNDY1OSA0NjYyIDQ2NjMgMzMzNSA0NjQzCjE3MDEsOSAxMjkgMCAyMzkgMTIgMTQzNiAzMyAxOTQgNDk1OSAxNDcKMTcwMiwwIDMzIDU0IDUgMTIgMTM4NyAzIDQgMTEgMTQ5CjE3MDMsNTM1OCA1MjgyIDE0OSA1MzQyIDkgMjc1OCA1MjA1IDUzNTIgNTM1NSA1MzcwCjE3MDQsMTIgMCA5IDExIDMgMTEyOCAxMTMyIDEgMjIgMTc4CjE3MDUsMTEgOSAwIDI5IDMzIDE3OSAxMzgzIDIxIDI3IDE0NTYKMTcwNiw5IDAgMTc5IDU0IDExIDI5IDEzOTYgMiAxNDAyIDE0OQoxNzA3LDkgNCAwIDE0OSAxNzkgMTIgMjM5IDI2IDE0MDAgNwoxNzA4LDExIDUzNTYgNTM3MCA1MzYyIDUzMzkgNTM1NCA1MzYwIDAgOSAxMgoxNzA5LDI1NzkgNDgwNyA0ODEwIDQ4MTMgNDgxNiAyNTM0IDI1NDMgMjU3MyA0ODA1IDQ4MTEKMTcxMCwxNDkgOSAxMSA1MzQ4IDUzNTIgNTM1OCA1MjA1IDUzMzcgNTM2OCA0MjQyCjE3MTEsNTM2NCA1MzM3IDkgNTM0MyA1MzQ3IDUzNTQgMTEgNTM1MSAwIDUzNDEKMTcxMiw5IDUzMzkgNTM2NyAxNDkgNTM1NiAwIDUzNDQgMTIgNTM0NyAxMQoxNzEzLDkgMTIgMjYgMTQ5IDU0IDQ5IDQyMzUgNDIzNiA0MjQxIDQyNTEKMTcxNCw5IDExIDIwMDMgMjk1MiAyOTY4IDI5NjQgMjE4MyAyOTUzIDI5NTQgMjk2MgoxNzE1LDkgMTEgMTQ5IDEzODQgNTQgNCA1MiAxOTQgMjU4MSAxCjE3MTYsOSAxNzggMTc5IDEgMTEgMTIgMjYgNDg5MSAyOSA0MTU4CjE3MTcsOSAxMiAwIDEgNCAzMTU0IDMxNTcgMzE1OCAzMTU5IDMxNjMKMTcxOCwxMSAwIDggMTc5IDU0IDE5NCAxNiAzMyA1MiAzCjE3MTksMzE0NSAzMTkzIDMxNDggMzE2NiAzMTc0IDMxODEgMzE4MyAzMTg1IDMxOTAgMzE1MgoxNzIwLDMxNjUgMzE1NCAzMTU3IDMxNzIgMzE3NiAzMTk0IDkgMzE0NiAzMTQ3IDMxNDgKMTcyMSw0ODE2IDI1MjYgMjU1NCA0ODA3IDQ4MDkgNDgxMCA0ODExIDQ4MTIgNDgxMyAyNTExCjE3MjIsMjU4OSA0ODA2IDQ4MDggNDgxMyA0ODE1IDQ4MTYgMjU1NCAxMSAyNTY5IDI1NzQKMTcyMyw1MTcgMjU5NiAyNTk3IDI1OTggMjU5OSA1NTkgNTgwIDU4MyA1OTAgNjEzCjE3MjQsMTEgMCA5IDI2IDEyIDU0IDIyIDUyIDYzIDE3OAoxNzI1LDkgMTEgMTQ5IDU0IDE3OCAxIDEyIDE0IDAgNAoxNzI2LDkgMTIgMTEgMTEyMiAyNiAxOTggNjI5IDI3NSA1NDEgMTQ5CjE3MjcsNTIwNSA1MzYyIDExIDUzNjkgNTM0NSAyNzA0IDUzNDAgNTM0MyAxMzg0IDUzNTUKMTcyOCw1NCA0MTc4IDkgMTEgMjk2NiA0ODkxIDQxMzcgMzMgNDE0OSAwCjE3MjksMCAxNDkgNTQgMTcgMTM4MyAxNzggMyA3IDI5IDE3OQoxNzMwLDE1MzcgMjA1OSAyMDYzIDIwODEgMjExMCAxNjAxIDIxMjAgMjE0MCAxNjI5IDIxNjIKMTczMSw1MzYwIDE0OSAxNzggNTM1NiA5IDU0IDUzNTAgMjg3NyAwIDUyMDUKMTczMiw5IDEyIDU0IDAgMTEgMTM4MyAzNyAxMzkwIDUyIDcwCjE3MzMsOSAxMiA1NCAwIDE3OCAxOTQgMTEgMTA1IDI5IDE3OQoxNzM0LDQzNzUgOSA1MDIxIDUwMjQgNDI3NSA0NDEzIDQzMjUgNDIzNSA0MjQ4IDUwMjIKMTczNSw0MzM4IDQyNTkgNDQxMCA0MzQzIDQyMzAgNTAyMyA0MjY1IDQ0MTMgNDMxMCA0NDY1CjE3MzYsNDkzNiA0ODY2IDUwMDYgNTAxOSA0OTIzIDQ4MjEgNDk2MiA0OTczIDkgMzM1MQoxNzM3LDExMzYgMTEzNyAxMTM4IDExMzkgMTE0NCAxMTUxIDExNTIgMTE1MyAxMTU2IDExNTkKMTczOCw0ODE1IDI1ODQgMjU5MSA0ODA2IDQ4MTAgNDgxMSA0ODEyIDQ4MTQgMjUzMCAyNTM3CjE3MzksOSA1MzM4IDAgNTM0MyA1MzYzIDUzMzcgNTM1MCA1MzYwIDUzNjIgNTM2NgoxNzQwLDUzNjAgNTM2MiAxMSA1MzY1IDI3NjkgNTIyNyA1MzcwIDEyIDM0ODAgNTM1NAoxNzQxLDE0OSA5IDU0IDExIDAgMSAyMDYgNTIgMTkyIDE5NgoxNzQyLDQ2NDEgNDY1MiA0NjQyIDQ2NDQgNDY0NSA0NjQ4IDQ2NTMgNDY1NSA0NjYzIDI3MzIKMTc0Myw5IDExIDU0IDAgMTQ5IDY3MSAxNzkgMTM4MyAxNiAxMzg0CjE3NDQsNDI4OCA0MzI1IDUwMjEgNTAyMyA0MzAxIDQ0NDYgNTAyMiA0MjgzIDQ0MTMgNDM0MwoxNzQ1LDI1NzMgNDgxMiA0ODE2IDkgMjU3NCAyNTg0IDQ4MDUgNDgxMCA0ODExIDQ4MTMKMTc0Niw5IDExIDE0OSAwIDEgNiA0IDEzIDI2IDUwCjE3NDcsOSA0ODk5IDQ5MDkgNDgxOCA0OTQ1IDQ4MjAgNDgyNyA0OTU5IDQ4MzQgNDg0NwoxNzQ4LDAgMTIgMyAxMSA1MzI2IDMzMDUgMzIgMTc4IDEzODYgMTQ5CjE3NDksMjU5NiAyNTk3IDI1OTggMjU5OSA1NTkgNTY1IDU5MCA2MTMgNjU0IDY2NAoxNzUwLDkgNTM1MiAyNzk5IDExIDUzNTMgNTM1NCA1MzU2IDUzNTcgNTQgNTM1MQoxNzUxLDExIDAgMTIgMTQ5IDU0IDE3OCA4NiAyNDAgNCAxOTIKMTc1Miw5IDEgMTEgMTg0IDU0IDY2IDMzIDQgMTIgMTkKMTc1Myw0ODA2IDQ4MTMgOSAyNTc0IDI1ODEgMjU4NyA0ODA3IDQ4MDkgNDgxNCAyMjg5CjE3NTQsOSAxMSAxNDkgNCA0OSAwIDI5IDEzOTMgNSA1NAoxNzU1LDkgMTc5IDY2IDEyIDExIDE2IDIgMTg1IDcwOSAxNDkKMTc1NiwzMTU1IDMxODEgMzE4NSAzMTg2IDMxODkgMzE2NSAzMTczIDMxNzYgMzE4MCAzMTgyCjE3NTcsMTQ5IDExIDEyIDU0IDE3OSAwIDU2IDEwNSA0IDIxCjE3NTgsNDY0MSA0NjQ1IDQ2NDYgNDY0OCA0NjUyIDQ2NjUgNDY1NyA0NjYwIDQ2NjEgMzkxOQoxNzU5LDUzNDYgNTM1MyAwIDUzNTYgMTEgOSA1MzY3IDQzOTAgNTM3MCAxMgoxNzYwLDE3OCAwIDkgMTM4NiA2IDExIDQ5IDE4NSA2MjIgODY5CjE3NjEsMCA5IDE0OSAzIDI2IDMzIDE5MiAyOSA1NTUgMTIKMTc2Miw1Mzc2IDUzNzcgNTM3OSA1MzgxIDUzODMgNTM3OCA1MzgyIDQyNjAgNTM3NSA0Njk4CjE3NjMsNDI1NiA0MjY1IDQyNzkgNDI4MyA0MzEwIDQzMTggNTAyMiA1MDI0IDUwMjMgNDI3NQoxNzY0LDkgMTY2OSAxMiAxNDkgMzMwMiAwIDExIDIwNjEgMTc2NiAzMzA0CjE3NjUsNDY0NSA0NjQ2IDQ2NTIgNDY1NiAxOTkwIDkgMjk1NiAzMzM1IDI3MDkgNDY1MAoxNzY2LDE0OSA0IDIgMyA3MSA3IDE1IDE5MiAxMjggNgoxNzY3LDQgMjU3NCAxMSA1NCAxNDkgMjU2OSAyNTczIDI1NzkgMjU4NCAyNTg3CjE3NjgsNDg4MSA0ODgzIDM4NjggNTAxOSA0OTE3IDQ5MzYgNDA1NCA0OTU1IDQ5NjIgNDk2MwoxNzY5LDAgMTEgMjk4OCAyOTk1IDI3NTAgMjk3NCAyOTg5IDIzNTIgMjk1MyAyOTgyCjE3NzAsOSAxMiAwIDExIDUzMzUgNTM1NSA1MzYyIDUyODIgNTM0MiA1MzQ3CjE3NzEsMTEgMTIgNTQgNCAxNzkgMTI4IDE3OCA1MiAxODkgOAoxNzcyLDAgMjk5MSA5IDExIDIxOTYgMjk3MCAyOTg4IDI5OTQgMjk1NyAyOTYwCjE3NzMsOSAyNTg4IDI1NjkgMjU3OSAyNTgxIDQ4MDYgNDgwNyA0ODEwIDQ4MTEgNDgxMwoxNzc0LDAgMTIgNTQgNCAxIDMgMTEgMjEgMTkgNzAKMTc3NSwwIDEyIDkgMjYgMjIgNTQgMjMgMzcgMTM5NSAxOTIKMTc3NiwxNTM3IDIwNTkgMjA4MSAxNTk2IDIxMTAgMjExMSAyMTIwIDIxNDAgMTYyOSAyMTY5CjE3NzcsOSAxMSA2OSAxIDEyIDI5IDEzODUgMCAxNiAxNDkKMTc3OCw0MjU5IDQyODggMCA0MjUxIDQ0MTMgNDMwMSA0MzA4IDQ0NDYgNDMyNSA0MjE5CjE3NzksMjYwOCAyNjE4IDI2MjMgMjYyOCAyNjM5IDI2MDIgMjYwNSAyNjA2IDI2MTQgMjYyMgoxNzgwLDE0MDggMTUzNiAxNDE4IDE2ODkgMTQzNiAxNjYwIDE5NTcgMTQ0OCAxNDYyIDE0NjQKMTc4MSw0ODA3IDQ4MTMgNDgxNiAyMjU5IDI1MjQgMjU3OSA0ODA2IDQ4MDggNDgwOSA0ODE0CjE3ODIsNDIyNiA1MzU3IDUzNDkgNTM2MiAxMiA1MzUzIDUzNzEgNTM0MyA1MzYwIDUzMzYKMTc4Myw0NjUwIDQ2NDEgNDY0NCA0NjQ1IDQ2NDcgNDY0OCA0NjQ5IDQ2NTIgNDY1MyA0NjU0CjE3ODQsMTc5MiAzMzM1IDQ2NDggNDY1OCAyMDY5IDQ2NDUgNDY0OSA0NjUwIDQ2NTEgNDY1NwoxNzg1LDExIDE4OSA3IDEzODQgMTYgMjYgNDI1MSA0MjU5IDQyNjEgNDI2NQoxNzg2LDUzNTMgOSA1MzY3IDExIDU0IDUzMzYgNTM1NSA1MzU2IDUzNjAgNTM3MAoxNzg3LDAgMTEgMTc5IDEyIDE0OSAzNyAzOCA4NjkgMTkwIDEzODcKMTc4OCwwIDEyIDkgMTEgMSAyNiAzNSAxNzkgMTk0IDY2CjE3ODksOSA0NTkxIDAgMTQ5IDU0IDI2IDE5MiA0NTkzIDE3OTcgMTc4CjE3OTAsMCAxMiAxMSA1NCAxNzggNiA0IDI5IDE3OSA1MgoxNzkxLDUzNzAgNTM0NSAxMiAxNzkgNTMzNSA1MzY2IDUzNzEgNTM0MiA1MzUxIDUzNjEKMTc5MiwxNDkgNTQgNCAxNDcgMTg3IDE1IDE5MiAyNjYgMTc5IDY0CjE3OTMsOSA0NjE5IDQ2MjUgNDYyOSA0NjE3IDI4NTcgNDYyNiA0NjM0IDAgMwoxNzk0LDkgMTQ5IDAgMTEgMTQgMzMgNTQgMzQ3MyA0IDE5NgoxNzk1LDQyNTkgNTAyMiA0NDEzIDQyNzkgMTIgNDI0MSA0Mzc1IDUwMjQgNDI4OCA0MzEwCjE3OTYsNDY1NyAzMzM1IDQ2NDMgNDY0NyA0NjQ4IDQ2NTAgNDY1NCA0NjU5IDQ2NjAgNDY2MQoxNzk3LDkgNDYzMCA0NjIwIDM2MzAgMTEgNDYxOCA2NiA0NjM1IDEyIDQ2MjQKMTc5OCwxMSAwIDE0OSA1NCAxNzggOSAxMiAxMzg2IDIgNDkKMTc5OSwxMiA5IDQgNDYyNiA0NjMwIDQ2MzQgNDYxOSAxNCA0NjMxIDM2MzAKMTgwMCw5IDU0IDExIDAgMTIgMTQ5IDI5IDE3OSA1MiA5NTkKMTgwMSw5IDUzNDIgMTQ5IDUzMzkgNTM2NyA1MjI3IDE3OCAyNzY3IDUzMzcgNTM1MQoxODAyLDAgMTQ5IDE3OSA1NCAxOTQgNSA4NjkgOCAxNCAzOAoxODAzLDEwMzAgMTY3OCA4MDEgMzE0MyA3NjAgNjU4IDcxNiA2MDYgNjExIDYyMgoxODA0LDExIDkgMjYgMCAxMiAyOSA0IDE0OSA1NCAxOTIKMTgwNSwyOTU4IDI5NjAgMjk1MSAyNzUwIDkgMTEgMjk4NiAyOTg4IDI5ODkgMjk5MgoxODA2LDI2MDQgMjYxNSAyNjI2IDI2MzYgMjYwMiAyNjAzIDI2MDUgMjYxMiAyNjE4IDI2MjAKMTgwNyw0ODYwIDQ4NzggNDg5OSA0OTAyIDQ5MTkgNDgxNyA0ODIwIDQ5NTkgNDg3OSA0OTA5CjE4MDgsMCAxNDkgMiA4MiAxOTIgNDkgNTQgNSA0IDI2MgoxODA5LDMxNzQgMzE2OSAzMTgxIDMxODcgMzE3NyAzMTQ1IDMxNDkgMzE1MyAzMTU0IDMxNTUKMTgxMCwwIDI2IDMxIDE2MCAxNDkgNCA1NCAzIDkgMTIKMTgxMSw0ODA4IDQ4MDkgNDgxMyA0ODE0IDI1NzMgMjU3OSA0ODA3IDQ4MTIgMjUzMCA0ODE2CjE4MTIsMTEgOSAxNDkgNTIgNTIwNSAwIDUgMTIgMzIxNyAyMDc3CjE4MTMsMTAzMCAxNjc4IDgwMSAzMTQyIDMxNDMgNjA2IDEwMTIgNzU3IDkgNTI1CjE4MTQsNDg3OCA0ODk5IDQ5MDIgNDgxNyA0ODE4IDQ4MjAgNDgyMyA0ODI3IDQ4MzQgNDg0NwoxODE1LDMxODAgMzE0OCAzMTU1IDMxODUgMzE4OSAzMTY0IDMxNzAgMzE0NSAzMTQ5IDMxNTMKMTgxNiwyOTg2IDU0IDI5OTUgMjk1MSAyOTUzIDkgMjU5NSAyOTgwIDI5NTcgMTQ5CjE4MTcsOSA1MjgyIDUzNDkgMTEgNDM5MCAyODY5IDAgNTMzNyA1MzQyIDUzNDYKMTgxOCwxMSAwIDkgMTc4IDU0IDEyIDEzODMgNTYgOCAxNjAKMTgxOSw1NDEgMTEyMiA2MjkgOSA1NTUgMTQ5IDI2MCA1NCAwIDEyCjE4MjAsMzE0MiAzMTQzIDcxMiA2MjIgMTAxMiAyNDYgNzYwIDEwMzAgOSA1MjUKMTgyMSw1NCA5IDUwMjIgNDQxMCA0MjM1IDQzNzUgNDI0OCA0MzgwIDQyNTQgNTAyNAoxODIyLDkgMjk3NCAyOTU3IDI5NTIgMjk2MSAyOTYzIDI5NjggMjk5MiAxNzggMTI1MQoxODIzLDExIDkgMTQ5IDAgNCAyOSAxNzggMTM4NSAxOCA1NAoxODI0LDQ4MDYgNDgwOCA0ODEwIDQ4MTEgNDgxMiA0ODE1IDI1NDYgMjU4NyA0ODEzIDI1MzcKMTgyNSw0NjQzIDQ2NTkgMjA2OCAyMDY5IDQ2NDIgNDY0NSA0NjQ3IDQ2NDggNDY0OSA0NjUwCjE4MjYsMCA5IDEyIDM3IDcwNCA2OSAxMSAyNiA3OSA3CjE4MjcsMTEgOSA1NCAxNDkgMTk0IDE0MjQgMjggMjIzIDEgNTIKMTgyOCwxNDkgMTIgMTEgMTc4IDU0IDAgMyAxNDcgMTM4NiAyNjYKMTgyOSw5IDEgMTQ5IDExIDE3OCAzIDggMTc5IDEzOTYgNwoxODMwLDkgNTM1MiAyNzI4IDUzNDQgNTM1MSA1MzYxIDUzNDYgMzQ4MCA1MzQ5IDUzNTQKMTgzMSwxNDkgMTEgMCAyNTEzIDI1MzMgMjU1NyAyNTUzIDE3OCA1NCA0ODE2CjE4MzIsOSAwIDI2IDQgMTc5IDE5NCA1NCAxMSAxMiAxNDkKMTgzMyw5IDE0OSA1NCAxNzggNiAwIDQgNTIgMTM4MyAxODQKMTgzNCw0ODc4IDQ4NzkgNDg5OSA0OTA5IDQ5MTkgNDgxOCA0ODQ3IDQ4NjAgNDk0NSA0ODI3CjE4MzUsOSA1NCAxNDkgMCAxOTIgNiAxMiA2NiA4IDUyCjE4MzYsMjA2OCA0NjQxIDQ2NDMgNDY0NCA0NjQ4IDQ2NDkgNDY1OCAzNTE0IDMzMDggNDY1MgoxODM3LDUzNjYgNTM0NCA1MzU0IDkgNTMzNyAyNzA0IDI4NTIgMTIgMTQ3IDUzNDAKMTgzOCwxNDkgNjYgMTIgMCAyOSAxNzkgMjQ4NCAyNDg5IDI0OTYgMjUwMwoxODM5LDI1OTYgMjU5NyAyNTk4IDI1OTkgNTU5IDU2MSA1NzcgNTgzIDYxMyA2MjIKMTg0MCwyNTk2IDI1OTcgMjU5OCA1NjUgNTgwIDYxMyA2MjMgNjQyIDY0NyA2NTQKMTg0MSw5IDAgMTIgMTEgMzMgNCA1NCAyOSAxIDE0NwoxODQyLDEyIDUzNTIgNTM1NCA1MjA1IDkgMTEgMzQ4MCA1MzM1IDUzMzYgNTMzNwoxODQzLDkgNTM1NSA1MzU4IDUzNjEgMTg0IDUzMzYgMjcyOCA1MzM4IDUzNDkgNTM1MQoxODQ0LDcwIDAgMTM4NCAxIDkgMTIgMTQ5IDIzIDEzODMgMTEKMTg0NSw0MjQxIDUwMjIgNDM0MyA0MjMwIDQyNTEgNTAyMyA0Mjc0IDQyODIgNDQxMCA0NDEzCjE4NDYsMCA1NCAyODkxIDUzNDkgNTM1OSAyODY5IDUzNTQgMTc5IDI4NzcgNTM2MQoxODQ3LDkgMyA0MzkwIDUzNjEgMiA1MzM2IDUyMDUgNTM0NyA1MzQ4IDUzNDkKMTg0OCw5IDI3NTAgMjk1MyAyOTc0IDE1MTAgMTEgNCAyMjM5IDI5NjIgMjk3MAoxODQ5LDUzNjUgOSA1MzU0IDUzNjEgNTMzOCA1MzY4IDI2OTIgNDI0MiA0MzkwIDUzMzcKMTg1MCwxNDkgOSA1IDAgMTEgMTIgNTIgMTkgMTc5IDEzOTIKMTg1MSwxMSAyOTkyIDE3OSAyOTYzIDkgMjk1NSAyOTU3IDI5NjAgMjk3MSAyOTgyCjE4NTIsNDgwNSA0ODEwIDQ4MTIgNDgxMyA0ODE0IDI1NzkgMjU4MSAyNTkyIDQ4MDcgMjUxMQoxODUzLDkgMTIgMjcxNyAzNjMwIDQ2MTkgNDYyNyA0NjMwIDQ2MjUgNDYyOSA0NjMyCjE4NTQsNTQgMTEgMTQ5IDEyIDkgNTYgNCAxNzggMTkyIDAKMTg1NSw5IDQ5MzYgNDk2MiA0ODQxIDQ5NzMgNDk3NCA0OTg5IDQ4NzEgNTAwNiA0ODkwCjE4NTYsNDI1MSA0Mzc1IDUwMjIgNDI3OSA0MzAxIDQzMTggNDI4MiA5IDQyMzYgNDI0MQoxODU3LDI1NzkgNDgwNyAyNTkyIDQ4MDkgNDgxMiA0ODE0IDQ4MTAgMjU3MyAyNTg4IDI1OTMKMTg1OCw0OTg5IDQ4NjggNTAwNiA1MDA5IDQ4MzUgNDg0MSA1MjI5IDQ4OTUgNDk1NSA0OTYyCjE4NTksOSAwIDU0IDE3OCAxMiAxNyAxMzg0IDY1IDEzODMgMzMKMTg2MCwxMSA1NCA5IDAgMTIgMTQ5IDE3OCAxODkgMzUgNTMyNgoxODYxLDQ4MDUgNDgwNyA0ODEyIDQ4MTQgMjU2OSAyNTg0IDI1ODcgMjU5MiA0ODA5IDQ4MTAKMTg2Miw1MzQ2IDUzNTMgOSAxMSA1MzM5IDUzNTUgNTM2MCA1MzY0IDUzNzEgMTIKMTg2MywxMTM2IDExMzggMTE0NyAxMTUxIDExNTIgMTE1MyAxMTU0IDExNTggMTE1OSAxMTY4CjE4NjQsNDY0MiA0NjQ0IDQ2NDggNDY2MSA0NjY1IDM5MTkgNDY0NSA0NjQ2IDQ2NTAgNDY1MgoxODY1LDkgMTEgMTQ5IDY2IDc0IDUgMjIgMiA3IDE4CjE4NjYsMzE2MSAzMTQ1IDMxNDkgMzE1MiAzMTcyIDMxNzMgMzE4MSAzMTg1IDMxODYgMzE5MgoxODY3LDkgMCAxMSA1MiA4NiAzIDM0IDU5IDkxIDUzNDAKMTg2OCwxMSAxNzkgOSAwIDMzIDU0IDIgMzUgOCAyNgoxODY5LDkgMTEzMCAwIDExMjcgMTEzMyAxMSAxMiAxMTI4IDE0OSAxMTMxCjE4NzAsMjU5NiAyNTk3IDI1OTggMjU5OSA1NzcgNTgzIDYxMyA2MjIgNjYxIDY2NAoxODcxLDAgMTQ5IDU0IDcgMTEgMjAwIDE2MCAxOTQgMSAxNzgKMTg3MiwxMSA5IDMzIDE0OSAxNzkgMTM4NCAyOSAxMzg1IDE3OCAxCjE4NzMsOSAxNDkgMTEgNCA1NCAyIDEzODcgNDkgMTc5IDE4OAoxODc0LDkgMTIgMTc4IDIzIDAgMjkgMjIwMiAyMjI5IDE0OSAxMzg1CjE4NzUsOSAxMSA0NjQ0IDQ2NDYgNDY0NyA0NjQ5IDQ2NTAgNDY1NCA0NjU1IDM1MTQKMTg3NiwxMSA0ODA2IDQ4MDkgNDgxMCA0ODEyIDQ4MTMgNDgxNSAyNTMwIDI1MzkgMjU3NAoxODc3LDQ4NjAgNDg3OCA0ODk5IDQ5MDIgNDkwOSA0OTE5IDQ4MjAgNDk1OSA0ODM0IDQ4NDcKMTg3OCw5IDEyIDExIDE0OSAzODMzIDE3OCAzMzA1IDE0MDMgMjA2MSAzMzAyCjE4NzksOSAxNDkgMCAxNzggMTEgMjYgMTg5IDU0IDMzIDEwNQoxODgwLDE0OSAzMTQ5IDMxOTMgMzE0NCAzMTk1IDMxNTQgMzE2MyAzMTY1IDMxNzUgMzE3OAoxODgxLDkgMTIgMTEgNTIgNTQgMTg4IDE5MiAwIDI4IDMzCjE4ODIsOSAxMSAwIDEyIDE0OSAxIDE3OCA1IDI3IDE4OAoxODgzLDExIDI5OTMgNSAyOTY3IDI5NjggMjk4MCAyOTczIDE1MjYgMCAyOTUzCjE4ODQsMTc4IDI2IDAgOSAxNDcgMjMgMTM4MyA1NCAxNDkgMTEKMTg4NSwzMTQ4IDkgMzE0NSAzMTYxIDMxNjIgMzE2MyAzMTcwIDMxNzMgMzE3NiAzMTU0CjE4ODYsMTEgMjk3NCAwIDI5ODkgMjk5MSAyNzUwIDIyMzkgMjk4OCAyOTU0IDI5NjUKMTg4NywyNjIwIDI2MjIgMjYzMCAyNjQzIDI2MDIgMjYwNCAyNjEyIDI2MTMgMjYxNSAyNjIzCjE4ODgsOSAxMiAwIDExIDE3OCAzMyA1IDQxNDMgNDE1OCA3MAoxODg5LDAgOSAxMSA0IDExMzggMTE0OCAxMTUwIDExNTEgMTE1MiAxMTUzCjE4OTAsOSA1NCAxNzggNzExIDAgMjQ5IDExIDI3MyA1NDcgMjU5NgoxODkxLDkgMCAxNzkgMTEgMTQ5IDMgMiAxNzggMTIgNTQKMTg5Miw1MDA5IDQ5NjIgNDg1NiA0ODkwIDQ4OTUgNDkzNiA0ODQxIDQ5MTcgMCA0ODY4CjE4OTMsMTUzNiAxNDA4IDE0MTggMTY4NiAxNjg5IDE0MzYgMTk1NyAxNDYxIDE0NjIgMTQ2NAoxODk0LDkgMCAxOTIgNCA2IDEgNTIgMzk2IDU0IDExCjE4OTUsOSA0ODc4IDQ4OTkgNDkwMiA0OTA5IDQ5MTkgNDkyOSA0ODE4IDQ4MjAgNDgyMwoxODk2LDMxNDggMzE3NCAzMTgwIDMxODIgMzE4NiAzMTQ5IDMxNTYgMzE1NyAzMTgxIDMxODkKMTg5Nyw5IDE5NCAxMSAyNDgxIDU0IDI0OTAgMjQ5MSAyNTA1IDI1MDYgMQoxODk4LDUzNDMgNTMzNiA1MzQwIDUzNTcgOSA1MzQ0IDUzNjQgMTEgNTM2MiA1MzY3CjE4OTksMzMzNSAzNzMwIDQ2NDQgNDY0NiA0NjUwIDQ2NTYgNDY1MyA0NjU5IDQ2NjAgNDY2NQoxOTAwLDI1OTYgMjU5NyAyNTk4IDU1OSA1NjUgNTc3IDU4MCA1ODMgNjEzIDYyMwoxOTAxLDQ4MDcgNDgxMCA0ODEyIDIyMTIgNDgwNiA0ODE1IDQ4MTYgMjUyNiAyNTMwIDI1NDYKMTkwMiwxMSA5IDU0IDEyIDMzIDYxMSAxOTIgMTAzMCA3IDUyNQoxOTAzLDI0OTIgMjQ5NSAyNDk2IDI0OTggMjUwNSAyNDkzIDExIDI0ODEgMjQ4NCA1NAoxOTA0LDkgMjk1OCAyOTY5IDI5ODIgMjE5NiAyOTY2IDI5NzMgMjk3NCAyOTc3IDI5ODkKMTkwNSwyNTg3IDI1OTMgMjIxMiA0ODA2IDQ4MDcgNDgxMCA0ODEyIDQ4MTUgMjU0NyAyNTg0CjE5MDYsOSAxMSAwIDEyIDI2IDYzIDIgNTIgMjEgMTc5CjE5MDcsOSAxMSAxNDkgMjU3MyAyNTc5IDI1ODQgMjU4NyA0ODA3IDQ4MDkgNDgxMAoxOTA4LDU0NyAyNTk2IDI1OTcgMjU5OCAyNTk5IDU4MCA1OTAgNjEzIDYyMyA3MTEKMTkwOSwzMTc1IDMxNzYgMzE1MCAzMTUyIDMxNTMgMzE2MyAzMTY1IDMxNjggMzE4OCAzMTQ2CjE5MTAsOSAxNzkgMTEgMzcgNTQgMCAxNDkgMiAxOTQgMTUKMTkxMSw1IDkgMCAxMSAxIDEyIDM1IDMzIDUyIDE0OQoxOTEyLDE3OCAwIDIgMTQ5IDYgMTIgMyAzMyA1MiAxMzgzCjE5MTMsMCAxMSAxNDkgNTIgNCAzMyAxMiA2MyAyMSAyMgoxOTE0LDQ4MDcgNDgxMiA0ODE1IDI1MjYgNDgxMCA0ODEzIDQ4MTQgMjUzMCAyNTM0IDI1MzkKMTkxNSw5IDUzNTkgNTI4MiAxNDkgNTM0MCA1MjI3IDUzNTcgNTM2MiA1MzQyIDAKMTkxNiwyNTk2IDI1OTcgMjU5OCAyNTk5IDU1OSA1NjUgNTc0IDU5MCA2MjMgNjQyCjE5MTcsNTM2MSA1MzQwIDUzNDYgNTM2MyA5IDUzMzkgNTM2NCAxMiA1MzcxIDAKMTkxOCwwIDkgNTM3NiA0IDUzNzkgNTM4MCA1MzgyIDExIDUzODMgMzYyMgoxOTE5LDkgMTQ5IDEyIDAgMTc5IDEgMTQ3IDUyIDIgMjEKMTkyMCwyMDU3IDIwNjIgMTU2NiAxOTU4IDE4MzcgMjEwNCAxOTk5IDE3NDYgMTQ5OSAyMDExCjE5MjEsOSAxMSA1NCAxMiAxNDkgMCAyIDQ5IDMgNgoxOTIyLDU0NyAyNTk2IDI1OTcgMjU5OCAyNTk5IDU1OSA1NjUgNTc3IDYxMyA2NDcKMTkyMywwIDMzIDkgMTQ5IDY2IDE5NCAxMzgzIDQgMTgwIDM4CjE5MjQsMjU4NyA0ODA1IDQ4MDYgMjI1OSAyNTQyIDI1ODkgNDgwOCA0ODEwIDQ4MTEgNDgxNgoxOTI1LDAgMTEgOSA1NCAyOTU3IDI5NjIgMTQ5IDI5NjggMjk3MCAyOTc0CjE5MjYsMjk1NyAyOTYzIDI5NzIgMjk3NSAyOTgzIDI5ODYgNTQgOSAyOTU1IDI5OTUKMTkyNyw0ODEwIDQ4MTMgMjI1OSAyNTE1IDQ4MTUgMjU4NiAyNTg5IDI1OTIgNDgwNiA0ODA4CjE5MjgsOSA1MzM3IDUzMzkgNTM0NyAwIDUyMDUgNTM0MCA1MjgyIDUzNDMgNTM0OAoxOTI5LDEwMzAgMTY3OCA2NTggODAxIDMxNDIgMzE0MyAxMDEyIDMyMiA2MDYgNjIyCjE5MzAsOSAxMiAyIDE3OCA0IDExIDQ0IDgyIDYgMTUKMTkzMSw0OTA5IDQ5MTkgNDgxNyA0OTQ1IDQ4MjAgNDgyNyA0ODM0IDQ4NjAgNDg3OCA0ODk5CjE5MzIsMTEgMCA5IDU0IDQgMTQ5IDEyIDIxIDUyIDE5NAoxOTMzLDEyIDkgMTEgNDYyNCA0NjE5IDIgNDYyNSA0NjI3IDQ2MzEgMjg1NwoxOTM0LDkgMTEgMTQ5IDE3OSA1NCAwIDUyIDY2IDYgMTg1CjE5MzUsNDEzMSA0MTM1IDUyMzAgNDEzNyA0ODkxIDExIDEyIDQxMzMgNDE1MCA0MTg4CjE5MzYsMzE3MCAzMTc4IDMxNDUgMzE0OSAzMTczIDMxODQgMzE5MyAzMTUyIDMxNDcgMzE1NQoxOTM3LDkgMTc4IDEyIDAgNCAxNDkgNTQgMjYgNDg0OCAzCjE5MzgsNDkzMyA0OTM2IDQ5NTUgNDk2MyA0OTY1IDQ4NzEgNDg4MyA0OTIzIDQ4MzUgNDk2MgoxOTM5LDUzNDAgOSAyNjk5IDUzNDMgNTM0NSAyOTIyIDUzNjAgNDIyNiAxMSAxNDkKMTk0MCw0IDEyIDE0OSA1MiA5IDMzIDU2IDAgMjkgMzUKMTk0MSw0OTI0IDQ5NjIgNDg0MSA1MDA2IDQ4ODMgNDkyMyA0OTM2IDUyMjkgNDk3MyA0ODY4CjE5NDIsOSAxNDkgMCA2NzEgMTk0IDEyIDE3OCA1MiA0IDU0CjE5NDMsMTUzNyAyMDU5IDIxMTEgMjEyMCAyMTQwIDE2MjkgMjE1MyAxNjk1IDIyMzkgMjI0MQoxOTQ0LDkgMTIgMCAxNDkgMTM4NCAxMzgzIDExIDI0IDYxIDEzODUKMTk0NSw5IDE3OCA4NiAxMSA0IDY2IDM3MiAxNDcgMzMgMTQ5CjE5NDYsOSAwIDEyIDU0IDQgMTM4MyAxMDMwIDExIDE2NzggNTI3CjE5NDcsNDY0MSA0NjQyIDQ2NDYgNDY0NyA0NjQ4IDQ2NDkgNDY2NCA0NjY1IDQ2NDMgNDY0NQoxOTQ4LDExIDAgMyAxMjkgMTYgNCAxMiAxNSA1IDE0OQoxOTQ5LDUzNjEgMTEgNTMzOSA1MzU0IDUzNDcgNTM1NiA1MzY5IDQyMjYgOSAxNDkKMTk1MCwxNTQ0IDQ2NDMgNDY0NiA0NjQ3IDQ2NjEgNDY2NSA0NjQ1IDQ2NDggNDY1NCA0NjU4CjE5NTEsMTEgNTQgMCA5IDEyIDE0OSAxIDU3IDcwNCA0OQoxOTUyLDkgMSAxMSAxNDkgNSA1NCAxMzg0IDcgMTc5IDQKMTk1MywxMSA1MzU3IDUzNjggMzQ3MCA1MzQ4IDUzNDMgNTMzNiA1MzM5IDUzNDUgNTM0NwoxOTU0LDkgNTM2MCA1MzY2IDAgNTM0MCA1MzQzIDUzNTAgMjkyMiAyNjA0IDUzNDUKMTk1NSwzMTY4IDMxODYgMzE0NCAzMTQ3IDMxNDggMzE1NSAzMTYwIDMxNzYgMzE3NyAzMTg0CjE5NTYsMCA1MzYyIDUzNjkgOSA1MzQzIDUzNTcgMyAxNDkgMTc5IDI4NzcKMTk1Nyw5IDUzMzYgNTM0MSA1MzY5IDExIDAgNTMzOCA1MzcxIDUzNDggNTM1MwoxOTU4LDExIDAgOSAxNzkgOCAxNSA1MiAzOCAxNDkgMTIKMTk1OSwyNTk2IDI1OTcgMjU5OCAyNTk5IDU1OSA1NjUgNTkwIDYxMyA2NTQgNjU1CjE5NjAsMTEzNiAxMTM3IDExMzggMTE1MSAxMTUzIDExNTYgMTE1NyAxMTU5IDExNjEgMTE3NQoxOTYxLDAgMjk2MiAyOTY1IDI5ODggMjk5MiAyOTUxIDIxOTYgMjk3NCAyOTU4IDI5ODIKMTk2MiwzMTg0IDMxNDUgMzE0NyAzMTQ4IDMxNTcgMzE1OCAzMTY2IDMxNzkgMzE4MyAzMTk1CjE5NjMsOSA1MzM5IDUzNTYgNTM0NCA1MzQ2IDUzNDcgNTM1NCAxMSA1MzUwIDUzNjAKMTk2NCw0Mjc0IDQyNzUgNDIxOSA1MDIyIDUwMjMgNDI2NSA0NDEwIDQzMDEgNDMxOCA0MzIzCjE5NjUsOSA1IDAgMTEgMTc5IDE5NCA2IDIgMTIgMTc4CjE5NjYsNDgwNSA0ODA2IDQ4MTAgNDgxMSA0ODEyIDQ4MTMgMjUzMCAxMSAyNTkyIDQ4MTUKMTk2NywwIDkgNTQgMTc4IDEyIDMzIDI2IDE5NCA1MTkgMTc5CjE5NjgsMjYyMCAyNjI2IDI2MDEgMjYwMyAyNjA0IDI2MDcgMjYxMiAyNjE1IDI2MTYgMjYxOAoxOTY5LDQ4MDUgNDgwNyA0ODA4IDQ4MTAgNDgxMiAyNTE1IDQ4MTUgMjU3MyAyNTg0IDI1ODYKMTk3MCw0NjQ1IDQ2NTUgNDY1NyA0NjU5IDQ2NjEgNDY2NSAyNTQ5IDAgMzczMCAxOTQ2CjE5NzEsOSAxMSAwIDU0IDUyMjcgMTIgNTM0NyAyNzkwIDUzNTIgNTM1NAoxOTcyLDExIDAgNTQgMyAxMiAxNzggMTYgNSAyNiAxODkKMTk3Myw5IDAgMTc4IDY2IDEzODYgNDkgNSAxMCAxNCAyMAoxOTc0LDEwMzAgNTI1IDMxNDIgMTAxMiAxNjc4IDQxOCA3MTYgMzMzIDYwNiA2MTEKMTk3NSw0NjQzIDQ2NDUgNDY1MCA0NjY0IDM5MTkgMTU0NCAzMzM1IDQ2NDQgNDY0OCA0NjUyCjE5NzYsNTAyMyA0MzAxIDUwMjIgNDI1NCA1MDI0IDQyNzUgNDI3OSA0MjM1IDQyNDggNDI1MQoxOTc3LDE2NzggMzE0MyAxMDEyIDgwMSA3MTIgNzE2IDc1NyA2MjIgNzYwIDUyNQoxOTc4LDExIDU0IDE3OCAzNyAwIDY2IDE5NCAxNDkgMjYgMTM4MwoxOTc5LDI5ODkgMjk2MCA5IDI5NTUgMjk1OCAyOTY1IDI5OTYgMTIgMjk2NiAyOTg3CjE5ODAsMTEgMCAzIDI2IDE0OSAxMzgzIDEwIDE3OCAxOTIgNjYKMTk4MSw5IDUzNDggNTIwNSA1MzQ5IDUzNjkgMTQ5IDUzNDEgMjcxNCAyNzU4IDUzMzgKMTk4Miw5IDU0IDExIDEyIDUzNDggMCAxNDkgNSAyNzY3IDUzMzcKMTk4Myw1MTcgNTQ3IDI1OTYgMjU5NyAyNTk4IDI1OTkgNTU5IDU2NSA1NzQgNTc3CjE5ODQsOSAxMSAxNDkgMCAzIDcgMjkgMjMgMjUgNzA5CjE5ODUsOSAxMSAxNDkgMCA1NCAxOTQgNjYgMTgzIDI2IDMzCjE5ODYsMCA5IDEyIDUyIDE3OSAxNDkgMjkgMzQgNDkgNTQKMTk4Nyw1MDIzIDQzMDQgOSA0MjQxIDQyNTYgNDI1OSA0NDEwIDQ0MTMgNDMzOCA0MjMwCjE5ODgsNDg5OSA0OTAyIDQ4MTggNDgyMCA0ODQ4IDQ4NjAgNDkwOSA0OTE5IDQ5NDUgNDgyMwoxOTg5LDMxNDYgMzE0OCAzMTg0IDMxODggMzE5MyAzMTcwIDMxNzQgMzE3OCAzMTk2IDMxNTIKMTk5MCw1MzU4IDUzMzcgNTM2MiAxNDkgNTQgNTM0NSAwIDExIDUyODIgMjc1OAoxOTkxLDAgOSA0NjU3IDQ2NDggMTM4NCAxMSA0NjQ0IDQ2NDYgNDY1MCA0NjUxCjE5OTIsNDI2MSA5IDUwMjEgNTAyMyA0MjU5IDQyMTggNDIzNSA0MjQxIDQzNzUgNDI1MQoxOTkzLDQyMzUgNTAyMiA1MDIzIDQzMTggNDIxOSA0MzEwIDUwMjEgNDI1NiA0Mjc1IDQzMjUKMTk5NCw1NCAxMSAwIDE3OCAxMiAxMzg0IDQgMyAyOSA3CjE5OTUsMTIgOSAwIDE3OCA1IDExIDU0IDEgODIgMTQKMTk5Niw1MzQxIDkgNTM0NSA1MzcwIDUzNDAgNTM2MCA1MjA1IDUzMzcgNTMzOSA1MzQzCjE5OTcsOSAxMSAxNSAxMiA1MzQ2IDI1NzMgMjU4NCA0ODA2IDQ4MDggNDgwOQoxOTk4LDUwMjMgOSA0MjM1IDQzMTggNDMyMyA0MzI1IDQzMzggNDIzMCA0MjQxIDUwMjIKMTk5OSw5IDE5MiAxMSAxNDkgMCA3IDU0IDYgMzIxNyAyMDc3Cg==\"\n",
       "                target=\"_blank\">Download (2000 lines): ../output/kaggle_submission_hybrid_collab.csv</a>"
      ],
      "text/plain": [
       "<IPython.core.display.HTML object>"
      ]
     },
     "execution_count": 33,
     "metadata": {},
     "output_type": "execute_result"
    }
   ],
   "source": [
    "outfile = \"../output/kaggle_submission_hybrid_collab.csv\"\n",
    "n_lines = write_kaggle_recs(final_recs, outfile)\n",
    "print(\"Wrote predictions for {} users to {}.\".format(n_lines, outfile))\n",
    "download_kaggle_recs(final_recs, outfile)"
   ]
  },
  {
   "cell_type": "code",
   "execution_count": null,
   "metadata": {},
   "outputs": [],
   "source": []
  }
 ],
 "metadata": {
  "kernelspec": {
   "display_name": "Python 3",
   "language": "python",
   "name": "python3"
  },
  "language_info": {
   "codemirror_mode": {
    "name": "ipython",
    "version": 3
   },
   "file_extension": ".py",
   "mimetype": "text/x-python",
   "name": "python",
   "nbconvert_exporter": "python",
   "pygments_lexer": "ipython3",
   "version": "3.6.1"
  },
  "varInspector": {
   "cols": {
    "lenName": 16,
    "lenType": 16,
    "lenVar": 40
   },
   "kernels_config": {
    "python": {
     "delete_cmd_postfix": "",
     "delete_cmd_prefix": "del ",
     "library": "var_list.py",
     "varRefreshCmd": "print(var_dic_list())"
    },
    "r": {
     "delete_cmd_postfix": ") ",
     "delete_cmd_prefix": "rm(",
     "library": "var_list.r",
     "varRefreshCmd": "cat(var_dic_list()) "
    }
   },
   "types_to_exclude": [
    "module",
    "function",
    "builtin_function_or_method",
    "instance",
    "_Feature"
   ],
   "window_display": false
  }
 },
 "nbformat": 4,
 "nbformat_minor": 2
}
