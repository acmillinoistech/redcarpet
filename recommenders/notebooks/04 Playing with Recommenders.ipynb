{
 "cells": [
  {
   "cell_type": "markdown",
   "metadata": {},
   "source": [
    "# Playing with Recommenders"
   ]
  },
  {
   "cell_type": "code",
   "execution_count": 1,
   "metadata": {},
   "outputs": [],
   "source": [
    "import pandas as pd\n",
    "import numpy as np\n",
    "%matplotlib inline\n",
    "import matplotlib.pyplot as plt\n",
    "import seaborn as sns\n",
    "import pickle"
   ]
  },
  {
   "cell_type": "code",
   "execution_count": 2,
   "metadata": {},
   "outputs": [],
   "source": [
    "# Load module from another directory\n",
    "import shutil\n",
    "shutil.copyfile(src=\"../scripts/redcarpet.py\", dst=\"../notebooks/redcarpet.py\")\n",
    "from redcarpet import mat_to_sets, get_recs, write_kaggle_recs"
   ]
  },
  {
   "cell_type": "markdown",
   "metadata": {},
   "source": [
    "## Load Data"
   ]
  },
  {
   "cell_type": "code",
   "execution_count": 3,
   "metadata": {},
   "outputs": [
    {
     "data": {
      "text/html": [
       "<div>\n",
       "<style scoped>\n",
       "    .dataframe tbody tr th:only-of-type {\n",
       "        vertical-align: middle;\n",
       "    }\n",
       "\n",
       "    .dataframe tbody tr th {\n",
       "        vertical-align: top;\n",
       "    }\n",
       "\n",
       "    .dataframe thead th {\n",
       "        text-align: right;\n",
       "    }\n",
       "</style>\n",
       "<table border=\"1\" class=\"dataframe\">\n",
       "  <thead>\n",
       "    <tr style=\"text-align: right;\">\n",
       "      <th></th>\n",
       "      <th>id</th>\n",
       "      <th>name</th>\n",
       "      <th>price</th>\n",
       "      <th>reactions</th>\n",
       "      <th>stars</th>\n",
       "      <th>joined</th>\n",
       "      <th>categories</th>\n",
       "      <th>in_13_reasons_why</th>\n",
       "      <th>in_90_day_fiance</th>\n",
       "      <th>in_actors</th>\n",
       "      <th>...</th>\n",
       "      <th>in_ufc</th>\n",
       "      <th>in_vanderpump_rules</th>\n",
       "      <th>in_venture_capitalists</th>\n",
       "      <th>in_viners</th>\n",
       "      <th>in_vlog_squad</th>\n",
       "      <th>in_voice_actors</th>\n",
       "      <th>in_winter_sports</th>\n",
       "      <th>in_writers</th>\n",
       "      <th>in_younow</th>\n",
       "      <th>in_youtubers</th>\n",
       "    </tr>\n",
       "  </thead>\n",
       "  <tbody>\n",
       "    <tr>\n",
       "      <th>0</th>\n",
       "      <td>perezhilton</td>\n",
       "      <td>Perez Hilton</td>\n",
       "      <td>27.0</td>\n",
       "      <td>924</td>\n",
       "      <td>5.0</td>\n",
       "      <td>April 2018</td>\n",
       "      <td>[Reality TV, Commentators, Featured]</td>\n",
       "      <td>0.0</td>\n",
       "      <td>0.0</td>\n",
       "      <td>0.0</td>\n",
       "      <td>...</td>\n",
       "      <td>0.0</td>\n",
       "      <td>0.0</td>\n",
       "      <td>0.0</td>\n",
       "      <td>0.0</td>\n",
       "      <td>0.0</td>\n",
       "      <td>0.0</td>\n",
       "      <td>0.0</td>\n",
       "      <td>0.0</td>\n",
       "      <td>0.0</td>\n",
       "      <td>0.0</td>\n",
       "    </tr>\n",
       "    <tr>\n",
       "      <th>1</th>\n",
       "      <td>andydick</td>\n",
       "      <td>Andy Dick</td>\n",
       "      <td>99.0</td>\n",
       "      <td>340</td>\n",
       "      <td>4.9</td>\n",
       "      <td>October 2018</td>\n",
       "      <td>[Reality TV, Comedians, Featured, Actors]</td>\n",
       "      <td>0.0</td>\n",
       "      <td>0.0</td>\n",
       "      <td>1.0</td>\n",
       "      <td>...</td>\n",
       "      <td>0.0</td>\n",
       "      <td>0.0</td>\n",
       "      <td>0.0</td>\n",
       "      <td>0.0</td>\n",
       "      <td>0.0</td>\n",
       "      <td>0.0</td>\n",
       "      <td>0.0</td>\n",
       "      <td>0.0</td>\n",
       "      <td>0.0</td>\n",
       "      <td>0.0</td>\n",
       "    </tr>\n",
       "    <tr>\n",
       "      <th>2</th>\n",
       "      <td>tjlavin</td>\n",
       "      <td>TJ Lavin</td>\n",
       "      <td>80.0</td>\n",
       "      <td>291</td>\n",
       "      <td>5.0</td>\n",
       "      <td>February 2018</td>\n",
       "      <td>[Reality TV, Riders, Featured, Extreme Sports,...</td>\n",
       "      <td>0.0</td>\n",
       "      <td>0.0</td>\n",
       "      <td>0.0</td>\n",
       "      <td>...</td>\n",
       "      <td>0.0</td>\n",
       "      <td>0.0</td>\n",
       "      <td>0.0</td>\n",
       "      <td>0.0</td>\n",
       "      <td>0.0</td>\n",
       "      <td>0.0</td>\n",
       "      <td>0.0</td>\n",
       "      <td>0.0</td>\n",
       "      <td>0.0</td>\n",
       "      <td>0.0</td>\n",
       "    </tr>\n",
       "    <tr>\n",
       "      <th>3</th>\n",
       "      <td>carsonkressley</td>\n",
       "      <td>Carson Kressley</td>\n",
       "      <td>59.0</td>\n",
       "      <td>290</td>\n",
       "      <td>5.0</td>\n",
       "      <td>October 2018</td>\n",
       "      <td>[Reality TV, Bravo, Stylists, Featured, Actors...</td>\n",
       "      <td>0.0</td>\n",
       "      <td>0.0</td>\n",
       "      <td>1.0</td>\n",
       "      <td>...</td>\n",
       "      <td>0.0</td>\n",
       "      <td>0.0</td>\n",
       "      <td>0.0</td>\n",
       "      <td>0.0</td>\n",
       "      <td>0.0</td>\n",
       "      <td>0.0</td>\n",
       "      <td>0.0</td>\n",
       "      <td>0.0</td>\n",
       "      <td>0.0</td>\n",
       "      <td>0.0</td>\n",
       "    </tr>\n",
       "    <tr>\n",
       "      <th>4</th>\n",
       "      <td>riffraff</td>\n",
       "      <td>RiFF RAFF</td>\n",
       "      <td>75.0</td>\n",
       "      <td>402</td>\n",
       "      <td>4.7</td>\n",
       "      <td>December 2017</td>\n",
       "      <td>[Rappers, Featured, Musicians]</td>\n",
       "      <td>0.0</td>\n",
       "      <td>0.0</td>\n",
       "      <td>0.0</td>\n",
       "      <td>...</td>\n",
       "      <td>0.0</td>\n",
       "      <td>0.0</td>\n",
       "      <td>0.0</td>\n",
       "      <td>0.0</td>\n",
       "      <td>0.0</td>\n",
       "      <td>0.0</td>\n",
       "      <td>0.0</td>\n",
       "      <td>0.0</td>\n",
       "      <td>0.0</td>\n",
       "      <td>0.0</td>\n",
       "    </tr>\n",
       "  </tbody>\n",
       "</table>\n",
       "<p>5 rows × 110 columns</p>\n",
       "</div>"
      ],
      "text/plain": [
       "               id             name  price  reactions  stars         joined  \\\n",
       "0     perezhilton     Perez Hilton   27.0        924    5.0     April 2018   \n",
       "1        andydick        Andy Dick   99.0        340    4.9   October 2018   \n",
       "2         tjlavin         TJ Lavin   80.0        291    5.0  February 2018   \n",
       "3  carsonkressley  Carson Kressley   59.0        290    5.0   October 2018   \n",
       "4        riffraff        RiFF RAFF   75.0        402    4.7  December 2017   \n",
       "\n",
       "                                          categories  in_13_reasons_why  \\\n",
       "0               [Reality TV, Commentators, Featured]                0.0   \n",
       "1          [Reality TV, Comedians, Featured, Actors]                0.0   \n",
       "2  [Reality TV, Riders, Featured, Extreme Sports,...                0.0   \n",
       "3  [Reality TV, Bravo, Stylists, Featured, Actors...                0.0   \n",
       "4                     [Rappers, Featured, Musicians]                0.0   \n",
       "\n",
       "   in_90_day_fiance  in_actors  ...  in_ufc  in_vanderpump_rules  \\\n",
       "0               0.0        0.0  ...     0.0                  0.0   \n",
       "1               0.0        1.0  ...     0.0                  0.0   \n",
       "2               0.0        0.0  ...     0.0                  0.0   \n",
       "3               0.0        1.0  ...     0.0                  0.0   \n",
       "4               0.0        0.0  ...     0.0                  0.0   \n",
       "\n",
       "   in_venture_capitalists  in_viners  in_vlog_squad  in_voice_actors  \\\n",
       "0                     0.0        0.0            0.0              0.0   \n",
       "1                     0.0        0.0            0.0              0.0   \n",
       "2                     0.0        0.0            0.0              0.0   \n",
       "3                     0.0        0.0            0.0              0.0   \n",
       "4                     0.0        0.0            0.0              0.0   \n",
       "\n",
       "   in_winter_sports  in_writers  in_younow  in_youtubers  \n",
       "0               0.0         0.0        0.0           0.0  \n",
       "1               0.0         0.0        0.0           0.0  \n",
       "2               0.0         0.0        0.0           0.0  \n",
       "3               0.0         0.0        0.0           0.0  \n",
       "4               0.0         0.0        0.0           0.0  \n",
       "\n",
       "[5 rows x 110 columns]"
      ]
     },
     "execution_count": 3,
     "metadata": {},
     "output_type": "execute_result"
    }
   ],
   "source": [
    "item_file = \"../input/talent.pkl\"\n",
    "item_records, COLUMN_LABELS, READABLE_LABELS, ATTRIBUTES = pickle.load(open(item_file, \"rb\"))\n",
    "item_df = pd.DataFrame(item_records)[ATTRIBUTES + COLUMN_LABELS].fillna(value=0)\n",
    "item_df.head()"
   ]
  },
  {
   "cell_type": "code",
   "execution_count": 4,
   "metadata": {},
   "outputs": [
    {
     "data": {
      "text/html": [
       "<div>\n",
       "<style scoped>\n",
       "    .dataframe tbody tr th:only-of-type {\n",
       "        vertical-align: middle;\n",
       "    }\n",
       "\n",
       "    .dataframe tbody tr th {\n",
       "        vertical-align: top;\n",
       "    }\n",
       "\n",
       "    .dataframe thead th {\n",
       "        text-align: right;\n",
       "    }\n",
       "</style>\n",
       "<table border=\"1\" class=\"dataframe\">\n",
       "  <thead>\n",
       "    <tr style=\"text-align: right;\">\n",
       "      <th></th>\n",
       "      <th>perezhilton</th>\n",
       "      <th>andydick</th>\n",
       "      <th>tjlavin</th>\n",
       "      <th>carsonkressley</th>\n",
       "      <th>riffraff</th>\n",
       "      <th>chumlee</th>\n",
       "      <th>gilbertgottfried</th>\n",
       "      <th>icet</th>\n",
       "      <th>benhiggy</th>\n",
       "      <th>laturtle</th>\n",
       "      <th>...</th>\n",
       "      <th>chrisjaialex</th>\n",
       "      <th>voman</th>\n",
       "      <th>el_peego</th>\n",
       "      <th>thisannaisbananas</th>\n",
       "      <th>zachharper</th>\n",
       "      <th>johnoberg</th>\n",
       "      <th>zacpullam</th>\n",
       "      <th>kansasbowling</th>\n",
       "      <th>mattcirulnick</th>\n",
       "      <th>itsscaleb__</th>\n",
       "    </tr>\n",
       "  </thead>\n",
       "  <tbody>\n",
       "    <tr>\n",
       "      <th>0</th>\n",
       "      <td>0</td>\n",
       "      <td>0</td>\n",
       "      <td>0</td>\n",
       "      <td>0</td>\n",
       "      <td>0</td>\n",
       "      <td>0</td>\n",
       "      <td>0</td>\n",
       "      <td>0</td>\n",
       "      <td>1</td>\n",
       "      <td>0</td>\n",
       "      <td>...</td>\n",
       "      <td>0</td>\n",
       "      <td>0</td>\n",
       "      <td>0</td>\n",
       "      <td>0</td>\n",
       "      <td>0</td>\n",
       "      <td>0</td>\n",
       "      <td>0</td>\n",
       "      <td>0</td>\n",
       "      <td>0</td>\n",
       "      <td>0</td>\n",
       "    </tr>\n",
       "    <tr>\n",
       "      <th>1</th>\n",
       "      <td>0</td>\n",
       "      <td>0</td>\n",
       "      <td>0</td>\n",
       "      <td>0</td>\n",
       "      <td>0</td>\n",
       "      <td>0</td>\n",
       "      <td>0</td>\n",
       "      <td>0</td>\n",
       "      <td>0</td>\n",
       "      <td>0</td>\n",
       "      <td>...</td>\n",
       "      <td>0</td>\n",
       "      <td>0</td>\n",
       "      <td>0</td>\n",
       "      <td>0</td>\n",
       "      <td>0</td>\n",
       "      <td>0</td>\n",
       "      <td>0</td>\n",
       "      <td>0</td>\n",
       "      <td>0</td>\n",
       "      <td>0</td>\n",
       "    </tr>\n",
       "    <tr>\n",
       "      <th>2</th>\n",
       "      <td>0</td>\n",
       "      <td>0</td>\n",
       "      <td>0</td>\n",
       "      <td>0</td>\n",
       "      <td>0</td>\n",
       "      <td>0</td>\n",
       "      <td>0</td>\n",
       "      <td>0</td>\n",
       "      <td>0</td>\n",
       "      <td>0</td>\n",
       "      <td>...</td>\n",
       "      <td>0</td>\n",
       "      <td>0</td>\n",
       "      <td>0</td>\n",
       "      <td>0</td>\n",
       "      <td>0</td>\n",
       "      <td>0</td>\n",
       "      <td>0</td>\n",
       "      <td>0</td>\n",
       "      <td>0</td>\n",
       "      <td>0</td>\n",
       "    </tr>\n",
       "    <tr>\n",
       "      <th>3</th>\n",
       "      <td>0</td>\n",
       "      <td>1</td>\n",
       "      <td>0</td>\n",
       "      <td>0</td>\n",
       "      <td>1</td>\n",
       "      <td>0</td>\n",
       "      <td>0</td>\n",
       "      <td>0</td>\n",
       "      <td>0</td>\n",
       "      <td>1</td>\n",
       "      <td>...</td>\n",
       "      <td>0</td>\n",
       "      <td>0</td>\n",
       "      <td>0</td>\n",
       "      <td>0</td>\n",
       "      <td>0</td>\n",
       "      <td>0</td>\n",
       "      <td>0</td>\n",
       "      <td>0</td>\n",
       "      <td>0</td>\n",
       "      <td>0</td>\n",
       "    </tr>\n",
       "    <tr>\n",
       "      <th>4</th>\n",
       "      <td>0</td>\n",
       "      <td>0</td>\n",
       "      <td>0</td>\n",
       "      <td>0</td>\n",
       "      <td>1</td>\n",
       "      <td>0</td>\n",
       "      <td>0</td>\n",
       "      <td>0</td>\n",
       "      <td>0</td>\n",
       "      <td>0</td>\n",
       "      <td>...</td>\n",
       "      <td>0</td>\n",
       "      <td>0</td>\n",
       "      <td>0</td>\n",
       "      <td>0</td>\n",
       "      <td>0</td>\n",
       "      <td>0</td>\n",
       "      <td>0</td>\n",
       "      <td>0</td>\n",
       "      <td>0</td>\n",
       "      <td>0</td>\n",
       "    </tr>\n",
       "  </tbody>\n",
       "</table>\n",
       "<p>5 rows × 5392 columns</p>\n",
       "</div>"
      ],
      "text/plain": [
       "   perezhilton  andydick  tjlavin  carsonkressley  riffraff  chumlee  \\\n",
       "0            0         0        0               0         0        0   \n",
       "1            0         0        0               0         0        0   \n",
       "2            0         0        0               0         0        0   \n",
       "3            0         1        0               0         1        0   \n",
       "4            0         0        0               0         1        0   \n",
       "\n",
       "   gilbertgottfried  icet  benhiggy  laturtle  ...  chrisjaialex  voman  \\\n",
       "0                 0     0         1         0  ...             0      0   \n",
       "1                 0     0         0         0  ...             0      0   \n",
       "2                 0     0         0         0  ...             0      0   \n",
       "3                 0     0         0         1  ...             0      0   \n",
       "4                 0     0         0         0  ...             0      0   \n",
       "\n",
       "   el_peego  thisannaisbananas  zachharper  johnoberg  zacpullam  \\\n",
       "0         0                  0           0          0          0   \n",
       "1         0                  0           0          0          0   \n",
       "2         0                  0           0          0          0   \n",
       "3         0                  0           0          0          0   \n",
       "4         0                  0           0          0          0   \n",
       "\n",
       "   kansasbowling  mattcirulnick  itsscaleb__  \n",
       "0              0              0            0  \n",
       "1              0              0            0  \n",
       "2              0              0            0  \n",
       "3              0              0            0  \n",
       "4              0              0            0  \n",
       "\n",
       "[5 rows x 5392 columns]"
      ]
     },
     "execution_count": 4,
     "metadata": {},
     "output_type": "execute_result"
    }
   ],
   "source": [
    "ITEM_NAMES = item_df[\"id\"].values\n",
    "like_file = \"../input/likes.pkl\"\n",
    "like_csr = pickle.load(open(like_file, \"rb\"))\n",
    "like_mat = np.array(like_csr.todense())\n",
    "like_df = pd.DataFrame(like_mat, columns=ITEM_NAMES)\n",
    "like_df.head()"
   ]
  },
  {
   "cell_type": "code",
   "execution_count": 5,
   "metadata": {},
   "outputs": [
    {
     "name": "stdout",
     "output_type": "stream",
     "text": [
      "4000 1000 1000 1000\n"
     ]
    }
   ],
   "source": [
    "s_train, s_test, s_input, s_hidden = pickle.load(open(\"../input/train_test_set.pkl\", \"rb\"))\n",
    "print(len(s_train), len(s_test), len(s_input), len(s_hidden))"
   ]
  },
  {
   "cell_type": "code",
   "execution_count": 6,
   "metadata": {},
   "outputs": [
    {
     "name": "stdout",
     "output_type": "stream",
     "text": [
      "5392\n"
     ]
    }
   ],
   "source": [
    "s_items = mat_to_sets(item_df[COLUMN_LABELS].values)\n",
    "print(len(s_items))"
   ]
  },
  {
   "cell_type": "markdown",
   "metadata": {},
   "source": [
    "## Evaluation Metrics"
   ]
  },
  {
   "cell_type": "code",
   "execution_count": 7,
   "metadata": {},
   "outputs": [],
   "source": [
    "from redcarpet import mapk_score, uhr_score"
   ]
  },
  {
   "cell_type": "code",
   "execution_count": 8,
   "metadata": {},
   "outputs": [
    {
     "name": "stdout",
     "output_type": "stream",
     "text": [
      "Help on function mapk_score in module redcarpet:\n",
      "\n",
      "mapk_score(recs_true, recs_pred, k=10)\n",
      "    Computes the mean average precision at k (MAP@K) of recommendations.\n",
      "    MAP@K = mean AP@K score over all users\n",
      "    AP@K = (1 / m) * sum from 1 to k of (precision at i * relevance of ith item)\n",
      "    Where m is the number of items in a user's hidden set\n",
      "    Where k is the number of items recommended to each user\n",
      "    params:\n",
      "        recs_true: list of sets of hidden items for each user\n",
      "        recs_pred: list of lists of recommended items, with each list\n",
      "        k: number of recommendations to use in top set\n",
      "    returns:\n",
      "        float, range [0, 1], though score of 1 will be impossible if\n",
      "        recs_true includes users who have more than k hidden items\n",
      "\n"
     ]
    }
   ],
   "source": [
    "help(mapk_score)"
   ]
  },
  {
   "cell_type": "code",
   "execution_count": 9,
   "metadata": {},
   "outputs": [
    {
     "name": "stdout",
     "output_type": "stream",
     "text": [
      "Help on function uhr_score in module redcarpet:\n",
      "\n",
      "uhr_score(recs_true, recs_pred, k=10)\n",
      "    Computes the user hit tate (UHR) score of recommendations.\n",
      "    UHR = the fraction of users whose top list included at\n",
      "    least one item also in their hidden set.\n",
      "    params:\n",
      "        recs_true: list of sets of hidden items for each user\n",
      "        recs_pred: list of lists of recommended items, with each list\n",
      "        k: number of recommendations to use in top set\n",
      "    returns:\n",
      "        float, range [0, 1]\n",
      "\n"
     ]
    }
   ],
   "source": [
    "help(uhr_score)"
   ]
  },
  {
   "cell_type": "markdown",
   "metadata": {},
   "source": [
    "## Similarity Measures"
   ]
  },
  {
   "cell_type": "code",
   "execution_count": 10,
   "metadata": {},
   "outputs": [],
   "source": [
    "from redcarpet import jaccard_sim, cosine_sim"
   ]
  },
  {
   "cell_type": "code",
   "execution_count": 11,
   "metadata": {},
   "outputs": [
    {
     "name": "stdout",
     "output_type": "stream",
     "text": [
      "Help on function jaccard_sim in module redcarpet:\n",
      "\n",
      "jaccard_sim(u, v)\n",
      "    Computes the Jaccard similarity between sets u and v.\n",
      "    sim = intersection(u, v) / union(u, v)\n",
      "    params:\n",
      "        u, v: sets to compare\n",
      "    returns:\n",
      "        float between 0 and 1, where 1 represents perfect\n",
      "            similarity and 0 represents no similarity\n",
      "\n"
     ]
    }
   ],
   "source": [
    "help(jaccard_sim)"
   ]
  },
  {
   "cell_type": "code",
   "execution_count": 12,
   "metadata": {},
   "outputs": [
    {
     "name": "stdout",
     "output_type": "stream",
     "text": [
      "Help on function cosine_sim in module redcarpet:\n",
      "\n",
      "cosine_sim(u, v)\n",
      "    Computes the Cosine similarity between sets u and v.\n",
      "    sim = intersection(u, v) / sqrt(|u| * |v|)\n",
      "    Where |s| is the number of items in set s\n",
      "    params:\n",
      "        u, v: sets to compare\n",
      "    returns:\n",
      "        float between 0 and 1, where 1 represents perfect\n",
      "            similarity and 0 represents no similarity\n",
      "\n"
     ]
    }
   ],
   "source": [
    "help(cosine_sim)"
   ]
  },
  {
   "cell_type": "markdown",
   "metadata": {},
   "source": [
    "## Recommendation Algorithms"
   ]
  },
  {
   "cell_type": "code",
   "execution_count": 13,
   "metadata": {},
   "outputs": [],
   "source": [
    "from redcarpet import collaborative_filter, content_filter"
   ]
  },
  {
   "cell_type": "code",
   "execution_count": 14,
   "metadata": {},
   "outputs": [
    {
     "name": "stdout",
     "output_type": "stream",
     "text": [
      "Help on function collaborative_filter in module redcarpet:\n",
      "\n",
      "collaborative_filter(recs_train, recs_input, k=10, j=3, sim_fn=<function jaccard_sim at 0x117691048>)\n",
      "    Collaborative filtering recommender system.\n",
      "    params:\n",
      "        recs_train: list of sets of liked item indices for train data\n",
      "        recs_input: list of sets of liked item indices for input data\n",
      "        k: number of items to recommend for each user\n",
      "        j: number of similar users to base recommendations on\n",
      "        sim_fn(u, v): function that returns a float value representing\n",
      "            the similarity between sets u and v\n",
      "    returns:\n",
      "        recs_pred: list of lists of tuples of recommendations where\n",
      "            each tuple has (item index, relevance score) with the list\n",
      "            of tuples sorted in order of decreasing relevance\n",
      "\n"
     ]
    }
   ],
   "source": [
    "help(collaborative_filter)"
   ]
  },
  {
   "cell_type": "code",
   "execution_count": 15,
   "metadata": {},
   "outputs": [
    {
     "name": "stdout",
     "output_type": "stream",
     "text": [
      "Help on function content_filter in module redcarpet:\n",
      "\n",
      "content_filter(items_train, recs_input, k=10, sim_fn=<function jaccard_sim at 0x117691048>)\n",
      "    Content-based filtering recommender system.\n",
      "    params:\n",
      "        items_train: list of sets of non-zero attribute indices for items\n",
      "        recs_input: list of sets of liked item indices for input data\n",
      "        k: number of items to recommend for each user\n",
      "        sim_fn(u, v): function that returns a float value representing\n",
      "            the similarity between sets u and v\n",
      "    returns:\n",
      "        recs_pred: list of lists of tuples of recommendations where\n",
      "            each tuple has (item index, relevance score) with the list\n",
      "            of tuples sorted in order of decreasing relevance\n",
      "\n"
     ]
    }
   ],
   "source": [
    "help(content_filter)"
   ]
  },
  {
   "cell_type": "markdown",
   "metadata": {},
   "source": [
    "## Results"
   ]
  },
  {
   "cell_type": "code",
   "execution_count": 16,
   "metadata": {},
   "outputs": [],
   "source": [
    "n_pred = 10\n",
    "s_input_sample = s_input[0:n_pred]\n",
    "s_hidden_sample = s_hidden[0:n_pred]"
   ]
  },
  {
   "cell_type": "code",
   "execution_count": 17,
   "metadata": {},
   "outputs": [
    {
     "name": "stdout",
     "output_type": "stream",
     "text": [
      "Strategy: Collaborative\n",
      "Similarity: Jaccard\n",
      "MAP = 0.095\n",
      "UHR = 0.600\n"
     ]
    }
   ],
   "source": [
    "print(\"Strategy: Collaborative\")\n",
    "print(\"Similarity: Jaccard\")\n",
    "user_recs = collaborative_filter(s_train, s_input_sample)\n",
    "print(\"MAP = {0:.3f}\".format(mapk_score(s_hidden_sample, get_recs(user_recs), k=10)))\n",
    "print(\"UHR = {0:.3f}\".format(uhr_score(s_hidden_sample, get_recs(user_recs), k=10)))"
   ]
  },
  {
   "cell_type": "code",
   "execution_count": 21,
   "metadata": {},
   "outputs": [
    {
     "name": "stdout",
     "output_type": "stream",
     "text": [
      "Strategy: Collaborative\n",
      "Similarity: Cosine\n",
      "MAP = 0.091\n",
      "UHR = 0.500\n"
     ]
    }
   ],
   "source": [
    "print(\"Strategy: Collaborative\")\n",
    "print(\"Similarity: Cosine\")\n",
    "user_recs = collaborative_filter(s_train, s_input_sample, sim_fn=cosine_sim)\n",
    "print(\"MAP = {0:.3f}\".format(mapk_score(s_hidden_sample, get_recs(user_recs), k=10)))\n",
    "print(\"UHR = {0:.3f}\".format(uhr_score(s_hidden_sample, get_recs(user_recs), k=10)))"
   ]
  },
  {
   "cell_type": "code",
   "execution_count": 22,
   "metadata": {},
   "outputs": [
    {
     "name": "stdout",
     "output_type": "stream",
     "text": [
      "Strategy: Content-Based\n",
      "Similarity: Jaccard\n",
      "MAP = 0.058\n",
      "UHR = 0.300\n"
     ]
    }
   ],
   "source": [
    "print(\"Strategy: Content-Based\")\n",
    "print(\"Similarity: Jaccard\")\n",
    "user_recs = content_filter(s_items, s_input_sample)\n",
    "print(\"MAP = {0:.3f}\".format(mapk_score(s_hidden_sample, get_recs(user_recs), k=10)))\n",
    "print(\"UHR = {0:.3f}\".format(uhr_score(s_hidden_sample, get_recs(user_recs), k=10)))"
   ]
  },
  {
   "cell_type": "code",
   "execution_count": null,
   "metadata": {},
   "outputs": [
    {
     "name": "stdout",
     "output_type": "stream",
     "text": [
      "Strategy: Content-Based\n",
      "Similarity: Cosine\n",
      "MAP = 0.052\n",
      "UHR = 0.300\n"
     ]
    }
   ],
   "source": [
    "print(\"Strategy: Content-Based\")\n",
    "print(\"Similarity: Cosine\")\n",
    "user_recs = content_filter(s_items, s_input_sample, sim_fn=cosine_sim)\n",
    "print(\"MAP = {0:.3f}\".format(mapk_score(s_hidden_sample, get_recs(user_recs), k=10)))\n",
    "print(\"UHR = {0:.3f}\".format(uhr_score(s_hidden_sample, get_recs(user_recs), k=10)))"
   ]
  },
  {
   "cell_type": "code",
   "execution_count": null,
   "metadata": {},
   "outputs": [],
   "source": []
  }
 ],
 "metadata": {
  "kernelspec": {
   "display_name": "Python 3",
   "language": "python",
   "name": "python3"
  },
  "varInspector": {
   "cols": {
    "lenName": 16,
    "lenType": 16,
    "lenVar": 40
   },
   "kernels_config": {
    "python": {
     "delete_cmd_postfix": "",
     "delete_cmd_prefix": "del ",
     "library": "var_list.py",
     "varRefreshCmd": "print(var_dic_list())"
    },
    "r": {
     "delete_cmd_postfix": ") ",
     "delete_cmd_prefix": "rm(",
     "library": "var_list.r",
     "varRefreshCmd": "cat(var_dic_list()) "
    }
   },
   "types_to_exclude": [
    "module",
    "function",
    "builtin_function_or_method",
    "instance",
    "_Feature"
   ],
   "window_display": false
  }
 },
 "nbformat": 4,
 "nbformat_minor": 2
}
