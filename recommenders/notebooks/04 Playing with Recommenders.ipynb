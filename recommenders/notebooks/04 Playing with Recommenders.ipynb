{
 "cells": [
  {
   "cell_type": "markdown",
   "metadata": {},
   "source": [
    "# Playing with Recommenders"
   ]
  },
  {
   "cell_type": "code",
   "execution_count": 1,
   "metadata": {},
   "outputs": [],
   "source": [
    "import pandas as pd\n",
    "import numpy as np\n",
    "%matplotlib inline\n",
    "import matplotlib.pyplot as plt\n",
    "import seaborn as sns\n",
    "import pickle"
   ]
  },
  {
   "cell_type": "code",
   "execution_count": 2,
   "metadata": {},
   "outputs": [],
   "source": [
    "# Load module from another directory\n",
    "import shutil\n",
    "shutil.copyfile(src=\"../scripts/redcarpet.py\", dst=\"../notebooks/redcarpet.py\")\n",
    "from redcarpet import mat_to_sets"
   ]
  },
  {
   "cell_type": "markdown",
   "metadata": {},
   "source": [
    "## Load Data"
   ]
  },
  {
   "cell_type": "code",
   "execution_count": 3,
   "metadata": {},
   "outputs": [
    {
     "data": {
      "text/html": [
       "<div>\n",
       "<style scoped>\n",
       "    .dataframe tbody tr th:only-of-type {\n",
       "        vertical-align: middle;\n",
       "    }\n",
       "\n",
       "    .dataframe tbody tr th {\n",
       "        vertical-align: top;\n",
       "    }\n",
       "\n",
       "    .dataframe thead th {\n",
       "        text-align: right;\n",
       "    }\n",
       "</style>\n",
       "<table border=\"1\" class=\"dataframe\">\n",
       "  <thead>\n",
       "    <tr style=\"text-align: right;\">\n",
       "      <th></th>\n",
       "      <th>id</th>\n",
       "      <th>name</th>\n",
       "      <th>price</th>\n",
       "      <th>reactions</th>\n",
       "      <th>stars</th>\n",
       "      <th>joined</th>\n",
       "      <th>categories</th>\n",
       "      <th>in_13_reasons_why</th>\n",
       "      <th>in_90_day_fiance</th>\n",
       "      <th>in_actors</th>\n",
       "      <th>...</th>\n",
       "      <th>in_ufc</th>\n",
       "      <th>in_vanderpump_rules</th>\n",
       "      <th>in_venture_capitalists</th>\n",
       "      <th>in_viners</th>\n",
       "      <th>in_vlog_squad</th>\n",
       "      <th>in_voice_actors</th>\n",
       "      <th>in_winter_sports</th>\n",
       "      <th>in_writers</th>\n",
       "      <th>in_younow</th>\n",
       "      <th>in_youtubers</th>\n",
       "    </tr>\n",
       "  </thead>\n",
       "  <tbody>\n",
       "    <tr>\n",
       "      <th>0</th>\n",
       "      <td>perezhilton</td>\n",
       "      <td>Perez Hilton</td>\n",
       "      <td>27.0</td>\n",
       "      <td>924</td>\n",
       "      <td>5.0</td>\n",
       "      <td>April 2018</td>\n",
       "      <td>[Reality TV, Commentators, Featured]</td>\n",
       "      <td>0.0</td>\n",
       "      <td>0.0</td>\n",
       "      <td>0.0</td>\n",
       "      <td>...</td>\n",
       "      <td>0.0</td>\n",
       "      <td>0.0</td>\n",
       "      <td>0.0</td>\n",
       "      <td>0.0</td>\n",
       "      <td>0.0</td>\n",
       "      <td>0.0</td>\n",
       "      <td>0.0</td>\n",
       "      <td>0.0</td>\n",
       "      <td>0.0</td>\n",
       "      <td>0.0</td>\n",
       "    </tr>\n",
       "    <tr>\n",
       "      <th>1</th>\n",
       "      <td>andydick</td>\n",
       "      <td>Andy Dick</td>\n",
       "      <td>99.0</td>\n",
       "      <td>340</td>\n",
       "      <td>4.9</td>\n",
       "      <td>October 2018</td>\n",
       "      <td>[Reality TV, Comedians, Featured, Actors]</td>\n",
       "      <td>0.0</td>\n",
       "      <td>0.0</td>\n",
       "      <td>1.0</td>\n",
       "      <td>...</td>\n",
       "      <td>0.0</td>\n",
       "      <td>0.0</td>\n",
       "      <td>0.0</td>\n",
       "      <td>0.0</td>\n",
       "      <td>0.0</td>\n",
       "      <td>0.0</td>\n",
       "      <td>0.0</td>\n",
       "      <td>0.0</td>\n",
       "      <td>0.0</td>\n",
       "      <td>0.0</td>\n",
       "    </tr>\n",
       "    <tr>\n",
       "      <th>2</th>\n",
       "      <td>tjlavin</td>\n",
       "      <td>TJ Lavin</td>\n",
       "      <td>80.0</td>\n",
       "      <td>291</td>\n",
       "      <td>5.0</td>\n",
       "      <td>February 2018</td>\n",
       "      <td>[Reality TV, Riders, Featured, Extreme Sports,...</td>\n",
       "      <td>0.0</td>\n",
       "      <td>0.0</td>\n",
       "      <td>0.0</td>\n",
       "      <td>...</td>\n",
       "      <td>0.0</td>\n",
       "      <td>0.0</td>\n",
       "      <td>0.0</td>\n",
       "      <td>0.0</td>\n",
       "      <td>0.0</td>\n",
       "      <td>0.0</td>\n",
       "      <td>0.0</td>\n",
       "      <td>0.0</td>\n",
       "      <td>0.0</td>\n",
       "      <td>0.0</td>\n",
       "    </tr>\n",
       "    <tr>\n",
       "      <th>3</th>\n",
       "      <td>carsonkressley</td>\n",
       "      <td>Carson Kressley</td>\n",
       "      <td>59.0</td>\n",
       "      <td>290</td>\n",
       "      <td>5.0</td>\n",
       "      <td>October 2018</td>\n",
       "      <td>[Reality TV, Bravo, Stylists, Featured, Actors...</td>\n",
       "      <td>0.0</td>\n",
       "      <td>0.0</td>\n",
       "      <td>1.0</td>\n",
       "      <td>...</td>\n",
       "      <td>0.0</td>\n",
       "      <td>0.0</td>\n",
       "      <td>0.0</td>\n",
       "      <td>0.0</td>\n",
       "      <td>0.0</td>\n",
       "      <td>0.0</td>\n",
       "      <td>0.0</td>\n",
       "      <td>0.0</td>\n",
       "      <td>0.0</td>\n",
       "      <td>0.0</td>\n",
       "    </tr>\n",
       "    <tr>\n",
       "      <th>4</th>\n",
       "      <td>riffraff</td>\n",
       "      <td>RiFF RAFF</td>\n",
       "      <td>75.0</td>\n",
       "      <td>402</td>\n",
       "      <td>4.7</td>\n",
       "      <td>December 2017</td>\n",
       "      <td>[Rappers, Featured, Musicians]</td>\n",
       "      <td>0.0</td>\n",
       "      <td>0.0</td>\n",
       "      <td>0.0</td>\n",
       "      <td>...</td>\n",
       "      <td>0.0</td>\n",
       "      <td>0.0</td>\n",
       "      <td>0.0</td>\n",
       "      <td>0.0</td>\n",
       "      <td>0.0</td>\n",
       "      <td>0.0</td>\n",
       "      <td>0.0</td>\n",
       "      <td>0.0</td>\n",
       "      <td>0.0</td>\n",
       "      <td>0.0</td>\n",
       "    </tr>\n",
       "  </tbody>\n",
       "</table>\n",
       "<p>5 rows × 110 columns</p>\n",
       "</div>"
      ],
      "text/plain": [
       "               id             name  price  reactions  stars         joined  \\\n",
       "0     perezhilton     Perez Hilton   27.0        924    5.0     April 2018   \n",
       "1        andydick        Andy Dick   99.0        340    4.9   October 2018   \n",
       "2         tjlavin         TJ Lavin   80.0        291    5.0  February 2018   \n",
       "3  carsonkressley  Carson Kressley   59.0        290    5.0   October 2018   \n",
       "4        riffraff        RiFF RAFF   75.0        402    4.7  December 2017   \n",
       "\n",
       "                                          categories  in_13_reasons_why  \\\n",
       "0               [Reality TV, Commentators, Featured]                0.0   \n",
       "1          [Reality TV, Comedians, Featured, Actors]                0.0   \n",
       "2  [Reality TV, Riders, Featured, Extreme Sports,...                0.0   \n",
       "3  [Reality TV, Bravo, Stylists, Featured, Actors...                0.0   \n",
       "4                     [Rappers, Featured, Musicians]                0.0   \n",
       "\n",
       "   in_90_day_fiance  in_actors  ...  in_ufc  in_vanderpump_rules  \\\n",
       "0               0.0        0.0  ...     0.0                  0.0   \n",
       "1               0.0        1.0  ...     0.0                  0.0   \n",
       "2               0.0        0.0  ...     0.0                  0.0   \n",
       "3               0.0        1.0  ...     0.0                  0.0   \n",
       "4               0.0        0.0  ...     0.0                  0.0   \n",
       "\n",
       "   in_venture_capitalists  in_viners  in_vlog_squad  in_voice_actors  \\\n",
       "0                     0.0        0.0            0.0              0.0   \n",
       "1                     0.0        0.0            0.0              0.0   \n",
       "2                     0.0        0.0            0.0              0.0   \n",
       "3                     0.0        0.0            0.0              0.0   \n",
       "4                     0.0        0.0            0.0              0.0   \n",
       "\n",
       "   in_winter_sports  in_writers  in_younow  in_youtubers  \n",
       "0               0.0         0.0        0.0           0.0  \n",
       "1               0.0         0.0        0.0           0.0  \n",
       "2               0.0         0.0        0.0           0.0  \n",
       "3               0.0         0.0        0.0           0.0  \n",
       "4               0.0         0.0        0.0           0.0  \n",
       "\n",
       "[5 rows x 110 columns]"
      ]
     },
     "execution_count": 3,
     "metadata": {},
     "output_type": "execute_result"
    }
   ],
   "source": [
    "item_file = \"../input/talent.pkl\"\n",
    "item_records, COLUMN_LABELS, READABLE_LABELS, ATTRIBUTES = pickle.load(open(item_file, \"rb\"))\n",
    "item_df = pd.DataFrame(item_records)[ATTRIBUTES + COLUMN_LABELS].fillna(value=0)\n",
    "ITEM_NAMES = item_df[\"name\"].values\n",
    "ITEM_IDS = item_df[\"id\"].values\n",
    "item_df.head()"
   ]
  },
  {
   "cell_type": "code",
   "execution_count": 4,
   "metadata": {},
   "outputs": [
    {
     "data": {
      "text/html": [
       "<div>\n",
       "<style scoped>\n",
       "    .dataframe tbody tr th:only-of-type {\n",
       "        vertical-align: middle;\n",
       "    }\n",
       "\n",
       "    .dataframe tbody tr th {\n",
       "        vertical-align: top;\n",
       "    }\n",
       "\n",
       "    .dataframe thead th {\n",
       "        text-align: right;\n",
       "    }\n",
       "</style>\n",
       "<table border=\"1\" class=\"dataframe\">\n",
       "  <thead>\n",
       "    <tr style=\"text-align: right;\">\n",
       "      <th></th>\n",
       "      <th>Perez Hilton</th>\n",
       "      <th>Andy Dick</th>\n",
       "      <th>TJ Lavin</th>\n",
       "      <th>Carson Kressley</th>\n",
       "      <th>RiFF RAFF</th>\n",
       "      <th>Chumlee</th>\n",
       "      <th>Gilbert Gottfried</th>\n",
       "      <th>Ice T</th>\n",
       "      <th>Ben Higgins</th>\n",
       "      <th>Evan Breen</th>\n",
       "      <th>...</th>\n",
       "      <th>Chris Jai Alex</th>\n",
       "      <th>Peter Dickson</th>\n",
       "      <th>Laura Perlongo</th>\n",
       "      <th>Anna del Gaizo</th>\n",
       "      <th>Zach Harper</th>\n",
       "      <th>John Oberg</th>\n",
       "      <th>Zac Pullam</th>\n",
       "      <th>Kansas Bowling</th>\n",
       "      <th>Matt Cirulnick</th>\n",
       "      <th>Caleb Senzel</th>\n",
       "    </tr>\n",
       "  </thead>\n",
       "  <tbody>\n",
       "    <tr>\n",
       "      <th>0</th>\n",
       "      <td>0</td>\n",
       "      <td>0</td>\n",
       "      <td>0</td>\n",
       "      <td>0</td>\n",
       "      <td>0</td>\n",
       "      <td>0</td>\n",
       "      <td>0</td>\n",
       "      <td>0</td>\n",
       "      <td>1</td>\n",
       "      <td>0</td>\n",
       "      <td>...</td>\n",
       "      <td>0</td>\n",
       "      <td>0</td>\n",
       "      <td>0</td>\n",
       "      <td>0</td>\n",
       "      <td>0</td>\n",
       "      <td>0</td>\n",
       "      <td>0</td>\n",
       "      <td>0</td>\n",
       "      <td>0</td>\n",
       "      <td>0</td>\n",
       "    </tr>\n",
       "    <tr>\n",
       "      <th>1</th>\n",
       "      <td>0</td>\n",
       "      <td>0</td>\n",
       "      <td>0</td>\n",
       "      <td>0</td>\n",
       "      <td>0</td>\n",
       "      <td>0</td>\n",
       "      <td>0</td>\n",
       "      <td>0</td>\n",
       "      <td>0</td>\n",
       "      <td>0</td>\n",
       "      <td>...</td>\n",
       "      <td>0</td>\n",
       "      <td>0</td>\n",
       "      <td>0</td>\n",
       "      <td>0</td>\n",
       "      <td>0</td>\n",
       "      <td>0</td>\n",
       "      <td>0</td>\n",
       "      <td>0</td>\n",
       "      <td>0</td>\n",
       "      <td>0</td>\n",
       "    </tr>\n",
       "    <tr>\n",
       "      <th>2</th>\n",
       "      <td>0</td>\n",
       "      <td>0</td>\n",
       "      <td>0</td>\n",
       "      <td>0</td>\n",
       "      <td>0</td>\n",
       "      <td>0</td>\n",
       "      <td>0</td>\n",
       "      <td>0</td>\n",
       "      <td>0</td>\n",
       "      <td>0</td>\n",
       "      <td>...</td>\n",
       "      <td>0</td>\n",
       "      <td>0</td>\n",
       "      <td>0</td>\n",
       "      <td>0</td>\n",
       "      <td>0</td>\n",
       "      <td>0</td>\n",
       "      <td>0</td>\n",
       "      <td>0</td>\n",
       "      <td>0</td>\n",
       "      <td>0</td>\n",
       "    </tr>\n",
       "    <tr>\n",
       "      <th>3</th>\n",
       "      <td>0</td>\n",
       "      <td>1</td>\n",
       "      <td>0</td>\n",
       "      <td>0</td>\n",
       "      <td>1</td>\n",
       "      <td>0</td>\n",
       "      <td>0</td>\n",
       "      <td>0</td>\n",
       "      <td>0</td>\n",
       "      <td>1</td>\n",
       "      <td>...</td>\n",
       "      <td>0</td>\n",
       "      <td>0</td>\n",
       "      <td>0</td>\n",
       "      <td>0</td>\n",
       "      <td>0</td>\n",
       "      <td>0</td>\n",
       "      <td>0</td>\n",
       "      <td>0</td>\n",
       "      <td>0</td>\n",
       "      <td>0</td>\n",
       "    </tr>\n",
       "    <tr>\n",
       "      <th>4</th>\n",
       "      <td>0</td>\n",
       "      <td>0</td>\n",
       "      <td>0</td>\n",
       "      <td>0</td>\n",
       "      <td>1</td>\n",
       "      <td>0</td>\n",
       "      <td>0</td>\n",
       "      <td>0</td>\n",
       "      <td>0</td>\n",
       "      <td>0</td>\n",
       "      <td>...</td>\n",
       "      <td>0</td>\n",
       "      <td>0</td>\n",
       "      <td>0</td>\n",
       "      <td>0</td>\n",
       "      <td>0</td>\n",
       "      <td>0</td>\n",
       "      <td>0</td>\n",
       "      <td>0</td>\n",
       "      <td>0</td>\n",
       "      <td>0</td>\n",
       "    </tr>\n",
       "  </tbody>\n",
       "</table>\n",
       "<p>5 rows × 5392 columns</p>\n",
       "</div>"
      ],
      "text/plain": [
       "   Perez Hilton  Andy Dick  TJ Lavin  Carson Kressley  RiFF RAFF  Chumlee  \\\n",
       "0             0          0         0                0          0        0   \n",
       "1             0          0         0                0          0        0   \n",
       "2             0          0         0                0          0        0   \n",
       "3             0          1         0                0          1        0   \n",
       "4             0          0         0                0          1        0   \n",
       "\n",
       "   Gilbert Gottfried  Ice T  Ben Higgins  Evan Breen  ...  Chris Jai Alex  \\\n",
       "0                  0      0            1           0  ...               0   \n",
       "1                  0      0            0           0  ...               0   \n",
       "2                  0      0            0           0  ...               0   \n",
       "3                  0      0            0           1  ...               0   \n",
       "4                  0      0            0           0  ...               0   \n",
       "\n",
       "   Peter Dickson  Laura Perlongo  Anna del Gaizo  Zach Harper  John Oberg  \\\n",
       "0              0               0               0            0           0   \n",
       "1              0               0               0            0           0   \n",
       "2              0               0               0            0           0   \n",
       "3              0               0               0            0           0   \n",
       "4              0               0               0            0           0   \n",
       "\n",
       "   Zac Pullam  Kansas Bowling  Matt Cirulnick  Caleb Senzel  \n",
       "0           0               0               0             0  \n",
       "1           0               0               0             0  \n",
       "2           0               0               0             0  \n",
       "3           0               0               0             0  \n",
       "4           0               0               0             0  \n",
       "\n",
       "[5 rows x 5392 columns]"
      ]
     },
     "execution_count": 4,
     "metadata": {},
     "output_type": "execute_result"
    }
   ],
   "source": [
    "like_file = \"../input/likes.pkl\"\n",
    "like_csr = pickle.load(open(like_file, \"rb\"))\n",
    "like_mat = np.array(like_csr.todense())\n",
    "like_df = pd.DataFrame(like_mat, columns=ITEM_NAMES)\n",
    "like_df.head()"
   ]
  },
  {
   "cell_type": "code",
   "execution_count": 5,
   "metadata": {},
   "outputs": [
    {
     "name": "stdout",
     "output_type": "stream",
     "text": [
      "3000 1000 1000 1000\n"
     ]
    }
   ],
   "source": [
    "s_train, s_test, s_input, s_hidden = pickle.load(open(\"../input/train_test_set.pkl\", \"rb\"))\n",
    "print(len(s_train), len(s_test), len(s_input), len(s_hidden))"
   ]
  },
  {
   "cell_type": "code",
   "execution_count": 6,
   "metadata": {},
   "outputs": [
    {
     "name": "stdout",
     "output_type": "stream",
     "text": [
      "5392\n"
     ]
    }
   ],
   "source": [
    "s_items = mat_to_sets(item_df[COLUMN_LABELS].values)\n",
    "print(len(s_items))"
   ]
  },
  {
   "cell_type": "markdown",
   "metadata": {},
   "source": [
    "## Evaluation Metrics"
   ]
  },
  {
   "cell_type": "code",
   "execution_count": 7,
   "metadata": {},
   "outputs": [],
   "source": [
    "from redcarpet import mapk_score, uhr_score"
   ]
  },
  {
   "cell_type": "code",
   "execution_count": 8,
   "metadata": {},
   "outputs": [
    {
     "name": "stdout",
     "output_type": "stream",
     "text": [
      "Help on function mapk_score in module redcarpet:\n",
      "\n",
      "mapk_score(recs_true, recs_pred, k=10)\n",
      "    Computes the mean average precision at k (MAP@K) of recommendations.\n",
      "    MAP@K = mean AP@K score over all users\n",
      "    AP@K = (1 / m) * sum from 1 to k of (precision at i * relevance of ith item)\n",
      "    Where m is the number of items in a user's hidden set\n",
      "    Where k is the number of items recommended to each user\n",
      "    params:\n",
      "        recs_true: list of sets of hidden items for each user\n",
      "        recs_pred: list of lists of recommended items, with each list\n",
      "        k: number of recommendations to use in top set\n",
      "    returns:\n",
      "        float, range [0, 1], though score of 1 will be impossible if\n",
      "        recs_true includes users who have more than k hidden items\n",
      "\n"
     ]
    }
   ],
   "source": [
    "help(mapk_score)"
   ]
  },
  {
   "cell_type": "code",
   "execution_count": 9,
   "metadata": {},
   "outputs": [
    {
     "name": "stdout",
     "output_type": "stream",
     "text": [
      "Help on function uhr_score in module redcarpet:\n",
      "\n",
      "uhr_score(recs_true, recs_pred, k=10)\n",
      "    Computes the user hit tate (UHR) score of recommendations.\n",
      "    UHR = the fraction of users whose top list included at\n",
      "    least one item also in their hidden set.\n",
      "    params:\n",
      "        recs_true: list of sets of hidden items for each user\n",
      "        recs_pred: list of lists of recommended items, with each list\n",
      "        k: number of recommendations to use in top set\n",
      "    returns:\n",
      "        float, range [0, 1]\n",
      "\n"
     ]
    }
   ],
   "source": [
    "help(uhr_score)"
   ]
  },
  {
   "cell_type": "markdown",
   "metadata": {},
   "source": [
    "## Similarity Measures"
   ]
  },
  {
   "cell_type": "code",
   "execution_count": 10,
   "metadata": {},
   "outputs": [],
   "source": [
    "from redcarpet import jaccard_sim, cosine_sim"
   ]
  },
  {
   "cell_type": "code",
   "execution_count": 11,
   "metadata": {},
   "outputs": [
    {
     "name": "stdout",
     "output_type": "stream",
     "text": [
      "Help on function jaccard_sim in module redcarpet:\n",
      "\n",
      "jaccard_sim(u, v)\n",
      "    Computes the Jaccard similarity between sets u and v.\n",
      "    sim = intersection(u, v) / union(u, v)\n",
      "    params:\n",
      "        u, v: sets to compare\n",
      "    returns:\n",
      "        float between 0 and 1, where 1 represents perfect\n",
      "            similarity and 0 represents no similarity\n",
      "\n"
     ]
    }
   ],
   "source": [
    "help(jaccard_sim)"
   ]
  },
  {
   "cell_type": "code",
   "execution_count": 12,
   "metadata": {},
   "outputs": [
    {
     "name": "stdout",
     "output_type": "stream",
     "text": [
      "Help on function cosine_sim in module redcarpet:\n",
      "\n",
      "cosine_sim(u, v)\n",
      "    Computes the Cosine similarity between sets u and v.\n",
      "    sim = intersection(u, v) / sqrt(|u| * |v|)\n",
      "    Where |s| is the number of items in set s\n",
      "    params:\n",
      "        u, v: sets to compare\n",
      "    returns:\n",
      "        float between 0 and 1, where 1 represents perfect\n",
      "            similarity and 0 represents no similarity\n",
      "\n"
     ]
    }
   ],
   "source": [
    "help(cosine_sim)"
   ]
  },
  {
   "cell_type": "markdown",
   "metadata": {},
   "source": [
    "## Recommendation Algorithms"
   ]
  },
  {
   "cell_type": "code",
   "execution_count": 13,
   "metadata": {},
   "outputs": [],
   "source": [
    "from redcarpet import collaborative_filter, content_filter, weighted_hybrid"
   ]
  },
  {
   "cell_type": "code",
   "execution_count": 14,
   "metadata": {},
   "outputs": [
    {
     "name": "stdout",
     "output_type": "stream",
     "text": [
      "Help on function collaborative_filter in module redcarpet:\n",
      "\n",
      "collaborative_filter(recs_train, recs_input, k=10, j=3, sim_fn=<function jaccard_sim at 0x1130120d0>)\n",
      "    Collaborative filtering recommender system.\n",
      "    params:\n",
      "        recs_train: list of sets of liked item indices for train data\n",
      "        recs_input: list of sets of liked item indices for input data\n",
      "        k: number of items to recommend for each user\n",
      "        j: number of similar users to base recommendations on\n",
      "        sim_fn(u, v): function that returns a float value representing\n",
      "            the similarity between sets u and v\n",
      "    returns:\n",
      "        recs_pred: list of lists of tuples of recommendations where\n",
      "            each tuple has (item index, relevance score) with the list\n",
      "            of tuples sorted in order of decreasing relevance\n",
      "\n"
     ]
    }
   ],
   "source": [
    "help(collaborative_filter)"
   ]
  },
  {
   "cell_type": "code",
   "execution_count": 15,
   "metadata": {},
   "outputs": [
    {
     "name": "stdout",
     "output_type": "stream",
     "text": [
      "Help on function content_filter in module redcarpet:\n",
      "\n",
      "content_filter(items_train, recs_input, k=10, sim_fn=<function jaccard_sim at 0x1130120d0>)\n",
      "    Content-based filtering recommender system.\n",
      "    params:\n",
      "        items_train: list of sets of non-zero attribute indices for items\n",
      "        recs_input: list of sets of liked item indices for input data\n",
      "        k: number of items to recommend for each user\n",
      "        sim_fn(u, v): function that returns a float value representing\n",
      "            the similarity between sets u and v\n",
      "    returns:\n",
      "        recs_pred: list of lists of tuples of recommendations where\n",
      "            each tuple has (item index, relevance score) with the list\n",
      "            of tuples sorted in order of decreasing relevance\n",
      "\n"
     ]
    }
   ],
   "source": [
    "help(content_filter)"
   ]
  },
  {
   "cell_type": "code",
   "execution_count": 16,
   "metadata": {},
   "outputs": [
    {
     "name": "stdout",
     "output_type": "stream",
     "text": [
      "Help on function weighted_hybrid in module redcarpet:\n",
      "\n",
      "weighted_hybrid(components, k=10)\n",
      "    Hybrid recommender system using weights.\n",
      "    params:\n",
      "        components: list of tuples where each tuple has (recs list, weight)\n",
      "            where recs_list is a list of tuples where each tuple has\n",
      "            (item index, relevance score) and weight is the factor used to\n",
      "            scale the relevance scores for this component\n",
      "        k: number of items to recommend for each user\n",
      "    returns:\n",
      "        recs_pred: list of lists of tuples of recommendations where\n",
      "            each tuple has (item index, relevance score) with the list\n",
      "            of tuples sorted in order of decreasing relevance\n",
      "\n"
     ]
    }
   ],
   "source": [
    "help(weighted_hybrid)"
   ]
  },
  {
   "cell_type": "markdown",
   "metadata": {},
   "source": [
    "## Model Selection"
   ]
  },
  {
   "cell_type": "code",
   "execution_count": 17,
   "metadata": {},
   "outputs": [],
   "source": [
    "from redcarpet import get_recs"
   ]
  },
  {
   "cell_type": "code",
   "execution_count": 18,
   "metadata": {},
   "outputs": [
    {
     "name": "stdout",
     "output_type": "stream",
     "text": [
      "Help on function get_recs in module redcarpet:\n",
      "\n",
      "get_recs(user_recs, k=None)\n",
      "    Extracts recommended item indices, leaving out their scores.\n",
      "    params:\n",
      "        user_recs: list of lists of tuples of recommendations where\n",
      "            each tuple has (item index, relevance score) with the\n",
      "            list of tuples sorted in order of decreasing relevance\n",
      "        k: maximumum number of recommendations to include for each\n",
      "            user, if None, include all recommendations\n",
      "    returns:\n",
      "        list of lists of recommendations where each\n",
      "            list has the column indices of recommended items\n",
      "            sorted in order they appeared in user_recs\n",
      "\n"
     ]
    }
   ],
   "source": [
    "help(get_recs)"
   ]
  },
  {
   "cell_type": "code",
   "execution_count": 19,
   "metadata": {},
   "outputs": [],
   "source": [
    "n_pred = 250 # len(s_input)\n",
    "k_top = 10\n",
    "j_neighbors = 30\n",
    "s_input_sample = s_input[0:n_pred]\n",
    "s_hidden_sample = s_hidden[0:n_pred]"
   ]
  },
  {
   "cell_type": "code",
   "execution_count": 20,
   "metadata": {},
   "outputs": [
    {
     "name": "stdout",
     "output_type": "stream",
     "text": [
      "Strategy: Collaborative\n",
      "Similarity: Jaccard\n",
      "MAP = 0.156\n",
      "UHR = 0.680\n"
     ]
    }
   ],
   "source": [
    "print(\"Strategy: Collaborative\")\n",
    "print(\"Similarity: Jaccard\")\n",
    "collab_jac = collaborative_filter(s_train, s_input_sample, sim_fn=jaccard_sim, j=j_neighbors)\n",
    "print(\"MAP = {0:.3f}\".format(mapk_score(s_hidden_sample, get_recs(collab_jac), k=k_top)))\n",
    "print(\"UHR = {0:.3f}\".format(uhr_score(s_hidden_sample, get_recs(collab_jac), k=k_top)))"
   ]
  },
  {
   "cell_type": "code",
   "execution_count": 21,
   "metadata": {},
   "outputs": [
    {
     "name": "stdout",
     "output_type": "stream",
     "text": [
      "Strategy: Collaborative\n",
      "Similarity: Cosine\n",
      "MAP = 0.157\n",
      "UHR = 0.676\n"
     ]
    }
   ],
   "source": [
    "print(\"Strategy: Collaborative\")\n",
    "print(\"Similarity: Cosine\")\n",
    "collab_cos = collaborative_filter(s_train, s_input_sample, sim_fn=cosine_sim, j=j_neighbors)\n",
    "print(\"MAP = {0:.3f}\".format(mapk_score(s_hidden_sample, get_recs(collab_cos), k=k_top)))\n",
    "print(\"UHR = {0:.3f}\".format(uhr_score(s_hidden_sample, get_recs(collab_cos), k=k_top)))"
   ]
  },
  {
   "cell_type": "code",
   "execution_count": 22,
   "metadata": {},
   "outputs": [
    {
     "name": "stdout",
     "output_type": "stream",
     "text": [
      "Strategy: Collaborative\n",
      "Similarity: Hybrid (0.8 * Jaccard + 0.2 * Cosine)\n",
      "MAP = 0.156\n",
      "UHR = 0.680\n"
     ]
    }
   ],
   "source": [
    "print(\"Strategy: Collaborative\")\n",
    "print(\"Similarity: Hybrid (0.8 * Jaccard + 0.2 * Cosine)\")\n",
    "collab_hybrid = weighted_hybrid([\n",
    "    (collab_jac, 0.8),\n",
    "    (collab_cos, 0.2)\n",
    "])\n",
    "print(\"MAP = {0:.3f}\".format(mapk_score(s_hidden_sample, get_recs(collab_hybrid), k=k_top)))\n",
    "print(\"UHR = {0:.3f}\".format(uhr_score(s_hidden_sample, get_recs(collab_hybrid), k=k_top)))"
   ]
  },
  {
   "cell_type": "code",
   "execution_count": 23,
   "metadata": {},
   "outputs": [
    {
     "name": "stdout",
     "output_type": "stream",
     "text": [
      "Strategy: Content-Based\n",
      "Similarity: Jaccard\n",
      "MAP = 0.063\n",
      "UHR = 0.380\n"
     ]
    }
   ],
   "source": [
    "print(\"Strategy: Content-Based\")\n",
    "print(\"Similarity: Jaccard\")\n",
    "cont_jac = content_filter(s_items, s_input_sample, sim_fn=jaccard_sim)\n",
    "print(\"MAP = {0:.3f}\".format(mapk_score(s_hidden_sample, get_recs(cont_jac), k=k_top)))\n",
    "print(\"UHR = {0:.3f}\".format(uhr_score(s_hidden_sample, get_recs(cont_jac), k=k_top)))"
   ]
  },
  {
   "cell_type": "code",
   "execution_count": 24,
   "metadata": {},
   "outputs": [
    {
     "name": "stdout",
     "output_type": "stream",
     "text": [
      "Strategy: Content-Based\n",
      "Similarity: Cosine\n",
      "MAP = 0.067\n",
      "UHR = 0.408\n"
     ]
    }
   ],
   "source": [
    "print(\"Strategy: Content-Based\")\n",
    "print(\"Similarity: Cosine\")\n",
    "cont_cos = content_filter(s_items, s_input_sample, sim_fn=cosine_sim)\n",
    "print(\"MAP = {0:.3f}\".format(mapk_score(s_hidden_sample, get_recs(cont_cos), k=k_top)))\n",
    "print(\"UHR = {0:.3f}\".format(uhr_score(s_hidden_sample, get_recs(cont_cos), k=k_top)))"
   ]
  },
  {
   "cell_type": "code",
   "execution_count": 25,
   "metadata": {},
   "outputs": [
    {
     "name": "stdout",
     "output_type": "stream",
     "text": [
      "Strategy: Content-Based\n",
      "Similarity: Hybrid (0.8 * Jaccard + 0.2 * Cosine)\n",
      "MAP = 0.065\n",
      "UHR = 0.380\n"
     ]
    }
   ],
   "source": [
    "print(\"Strategy: Content-Based\")\n",
    "print(\"Similarity: Hybrid (0.8 * Jaccard + 0.2 * Cosine)\")\n",
    "cont_hybrid = weighted_hybrid([\n",
    "    (cont_jac, 0.8),\n",
    "    (cont_cos, 0.2)\n",
    "])\n",
    "print(\"MAP = {0:.3f}\".format(mapk_score(s_hidden_sample, get_recs(cont_hybrid), k=k_top)))\n",
    "print(\"UHR = {0:.3f}\".format(uhr_score(s_hidden_sample, get_recs(cont_hybrid), k=k_top)))"
   ]
  },
  {
   "cell_type": "markdown",
   "metadata": {},
   "source": [
    "## Inspect Individual User"
   ]
  },
  {
   "cell_type": "code",
   "execution_count": 26,
   "metadata": {},
   "outputs": [
    {
     "name": "stdout",
     "output_type": "stream",
     "text": [
      "Model: Collaborative Filtering with Jaccard Similarity (j=30)\n",
      "User: 13\n",
      "\n",
      "Given:       [14, 95, 250, 555]\n",
      "Recommended: [0, 9, 23, 129, 154, 178, 179, 194, 691, 3470]\n",
      "Actual:      [53, 178]\n",
      "\n",
      "Recommendation Hits = 1\n",
      "Average Precision   = 0.500\n",
      "Jaccard Similarity  = 0.091\n",
      "\n",
      "Successful Recommendations:\n",
      "- Nikki Blonsky (cameo.com/nikkiblonsky)\n",
      "\n",
      "All Recommendation Scores:\n",
      "01. [Y] (0.333) Nikki Blonsky\n",
      "02. [ ] (0.233) Chris Rankin\n",
      "03. [ ] (0.167) Taylor Louderman\n",
      "04. [ ] (0.100) Evan Breen\n",
      "05. [ ] (0.100) Kyle Massey\n",
      "06. [ ] (0.100) Tom Felton\n",
      "07. [ ] (0.100) Michael Rapaport\n",
      "08. [ ] (0.067) Perez Hilton\n",
      "09. [ ] (0.067) Chelcie Lynn\n",
      "10. [ ] (0.067) Drew Gehling\n"
     ]
    }
   ],
   "source": [
    "uid = 13\n",
    "all_recs = collab_jac\n",
    "s_pred = get_recs(all_recs)\n",
    "print(\"Model: Collaborative Filtering with Jaccard Similarity (j=30)\")\n",
    "print(\"User: {}\".format(uid))\n",
    "print()\n",
    "print(\"Given:       {}\".format(sorted(s_input[uid])))\n",
    "print(\"Recommended: {}\".format(sorted(s_pred[uid])))\n",
    "print(\"Actual:      {}\".format(sorted(s_hidden[uid])))\n",
    "set_intersect = set(s_pred[uid]).intersection(set(s_hidden[uid]))\n",
    "n_intersect = len(set_intersect)\n",
    "n_union = len(set(s_pred[uid]).union(set(s_hidden[uid])))\n",
    "apk = mapk_score([s_hidden[uid]], [s_pred[uid]], k_top)\n",
    "jacc = jaccard_sim(set(s_pred[uid]), set(s_hidden[uid]))\n",
    "print()\n",
    "print(\"Recommendation Hits = {}\".format(n_intersect))\n",
    "print(\"Average Precision   = {0:.3f}\".format(apk))\n",
    "print(\"Jaccard Similarity  = {0:.3f}\".format(jacc))\n",
    "print()\n",
    "print(\"Successful Recommendations:\")\n",
    "for item_id in set_intersect:\n",
    "    print(\"- {} ({})\".format(ITEM_NAMES[item_id], \"cameo.com/\" + ITEM_IDS[item_id]))\n",
    "print()\n",
    "print(\"All Recommendation Scores:\")\n",
    "for i, (item_id, score) in enumerate(all_recs[uid]):\n",
    "    hit = \"Y\" if item_id in s_hidden[uid] else \" \"\n",
    "    print(\"{0}. [{3}] ({2:.3f}) {1}\".format(str(i + 1).zfill(2), ITEM_NAMES[item_id], score, hit))"
   ]
  },
  {
   "cell_type": "markdown",
   "metadata": {},
   "source": [
    "## Submit to Kaggle"
   ]
  },
  {
   "cell_type": "code",
   "execution_count": 27,
   "metadata": {},
   "outputs": [],
   "source": [
    "from redcarpet import write_kaggle_recs"
   ]
  },
  {
   "cell_type": "code",
   "execution_count": 28,
   "metadata": {},
   "outputs": [
    {
     "name": "stdout",
     "output_type": "stream",
     "text": [
      "Help on function write_kaggle_recs in module redcarpet:\n",
      "\n",
      "write_kaggle_recs(recs_list, filename=None, headers=['Id', 'Predicted'])\n",
      "    Writes recommendations to file in Kaggle submission format.\n",
      "    params:\n",
      "        recs_list: list of lists of recommendations where each\n",
      "            list has the column indices of recommended items\n",
      "            sorted in order of decreasing relevance\n",
      "        filename: path to file for writing output\n",
      "        headers: list of strings of output columns, defaults to\n",
      "            submission columns: [\"Id\", \"Predicted\"]\n",
      "    returns:\n",
      "        int: number of non-header lines, where each line represents\n",
      "            a user and the recommendations given to them\n",
      "\n"
     ]
    }
   ],
   "source": [
    "help(write_kaggle_recs)"
   ]
  },
  {
   "cell_type": "code",
   "execution_count": 29,
   "metadata": {},
   "outputs": [
    {
     "name": "stdout",
     "output_type": "stream",
     "text": [
      "Hold Out Set: N = 1000\n",
      "All Input:    N = 2000\n"
     ]
    }
   ],
   "source": [
    "# Load hold out set\n",
    "s_hold_input = pickle.load(open(\"../input/hold_set.pkl\", \"rb\"))\n",
    "print(\"Hold Out Set: N = {}\".format(len(s_hold_input)))\n",
    "s_all_input = s_input + s_hold_input\n",
    "print(\"All Input:    N = {}\".format(len(s_all_input)))"
   ]
  },
  {
   "cell_type": "code",
   "execution_count": 30,
   "metadata": {},
   "outputs": [
    {
     "name": "stdout",
     "output_type": "stream",
     "text": [
      "Final Model\n",
      "Strategy: Collaborative\n",
      "Similarity: Jaccard\n"
     ]
    }
   ],
   "source": [
    "print(\"Final Model\")\n",
    "print(\"Strategy: Collaborative\")\n",
    "print(\"Similarity: Jaccard\")\n",
    "# Be sure to use the entire s_input\n",
    "final_scores = collaborative_filter(s_train, s_all_input, sim_fn=jaccard_sim, j=30)\n",
    "final_recs = get_recs(final_scores)"
   ]
  },
  {
   "cell_type": "code",
   "execution_count": 31,
   "metadata": {},
   "outputs": [
    {
     "name": "stdout",
     "output_type": "stream",
     "text": [
      "Wrote predictions for 2000 users to ../output/kaggle_submission_collab_jaccard_j30.csv.\n"
     ]
    }
   ],
   "source": [
    "outfile = \"../output/kaggle_submission_collab_jaccard_j30.csv\"\n",
    "n_lines = write_kaggle_recs(final_recs, outfile)\n",
    "print(\"Wrote predictions for {} users to {}.\".format(n_lines, outfile))"
   ]
  },
  {
   "cell_type": "code",
   "execution_count": null,
   "metadata": {},
   "outputs": [],
   "source": []
  }
 ],
 "metadata": {
  "kernelspec": {
   "display_name": "Python 3",
   "language": "python",
   "name": "python3"
  },
  "language_info": {
   "codemirror_mode": {
    "name": "ipython",
    "version": 3
   },
   "file_extension": ".py",
   "mimetype": "text/x-python",
   "name": "python",
   "nbconvert_exporter": "python",
   "pygments_lexer": "ipython3",
   "version": "3.6.1"
  },
  "varInspector": {
   "cols": {
    "lenName": 16,
    "lenType": 16,
    "lenVar": 40
   },
   "kernels_config": {
    "python": {
     "delete_cmd_postfix": "",
     "delete_cmd_prefix": "del ",
     "library": "var_list.py",
     "varRefreshCmd": "print(var_dic_list())"
    },
    "r": {
     "delete_cmd_postfix": ") ",
     "delete_cmd_prefix": "rm(",
     "library": "var_list.r",
     "varRefreshCmd": "cat(var_dic_list()) "
    }
   },
   "types_to_exclude": [
    "module",
    "function",
    "builtin_function_or_method",
    "instance",
    "_Feature"
   ],
   "window_display": false
  }
 },
 "nbformat": 4,
 "nbformat_minor": 2
}
