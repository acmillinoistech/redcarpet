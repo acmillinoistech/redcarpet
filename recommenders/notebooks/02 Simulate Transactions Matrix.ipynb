{
 "cells": [
  {
   "cell_type": "markdown",
   "metadata": {},
   "source": [
    "# Simulate Transactions Matrix"
   ]
  },
  {
   "cell_type": "code",
   "execution_count": 1,
   "metadata": {},
   "outputs": [],
   "source": [
    "import pandas as pd\n",
    "import numpy as np\n",
    "%matplotlib inline\n",
    "import matplotlib.pyplot as plt\n",
    "import seaborn as sns\n",
    "import pickle"
   ]
  },
  {
   "cell_type": "code",
   "execution_count": 2,
   "metadata": {},
   "outputs": [
    {
     "data": {
      "text/html": [
       "<div>\n",
       "<style scoped>\n",
       "    .dataframe tbody tr th:only-of-type {\n",
       "        vertical-align: middle;\n",
       "    }\n",
       "\n",
       "    .dataframe tbody tr th {\n",
       "        vertical-align: top;\n",
       "    }\n",
       "\n",
       "    .dataframe thead th {\n",
       "        text-align: right;\n",
       "    }\n",
       "</style>\n",
       "<table border=\"1\" class=\"dataframe\">\n",
       "  <thead>\n",
       "    <tr style=\"text-align: right;\">\n",
       "      <th></th>\n",
       "      <th>id</th>\n",
       "      <th>name</th>\n",
       "      <th>price</th>\n",
       "      <th>reactions</th>\n",
       "      <th>stars</th>\n",
       "      <th>joined</th>\n",
       "      <th>categories</th>\n",
       "      <th>in_13_reasons_why</th>\n",
       "      <th>in_90_day_fiance</th>\n",
       "      <th>in_actors</th>\n",
       "      <th>...</th>\n",
       "      <th>in_ufc</th>\n",
       "      <th>in_vanderpump_rules</th>\n",
       "      <th>in_venture_capitalists</th>\n",
       "      <th>in_viners</th>\n",
       "      <th>in_vlog_squad</th>\n",
       "      <th>in_voice_actors</th>\n",
       "      <th>in_winter_sports</th>\n",
       "      <th>in_writers</th>\n",
       "      <th>in_younow</th>\n",
       "      <th>in_youtubers</th>\n",
       "    </tr>\n",
       "  </thead>\n",
       "  <tbody>\n",
       "    <tr>\n",
       "      <th>0</th>\n",
       "      <td>perezhilton</td>\n",
       "      <td>Perez Hilton</td>\n",
       "      <td>27.0</td>\n",
       "      <td>924</td>\n",
       "      <td>5.0</td>\n",
       "      <td>April 2018</td>\n",
       "      <td>[Reality TV, Commentators, Featured]</td>\n",
       "      <td>0.0</td>\n",
       "      <td>0.0</td>\n",
       "      <td>0.0</td>\n",
       "      <td>...</td>\n",
       "      <td>0.0</td>\n",
       "      <td>0.0</td>\n",
       "      <td>0.0</td>\n",
       "      <td>0.0</td>\n",
       "      <td>0.0</td>\n",
       "      <td>0.0</td>\n",
       "      <td>0.0</td>\n",
       "      <td>0.0</td>\n",
       "      <td>0.0</td>\n",
       "      <td>0.0</td>\n",
       "    </tr>\n",
       "    <tr>\n",
       "      <th>1</th>\n",
       "      <td>andydick</td>\n",
       "      <td>Andy Dick</td>\n",
       "      <td>99.0</td>\n",
       "      <td>340</td>\n",
       "      <td>4.9</td>\n",
       "      <td>October 2018</td>\n",
       "      <td>[Reality TV, Comedians, Featured, Actors]</td>\n",
       "      <td>0.0</td>\n",
       "      <td>0.0</td>\n",
       "      <td>1.0</td>\n",
       "      <td>...</td>\n",
       "      <td>0.0</td>\n",
       "      <td>0.0</td>\n",
       "      <td>0.0</td>\n",
       "      <td>0.0</td>\n",
       "      <td>0.0</td>\n",
       "      <td>0.0</td>\n",
       "      <td>0.0</td>\n",
       "      <td>0.0</td>\n",
       "      <td>0.0</td>\n",
       "      <td>0.0</td>\n",
       "    </tr>\n",
       "    <tr>\n",
       "      <th>2</th>\n",
       "      <td>tjlavin</td>\n",
       "      <td>TJ Lavin</td>\n",
       "      <td>80.0</td>\n",
       "      <td>291</td>\n",
       "      <td>5.0</td>\n",
       "      <td>February 2018</td>\n",
       "      <td>[Reality TV, Riders, Featured, Extreme Sports,...</td>\n",
       "      <td>0.0</td>\n",
       "      <td>0.0</td>\n",
       "      <td>0.0</td>\n",
       "      <td>...</td>\n",
       "      <td>0.0</td>\n",
       "      <td>0.0</td>\n",
       "      <td>0.0</td>\n",
       "      <td>0.0</td>\n",
       "      <td>0.0</td>\n",
       "      <td>0.0</td>\n",
       "      <td>0.0</td>\n",
       "      <td>0.0</td>\n",
       "      <td>0.0</td>\n",
       "      <td>0.0</td>\n",
       "    </tr>\n",
       "    <tr>\n",
       "      <th>3</th>\n",
       "      <td>carsonkressley</td>\n",
       "      <td>Carson Kressley</td>\n",
       "      <td>59.0</td>\n",
       "      <td>290</td>\n",
       "      <td>5.0</td>\n",
       "      <td>October 2018</td>\n",
       "      <td>[Reality TV, Bravo, Stylists, Featured, Actors...</td>\n",
       "      <td>0.0</td>\n",
       "      <td>0.0</td>\n",
       "      <td>1.0</td>\n",
       "      <td>...</td>\n",
       "      <td>0.0</td>\n",
       "      <td>0.0</td>\n",
       "      <td>0.0</td>\n",
       "      <td>0.0</td>\n",
       "      <td>0.0</td>\n",
       "      <td>0.0</td>\n",
       "      <td>0.0</td>\n",
       "      <td>0.0</td>\n",
       "      <td>0.0</td>\n",
       "      <td>0.0</td>\n",
       "    </tr>\n",
       "    <tr>\n",
       "      <th>4</th>\n",
       "      <td>riffraff</td>\n",
       "      <td>RiFF RAFF</td>\n",
       "      <td>75.0</td>\n",
       "      <td>402</td>\n",
       "      <td>4.7</td>\n",
       "      <td>December 2017</td>\n",
       "      <td>[Rappers, Featured, Musicians]</td>\n",
       "      <td>0.0</td>\n",
       "      <td>0.0</td>\n",
       "      <td>0.0</td>\n",
       "      <td>...</td>\n",
       "      <td>0.0</td>\n",
       "      <td>0.0</td>\n",
       "      <td>0.0</td>\n",
       "      <td>0.0</td>\n",
       "      <td>0.0</td>\n",
       "      <td>0.0</td>\n",
       "      <td>0.0</td>\n",
       "      <td>0.0</td>\n",
       "      <td>0.0</td>\n",
       "      <td>0.0</td>\n",
       "    </tr>\n",
       "  </tbody>\n",
       "</table>\n",
       "<p>5 rows × 110 columns</p>\n",
       "</div>"
      ],
      "text/plain": [
       "               id             name  price  reactions  stars         joined  \\\n",
       "0     perezhilton     Perez Hilton   27.0        924    5.0     April 2018   \n",
       "1        andydick        Andy Dick   99.0        340    4.9   October 2018   \n",
       "2         tjlavin         TJ Lavin   80.0        291    5.0  February 2018   \n",
       "3  carsonkressley  Carson Kressley   59.0        290    5.0   October 2018   \n",
       "4        riffraff        RiFF RAFF   75.0        402    4.7  December 2017   \n",
       "\n",
       "                                          categories  in_13_reasons_why  \\\n",
       "0               [Reality TV, Commentators, Featured]                0.0   \n",
       "1          [Reality TV, Comedians, Featured, Actors]                0.0   \n",
       "2  [Reality TV, Riders, Featured, Extreme Sports,...                0.0   \n",
       "3  [Reality TV, Bravo, Stylists, Featured, Actors...                0.0   \n",
       "4                     [Rappers, Featured, Musicians]                0.0   \n",
       "\n",
       "   in_90_day_fiance  in_actors  ...  in_ufc  in_vanderpump_rules  \\\n",
       "0               0.0        0.0  ...     0.0                  0.0   \n",
       "1               0.0        1.0  ...     0.0                  0.0   \n",
       "2               0.0        0.0  ...     0.0                  0.0   \n",
       "3               0.0        1.0  ...     0.0                  0.0   \n",
       "4               0.0        0.0  ...     0.0                  0.0   \n",
       "\n",
       "   in_venture_capitalists  in_viners  in_vlog_squad  in_voice_actors  \\\n",
       "0                     0.0        0.0            0.0              0.0   \n",
       "1                     0.0        0.0            0.0              0.0   \n",
       "2                     0.0        0.0            0.0              0.0   \n",
       "3                     0.0        0.0            0.0              0.0   \n",
       "4                     0.0        0.0            0.0              0.0   \n",
       "\n",
       "   in_winter_sports  in_writers  in_younow  in_youtubers  \n",
       "0               0.0         0.0        0.0           0.0  \n",
       "1               0.0         0.0        0.0           0.0  \n",
       "2               0.0         0.0        0.0           0.0  \n",
       "3               0.0         0.0        0.0           0.0  \n",
       "4               0.0         0.0        0.0           0.0  \n",
       "\n",
       "[5 rows x 110 columns]"
      ]
     },
     "execution_count": 2,
     "metadata": {},
     "output_type": "execute_result"
    }
   ],
   "source": [
    "item_file = \"../input/talent.pkl\"\n",
    "item_records, COLUMN_LABELS, READABLE_LABELS, ATTRIBUTES = pickle.load(open(item_file, \"rb\"))\n",
    "df = pd.DataFrame(item_records)[ATTRIBUTES + COLUMN_LABELS].fillna(value=0)\n",
    "ITEM_NAMES = df[\"name\"].values\n",
    "ITEM_IDS = df[\"id\"].values\n",
    "df.head()"
   ]
  },
  {
   "cell_type": "code",
   "execution_count": 3,
   "metadata": {},
   "outputs": [],
   "source": [
    "COLUMN_TO_READABLE = {}\n",
    "READABLE_TO_COLUMN = {}\n",
    "for column, readable in zip(COLUMN_LABELS, READABLE_LABELS):\n",
    "    COLUMN_TO_READABLE[column] = readable\n",
    "    READABLE_TO_COLUMN[readable] = column"
   ]
  },
  {
   "cell_type": "markdown",
   "metadata": {},
   "source": [
    "## Properties of a Good Transaction Matrix\n",
    "\n",
    "- **Sparsity:** The number of actual transactions is far smaller than the number of possible transactions.\n",
    "- **Diversity:** The set of items purchased by a user has some variety.\n",
    "- **Power Law:** The frequency of items appears to follow a long-tailed distribution, i.e., a small number of items accounts for a large amount of transactions and most items are purchased infrequently."
   ]
  },
  {
   "cell_type": "code",
   "execution_count": 4,
   "metadata": {},
   "outputs": [
    {
     "data": {
      "image/png": "[encoded data removed]",
      "text/plain": [
       "<matplotlib.figure.Figure at 0x11b6d6320>"
      ]
     },
     "metadata": {
      "needs_background": "light"
     },
     "output_type": "display_data"
    }
   ],
   "source": [
    "np.random.seed(0)\n",
    "n_samples = 1000\n",
    "for d in range(1, 5):\n",
    "    vals = np.round(np.random.chisquare(df=d, size=n_samples)).astype(int)\n",
    "    sns.distplot(vals, kde=False, label=\"df={}\".format(d))\n",
    "plt.xlabel(\"Value\")\n",
    "plt.ylabel(\"Count\")\n",
    "plt.title(\"Rounded Chi-Square Distributions (n={})\".format(n_samples))\n",
    "plt.legend()\n",
    "plt.show()"
   ]
  },
  {
   "cell_type": "markdown",
   "metadata": {},
   "source": [
    "## User Likes Simulation"
   ]
  },
  {
   "cell_type": "code",
   "execution_count": 5,
   "metadata": {},
   "outputs": [],
   "source": [
    "category_map = {}\n",
    "for category in COLUMN_LABELS:\n",
    "    talent = df.query(\"{} == 1\".format(category))[\"id\"].values\n",
    "    reactions = df.query(\"{} == 1\".format(category))[\"reactions\"].values\n",
    "    freqs = reactions / np.sum(reactions)\n",
    "    category_map[category] = {\n",
    "        \"talent\": talent,\n",
    "        \"freqs\": freqs\n",
    "    }\n",
    "all_talent = df[\"id\"].values\n",
    "all_reactions = df[\"reactions\"].values\n",
    "all_freqs = all_reactions / np.sum(all_reactions)\n",
    "all_categories = df[\"categories\"].values\n",
    "talent_map = {}\n",
    "for talent_id, category_list in zip(all_talent, all_categories):\n",
    "    talent_map[talent_id] = [READABLE_TO_COLUMN[cat] for cat in category_list]"
   ]
  },
  {
   "cell_type": "code",
   "execution_count": 6,
   "metadata": {},
   "outputs": [],
   "source": [
    "def simulate_transactions(n, degs=3, min_m=0, seed=0):\n",
    "    np.random.seed(seed)\n",
    "    added_transacs = np.round(np.random.chisquare(df=degs, size=n)).astype(int) + min_m\n",
    "    res = []\n",
    "    for i, m in enumerate(added_transacs):\n",
    "        first_id = np.random.choice(all_talent, p=all_freqs)\n",
    "        cat_set = set(talent_map[first_id])\n",
    "        talent_set = set([first_id])\n",
    "        for j in range(m):\n",
    "            cat = np.random.choice(np.array(list(cat_set)))\n",
    "            entry = category_map[cat]\n",
    "            next_id = np.random.choice(entry[\"talent\"], p=entry[\"freqs\"])\n",
    "            if next_id not in talent_set:\n",
    "                talent_set.add(next_id)\n",
    "                # Want to balance between diverse and similar categories\n",
    "                if len(talent_set) < 1:\n",
    "                    cat_set.update(talent_map[next_id])\n",
    "        while len(talent_set) < min_m:\n",
    "            rand_id = np.random.choice(all_talent, p=all_freqs)\n",
    "            if rand_id not in talent_set:\n",
    "                talent_set.add(rand_id)\n",
    "        res.append({\n",
    "            \"transactions\": talent_set,\n",
    "            \"categories\": cat_set\n",
    "        })\n",
    "    return res"
   ]
  },
  {
   "cell_type": "code",
   "execution_count": 7,
   "metadata": {},
   "outputs": [
    {
     "data": {
      "text/html": [
       "<div>\n",
       "<style scoped>\n",
       "    .dataframe tbody tr th:only-of-type {\n",
       "        vertical-align: middle;\n",
       "    }\n",
       "\n",
       "    .dataframe tbody tr th {\n",
       "        vertical-align: top;\n",
       "    }\n",
       "\n",
       "    .dataframe thead th {\n",
       "        text-align: right;\n",
       "    }\n",
       "</style>\n",
       "<table border=\"1\" class=\"dataframe\">\n",
       "  <thead>\n",
       "    <tr style=\"text-align: right;\">\n",
       "      <th></th>\n",
       "      <th>categories</th>\n",
       "      <th>transactions</th>\n",
       "    </tr>\n",
       "  </thead>\n",
       "  <tbody>\n",
       "    <tr>\n",
       "      <th>0</th>\n",
       "      <td>{in_spotlight, in_featured, in_singer_songwriter}</td>\n",
       "      <td>{skeetme1, seankingston, duncanjames, benhiggy...</td>\n",
       "    </tr>\n",
       "    <tr>\n",
       "      <th>1</th>\n",
       "      <td>{in_animals, in_lifestyle}</td>\n",
       "      <td>{lala, realdavesalmoni, thepuggysmalls, joelfr...</td>\n",
       "    </tr>\n",
       "    <tr>\n",
       "      <th>2</th>\n",
       "      <td>{in_bravo, in_reality_tv, in_below_deck}</td>\n",
       "      <td>{peter_madrigal, gizellebryant, kellydodd, han...</td>\n",
       "    </tr>\n",
       "    <tr>\n",
       "      <th>3</th>\n",
       "      <td>{in_reality_tv, in_comedians, in_featured, in_...</td>\n",
       "      <td>{laturtle, andydick, riffraff, lilscrappy, tom...</td>\n",
       "    </tr>\n",
       "    <tr>\n",
       "      <th>4</th>\n",
       "      <td>{in_musicians, in_singer_songwriter}</td>\n",
       "      <td>{caseybassy, kyleerussell, dannyworsnop, itsja...</td>\n",
       "    </tr>\n",
       "  </tbody>\n",
       "</table>\n",
       "</div>"
      ],
      "text/plain": [
       "                                          categories  \\\n",
       "0  {in_spotlight, in_featured, in_singer_songwriter}   \n",
       "1                         {in_animals, in_lifestyle}   \n",
       "2           {in_bravo, in_reality_tv, in_below_deck}   \n",
       "3  {in_reality_tv, in_comedians, in_featured, in_...   \n",
       "4               {in_musicians, in_singer_songwriter}   \n",
       "\n",
       "                                        transactions  \n",
       "0  {skeetme1, seankingston, duncanjames, benhiggy...  \n",
       "1  {lala, realdavesalmoni, thepuggysmalls, joelfr...  \n",
       "2  {peter_madrigal, gizellebryant, kellydodd, han...  \n",
       "3  {laturtle, andydick, riffraff, lilscrappy, tom...  \n",
       "4  {caseybassy, kyleerussell, dannyworsnop, itsja...  "
      ]
     },
     "execution_count": 7,
     "metadata": {},
     "output_type": "execute_result"
    }
   ],
   "source": [
    "from sklearn.preprocessing import MultiLabelBinarizer\n",
    "\n",
    "N = 5000\n",
    "res = simulate_transactions(n=N, degs=3, min_m=6, seed=42)\n",
    "trans_df = pd.DataFrame(res)\n",
    "trans_df.head()"
   ]
  },
  {
   "cell_type": "markdown",
   "metadata": {},
   "source": [
    "## User Interest Simulation"
   ]
  },
  {
   "cell_type": "code",
   "execution_count": 8,
   "metadata": {},
   "outputs": [
    {
     "data": {
      "image/png": "[encoded data removed]",
      "text/plain": [
       "<matplotlib.figure.Figure at 0x11c1338d0>"
      ]
     },
     "metadata": {
      "needs_background": "light"
     },
     "output_type": "display_data"
    },
    {
     "data": {
      "text/plain": [
       "in_actors                   1015.0\n",
       "in_athletes                  846.0\n",
       "in_youtubers                 609.0\n",
       "in_reality_tv                586.0\n",
       "in_models                    546.0\n",
       "in_singer_songwriter         478.0\n",
       "in_musicians                 407.0\n",
       "in_comedians                 407.0\n",
       "in_football                  334.0\n",
       "in_instagram_influencers     286.0\n",
       "in_fitness                   268.0\n",
       "in_bloggers                  248.0\n",
       "in_lifestyle                 235.0\n",
       "in_rappers                   217.0\n",
       "in_artists                   197.0\n",
       "in_dancers                   181.0\n",
       "in_featured                  178.0\n",
       "in_tiktok                    128.0\n",
       "in_bravo                     109.0\n",
       "in_mtv                       108.0\n",
       "dtype: float64"
      ]
     },
     "execution_count": 8,
     "metadata": {},
     "output_type": "execute_result"
    }
   ],
   "source": [
    "item_mat = df[COLUMN_LABELS]\n",
    "cat_counts = item_mat.sum(axis=0)\n",
    "sns.distplot(cat_counts.values, kde=False)\n",
    "plt.show()\n",
    "cat_counts.sort_values(ascending=False).head(20)"
   ]
  },
  {
   "cell_type": "code",
   "execution_count": 45,
   "metadata": {},
   "outputs": [
    {
     "data": {
      "text/plain": [
       "in_viners             91.0\n",
       "in_pro_wrestling      91.0\n",
       "in_commentators       90.0\n",
       "in_extreme_sports     88.0\n",
       "in_broadway           85.0\n",
       "in_basketball         82.0\n",
       "in_authors            77.0\n",
       "in_fashion            75.0\n",
       "in_animals            70.0\n",
       "in_real_housewives    63.0\n",
       "in_drag_queens        58.0\n",
       "in_soccer             58.0\n",
       "in_fighters           57.0\n",
       "in_podcast            55.0\n",
       "in_tv_hosts           52.0\n",
       "in_the_bachelor       51.0\n",
       "in_legends            49.0\n",
       "in_cameo_team         48.0\n",
       "in_rock_music         48.0\n",
       "in_olympics           47.0\n",
       "dtype: float64"
      ]
     },
     "execution_count": 45,
     "metadata": {},
     "output_type": "execute_result"
    }
   ],
   "source": [
    "cat_counts[cat_counts < 100].sort_values(ascending=False).head(20)"
   ]
  },
  {
   "cell_type": "code",
   "execution_count": 15,
   "metadata": {},
   "outputs": [],
   "source": [
    "from sklearn.metrics import pairwise_distances\n",
    "\n",
    "\n",
    "BANNED_POPULAR = [\"Actors\", \"Athletes\"]\n",
    "BANNED_FALLBACK = [\"Spotlight\", \"Featured\", \"Legends\", \"Browse Featured\", \"New\"]\n",
    "BANNED_CATEGORIES = BANNED_POPULAR + BANNED_FALLBACK\n",
    "CAT_FREQ = df[COLUMN_LABELS].mean(axis=0)\n",
    "\n",
    "def get_categories(cats):\n",
    "    by_freq = sorted([\n",
    "        (cat, CAT_FREQ[READABLE_TO_COLUMN[cat]])\n",
    "        for cat in filter(lambda c: c not in BANNED_CATEGORIES, cats)\n",
    "    ], key=lambda p: p[1], reverse=True)\n",
    "    if len(by_freq) > 0:\n",
    "        return [cat for (cat, freq) in by_freq]\n",
    "        #return [cat for (cat, freq) in [by_freq[0], by_freq[-1]]]\n",
    "    else:\n",
    "        return list(filter(lambda c: c not in BANNED_FALLBACK, cats))"
   ]
  },
  {
   "cell_type": "code",
   "execution_count": 33,
   "metadata": {},
   "outputs": [],
   "source": [
    "def simulate_users(n_users, distance=\"rogerstanimoto\", chi_degs=4, min_m=1, n_interests=3, seed=0):\n",
    "    # Seed psuedorandom number generator\n",
    "    np.random.seed(seed)\n",
    "    \n",
    "    # Get meaningful categories for each user\n",
    "    prime_cats = df[\"categories\"].apply(get_categories)\n",
    "    mlb_cat = MultiLabelBinarizer()\n",
    "    mlb_cat.fit(prime_cats)\n",
    "    prime_mat = mlb_cat.transform(prime_cats)\n",
    "\n",
    "    # Create item distance matrix\n",
    "    prime_mat_bool = prime_mat.astype(bool)\n",
    "    prime_dists = pairwise_distances(prime_mat_bool, metric=distance)\n",
    "\n",
    "    # Place items in multiple clusters based on their categories\n",
    "    clusters = {}\n",
    "    for i, cats in enumerate(prime_cats):\n",
    "        for cat in cats:\n",
    "            if cat not in clusters:\n",
    "                clusters[cat] = set()\n",
    "            clusters[cat].add(i)\n",
    "\n",
    "    # Calculate silhouette scores for every category\n",
    "    n_lim = len(df)\n",
    "    sil_scores = []\n",
    "    for i, (cats, dist_row) in enumerate(zip(prime_cats[0:n_lim], prime_dists[0:n_lim])):\n",
    "        if len(cats) > 1:\n",
    "            for cat_a in cats:\n",
    "                sils = []\n",
    "                for cat_b in cats:\n",
    "                    if cat_a != cat_b:\n",
    "                        sil = 0\n",
    "                        group_a = list(clusters[cat_a] - set([i]))\n",
    "                        group_b = list(clusters[cat_b] - set([i]))\n",
    "                        if len(group_a) != 1:\n",
    "                            a = 0\n",
    "                            b = 0\n",
    "                            if len(group_a) > 0:\n",
    "                                a = dist_row[group_a].mean()\n",
    "                            if len(group_b) > 0:\n",
    "                                b = dist_row[group_b].mean()\n",
    "                            sil = (b - a) / (max(a, b) + 1e-10)\n",
    "                        sils.append(sil)\n",
    "                mean_sil = np.mean(sils)\n",
    "                sil_scores.append({\n",
    "                    \"user\": i,\n",
    "                    \"category\": cat_a,\n",
    "                    \"mean_sil\": mean_sil\n",
    "                })\n",
    "        else:\n",
    "            for cat in cats:\n",
    "                sil_scores.append({\n",
    "                    \"user\": i,\n",
    "                    \"category\": cat,\n",
    "                    \"mean_sil\": 1.0\n",
    "                })\n",
    "    cat_sils_df = pd.DataFrame(sil_scores).groupby(by=[\"category\"])[\"mean_sil\"].mean().fillna(value=0)\n",
    "\n",
    "    # Select items from their clusters proportional to their reactions\n",
    "    cluster_reacs = {}\n",
    "    for cat in clusters:\n",
    "        idxs = list(clusters[cat])\n",
    "        cluster_reacs[cat] = [(i, df[\"reactions\"].values[i]) for i in idxs]\n",
    "    all_cats = list(filter(lambda cat: cat not in BANNED_CATEGORIES, cluster_reacs.keys()))\n",
    "    cat_proba_sum = np.array([\n",
    "        sum([r for (i, r) in cluster_reacs[key]])\n",
    "        for key in all_cats\n",
    "    ])\n",
    "    cat_probas = cat_proba_sum / cat_proba_sum.sum()\n",
    "\n",
    "    # Select generally popular items separately, also proportional to their reactions\n",
    "    pop_set = set()\n",
    "    for i, cats in enumerate(df[\"categories\"].values):\n",
    "        for cat in cats:\n",
    "            if cat in BANNED_CATEGORIES:\n",
    "                pop_set.add(i)     \n",
    "    pop_items = np.array(list(pop_set))\n",
    "    pop_reacs = np.array([df[\"reactions\"].values[i] for i in pop_items])\n",
    "    pop_probas = pop_reacs / pop_reacs.sum()\n",
    "\n",
    "    # Simulate user likes\n",
    "    user_picks = []\n",
    "    for u in range(n_users):\n",
    "        picks = set()\n",
    "        take_pop = np.round(np.random.chisquare(df=chi_degs)).astype(int) + min_m\n",
    "        pop_picks = np.random.choice(pop_items, p=pop_probas, size=take_pop, replace=False)\n",
    "        picks.update(pop_picks)\n",
    "        #print(\"Popular\")\n",
    "        #print(pop_picks)\n",
    "        choices = np.random.choice(all_cats, p=cat_probas, size=n_interests, replace=False)\n",
    "        #print(choices)\n",
    "        for choice in choices:\n",
    "            group = cluster_reacs[choice]\n",
    "            idxs = np.array([i for (i, r) in group])\n",
    "            reacs = np.array([i for (i, r) in group])\n",
    "            reacs_proba = reacs / reacs.sum()\n",
    "            sil = cat_sils_df[choice]\n",
    "            if len(group) <= 100:\n",
    "                take = max(1, int(np.floor(sil * len(group))))\n",
    "            else:\n",
    "                take = min(len(group), np.round(np.random.chisquare(df=chi_degs)).astype(int) + 1)\n",
    "            #print(choice, sil, take)\n",
    "            cat_picks = np.random.choice(idxs, p=reacs_proba, size=take, replace=False)\n",
    "            #print(cat_picks)\n",
    "            picks.update(cat_picks)\n",
    "        #print(len(picks))\n",
    "        user_picks.append(picks)\n",
    "\n",
    "    # Store user preferences\n",
    "    user_trans = []\n",
    "    for picks in user_picks:\n",
    "        user_cats = set()\n",
    "        for i in picks:\n",
    "            user_cats.update(df[\"categories\"].values[i])\n",
    "        user_trans.append({\n",
    "            \"categories\": user_cats,\n",
    "            \"transactions\": [ITEM_IDS[i] for i in picks]\n",
    "        })\n",
    "    return user_trans, prime_dists, cat_sils_df"
   ]
  },
  {
   "cell_type": "code",
   "execution_count": 46,
   "metadata": {},
   "outputs": [
    {
     "data": {
      "text/html": [
       "<div>\n",
       "<style scoped>\n",
       "    .dataframe tbody tr th:only-of-type {\n",
       "        vertical-align: middle;\n",
       "    }\n",
       "\n",
       "    .dataframe tbody tr th {\n",
       "        vertical-align: top;\n",
       "    }\n",
       "\n",
       "    .dataframe thead th {\n",
       "        text-align: right;\n",
       "    }\n",
       "</style>\n",
       "<table border=\"1\" class=\"dataframe\">\n",
       "  <thead>\n",
       "    <tr style=\"text-align: right;\">\n",
       "      <th></th>\n",
       "      <th>categories</th>\n",
       "      <th>transactions</th>\n",
       "    </tr>\n",
       "  </thead>\n",
       "  <tbody>\n",
       "    <tr>\n",
       "      <th>0</th>\n",
       "      <td>{Soccer, Viners, YouTubers, Podcast, Voice Act...</td>\n",
       "      <td>[perezhilton, riffraff, gilbertgottfried, zakd...</td>\n",
       "    </tr>\n",
       "    <tr>\n",
       "      <th>1</th>\n",
       "      <td>{New, YouTubers, Podcast, Bloggers, TV Hosts, ...</td>\n",
       "      <td>[perezhilton, thelukemullen, martine, ariellej...</td>\n",
       "    </tr>\n",
       "    <tr>\n",
       "      <th>2</th>\n",
       "      <td>{The Voice, Spotlight, YouTubers, Podcast, Blo...</td>\n",
       "      <td>[jamesmaslow, dr.jackie, cnelll3, jaclaurita, ...</td>\n",
       "    </tr>\n",
       "    <tr>\n",
       "      <th>3</th>\n",
       "      <td>{Stylists, Viners, Spotlight, New, YouTubers, ...</td>\n",
       "      <td>[perezhilton, carsonkressley, thelukemullen, n...</td>\n",
       "    </tr>\n",
       "    <tr>\n",
       "      <th>4</th>\n",
       "      <td>{Viners, YouTubers, Playlist Live, The Challen...</td>\n",
       "      <td>[perezhilton, jcyrus, jdytrych22, mikethecop, ...</td>\n",
       "    </tr>\n",
       "  </tbody>\n",
       "</table>\n",
       "</div>"
      ],
      "text/plain": [
       "                                          categories  \\\n",
       "0  {Soccer, Viners, YouTubers, Podcast, Voice Act...   \n",
       "1  {New, YouTubers, Podcast, Bloggers, TV Hosts, ...   \n",
       "2  {The Voice, Spotlight, YouTubers, Podcast, Blo...   \n",
       "3  {Stylists, Viners, Spotlight, New, YouTubers, ...   \n",
       "4  {Viners, YouTubers, Playlist Live, The Challen...   \n",
       "\n",
       "                                        transactions  \n",
       "0  [perezhilton, riffraff, gilbertgottfried, zakd...  \n",
       "1  [perezhilton, thelukemullen, martine, ariellej...  \n",
       "2  [jamesmaslow, dr.jackie, cnelll3, jaclaurita, ...  \n",
       "3  [perezhilton, carsonkressley, thelukemullen, n...  \n",
       "4  [perezhilton, jcyrus, jdytrych22, mikethecop, ...  "
      ]
     },
     "execution_count": 46,
     "metadata": {},
     "output_type": "execute_result"
    }
   ],
   "source": [
    "sim, dist_mat, sils_df = simulate_users(\n",
    "    n_users=5000,\n",
    "    distance=\"rogerstanimoto\",\n",
    "    chi_degs=4,\n",
    "    min_m=5,\n",
    "    n_interests=3,\n",
    "    seed=0\n",
    ")\n",
    "trans_df = pd.DataFrame(sim)\n",
    "trans_df.head()"
   ]
  },
  {
   "cell_type": "code",
   "execution_count": 47,
   "metadata": {},
   "outputs": [
    {
     "data": {
      "image/png": "[encoded data removed]",
      "text/plain": [
       "<matplotlib.figure.Figure at 0x1216de9e8>"
      ]
     },
     "metadata": {
      "needs_background": "light"
     },
     "output_type": "display_data"
    }
   ],
   "source": [
    "sns.distplot(sils_df.values, kde=False, bins=np.arange(-1, 1.1, 0.1))\n",
    "plt.xticks(np.arange(-1, 1.2, 0.2))\n",
    "plt.xlabel(\"Mean Average Silhouette Score\")\n",
    "plt.ylabel(\"Number of Categories\")\n",
    "plt.title(\"Clustering Consistency of Categories\")\n",
    "plt.show()"
   ]
  },
  {
   "cell_type": "code",
   "execution_count": 48,
   "metadata": {},
   "outputs": [
    {
     "name": "stdout",
     "output_type": "stream",
     "text": [
      "Most Consistent Clusters:\n"
     ]
    },
    {
     "data": {
      "text/plain": [
       "category\n",
       "Sabrina The Teenage Witch             1.000000\n",
       "Riverdale                             1.000000\n",
       "The Chilling Adventures of Sabrina    1.000000\n",
       "Twilight                              1.000000\n",
       "Venture Capitalists                   1.000000\n",
       "Teen Mom                              1.000000\n",
       "Actors                                0.995315\n",
       "Athletes                              0.963578\n",
       "NFL Draft 2019                        0.954557\n",
       "Rugby                                 0.949721\n",
       "Name: mean_sil, dtype: float64"
      ]
     },
     "execution_count": 48,
     "metadata": {},
     "output_type": "execute_result"
    }
   ],
   "source": [
    "print(\"Most Consistent Clusters:\")\n",
    "sils_df.sort_values(ascending=False).head(10)"
   ]
  },
  {
   "cell_type": "code",
   "execution_count": 49,
   "metadata": {},
   "outputs": [
    {
     "name": "stdout",
     "output_type": "stream",
     "text": [
      "Most Inconsistent Clusters:\n"
     ]
    },
    {
     "data": {
      "text/plain": [
       "category\n",
       "Hall of Famers     -0.324458\n",
       "British Stars      -0.295055\n",
       "Adult Film Stars   -0.271013\n",
       "YouTubers          -0.246755\n",
       "Entrepreneurs      -0.101013\n",
       "Radio              -0.100580\n",
       "Reality TV         -0.086035\n",
       "Stylists           -0.059726\n",
       "DJs                -0.050701\n",
       "Fashion            -0.019295\n",
       "Name: mean_sil, dtype: float64"
      ]
     },
     "execution_count": 49,
     "metadata": {},
     "output_type": "execute_result"
    }
   ],
   "source": [
    "print(\"Most Inconsistent Clusters:\")\n",
    "sils_df.sort_values(ascending=True).head(10)"
   ]
  },
  {
   "cell_type": "code",
   "execution_count": 50,
   "metadata": {},
   "outputs": [
    {
     "name": "stdout",
     "output_type": "stream",
     "text": [
      "Most Redundant Clusters:\n"
     ]
    },
    {
     "data": {
      "text/plain": [
       "category\n",
       "Chefs               0.077177\n",
       "The Voice           0.067786\n",
       "Bravo               0.064169\n",
       "For Charity         0.050342\n",
       "Playlist Live       0.049953\n",
       "YouNow              0.048324\n",
       "Spanish Language    0.004303\n",
       "Fashion            -0.019295\n",
       "DJs                -0.050701\n",
       "Stylists           -0.059726\n",
       "Name: mean_sil, dtype: float64"
      ]
     },
     "execution_count": 50,
     "metadata": {},
     "output_type": "execute_result"
    }
   ],
   "source": [
    "print(\"Most Redundant Clusters:\")\n",
    "sils_df[abs(sils_df) <= 0.1].sort_values(ascending=False).head(10)"
   ]
  },
  {
   "cell_type": "code",
   "execution_count": 51,
   "metadata": {},
   "outputs": [
    {
     "name": "stdout",
     "output_type": "stream",
     "text": [
      "Second Peak:\n"
     ]
    },
    {
     "data": {
      "text/plain": [
       "category\n",
       "13 Reasons Why       0.500000\n",
       "Vlog Squad           0.469658\n",
       "Food                 0.455730\n",
       "MTV                  0.444238\n",
       "UFC                  0.426398\n",
       "Singer/Songwriter    0.393626\n",
       "Extreme Sports       0.333017\n",
       "Artists              0.327940\n",
       "Olympics             0.326944\n",
       "Podcast              0.322321\n",
       "Name: mean_sil, dtype: float64"
      ]
     },
     "execution_count": 51,
     "metadata": {},
     "output_type": "execute_result"
    }
   ],
   "source": [
    "print(\"Second Peak:\")\n",
    "sils_df[sils_df <= 0.5].sort_values(ascending=False).head(10)"
   ]
  },
  {
   "cell_type": "markdown",
   "metadata": {},
   "source": [
    "## Evaluate Simulated Data"
   ]
  },
  {
   "cell_type": "code",
   "execution_count": 52,
   "metadata": {},
   "outputs": [
    {
     "name": "stdout",
     "output_type": "stream",
     "text": [
      "Each user has liked at least 11 talent.\n"
     ]
    },
    {
     "data": {
      "text/html": [
       "<div>\n",
       "<style scoped>\n",
       "    .dataframe tbody tr th:only-of-type {\n",
       "        vertical-align: middle;\n",
       "    }\n",
       "\n",
       "    .dataframe tbody tr th {\n",
       "        vertical-align: top;\n",
       "    }\n",
       "\n",
       "    .dataframe thead th {\n",
       "        text-align: right;\n",
       "    }\n",
       "</style>\n",
       "<table border=\"1\" class=\"dataframe\">\n",
       "  <thead>\n",
       "    <tr style=\"text-align: right;\">\n",
       "      <th></th>\n",
       "      <th>perezhilton</th>\n",
       "      <th>andydick</th>\n",
       "      <th>tjlavin</th>\n",
       "      <th>carsonkressley</th>\n",
       "      <th>riffraff</th>\n",
       "      <th>chumlee</th>\n",
       "      <th>gilbertgottfried</th>\n",
       "      <th>icet</th>\n",
       "      <th>benhiggy</th>\n",
       "      <th>laturtle</th>\n",
       "      <th>...</th>\n",
       "      <th>chrisjaialex</th>\n",
       "      <th>voman</th>\n",
       "      <th>el_peego</th>\n",
       "      <th>thisannaisbananas</th>\n",
       "      <th>zachharper</th>\n",
       "      <th>johnoberg</th>\n",
       "      <th>zacpullam</th>\n",
       "      <th>kansasbowling</th>\n",
       "      <th>mattcirulnick</th>\n",
       "      <th>itsscaleb__</th>\n",
       "    </tr>\n",
       "  </thead>\n",
       "  <tbody>\n",
       "    <tr>\n",
       "      <th>0</th>\n",
       "      <td>1</td>\n",
       "      <td>0</td>\n",
       "      <td>0</td>\n",
       "      <td>0</td>\n",
       "      <td>1</td>\n",
       "      <td>0</td>\n",
       "      <td>1</td>\n",
       "      <td>0</td>\n",
       "      <td>0</td>\n",
       "      <td>0</td>\n",
       "      <td>...</td>\n",
       "      <td>0</td>\n",
       "      <td>0</td>\n",
       "      <td>0</td>\n",
       "      <td>0</td>\n",
       "      <td>0</td>\n",
       "      <td>0</td>\n",
       "      <td>0</td>\n",
       "      <td>0</td>\n",
       "      <td>0</td>\n",
       "      <td>0</td>\n",
       "    </tr>\n",
       "    <tr>\n",
       "      <th>1</th>\n",
       "      <td>1</td>\n",
       "      <td>0</td>\n",
       "      <td>0</td>\n",
       "      <td>0</td>\n",
       "      <td>0</td>\n",
       "      <td>0</td>\n",
       "      <td>0</td>\n",
       "      <td>0</td>\n",
       "      <td>0</td>\n",
       "      <td>0</td>\n",
       "      <td>...</td>\n",
       "      <td>0</td>\n",
       "      <td>0</td>\n",
       "      <td>0</td>\n",
       "      <td>0</td>\n",
       "      <td>0</td>\n",
       "      <td>0</td>\n",
       "      <td>0</td>\n",
       "      <td>0</td>\n",
       "      <td>0</td>\n",
       "      <td>0</td>\n",
       "    </tr>\n",
       "    <tr>\n",
       "      <th>2</th>\n",
       "      <td>0</td>\n",
       "      <td>0</td>\n",
       "      <td>0</td>\n",
       "      <td>0</td>\n",
       "      <td>0</td>\n",
       "      <td>0</td>\n",
       "      <td>0</td>\n",
       "      <td>0</td>\n",
       "      <td>0</td>\n",
       "      <td>0</td>\n",
       "      <td>...</td>\n",
       "      <td>0</td>\n",
       "      <td>0</td>\n",
       "      <td>0</td>\n",
       "      <td>0</td>\n",
       "      <td>0</td>\n",
       "      <td>0</td>\n",
       "      <td>0</td>\n",
       "      <td>0</td>\n",
       "      <td>0</td>\n",
       "      <td>0</td>\n",
       "    </tr>\n",
       "    <tr>\n",
       "      <th>3</th>\n",
       "      <td>1</td>\n",
       "      <td>0</td>\n",
       "      <td>0</td>\n",
       "      <td>1</td>\n",
       "      <td>0</td>\n",
       "      <td>0</td>\n",
       "      <td>0</td>\n",
       "      <td>0</td>\n",
       "      <td>0</td>\n",
       "      <td>0</td>\n",
       "      <td>...</td>\n",
       "      <td>0</td>\n",
       "      <td>0</td>\n",
       "      <td>0</td>\n",
       "      <td>0</td>\n",
       "      <td>0</td>\n",
       "      <td>0</td>\n",
       "      <td>0</td>\n",
       "      <td>0</td>\n",
       "      <td>0</td>\n",
       "      <td>0</td>\n",
       "    </tr>\n",
       "    <tr>\n",
       "      <th>4</th>\n",
       "      <td>1</td>\n",
       "      <td>0</td>\n",
       "      <td>0</td>\n",
       "      <td>0</td>\n",
       "      <td>0</td>\n",
       "      <td>0</td>\n",
       "      <td>0</td>\n",
       "      <td>0</td>\n",
       "      <td>0</td>\n",
       "      <td>0</td>\n",
       "      <td>...</td>\n",
       "      <td>0</td>\n",
       "      <td>0</td>\n",
       "      <td>0</td>\n",
       "      <td>0</td>\n",
       "      <td>0</td>\n",
       "      <td>0</td>\n",
       "      <td>0</td>\n",
       "      <td>0</td>\n",
       "      <td>0</td>\n",
       "      <td>0</td>\n",
       "    </tr>\n",
       "  </tbody>\n",
       "</table>\n",
       "<p>5 rows × 5392 columns</p>\n",
       "</div>"
      ],
      "text/plain": [
       "   perezhilton  andydick  tjlavin  carsonkressley  riffraff  chumlee  \\\n",
       "0            1         0        0               0         1        0   \n",
       "1            1         0        0               0         0        0   \n",
       "2            0         0        0               0         0        0   \n",
       "3            1         0        0               1         0        0   \n",
       "4            1         0        0               0         0        0   \n",
       "\n",
       "   gilbertgottfried  icet  benhiggy  laturtle  ...  chrisjaialex  voman  \\\n",
       "0                 1     0         0         0  ...             0      0   \n",
       "1                 0     0         0         0  ...             0      0   \n",
       "2                 0     0         0         0  ...             0      0   \n",
       "3                 0     0         0         0  ...             0      0   \n",
       "4                 0     0         0         0  ...             0      0   \n",
       "\n",
       "   el_peego  thisannaisbananas  zachharper  johnoberg  zacpullam  \\\n",
       "0         0                  0           0          0          0   \n",
       "1         0                  0           0          0          0   \n",
       "2         0                  0           0          0          0   \n",
       "3         0                  0           0          0          0   \n",
       "4         0                  0           0          0          0   \n",
       "\n",
       "   kansasbowling  mattcirulnick  itsscaleb__  \n",
       "0              0              0            0  \n",
       "1              0              0            0  \n",
       "2              0              0            0  \n",
       "3              0              0            0  \n",
       "4              0              0            0  \n",
       "\n",
       "[5 rows x 5392 columns]"
      ]
     },
     "execution_count": 52,
     "metadata": {},
     "output_type": "execute_result"
    }
   ],
   "source": [
    "mlb = MultiLabelBinarizer(classes=all_talent)\n",
    "mlb.fit(trans_df[\"transactions\"])\n",
    "vecs = mlb.transform(trans_df[\"transactions\"])\n",
    "mat = pd.DataFrame(vecs)\n",
    "trans_vecs_df = pd.DataFrame(vecs, columns=mlb.classes_)\n",
    "min_likes = trans_vecs_df.sum(axis=1).min()\n",
    "print(\"Each user has liked at least {} talent.\".format(min_likes))\n",
    "trans_vecs_df.head()"
   ]
  },
  {
   "cell_type": "code",
   "execution_count": 53,
   "metadata": {},
   "outputs": [
    {
     "name": "stdout",
     "output_type": "stream",
     "text": [
      "Found 604 itemsets\n"
     ]
    },
    {
     "data": {
      "text/html": [
       "<div>\n",
       "<style scoped>\n",
       "    .dataframe tbody tr th:only-of-type {\n",
       "        vertical-align: middle;\n",
       "    }\n",
       "\n",
       "    .dataframe tbody tr th {\n",
       "        vertical-align: top;\n",
       "    }\n",
       "\n",
       "    .dataframe thead th {\n",
       "        text-align: right;\n",
       "    }\n",
       "</style>\n",
       "<table border=\"1\" class=\"dataframe\">\n",
       "  <thead>\n",
       "    <tr style=\"text-align: right;\">\n",
       "      <th></th>\n",
       "      <th>support</th>\n",
       "      <th>itemsets</th>\n",
       "      <th>len</th>\n",
       "    </tr>\n",
       "  </thead>\n",
       "  <tbody>\n",
       "    <tr>\n",
       "      <th>241</th>\n",
       "      <td>0.0878</td>\n",
       "      <td>(laturtle, perezhilton)</td>\n",
       "      <td>2</td>\n",
       "    </tr>\n",
       "    <tr>\n",
       "      <th>243</th>\n",
       "      <td>0.0846</td>\n",
       "      <td>(laturtle, nickcolletti)</td>\n",
       "      <td>2</td>\n",
       "    </tr>\n",
       "    <tr>\n",
       "      <th>810</th>\n",
       "      <td>0.0742</td>\n",
       "      <td>(dandrasimmons, jackiegilliestv)</td>\n",
       "      <td>2</td>\n",
       "    </tr>\n",
       "    <tr>\n",
       "      <th>829</th>\n",
       "      <td>0.0740</td>\n",
       "      <td>(esterdee, jackiegilliestv)</td>\n",
       "      <td>2</td>\n",
       "    </tr>\n",
       "    <tr>\n",
       "      <th>838</th>\n",
       "      <td>0.0740</td>\n",
       "      <td>(esterdee, kristinwest)</td>\n",
       "      <td>2</td>\n",
       "    </tr>\n",
       "  </tbody>\n",
       "</table>\n",
       "</div>"
      ],
      "text/plain": [
       "     support                          itemsets  len\n",
       "241   0.0878           (laturtle, perezhilton)    2\n",
       "243   0.0846          (laturtle, nickcolletti)    2\n",
       "810   0.0742  (dandrasimmons, jackiegilliestv)    2\n",
       "829   0.0740       (esterdee, jackiegilliestv)    2\n",
       "838   0.0740           (esterdee, kristinwest)    2"
      ]
     },
     "execution_count": 53,
     "metadata": {},
     "output_type": "execute_result"
    }
   ],
   "source": [
    "from mlxtend.frequent_patterns import apriori\n",
    "\n",
    "min_support = 0.05\n",
    "freq_is = apriori(pd.DataFrame(trans_vecs_df), use_colnames=True, max_len=2, min_support=min_support)\n",
    "freq_is[\"len\"] = freq_is[\"itemsets\"].apply(lambda s: len(s))\n",
    "freq_is = freq_is.query(\"len == 2\")\n",
    "print(\"Found {} itemsets\".format(len(freq_is)))\n",
    "freq_is.sort_values(by=\"support\", ascending=False).head()"
   ]
  },
  {
   "cell_type": "code",
   "execution_count": 54,
   "metadata": {},
   "outputs": [
    {
     "data": {
      "image/png": "[encoded data removed]",
      "text/plain": [
       "<matplotlib.figure.Figure at 0x11c150128>"
      ]
     },
     "metadata": {
      "needs_background": "light"
     },
     "output_type": "display_data"
    }
   ],
   "source": [
    "pop_dist = list(filter(lambda v: v > 0, mat.sum(axis=0).values))\n",
    "sns.distplot(pop_dist, kde=False)\n",
    "plt.xlabel(\"Count of Users Who Like Talent\")\n",
    "plt.ylabel(\"Count of Talent\")\n",
    "plt.title(\"Popularity Distribution of Talent\")\n",
    "plt.show()"
   ]
  },
  {
   "cell_type": "code",
   "execution_count": 55,
   "metadata": {},
   "outputs": [
    {
     "data": {
      "image/png": "[encoded data removed]",
      "text/plain": [
       "<matplotlib.figure.Figure at 0x126837470>"
      ]
     },
     "metadata": {
      "needs_background": "light"
     },
     "output_type": "display_data"
    }
   ],
   "source": [
    "sns.distplot(mat.sum(axis=1).values, kde=False)\n",
    "plt.xlabel(\"Count of Talent Liked by User\")\n",
    "plt.ylabel(\"Count of Users\")\n",
    "plt.title(\"Like Distribution of Users\")\n",
    "plt.show()"
   ]
  },
  {
   "cell_type": "code",
   "execution_count": 56,
   "metadata": {},
   "outputs": [
    {
     "data": {
      "image/png": "[encoded data removed]",
      "text/plain": [
       "<matplotlib.figure.Figure at 0x1219f4588>"
      ]
     },
     "metadata": {
      "needs_background": "light"
     },
     "output_type": "display_data"
    }
   ],
   "source": [
    "cat_lens = trans_df[\"categories\"].apply(lambda s: len(s)).values\n",
    "sns.distplot(cat_lens, kde=False)\n",
    "plt.xlabel(\"Count of Categories Liked by User\")\n",
    "plt.ylabel(\"Count of Users\")\n",
    "plt.title(\"Interest Distribution of Users\")\n",
    "plt.show()"
   ]
  },
  {
   "cell_type": "markdown",
   "metadata": {},
   "source": [
    "## Save Transaction Matrix"
   ]
  },
  {
   "cell_type": "code",
   "execution_count": 57,
   "metadata": {},
   "outputs": [
    {
     "data": {
      "text/html": [
       "<div>\n",
       "<style scoped>\n",
       "    .dataframe tbody tr th:only-of-type {\n",
       "        vertical-align: middle;\n",
       "    }\n",
       "\n",
       "    .dataframe tbody tr th {\n",
       "        vertical-align: top;\n",
       "    }\n",
       "\n",
       "    .dataframe thead th {\n",
       "        text-align: right;\n",
       "    }\n",
       "</style>\n",
       "<table border=\"1\" class=\"dataframe\">\n",
       "  <thead>\n",
       "    <tr style=\"text-align: right;\">\n",
       "      <th></th>\n",
       "      <th>0</th>\n",
       "      <th>1</th>\n",
       "      <th>2</th>\n",
       "      <th>3</th>\n",
       "      <th>4</th>\n",
       "      <th>5</th>\n",
       "      <th>6</th>\n",
       "      <th>7</th>\n",
       "      <th>8</th>\n",
       "      <th>9</th>\n",
       "      <th>...</th>\n",
       "      <th>5382</th>\n",
       "      <th>5383</th>\n",
       "      <th>5384</th>\n",
       "      <th>5385</th>\n",
       "      <th>5386</th>\n",
       "      <th>5387</th>\n",
       "      <th>5388</th>\n",
       "      <th>5389</th>\n",
       "      <th>5390</th>\n",
       "      <th>5391</th>\n",
       "    </tr>\n",
       "  </thead>\n",
       "  <tbody>\n",
       "    <tr>\n",
       "      <th>0</th>\n",
       "      <td>1</td>\n",
       "      <td>0</td>\n",
       "      <td>0</td>\n",
       "      <td>0</td>\n",
       "      <td>1</td>\n",
       "      <td>0</td>\n",
       "      <td>1</td>\n",
       "      <td>0</td>\n",
       "      <td>0</td>\n",
       "      <td>0</td>\n",
       "      <td>...</td>\n",
       "      <td>0</td>\n",
       "      <td>0</td>\n",
       "      <td>0</td>\n",
       "      <td>0</td>\n",
       "      <td>0</td>\n",
       "      <td>0</td>\n",
       "      <td>0</td>\n",
       "      <td>0</td>\n",
       "      <td>0</td>\n",
       "      <td>0</td>\n",
       "    </tr>\n",
       "    <tr>\n",
       "      <th>1</th>\n",
       "      <td>1</td>\n",
       "      <td>0</td>\n",
       "      <td>0</td>\n",
       "      <td>0</td>\n",
       "      <td>0</td>\n",
       "      <td>0</td>\n",
       "      <td>0</td>\n",
       "      <td>0</td>\n",
       "      <td>0</td>\n",
       "      <td>0</td>\n",
       "      <td>...</td>\n",
       "      <td>0</td>\n",
       "      <td>0</td>\n",
       "      <td>0</td>\n",
       "      <td>0</td>\n",
       "      <td>0</td>\n",
       "      <td>0</td>\n",
       "      <td>0</td>\n",
       "      <td>0</td>\n",
       "      <td>0</td>\n",
       "      <td>0</td>\n",
       "    </tr>\n",
       "    <tr>\n",
       "      <th>2</th>\n",
       "      <td>0</td>\n",
       "      <td>0</td>\n",
       "      <td>0</td>\n",
       "      <td>0</td>\n",
       "      <td>0</td>\n",
       "      <td>0</td>\n",
       "      <td>0</td>\n",
       "      <td>0</td>\n",
       "      <td>0</td>\n",
       "      <td>0</td>\n",
       "      <td>...</td>\n",
       "      <td>0</td>\n",
       "      <td>0</td>\n",
       "      <td>0</td>\n",
       "      <td>0</td>\n",
       "      <td>0</td>\n",
       "      <td>0</td>\n",
       "      <td>0</td>\n",
       "      <td>0</td>\n",
       "      <td>0</td>\n",
       "      <td>0</td>\n",
       "    </tr>\n",
       "    <tr>\n",
       "      <th>3</th>\n",
       "      <td>1</td>\n",
       "      <td>0</td>\n",
       "      <td>0</td>\n",
       "      <td>1</td>\n",
       "      <td>0</td>\n",
       "      <td>0</td>\n",
       "      <td>0</td>\n",
       "      <td>0</td>\n",
       "      <td>0</td>\n",
       "      <td>0</td>\n",
       "      <td>...</td>\n",
       "      <td>0</td>\n",
       "      <td>0</td>\n",
       "      <td>0</td>\n",
       "      <td>0</td>\n",
       "      <td>0</td>\n",
       "      <td>0</td>\n",
       "      <td>0</td>\n",
       "      <td>0</td>\n",
       "      <td>0</td>\n",
       "      <td>0</td>\n",
       "    </tr>\n",
       "    <tr>\n",
       "      <th>4</th>\n",
       "      <td>1</td>\n",
       "      <td>0</td>\n",
       "      <td>0</td>\n",
       "      <td>0</td>\n",
       "      <td>0</td>\n",
       "      <td>0</td>\n",
       "      <td>0</td>\n",
       "      <td>0</td>\n",
       "      <td>0</td>\n",
       "      <td>0</td>\n",
       "      <td>...</td>\n",
       "      <td>0</td>\n",
       "      <td>0</td>\n",
       "      <td>0</td>\n",
       "      <td>0</td>\n",
       "      <td>0</td>\n",
       "      <td>0</td>\n",
       "      <td>0</td>\n",
       "      <td>0</td>\n",
       "      <td>0</td>\n",
       "      <td>0</td>\n",
       "    </tr>\n",
       "  </tbody>\n",
       "</table>\n",
       "<p>5 rows × 5392 columns</p>\n",
       "</div>"
      ],
      "text/plain": [
       "   0     1     2     3     4     5     6     7     8     9     ...  5382  \\\n",
       "0     1     0     0     0     1     0     1     0     0     0  ...     0   \n",
       "1     1     0     0     0     0     0     0     0     0     0  ...     0   \n",
       "2     0     0     0     0     0     0     0     0     0     0  ...     0   \n",
       "3     1     0     0     1     0     0     0     0     0     0  ...     0   \n",
       "4     1     0     0     0     0     0     0     0     0     0  ...     0   \n",
       "\n",
       "   5383  5384  5385  5386  5387  5388  5389  5390  5391  \n",
       "0     0     0     0     0     0     0     0     0     0  \n",
       "1     0     0     0     0     0     0     0     0     0  \n",
       "2     0     0     0     0     0     0     0     0     0  \n",
       "3     0     0     0     0     0     0     0     0     0  \n",
       "4     0     0     0     0     0     0     0     0     0  \n",
       "\n",
       "[5 rows x 5392 columns]"
      ]
     },
     "execution_count": 57,
     "metadata": {},
     "output_type": "execute_result"
    }
   ],
   "source": [
    "mat.head()"
   ]
  },
  {
   "cell_type": "code",
   "execution_count": 58,
   "metadata": {},
   "outputs": [
    {
     "data": {
      "text/plain": [
       "array(['perezhilton', 'andydick', 'tjlavin', ..., 'kansasbowling',\n",
       "       'mattcirulnick', 'itsscaleb__'], dtype=object)"
      ]
     },
     "execution_count": 58,
     "metadata": {},
     "output_type": "execute_result"
    }
   ],
   "source": [
    "ITEM_NAMES = mlb.classes_\n",
    "ITEM_NAMES"
   ]
  },
  {
   "cell_type": "code",
   "execution_count": 59,
   "metadata": {},
   "outputs": [
    {
     "name": "stdout",
     "output_type": "stream",
     "text": [
      "Wrote 5000 records to ../input/likes.pkl.\n"
     ]
    }
   ],
   "source": [
    "from scipy.sparse import csr_matrix\n",
    "import pickle\n",
    "\n",
    "like_mat = csr_matrix(mat.values)\n",
    "like_file = \"../input/likes.pkl\"\n",
    "pickle.dump(like_mat, open(like_file, \"wb\"))\n",
    "print(\"Wrote {} records to {}.\".format(len(mat), like_file))"
   ]
  },
  {
   "cell_type": "code",
   "execution_count": null,
   "metadata": {},
   "outputs": [],
   "source": []
  }
 ],
 "metadata": {
  "kernelspec": {
   "display_name": "Python 3",
   "language": "python",
   "name": "python3"
  },
  "language_info": {
   "codemirror_mode": {
    "name": "ipython",
    "version": 3
   },
   "file_extension": ".py",
   "mimetype": "text/x-python",
   "name": "python",
   "nbconvert_exporter": "python",
   "pygments_lexer": "ipython3",
   "version": "3.6.1"
  },
  "varInspector": {
   "cols": {
    "lenName": 16,
    "lenType": 16,
    "lenVar": 40
   },
   "kernels_config": {
    "python": {
     "delete_cmd_postfix": "",
     "delete_cmd_prefix": "del ",
     "library": "var_list.py",
     "varRefreshCmd": "print(var_dic_list())"
    },
    "r": {
     "delete_cmd_postfix": ") ",
     "delete_cmd_prefix": "rm(",
     "library": "var_list.r",
     "varRefreshCmd": "cat(var_dic_list()) "
    }
   },
   "types_to_exclude": [
    "module",
    "function",
    "builtin_function_or_method",
    "instance",
    "_Feature"
   ],
   "window_display": false
  }
 },
 "nbformat": 4,
 "nbformat_minor": 2
}
